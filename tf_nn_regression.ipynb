{
  "nbformat": 4,
  "nbformat_minor": 0,
  "metadata": {
    "colab": {
      "name": "tf_nn_regression.ipynb",
      "provenance": [],
      "collapsed_sections": [],
      "authorship_tag": "ABX9TyN3Z5nvfxYI+j1Taowz/aub",
      "include_colab_link": true
    },
    "kernelspec": {
      "name": "python3",
      "display_name": "Python 3"
    },
    "language_info": {
      "name": "python"
    },
    "accelerator": "GPU"
  },
  "cells": [
    {
      "cell_type": "markdown",
      "metadata": {
        "id": "view-in-github",
        "colab_type": "text"
      },
      "source": [
        "<a href=\"https://colab.research.google.com/github/viddev1/tensorflow_notebooks/blob/main/tf_nn_regression.ipynb\" target=\"_parent\"><img src=\"https://colab.research.google.com/assets/colab-badge.svg\" alt=\"Open In Colab\"/></a>"
      ]
    },
    {
      "cell_type": "code",
      "execution_count": null,
      "metadata": {
        "colab": {
          "base_uri": "https://localhost:8080/"
        },
        "id": "E55x2_70a5Z8",
        "outputId": "7100036f-b93d-4afb-e8e3-8b4c3e696725"
      },
      "outputs": [
        {
          "output_type": "stream",
          "name": "stdout",
          "text": [
            "2.8.0\n"
          ]
        }
      ],
      "source": [
        "import tensorflow as tf\n",
        "print(tf.__version__)"
      ]
    },
    {
      "cell_type": "code",
      "source": [
        "print(tf.config.list_physical_devices('GPU'))"
      ],
      "metadata": {
        "colab": {
          "base_uri": "https://localhost:8080/"
        },
        "id": "jQ1j-2hGce5X",
        "outputId": "9ea6c096-708e-4a15-c717-5953cda07bb9"
      },
      "execution_count": null,
      "outputs": [
        {
          "output_type": "stream",
          "name": "stdout",
          "text": [
            "[PhysicalDevice(name='/physical_device:GPU:0', device_type='GPU')]\n"
          ]
        }
      ]
    },
    {
      "cell_type": "code",
      "source": [
        "import numpy as np\n",
        "import matplotlib.pyplot as plt\n",
        "\n",
        "x = np.array([-7.0, -4.0, -1.0, 2.0, 5.0, 8.0, 11.0, 14.0])\n",
        "\n",
        "y = np.array([3.0, 6.0, 9.0, 12.0, 15.0, 18.0, 21.0, 24.0])\n",
        "\n",
        "\n",
        "plt.scatter(x, y)"
      ],
      "metadata": {
        "colab": {
          "base_uri": "https://localhost:8080/",
          "height": 286
        },
        "id": "B0LrcoffctNj",
        "outputId": "e1b6a38e-7a62-4533-a866-c41909c92217"
      },
      "execution_count": null,
      "outputs": [
        {
          "output_type": "execute_result",
          "data": {
            "text/plain": [
              "<matplotlib.collections.PathCollection at 0x7fcee2832c50>"
            ]
          },
          "metadata": {},
          "execution_count": 10
        },
        {
          "output_type": "display_data",
          "data": {
            "text/plain": [
              "<Figure size 432x288 with 1 Axes>"
            ],
            "image/png": "[encoded data removed]"
          },
          "metadata": {
            "needs_background": "light"
          }
        }
      ]
    },
    {
      "cell_type": "code",
      "source": [
        "house_info = tf.constant([\"bedroom\", \"bathroom\", \"garage\"])\n",
        "house_price = tf.constant([939700])\n",
        "house_info, house_price"
      ],
      "metadata": {
        "colab": {
          "base_uri": "https://localhost:8080/"
        },
        "id": "oFnu_Pu9dRdb",
        "outputId": "7ea23b7e-57ab-4eee-8601-2775a26fedfb"
      },
      "execution_count": null,
      "outputs": [
        {
          "output_type": "execute_result",
          "data": {
            "text/plain": [
              "(<tf.Tensor: shape=(3,), dtype=string, numpy=array([b'bedroom', b'bathroom', b'garage'], dtype=object)>,\n",
              " <tf.Tensor: shape=(1,), dtype=int32, numpy=array([939700], dtype=int32)>)"
            ]
          },
          "metadata": {},
          "execution_count": 11
        }
      ]
    },
    {
      "cell_type": "code",
      "source": [
        "house_info.shape"
      ],
      "metadata": {
        "colab": {
          "base_uri": "https://localhost:8080/"
        },
        "id": "p1uO-V3UeKjP",
        "outputId": "36294106-2707-4e55-f147-dd3dfee2447d"
      },
      "execution_count": null,
      "outputs": [
        {
          "output_type": "execute_result",
          "data": {
            "text/plain": [
              "TensorShape([3])"
            ]
          },
          "metadata": {},
          "execution_count": 13
        }
      ]
    },
    {
      "cell_type": "code",
      "source": [
        "X = tf.constant([-7.0, -4.0, -1.0, 2.0, 5.0, 8.0, 11.0, 14.0])\n",
        "\n",
        "Y = tf.constant([3.0, 6.0, 9.0, 12.0, 15.0, 18.0, 21.0, 24.0])\n",
        "\n",
        "input_shape = X[0].shape\n",
        "output_shape = Y[0].shape\n",
        "\n",
        "input_shape, output_shape"
      ],
      "metadata": {
        "colab": {
          "base_uri": "https://localhost:8080/"
        },
        "id": "mo_YRnwyeO0f",
        "outputId": "ff8aa5bb-87b7-4062-e92a-64798b54c244"
      },
      "execution_count": null,
      "outputs": [
        {
          "output_type": "execute_result",
          "data": {
            "text/plain": [
              "(TensorShape([]), TensorShape([]))"
            ]
          },
          "metadata": {},
          "execution_count": 15
        }
      ]
    },
    {
      "cell_type": "code",
      "source": [
        "X[0], Y[0]"
      ],
      "metadata": {
        "colab": {
          "base_uri": "https://localhost:8080/"
        },
        "id": "Tfe_nu9lembd",
        "outputId": "5a240d33-469f-47dc-fa4c-3a2b70359868"
      },
      "execution_count": null,
      "outputs": [
        {
          "output_type": "execute_result",
          "data": {
            "text/plain": [
              "(<tf.Tensor: shape=(), dtype=float32, numpy=-7.0>,\n",
              " <tf.Tensor: shape=(), dtype=float32, numpy=3.0>)"
            ]
          },
          "metadata": {},
          "execution_count": 17
        }
      ]
    },
    {
      "cell_type": "code",
      "source": [
        "tf.random.set_seed(42)\n",
        "\n",
        "model =  tf.keras.Sequential([\n",
        "                              tf.keras.layers.Dense(1)\n",
        "])\n",
        "\n",
        "model.compile(loss=tf.keras.losses.mae,\n",
        "              optimizer=tf.keras.optimizers.SGD(),\n",
        "              metrics=[\"mae\"]\n",
        "              )\n",
        "model.fit(tf.expand_dims(X, axis=-1), y, epochs=5)"
      ],
      "metadata": {
        "colab": {
          "base_uri": "https://localhost:8080/"
        },
        "id": "DrzAStLse8h9",
        "outputId": "6df22c9d-b220-45a6-9445-bedd717997cd"
      },
      "execution_count": null,
      "outputs": [
        {
          "output_type": "stream",
          "name": "stdout",
          "text": [
            "Epoch 1/5\n",
            "1/1 [==============================] - 0s 232ms/step - loss: 11.5048 - mae: 11.5048\n",
            "Epoch 2/5\n",
            "1/1 [==============================] - 0s 8ms/step - loss: 11.3723 - mae: 11.3723\n",
            "Epoch 3/5\n",
            "1/1 [==============================] - 0s 8ms/step - loss: 11.2398 - mae: 11.2398\n",
            "Epoch 4/5\n",
            "1/1 [==============================] - 0s 7ms/step - loss: 11.1073 - mae: 11.1073\n",
            "Epoch 5/5\n",
            "1/1 [==============================] - 0s 8ms/step - loss: 10.9748 - mae: 10.9748\n"
          ]
        },
        {
          "output_type": "execute_result",
          "data": {
            "text/plain": [
              "<keras.callbacks.History at 0x7fce5e982390>"
            ]
          },
          "metadata": {},
          "execution_count": 19
        }
      ]
    },
    {
      "cell_type": "code",
      "source": [
        "X, Y"
      ],
      "metadata": {
        "colab": {
          "base_uri": "https://localhost:8080/"
        },
        "id": "NW0aZFGgf7-k",
        "outputId": "cb22e355-5c84-4ef9-8a9a-f711095ead8e"
      },
      "execution_count": null,
      "outputs": [
        {
          "output_type": "execute_result",
          "data": {
            "text/plain": [
              "(<tf.Tensor: shape=(8,), dtype=float32, numpy=array([-7., -4., -1.,  2.,  5.,  8., 11., 14.], dtype=float32)>,\n",
              " <tf.Tensor: shape=(8,), dtype=float32, numpy=array([ 3.,  6.,  9., 12., 15., 18., 21., 24.], dtype=float32)>)"
            ]
          },
          "metadata": {},
          "execution_count": 20
        }
      ]
    },
    {
      "cell_type": "code",
      "source": [
        "model.predict([17.0])"
      ],
      "metadata": {
        "colab": {
          "base_uri": "https://localhost:8080/"
        },
        "id": "fZy6D-IMgYsu",
        "outputId": "2c13dd33-453a-400d-cdb3-92ee5e9df951"
      },
      "execution_count": null,
      "outputs": [
        {
          "output_type": "execute_result",
          "data": {
            "text/plain": [
              "array([[12.716021]], dtype=float32)"
            ]
          },
          "metadata": {},
          "execution_count": 21
        }
      ]
    },
    {
      "cell_type": "code",
      "source": [
        "tf.random.set_seed(42)\n",
        "\n",
        "model =  tf.keras.Sequential([\n",
        "                              tf.keras.layers.Dense(1)\n",
        "])\n",
        "\n",
        "model.compile(loss=tf.keras.losses.mae,\n",
        "              optimizer=tf.keras.optimizers.SGD(),\n",
        "              metrics=[\"mae\"]\n",
        "              )\n",
        "model.fit(tf.expand_dims(X, axis=-1), y, epochs=100)"
      ],
      "metadata": {
        "colab": {
          "base_uri": "https://localhost:8080/"
        },
        "id": "BDxqks6kgeW-",
        "outputId": "3af41d07-391d-4c9f-f738-6e673cdd3cd1"
      },
      "execution_count": null,
      "outputs": [
        {
          "output_type": "stream",
          "name": "stdout",
          "text": [
            "Epoch 1/100\n",
            "1/1 [==============================] - 0s 408ms/step - loss: 11.5048 - mae: 11.5048\n",
            "Epoch 2/100\n",
            "1/1 [==============================] - 0s 9ms/step - loss: 11.3723 - mae: 11.3723\n",
            "Epoch 3/100\n",
            "1/1 [==============================] - 0s 10ms/step - loss: 11.2398 - mae: 11.2398\n",
            "Epoch 4/100\n",
            "1/1 [==============================] - 0s 12ms/step - loss: 11.1073 - mae: 11.1073\n",
            "Epoch 5/100\n",
            "1/1 [==============================] - 0s 9ms/step - loss: 10.9748 - mae: 10.9748\n",
            "Epoch 6/100\n",
            "1/1 [==============================] - 0s 16ms/step - loss: 10.8423 - mae: 10.8423\n",
            "Epoch 7/100\n",
            "1/1 [==============================] - 0s 10ms/step - loss: 10.7098 - mae: 10.7098\n",
            "Epoch 8/100\n",
            "1/1 [==============================] - 0s 21ms/step - loss: 10.5773 - mae: 10.5773\n",
            "Epoch 9/100\n",
            "1/1 [==============================] - 0s 11ms/step - loss: 10.4448 - mae: 10.4448\n",
            "Epoch 10/100\n",
            "1/1 [==============================] - 0s 17ms/step - loss: 10.3123 - mae: 10.3123\n",
            "Epoch 11/100\n",
            "1/1 [==============================] - 0s 12ms/step - loss: 10.1798 - mae: 10.1798\n",
            "Epoch 12/100\n",
            "1/1 [==============================] - 0s 11ms/step - loss: 10.0473 - mae: 10.0473\n",
            "Epoch 13/100\n",
            "1/1 [==============================] - 0s 14ms/step - loss: 9.9148 - mae: 9.9148\n",
            "Epoch 14/100\n",
            "1/1 [==============================] - 0s 14ms/step - loss: 9.7823 - mae: 9.7823\n",
            "Epoch 15/100\n",
            "1/1 [==============================] - 0s 12ms/step - loss: 9.6498 - mae: 9.6498\n",
            "Epoch 16/100\n",
            "1/1 [==============================] - 0s 13ms/step - loss: 9.5173 - mae: 9.5173\n",
            "Epoch 17/100\n",
            "1/1 [==============================] - 0s 9ms/step - loss: 9.3848 - mae: 9.3848\n",
            "Epoch 18/100\n",
            "1/1 [==============================] - 0s 10ms/step - loss: 9.2523 - mae: 9.2523\n",
            "Epoch 19/100\n",
            "1/1 [==============================] - 0s 8ms/step - loss: 9.1198 - mae: 9.1198\n",
            "Epoch 20/100\n",
            "1/1 [==============================] - 0s 14ms/step - loss: 8.9873 - mae: 8.9873\n",
            "Epoch 21/100\n",
            "1/1 [==============================] - 0s 9ms/step - loss: 8.8548 - mae: 8.8548\n",
            "Epoch 22/100\n",
            "1/1 [==============================] - 0s 10ms/step - loss: 8.7223 - mae: 8.7223\n",
            "Epoch 23/100\n",
            "1/1 [==============================] - 0s 20ms/step - loss: 8.5898 - mae: 8.5898\n",
            "Epoch 24/100\n",
            "1/1 [==============================] - 0s 9ms/step - loss: 8.4573 - mae: 8.4573\n",
            "Epoch 25/100\n",
            "1/1 [==============================] - 0s 19ms/step - loss: 8.3248 - mae: 8.3248\n",
            "Epoch 26/100\n",
            "1/1 [==============================] - 0s 10ms/step - loss: 8.1923 - mae: 8.1923\n",
            "Epoch 27/100\n",
            "1/1 [==============================] - 0s 21ms/step - loss: 8.0598 - mae: 8.0598\n",
            "Epoch 28/100\n",
            "1/1 [==============================] - 0s 10ms/step - loss: 7.9273 - mae: 7.9273\n",
            "Epoch 29/100\n",
            "1/1 [==============================] - 0s 16ms/step - loss: 7.7948 - mae: 7.7948\n",
            "Epoch 30/100\n",
            "1/1 [==============================] - 0s 12ms/step - loss: 7.6623 - mae: 7.6623\n",
            "Epoch 31/100\n",
            "1/1 [==============================] - 0s 12ms/step - loss: 7.5298 - mae: 7.5298\n",
            "Epoch 32/100\n",
            "1/1 [==============================] - 0s 7ms/step - loss: 7.3973 - mae: 7.3973\n",
            "Epoch 33/100\n",
            "1/1 [==============================] - 0s 10ms/step - loss: 7.2648 - mae: 7.2648\n",
            "Epoch 34/100\n",
            "1/1 [==============================] - 0s 10ms/step - loss: 7.2525 - mae: 7.2525\n",
            "Epoch 35/100\n",
            "1/1 [==============================] - 0s 13ms/step - loss: 7.2469 - mae: 7.2469\n",
            "Epoch 36/100\n",
            "1/1 [==============================] - 0s 12ms/step - loss: 7.2413 - mae: 7.2413\n",
            "Epoch 37/100\n",
            "1/1 [==============================] - 0s 19ms/step - loss: 7.2356 - mae: 7.2356\n",
            "Epoch 38/100\n",
            "1/1 [==============================] - 0s 14ms/step - loss: 7.2300 - mae: 7.2300\n",
            "Epoch 39/100\n",
            "1/1 [==============================] - 0s 14ms/step - loss: 7.2244 - mae: 7.2244\n",
            "Epoch 40/100\n",
            "1/1 [==============================] - 0s 20ms/step - loss: 7.2188 - mae: 7.2188\n",
            "Epoch 41/100\n",
            "1/1 [==============================] - 0s 15ms/step - loss: 7.2131 - mae: 7.2131\n",
            "Epoch 42/100\n",
            "1/1 [==============================] - 0s 17ms/step - loss: 7.2075 - mae: 7.2075\n",
            "Epoch 43/100\n",
            "1/1 [==============================] - 0s 15ms/step - loss: 7.2019 - mae: 7.2019\n",
            "Epoch 44/100\n",
            "1/1 [==============================] - 0s 8ms/step - loss: 7.1962 - mae: 7.1962\n",
            "Epoch 45/100\n",
            "1/1 [==============================] - 0s 11ms/step - loss: 7.1906 - mae: 7.1906\n",
            "Epoch 46/100\n",
            "1/1 [==============================] - 0s 8ms/step - loss: 7.1850 - mae: 7.1850\n",
            "Epoch 47/100\n",
            "1/1 [==============================] - 0s 14ms/step - loss: 7.1794 - mae: 7.1794\n",
            "Epoch 48/100\n",
            "1/1 [==============================] - 0s 10ms/step - loss: 7.1738 - mae: 7.1738\n",
            "Epoch 49/100\n",
            "1/1 [==============================] - 0s 11ms/step - loss: 7.1681 - mae: 7.1681\n",
            "Epoch 50/100\n",
            "1/1 [==============================] - 0s 11ms/step - loss: 7.1625 - mae: 7.1625\n",
            "Epoch 51/100\n",
            "1/1 [==============================] - 0s 10ms/step - loss: 7.1569 - mae: 7.1569\n",
            "Epoch 52/100\n",
            "1/1 [==============================] - 0s 10ms/step - loss: 7.1512 - mae: 7.1512\n",
            "Epoch 53/100\n",
            "1/1 [==============================] - 0s 12ms/step - loss: 7.1456 - mae: 7.1456\n",
            "Epoch 54/100\n",
            "1/1 [==============================] - 0s 10ms/step - loss: 7.1400 - mae: 7.1400\n",
            "Epoch 55/100\n",
            "1/1 [==============================] - 0s 12ms/step - loss: 7.1344 - mae: 7.1344\n",
            "Epoch 56/100\n",
            "1/1 [==============================] - 0s 12ms/step - loss: 7.1287 - mae: 7.1287\n",
            "Epoch 57/100\n",
            "1/1 [==============================] - 0s 11ms/step - loss: 7.1231 - mae: 7.1231\n",
            "Epoch 58/100\n",
            "1/1 [==============================] - 0s 12ms/step - loss: 7.1175 - mae: 7.1175\n",
            "Epoch 59/100\n",
            "1/1 [==============================] - 0s 11ms/step - loss: 7.1119 - mae: 7.1119\n",
            "Epoch 60/100\n",
            "1/1 [==============================] - 0s 9ms/step - loss: 7.1063 - mae: 7.1063\n",
            "Epoch 61/100\n",
            "1/1 [==============================] - 0s 11ms/step - loss: 7.1006 - mae: 7.1006\n",
            "Epoch 62/100\n",
            "1/1 [==============================] - 0s 13ms/step - loss: 7.0950 - mae: 7.0950\n",
            "Epoch 63/100\n",
            "1/1 [==============================] - 0s 10ms/step - loss: 7.0894 - mae: 7.0894\n",
            "Epoch 64/100\n",
            "1/1 [==============================] - 0s 8ms/step - loss: 7.0838 - mae: 7.0838\n",
            "Epoch 65/100\n",
            "1/1 [==============================] - 0s 12ms/step - loss: 7.0781 - mae: 7.0781\n",
            "Epoch 66/100\n",
            "1/1 [==============================] - 0s 11ms/step - loss: 7.0725 - mae: 7.0725\n",
            "Epoch 67/100\n",
            "1/1 [==============================] - 0s 10ms/step - loss: 7.0669 - mae: 7.0669\n",
            "Epoch 68/100\n",
            "1/1 [==============================] - 0s 11ms/step - loss: 7.0613 - mae: 7.0613\n",
            "Epoch 69/100\n",
            "1/1 [==============================] - 0s 11ms/step - loss: 7.0556 - mae: 7.0556\n",
            "Epoch 70/100\n",
            "1/1 [==============================] - 0s 11ms/step - loss: 7.0500 - mae: 7.0500\n",
            "Epoch 71/100\n",
            "1/1 [==============================] - 0s 10ms/step - loss: 7.0444 - mae: 7.0444\n",
            "Epoch 72/100\n",
            "1/1 [==============================] - 0s 10ms/step - loss: 7.0388 - mae: 7.0388\n",
            "Epoch 73/100\n",
            "1/1 [==============================] - 0s 20ms/step - loss: 7.0331 - mae: 7.0331\n",
            "Epoch 74/100\n",
            "1/1 [==============================] - 0s 14ms/step - loss: 7.0275 - mae: 7.0275\n",
            "Epoch 75/100\n",
            "1/1 [==============================] - 0s 11ms/step - loss: 7.0219 - mae: 7.0219\n",
            "Epoch 76/100\n",
            "1/1 [==============================] - 0s 14ms/step - loss: 7.0163 - mae: 7.0163\n",
            "Epoch 77/100\n",
            "1/1 [==============================] - 0s 14ms/step - loss: 7.0106 - mae: 7.0106\n",
            "Epoch 78/100\n",
            "1/1 [==============================] - 0s 17ms/step - loss: 7.0050 - mae: 7.0050\n",
            "Epoch 79/100\n",
            "1/1 [==============================] - 0s 23ms/step - loss: 6.9994 - mae: 6.9994\n",
            "Epoch 80/100\n",
            "1/1 [==============================] - 0s 13ms/step - loss: 6.9938 - mae: 6.9938\n",
            "Epoch 81/100\n",
            "1/1 [==============================] - 0s 15ms/step - loss: 6.9881 - mae: 6.9881\n",
            "Epoch 82/100\n",
            "1/1 [==============================] - 0s 14ms/step - loss: 6.9825 - mae: 6.9825\n",
            "Epoch 83/100\n",
            "1/1 [==============================] - 0s 13ms/step - loss: 6.9769 - mae: 6.9769\n",
            "Epoch 84/100\n",
            "1/1 [==============================] - 0s 14ms/step - loss: 6.9713 - mae: 6.9713\n",
            "Epoch 85/100\n",
            "1/1 [==============================] - 0s 15ms/step - loss: 6.9656 - mae: 6.9656\n",
            "Epoch 86/100\n",
            "1/1 [==============================] - 0s 11ms/step - loss: 6.9600 - mae: 6.9600\n",
            "Epoch 87/100\n",
            "1/1 [==============================] - 0s 13ms/step - loss: 6.9544 - mae: 6.9544\n",
            "Epoch 88/100\n",
            "1/1 [==============================] - 0s 13ms/step - loss: 6.9488 - mae: 6.9488\n",
            "Epoch 89/100\n",
            "1/1 [==============================] - 0s 16ms/step - loss: 6.9431 - mae: 6.9431\n",
            "Epoch 90/100\n",
            "1/1 [==============================] - 0s 14ms/step - loss: 6.9375 - mae: 6.9375\n",
            "Epoch 91/100\n",
            "1/1 [==============================] - 0s 11ms/step - loss: 6.9319 - mae: 6.9319\n",
            "Epoch 92/100\n",
            "1/1 [==============================] - 0s 20ms/step - loss: 6.9263 - mae: 6.9263\n",
            "Epoch 93/100\n",
            "1/1 [==============================] - 0s 13ms/step - loss: 6.9206 - mae: 6.9206\n",
            "Epoch 94/100\n",
            "1/1 [==============================] - 0s 16ms/step - loss: 6.9150 - mae: 6.9150\n",
            "Epoch 95/100\n",
            "1/1 [==============================] - 0s 15ms/step - loss: 6.9094 - mae: 6.9094\n",
            "Epoch 96/100\n",
            "1/1 [==============================] - 0s 7ms/step - loss: 6.9038 - mae: 6.9038\n",
            "Epoch 97/100\n",
            "1/1 [==============================] - 0s 10ms/step - loss: 6.8981 - mae: 6.8981\n",
            "Epoch 98/100\n",
            "1/1 [==============================] - 0s 8ms/step - loss: 6.8925 - mae: 6.8925\n",
            "Epoch 99/100\n",
            "1/1 [==============================] - 0s 8ms/step - loss: 6.8869 - mae: 6.8869\n",
            "Epoch 100/100\n",
            "1/1 [==============================] - 0s 6ms/step - loss: 6.8813 - mae: 6.8813\n"
          ]
        },
        {
          "output_type": "execute_result",
          "data": {
            "text/plain": [
              "<keras.callbacks.History at 0x7fce60595e10>"
            ]
          },
          "metadata": {},
          "execution_count": 22
        }
      ]
    },
    {
      "cell_type": "code",
      "source": [
        "model.predict([17.0])"
      ],
      "metadata": {
        "colab": {
          "base_uri": "https://localhost:8080/"
        },
        "id": "j-Vym2KCg7LB",
        "outputId": "aed9b143-7629-4526-e059-f9e8b2549767"
      },
      "execution_count": null,
      "outputs": [
        {
          "output_type": "execute_result",
          "data": {
            "text/plain": [
              "array([[30.158512]], dtype=float32)"
            ]
          },
          "metadata": {},
          "execution_count": 23
        }
      ]
    },
    {
      "cell_type": "code",
      "source": [
        "tf.random.set_seed(42)\n",
        "\n",
        "model =  tf.keras.Sequential([\n",
        "                              tf.keras.layers.Dense(1)\n",
        "])\n",
        "\n",
        "model.compile(loss=tf.keras.losses.mae,\n",
        "              optimizer=tf.keras.optimizers.SGD(),\n",
        "              metrics=[\"mae\"]\n",
        "              )\n",
        "model.fit(tf.expand_dims(X, axis=-1), y, epochs=500)"
      ],
      "metadata": {
        "colab": {
          "base_uri": "https://localhost:8080/"
        },
        "id": "FehQhisnhNKK",
        "outputId": "002b1301-74e2-4186-f410-35d3e5e09b47"
      },
      "execution_count": null,
      "outputs": [
        {
          "output_type": "stream",
          "name": "stdout",
          "text": [
            "Epoch 1/500\n",
            "1/1 [==============================] - 0s 422ms/step - loss: 11.5048 - mae: 11.5048\n",
            "Epoch 2/500\n",
            "1/1 [==============================] - 0s 10ms/step - loss: 11.3723 - mae: 11.3723\n",
            "Epoch 3/500\n",
            "1/1 [==============================] - 0s 7ms/step - loss: 11.2398 - mae: 11.2398\n",
            "Epoch 4/500\n",
            "1/1 [==============================] - 0s 9ms/step - loss: 11.1073 - mae: 11.1073\n",
            "Epoch 5/500\n",
            "1/1 [==============================] - 0s 7ms/step - loss: 10.9748 - mae: 10.9748\n",
            "Epoch 6/500\n",
            "1/1 [==============================] - 0s 11ms/step - loss: 10.8423 - mae: 10.8423\n",
            "Epoch 7/500\n",
            "1/1 [==============================] - 0s 9ms/step - loss: 10.7098 - mae: 10.7098\n",
            "Epoch 8/500\n",
            "1/1 [==============================] - 0s 7ms/step - loss: 10.5773 - mae: 10.5773\n",
            "Epoch 9/500\n",
            "1/1 [==============================] - 0s 7ms/step - loss: 10.4448 - mae: 10.4448\n",
            "Epoch 10/500\n",
            "1/1 [==============================] - 0s 9ms/step - loss: 10.3123 - mae: 10.3123\n",
            "Epoch 11/500\n",
            "1/1 [==============================] - 0s 8ms/step - loss: 10.1798 - mae: 10.1798\n",
            "Epoch 12/500\n",
            "1/1 [==============================] - 0s 8ms/step - loss: 10.0473 - mae: 10.0473\n",
            "Epoch 13/500\n",
            "1/1 [==============================] - 0s 14ms/step - loss: 9.9148 - mae: 9.9148\n",
            "Epoch 14/500\n",
            "1/1 [==============================] - 0s 7ms/step - loss: 9.7823 - mae: 9.7823\n",
            "Epoch 15/500\n",
            "1/1 [==============================] - 0s 8ms/step - loss: 9.6498 - mae: 9.6498\n",
            "Epoch 16/500\n",
            "1/1 [==============================] - 0s 7ms/step - loss: 9.5173 - mae: 9.5173\n",
            "Epoch 17/500\n",
            "1/1 [==============================] - 0s 9ms/step - loss: 9.3848 - mae: 9.3848\n",
            "Epoch 18/500\n",
            "1/1 [==============================] - 0s 8ms/step - loss: 9.2523 - mae: 9.2523\n",
            "Epoch 19/500\n",
            "1/1 [==============================] - 0s 11ms/step - loss: 9.1198 - mae: 9.1198\n",
            "Epoch 20/500\n",
            "1/1 [==============================] - 0s 7ms/step - loss: 8.9873 - mae: 8.9873\n",
            "Epoch 21/500\n",
            "1/1 [==============================] - 0s 16ms/step - loss: 8.8548 - mae: 8.8548\n",
            "Epoch 22/500\n",
            "1/1 [==============================] - 0s 8ms/step - loss: 8.7223 - mae: 8.7223\n",
            "Epoch 23/500\n",
            "1/1 [==============================] - 0s 10ms/step - loss: 8.5898 - mae: 8.5898\n",
            "Epoch 24/500\n",
            "1/1 [==============================] - 0s 8ms/step - loss: 8.4573 - mae: 8.4573\n",
            "Epoch 25/500\n",
            "1/1 [==============================] - 0s 8ms/step - loss: 8.3248 - mae: 8.3248\n",
            "Epoch 26/500\n",
            "1/1 [==============================] - 0s 7ms/step - loss: 8.1923 - mae: 8.1923\n",
            "Epoch 27/500\n",
            "1/1 [==============================] - 0s 9ms/step - loss: 8.0598 - mae: 8.0598\n",
            "Epoch 28/500\n",
            "1/1 [==============================] - 0s 9ms/step - loss: 7.9273 - mae: 7.9273\n",
            "Epoch 29/500\n",
            "1/1 [==============================] - 0s 9ms/step - loss: 7.7948 - mae: 7.7948\n",
            "Epoch 30/500\n",
            "1/1 [==============================] - 0s 14ms/step - loss: 7.6623 - mae: 7.6623\n",
            "Epoch 31/500\n",
            "1/1 [==============================] - 0s 9ms/step - loss: 7.5298 - mae: 7.5298\n",
            "Epoch 32/500\n",
            "1/1 [==============================] - 0s 9ms/step - loss: 7.3973 - mae: 7.3973\n",
            "Epoch 33/500\n",
            "1/1 [==============================] - 0s 9ms/step - loss: 7.2648 - mae: 7.2648\n",
            "Epoch 34/500\n",
            "1/1 [==============================] - 0s 10ms/step - loss: 7.2525 - mae: 7.2525\n",
            "Epoch 35/500\n",
            "1/1 [==============================] - 0s 10ms/step - loss: 7.2469 - mae: 7.2469\n",
            "Epoch 36/500\n",
            "1/1 [==============================] - 0s 10ms/step - loss: 7.2413 - mae: 7.2413\n",
            "Epoch 37/500\n",
            "1/1 [==============================] - 0s 15ms/step - loss: 7.2356 - mae: 7.2356\n",
            "Epoch 38/500\n",
            "1/1 [==============================] - 0s 12ms/step - loss: 7.2300 - mae: 7.2300\n",
            "Epoch 39/500\n",
            "1/1 [==============================] - 0s 10ms/step - loss: 7.2244 - mae: 7.2244\n",
            "Epoch 40/500\n",
            "1/1 [==============================] - 0s 9ms/step - loss: 7.2188 - mae: 7.2188\n",
            "Epoch 41/500\n",
            "1/1 [==============================] - 0s 10ms/step - loss: 7.2131 - mae: 7.2131\n",
            "Epoch 42/500\n",
            "1/1 [==============================] - 0s 7ms/step - loss: 7.2075 - mae: 7.2075\n",
            "Epoch 43/500\n",
            "1/1 [==============================] - 0s 8ms/step - loss: 7.2019 - mae: 7.2019\n",
            "Epoch 44/500\n",
            "1/1 [==============================] - 0s 14ms/step - loss: 7.1962 - mae: 7.1962\n",
            "Epoch 45/500\n",
            "1/1 [==============================] - 0s 8ms/step - loss: 7.1906 - mae: 7.1906\n",
            "Epoch 46/500\n",
            "1/1 [==============================] - 0s 8ms/step - loss: 7.1850 - mae: 7.1850\n",
            "Epoch 47/500\n",
            "1/1 [==============================] - 0s 10ms/step - loss: 7.1794 - mae: 7.1794\n",
            "Epoch 48/500\n",
            "1/1 [==============================] - 0s 8ms/step - loss: 7.1738 - mae: 7.1738\n",
            "Epoch 49/500\n",
            "1/1 [==============================] - 0s 13ms/step - loss: 7.1681 - mae: 7.1681\n",
            "Epoch 50/500\n",
            "1/1 [==============================] - 0s 10ms/step - loss: 7.1625 - mae: 7.1625\n",
            "Epoch 51/500\n",
            "1/1 [==============================] - 0s 9ms/step - loss: 7.1569 - mae: 7.1569\n",
            "Epoch 52/500\n",
            "1/1 [==============================] - 0s 9ms/step - loss: 7.1512 - mae: 7.1512\n",
            "Epoch 53/500\n",
            "1/1 [==============================] - 0s 9ms/step - loss: 7.1456 - mae: 7.1456\n",
            "Epoch 54/500\n",
            "1/1 [==============================] - 0s 9ms/step - loss: 7.1400 - mae: 7.1400\n",
            "Epoch 55/500\n",
            "1/1 [==============================] - 0s 9ms/step - loss: 7.1344 - mae: 7.1344\n",
            "Epoch 56/500\n",
            "1/1 [==============================] - 0s 9ms/step - loss: 7.1287 - mae: 7.1287\n",
            "Epoch 57/500\n",
            "1/1 [==============================] - 0s 12ms/step - loss: 7.1231 - mae: 7.1231\n",
            "Epoch 58/500\n",
            "1/1 [==============================] - 0s 10ms/step - loss: 7.1175 - mae: 7.1175\n",
            "Epoch 59/500\n",
            "1/1 [==============================] - 0s 8ms/step - loss: 7.1119 - mae: 7.1119\n",
            "Epoch 60/500\n",
            "1/1 [==============================] - 0s 26ms/step - loss: 7.1063 - mae: 7.1063\n",
            "Epoch 61/500\n",
            "1/1 [==============================] - 0s 16ms/step - loss: 7.1006 - mae: 7.1006\n",
            "Epoch 62/500\n",
            "1/1 [==============================] - 0s 9ms/step - loss: 7.0950 - mae: 7.0950\n",
            "Epoch 63/500\n",
            "1/1 [==============================] - 0s 9ms/step - loss: 7.0894 - mae: 7.0894\n",
            "Epoch 64/500\n",
            "1/1 [==============================] - 0s 9ms/step - loss: 7.0838 - mae: 7.0838\n",
            "Epoch 65/500\n",
            "1/1 [==============================] - 0s 12ms/step - loss: 7.0781 - mae: 7.0781\n",
            "Epoch 66/500\n",
            "1/1 [==============================] - 0s 10ms/step - loss: 7.0725 - mae: 7.0725\n",
            "Epoch 67/500\n",
            "1/1 [==============================] - 0s 10ms/step - loss: 7.0669 - mae: 7.0669\n",
            "Epoch 68/500\n",
            "1/1 [==============================] - 0s 9ms/step - loss: 7.0613 - mae: 7.0613\n",
            "Epoch 69/500\n",
            "1/1 [==============================] - 0s 12ms/step - loss: 7.0556 - mae: 7.0556\n",
            "Epoch 70/500\n",
            "1/1 [==============================] - 0s 14ms/step - loss: 7.0500 - mae: 7.0500\n",
            "Epoch 71/500\n",
            "1/1 [==============================] - 0s 9ms/step - loss: 7.0444 - mae: 7.0444\n",
            "Epoch 72/500\n",
            "1/1 [==============================] - 0s 9ms/step - loss: 7.0388 - mae: 7.0388\n",
            "Epoch 73/500\n",
            "1/1 [==============================] - 0s 11ms/step - loss: 7.0331 - mae: 7.0331\n",
            "Epoch 74/500\n",
            "1/1 [==============================] - 0s 10ms/step - loss: 7.0275 - mae: 7.0275\n",
            "Epoch 75/500\n",
            "1/1 [==============================] - 0s 6ms/step - loss: 7.0219 - mae: 7.0219\n",
            "Epoch 76/500\n",
            "1/1 [==============================] - 0s 9ms/step - loss: 7.0163 - mae: 7.0163\n",
            "Epoch 77/500\n",
            "1/1 [==============================] - 0s 26ms/step - loss: 7.0106 - mae: 7.0106\n",
            "Epoch 78/500\n",
            "1/1 [==============================] - 0s 11ms/step - loss: 7.0050 - mae: 7.0050\n",
            "Epoch 79/500\n",
            "1/1 [==============================] - 0s 7ms/step - loss: 6.9994 - mae: 6.9994\n",
            "Epoch 80/500\n",
            "1/1 [==============================] - 0s 7ms/step - loss: 6.9938 - mae: 6.9938\n",
            "Epoch 81/500\n",
            "1/1 [==============================] - 0s 7ms/step - loss: 6.9881 - mae: 6.9881\n",
            "Epoch 82/500\n",
            "1/1 [==============================] - 0s 8ms/step - loss: 6.9825 - mae: 6.9825\n",
            "Epoch 83/500\n",
            "1/1 [==============================] - 0s 8ms/step - loss: 6.9769 - mae: 6.9769\n",
            "Epoch 84/500\n",
            "1/1 [==============================] - 0s 8ms/step - loss: 6.9713 - mae: 6.9713\n",
            "Epoch 85/500\n",
            "1/1 [==============================] - 0s 7ms/step - loss: 6.9656 - mae: 6.9656\n",
            "Epoch 86/500\n",
            "1/1 [==============================] - 0s 13ms/step - loss: 6.9600 - mae: 6.9600\n",
            "Epoch 87/500\n",
            "1/1 [==============================] - 0s 8ms/step - loss: 6.9544 - mae: 6.9544\n",
            "Epoch 88/500\n",
            "1/1 [==============================] - 0s 7ms/step - loss: 6.9488 - mae: 6.9488\n",
            "Epoch 89/500\n",
            "1/1 [==============================] - 0s 7ms/step - loss: 6.9431 - mae: 6.9431\n",
            "Epoch 90/500\n",
            "1/1 [==============================] - 0s 7ms/step - loss: 6.9375 - mae: 6.9375\n",
            "Epoch 91/500\n",
            "1/1 [==============================] - 0s 7ms/step - loss: 6.9319 - mae: 6.9319\n",
            "Epoch 92/500\n",
            "1/1 [==============================] - 0s 6ms/step - loss: 6.9263 - mae: 6.9263\n",
            "Epoch 93/500\n",
            "1/1 [==============================] - 0s 7ms/step - loss: 6.9206 - mae: 6.9206\n",
            "Epoch 94/500\n",
            "1/1 [==============================] - 0s 42ms/step - loss: 6.9150 - mae: 6.9150\n",
            "Epoch 95/500\n",
            "1/1 [==============================] - 0s 12ms/step - loss: 6.9094 - mae: 6.9094\n",
            "Epoch 96/500\n",
            "1/1 [==============================] - 0s 14ms/step - loss: 6.9038 - mae: 6.9038\n",
            "Epoch 97/500\n",
            "1/1 [==============================] - 0s 6ms/step - loss: 6.8981 - mae: 6.8981\n",
            "Epoch 98/500\n",
            "1/1 [==============================] - 0s 13ms/step - loss: 6.8925 - mae: 6.8925\n",
            "Epoch 99/500\n",
            "1/1 [==============================] - 0s 8ms/step - loss: 6.8869 - mae: 6.8869\n",
            "Epoch 100/500\n",
            "1/1 [==============================] - 0s 10ms/step - loss: 6.8813 - mae: 6.8813\n",
            "Epoch 101/500\n",
            "1/1 [==============================] - 0s 9ms/step - loss: 6.8756 - mae: 6.8756\n",
            "Epoch 102/500\n",
            "1/1 [==============================] - 0s 17ms/step - loss: 6.8700 - mae: 6.8700\n",
            "Epoch 103/500\n",
            "1/1 [==============================] - 0s 9ms/step - loss: 6.8644 - mae: 6.8644\n",
            "Epoch 104/500\n",
            "1/1 [==============================] - 0s 9ms/step - loss: 6.8588 - mae: 6.8588\n",
            "Epoch 105/500\n",
            "1/1 [==============================] - 0s 15ms/step - loss: 6.8531 - mae: 6.8531\n",
            "Epoch 106/500\n",
            "1/1 [==============================] - 0s 28ms/step - loss: 6.8475 - mae: 6.8475\n",
            "Epoch 107/500\n",
            "1/1 [==============================] - 0s 10ms/step - loss: 6.8419 - mae: 6.8419\n",
            "Epoch 108/500\n",
            "1/1 [==============================] - 0s 14ms/step - loss: 6.8363 - mae: 6.8363\n",
            "Epoch 109/500\n",
            "1/1 [==============================] - 0s 15ms/step - loss: 6.8306 - mae: 6.8306\n",
            "Epoch 110/500\n",
            "1/1 [==============================] - 0s 13ms/step - loss: 6.8250 - mae: 6.8250\n",
            "Epoch 111/500\n",
            "1/1 [==============================] - 0s 9ms/step - loss: 6.8194 - mae: 6.8194\n",
            "Epoch 112/500\n",
            "1/1 [==============================] - 0s 9ms/step - loss: 6.8138 - mae: 6.8138\n",
            "Epoch 113/500\n",
            "1/1 [==============================] - 0s 17ms/step - loss: 6.8081 - mae: 6.8081\n",
            "Epoch 114/500\n",
            "1/1 [==============================] - 0s 24ms/step - loss: 6.8025 - mae: 6.8025\n",
            "Epoch 115/500\n",
            "1/1 [==============================] - 0s 17ms/step - loss: 6.7969 - mae: 6.7969\n",
            "Epoch 116/500\n",
            "1/1 [==============================] - 0s 21ms/step - loss: 6.7913 - mae: 6.7913\n",
            "Epoch 117/500\n",
            "1/1 [==============================] - 0s 18ms/step - loss: 6.7856 - mae: 6.7856\n",
            "Epoch 118/500\n",
            "1/1 [==============================] - 0s 19ms/step - loss: 6.7800 - mae: 6.7800\n",
            "Epoch 119/500\n",
            "1/1 [==============================] - 0s 9ms/step - loss: 6.7744 - mae: 6.7744\n",
            "Epoch 120/500\n",
            "1/1 [==============================] - 0s 13ms/step - loss: 6.7688 - mae: 6.7688\n",
            "Epoch 121/500\n",
            "1/1 [==============================] - 0s 17ms/step - loss: 6.7631 - mae: 6.7631\n",
            "Epoch 122/500\n",
            "1/1 [==============================] - 0s 10ms/step - loss: 6.7575 - mae: 6.7575\n",
            "Epoch 123/500\n",
            "1/1 [==============================] - 0s 17ms/step - loss: 6.7519 - mae: 6.7519\n",
            "Epoch 124/500\n",
            "1/1 [==============================] - 0s 9ms/step - loss: 6.7463 - mae: 6.7463\n",
            "Epoch 125/500\n",
            "1/1 [==============================] - 0s 12ms/step - loss: 6.7406 - mae: 6.7406\n",
            "Epoch 126/500\n",
            "1/1 [==============================] - 0s 16ms/step - loss: 6.7350 - mae: 6.7350\n",
            "Epoch 127/500\n",
            "1/1 [==============================] - 0s 18ms/step - loss: 6.7294 - mae: 6.7294\n",
            "Epoch 128/500\n",
            "1/1 [==============================] - 0s 8ms/step - loss: 6.7238 - mae: 6.7238\n",
            "Epoch 129/500\n",
            "1/1 [==============================] - 0s 11ms/step - loss: 6.7181 - mae: 6.7181\n",
            "Epoch 130/500\n",
            "1/1 [==============================] - 0s 8ms/step - loss: 6.7125 - mae: 6.7125\n",
            "Epoch 131/500\n",
            "1/1 [==============================] - 0s 16ms/step - loss: 6.7069 - mae: 6.7069\n",
            "Epoch 132/500\n",
            "1/1 [==============================] - 0s 10ms/step - loss: 6.7013 - mae: 6.7013\n",
            "Epoch 133/500\n",
            "1/1 [==============================] - 0s 15ms/step - loss: 6.6956 - mae: 6.6956\n",
            "Epoch 134/500\n",
            "1/1 [==============================] - 0s 14ms/step - loss: 6.6900 - mae: 6.6900\n",
            "Epoch 135/500\n",
            "1/1 [==============================] - 0s 22ms/step - loss: 6.6844 - mae: 6.6844\n",
            "Epoch 136/500\n",
            "1/1 [==============================] - 0s 7ms/step - loss: 6.6788 - mae: 6.6788\n",
            "Epoch 137/500\n",
            "1/1 [==============================] - 0s 9ms/step - loss: 6.6731 - mae: 6.6731\n",
            "Epoch 138/500\n",
            "1/1 [==============================] - 0s 6ms/step - loss: 6.6675 - mae: 6.6675\n",
            "Epoch 139/500\n",
            "1/1 [==============================] - 0s 6ms/step - loss: 6.6619 - mae: 6.6619\n",
            "Epoch 140/500\n",
            "1/1 [==============================] - 0s 8ms/step - loss: 6.6562 - mae: 6.6562\n",
            "Epoch 141/500\n",
            "1/1 [==============================] - 0s 8ms/step - loss: 6.6506 - mae: 6.6506\n",
            "Epoch 142/500\n",
            "1/1 [==============================] - 0s 8ms/step - loss: 6.6450 - mae: 6.6450\n",
            "Epoch 143/500\n",
            "1/1 [==============================] - 0s 6ms/step - loss: 6.6394 - mae: 6.6394\n",
            "Epoch 144/500\n",
            "1/1 [==============================] - 0s 8ms/step - loss: 6.6337 - mae: 6.6337\n",
            "Epoch 145/500\n",
            "1/1 [==============================] - 0s 8ms/step - loss: 6.6281 - mae: 6.6281\n",
            "Epoch 146/500\n",
            "1/1 [==============================] - 0s 9ms/step - loss: 6.6225 - mae: 6.6225\n",
            "Epoch 147/500\n",
            "1/1 [==============================] - 0s 9ms/step - loss: 6.6169 - mae: 6.6169\n",
            "Epoch 148/500\n",
            "1/1 [==============================] - 0s 6ms/step - loss: 6.6112 - mae: 6.6112\n",
            "Epoch 149/500\n",
            "1/1 [==============================] - 0s 6ms/step - loss: 6.6056 - mae: 6.6056\n",
            "Epoch 150/500\n",
            "1/1 [==============================] - 0s 10ms/step - loss: 6.6000 - mae: 6.6000\n",
            "Epoch 151/500\n",
            "1/1 [==============================] - 0s 9ms/step - loss: 6.5944 - mae: 6.5944\n",
            "Epoch 152/500\n",
            "1/1 [==============================] - 0s 8ms/step - loss: 6.5887 - mae: 6.5887\n",
            "Epoch 153/500\n",
            "1/1 [==============================] - 0s 8ms/step - loss: 6.5831 - mae: 6.5831\n",
            "Epoch 154/500\n",
            "1/1 [==============================] - 0s 10ms/step - loss: 6.5775 - mae: 6.5775\n",
            "Epoch 155/500\n",
            "1/1 [==============================] - 0s 7ms/step - loss: 6.5719 - mae: 6.5719\n",
            "Epoch 156/500\n",
            "1/1 [==============================] - 0s 9ms/step - loss: 6.5662 - mae: 6.5662\n",
            "Epoch 157/500\n",
            "1/1 [==============================] - 0s 7ms/step - loss: 6.5606 - mae: 6.5606\n",
            "Epoch 158/500\n",
            "1/1 [==============================] - 0s 7ms/step - loss: 6.5550 - mae: 6.5550\n",
            "Epoch 159/500\n",
            "1/1 [==============================] - 0s 11ms/step - loss: 6.5494 - mae: 6.5494\n",
            "Epoch 160/500\n",
            "1/1 [==============================] - 0s 7ms/step - loss: 6.5437 - mae: 6.5437\n",
            "Epoch 161/500\n",
            "1/1 [==============================] - 0s 7ms/step - loss: 6.5381 - mae: 6.5381\n",
            "Epoch 162/500\n",
            "1/1 [==============================] - 0s 7ms/step - loss: 6.5325 - mae: 6.5325\n",
            "Epoch 163/500\n",
            "1/1 [==============================] - 0s 6ms/step - loss: 6.5269 - mae: 6.5269\n",
            "Epoch 164/500\n",
            "1/1 [==============================] - 0s 9ms/step - loss: 6.5212 - mae: 6.5212\n",
            "Epoch 165/500\n",
            "1/1 [==============================] - 0s 6ms/step - loss: 6.5156 - mae: 6.5156\n",
            "Epoch 166/500\n",
            "1/1 [==============================] - 0s 11ms/step - loss: 6.5100 - mae: 6.5100\n",
            "Epoch 167/500\n",
            "1/1 [==============================] - 0s 7ms/step - loss: 6.5044 - mae: 6.5044\n",
            "Epoch 168/500\n",
            "1/1 [==============================] - 0s 7ms/step - loss: 6.4987 - mae: 6.4987\n",
            "Epoch 169/500\n",
            "1/1 [==============================] - 0s 6ms/step - loss: 6.4931 - mae: 6.4931\n",
            "Epoch 170/500\n",
            "1/1 [==============================] - 0s 8ms/step - loss: 6.4875 - mae: 6.4875\n",
            "Epoch 171/500\n",
            "1/1 [==============================] - 0s 6ms/step - loss: 6.4819 - mae: 6.4819\n",
            "Epoch 172/500\n",
            "1/1 [==============================] - 0s 6ms/step - loss: 6.4762 - mae: 6.4762\n",
            "Epoch 173/500\n",
            "1/1 [==============================] - 0s 10ms/step - loss: 6.4706 - mae: 6.4706\n",
            "Epoch 174/500\n",
            "1/1 [==============================] - 0s 7ms/step - loss: 6.4650 - mae: 6.4650\n",
            "Epoch 175/500\n",
            "1/1 [==============================] - 0s 8ms/step - loss: 6.4594 - mae: 6.4594\n",
            "Epoch 176/500\n",
            "1/1 [==============================] - 0s 10ms/step - loss: 6.4537 - mae: 6.4537\n",
            "Epoch 177/500\n",
            "1/1 [==============================] - 0s 8ms/step - loss: 6.4481 - mae: 6.4481\n",
            "Epoch 178/500\n",
            "1/1 [==============================] - 0s 9ms/step - loss: 6.4425 - mae: 6.4425\n",
            "Epoch 179/500\n",
            "1/1 [==============================] - 0s 13ms/step - loss: 6.4369 - mae: 6.4369\n",
            "Epoch 180/500\n",
            "1/1 [==============================] - 0s 8ms/step - loss: 6.4312 - mae: 6.4312\n",
            "Epoch 181/500\n",
            "1/1 [==============================] - 0s 7ms/step - loss: 6.4256 - mae: 6.4256\n",
            "Epoch 182/500\n",
            "1/1 [==============================] - 0s 8ms/step - loss: 6.4200 - mae: 6.4200\n",
            "Epoch 183/500\n",
            "1/1 [==============================] - 0s 7ms/step - loss: 6.4144 - mae: 6.4144\n",
            "Epoch 184/500\n",
            "1/1 [==============================] - 0s 9ms/step - loss: 6.4087 - mae: 6.4087\n",
            "Epoch 185/500\n",
            "1/1 [==============================] - 0s 7ms/step - loss: 6.4031 - mae: 6.4031\n",
            "Epoch 186/500\n",
            "1/1 [==============================] - 0s 9ms/step - loss: 6.3975 - mae: 6.3975\n",
            "Epoch 187/500\n",
            "1/1 [==============================] - 0s 6ms/step - loss: 6.3919 - mae: 6.3919\n",
            "Epoch 188/500\n",
            "1/1 [==============================] - 0s 6ms/step - loss: 6.3862 - mae: 6.3862\n",
            "Epoch 189/500\n",
            "1/1 [==============================] - 0s 5ms/step - loss: 6.3806 - mae: 6.3806\n",
            "Epoch 190/500\n",
            "1/1 [==============================] - 0s 6ms/step - loss: 6.3750 - mae: 6.3750\n",
            "Epoch 191/500\n",
            "1/1 [==============================] - 0s 13ms/step - loss: 6.3694 - mae: 6.3694\n",
            "Epoch 192/500\n",
            "1/1 [==============================] - 0s 8ms/step - loss: 6.3637 - mae: 6.3637\n",
            "Epoch 193/500\n",
            "1/1 [==============================] - 0s 8ms/step - loss: 6.3581 - mae: 6.3581\n",
            "Epoch 194/500\n",
            "1/1 [==============================] - 0s 8ms/step - loss: 6.3525 - mae: 6.3525\n",
            "Epoch 195/500\n",
            "1/1 [==============================] - 0s 6ms/step - loss: 6.3469 - mae: 6.3469\n",
            "Epoch 196/500\n",
            "1/1 [==============================] - 0s 5ms/step - loss: 6.3412 - mae: 6.3412\n",
            "Epoch 197/500\n",
            "1/1 [==============================] - 0s 8ms/step - loss: 6.3356 - mae: 6.3356\n",
            "Epoch 198/500\n",
            "1/1 [==============================] - 0s 5ms/step - loss: 6.3300 - mae: 6.3300\n",
            "Epoch 199/500\n",
            "1/1 [==============================] - 0s 5ms/step - loss: 6.3244 - mae: 6.3244\n",
            "Epoch 200/500\n",
            "1/1 [==============================] - 0s 5ms/step - loss: 6.3187 - mae: 6.3187\n",
            "Epoch 201/500\n",
            "1/1 [==============================] - 0s 8ms/step - loss: 6.3131 - mae: 6.3131\n",
            "Epoch 202/500\n",
            "1/1 [==============================] - 0s 8ms/step - loss: 6.3075 - mae: 6.3075\n",
            "Epoch 203/500\n",
            "1/1 [==============================] - 0s 4ms/step - loss: 6.3019 - mae: 6.3019\n",
            "Epoch 204/500\n",
            "1/1 [==============================] - 0s 6ms/step - loss: 6.2962 - mae: 6.2962\n",
            "Epoch 205/500\n",
            "1/1 [==============================] - 0s 6ms/step - loss: 6.2906 - mae: 6.2906\n",
            "Epoch 206/500\n",
            "1/1 [==============================] - 0s 9ms/step - loss: 6.2850 - mae: 6.2850\n",
            "Epoch 207/500\n",
            "1/1 [==============================] - 0s 5ms/step - loss: 6.2794 - mae: 6.2794\n",
            "Epoch 208/500\n",
            "1/1 [==============================] - 0s 9ms/step - loss: 6.2737 - mae: 6.2737\n",
            "Epoch 209/500\n",
            "1/1 [==============================] - 0s 7ms/step - loss: 6.2681 - mae: 6.2681\n",
            "Epoch 210/500\n",
            "1/1 [==============================] - 0s 8ms/step - loss: 6.2625 - mae: 6.2625\n",
            "Epoch 211/500\n",
            "1/1 [==============================] - 0s 9ms/step - loss: 6.2569 - mae: 6.2569\n",
            "Epoch 212/500\n",
            "1/1 [==============================] - 0s 9ms/step - loss: 6.2512 - mae: 6.2512\n",
            "Epoch 213/500\n",
            "1/1 [==============================] - 0s 7ms/step - loss: 6.2456 - mae: 6.2456\n",
            "Epoch 214/500\n",
            "1/1 [==============================] - 0s 9ms/step - loss: 6.2400 - mae: 6.2400\n",
            "Epoch 215/500\n",
            "1/1 [==============================] - 0s 8ms/step - loss: 6.2344 - mae: 6.2344\n",
            "Epoch 216/500\n",
            "1/1 [==============================] - 0s 6ms/step - loss: 6.2287 - mae: 6.2287\n",
            "Epoch 217/500\n",
            "1/1 [==============================] - 0s 8ms/step - loss: 6.2231 - mae: 6.2231\n",
            "Epoch 218/500\n",
            "1/1 [==============================] - 0s 8ms/step - loss: 6.2175 - mae: 6.2175\n",
            "Epoch 219/500\n",
            "1/1 [==============================] - 0s 7ms/step - loss: 6.2119 - mae: 6.2119\n",
            "Epoch 220/500\n",
            "1/1 [==============================] - 0s 8ms/step - loss: 6.2062 - mae: 6.2062\n",
            "Epoch 221/500\n",
            "1/1 [==============================] - 0s 6ms/step - loss: 6.2006 - mae: 6.2006\n",
            "Epoch 222/500\n",
            "1/1 [==============================] - 0s 8ms/step - loss: 6.1950 - mae: 6.1950\n",
            "Epoch 223/500\n",
            "1/1 [==============================] - 0s 7ms/step - loss: 6.1894 - mae: 6.1894\n",
            "Epoch 224/500\n",
            "1/1 [==============================] - 0s 8ms/step - loss: 6.1837 - mae: 6.1837\n",
            "Epoch 225/500\n",
            "1/1 [==============================] - 0s 8ms/step - loss: 6.1781 - mae: 6.1781\n",
            "Epoch 226/500\n",
            "1/1 [==============================] - 0s 7ms/step - loss: 6.1725 - mae: 6.1725\n",
            "Epoch 227/500\n",
            "1/1 [==============================] - 0s 5ms/step - loss: 6.1669 - mae: 6.1669\n",
            "Epoch 228/500\n",
            "1/1 [==============================] - 0s 7ms/step - loss: 6.1612 - mae: 6.1612\n",
            "Epoch 229/500\n",
            "1/1 [==============================] - 0s 7ms/step - loss: 6.1556 - mae: 6.1556\n",
            "Epoch 230/500\n",
            "1/1 [==============================] - 0s 7ms/step - loss: 6.1500 - mae: 6.1500\n",
            "Epoch 231/500\n",
            "1/1 [==============================] - 0s 9ms/step - loss: 6.1444 - mae: 6.1444\n",
            "Epoch 232/500\n",
            "1/1 [==============================] - 0s 6ms/step - loss: 6.1387 - mae: 6.1387\n",
            "Epoch 233/500\n",
            "1/1 [==============================] - 0s 7ms/step - loss: 6.1331 - mae: 6.1331\n",
            "Epoch 234/500\n",
            "1/1 [==============================] - 0s 6ms/step - loss: 6.1275 - mae: 6.1275\n",
            "Epoch 235/500\n",
            "1/1 [==============================] - 0s 7ms/step - loss: 6.1219 - mae: 6.1219\n",
            "Epoch 236/500\n",
            "1/1 [==============================] - 0s 8ms/step - loss: 6.1162 - mae: 6.1162\n",
            "Epoch 237/500\n",
            "1/1 [==============================] - 0s 8ms/step - loss: 6.1106 - mae: 6.1106\n",
            "Epoch 238/500\n",
            "1/1 [==============================] - 0s 8ms/step - loss: 6.1050 - mae: 6.1050\n",
            "Epoch 239/500\n",
            "1/1 [==============================] - 0s 7ms/step - loss: 6.0994 - mae: 6.0994\n",
            "Epoch 240/500\n",
            "1/1 [==============================] - 0s 10ms/step - loss: 6.0937 - mae: 6.0937\n",
            "Epoch 241/500\n",
            "1/1 [==============================] - 0s 8ms/step - loss: 6.0881 - mae: 6.0881\n",
            "Epoch 242/500\n",
            "1/1 [==============================] - 0s 7ms/step - loss: 6.0825 - mae: 6.0825\n",
            "Epoch 243/500\n",
            "1/1 [==============================] - 0s 6ms/step - loss: 6.0769 - mae: 6.0769\n",
            "Epoch 244/500\n",
            "1/1 [==============================] - 0s 6ms/step - loss: 6.0712 - mae: 6.0712\n",
            "Epoch 245/500\n",
            "1/1 [==============================] - 0s 7ms/step - loss: 6.0656 - mae: 6.0656\n",
            "Epoch 246/500\n",
            "1/1 [==============================] - 0s 9ms/step - loss: 6.0600 - mae: 6.0600\n",
            "Epoch 247/500\n",
            "1/1 [==============================] - 0s 10ms/step - loss: 6.0544 - mae: 6.0544\n",
            "Epoch 248/500\n",
            "1/1 [==============================] - 0s 9ms/step - loss: 6.0487 - mae: 6.0487\n",
            "Epoch 249/500\n",
            "1/1 [==============================] - 0s 7ms/step - loss: 6.0431 - mae: 6.0431\n",
            "Epoch 250/500\n",
            "1/1 [==============================] - 0s 7ms/step - loss: 6.0375 - mae: 6.0375\n",
            "Epoch 251/500\n",
            "1/1 [==============================] - 0s 7ms/step - loss: 6.0319 - mae: 6.0319\n",
            "Epoch 252/500\n",
            "1/1 [==============================] - 0s 10ms/step - loss: 6.0262 - mae: 6.0262\n",
            "Epoch 253/500\n",
            "1/1 [==============================] - 0s 7ms/step - loss: 6.0206 - mae: 6.0206\n",
            "Epoch 254/500\n",
            "1/1 [==============================] - 0s 8ms/step - loss: 6.0150 - mae: 6.0150\n",
            "Epoch 255/500\n",
            "1/1 [==============================] - 0s 7ms/step - loss: 6.0094 - mae: 6.0094\n",
            "Epoch 256/500\n",
            "1/1 [==============================] - 0s 8ms/step - loss: 6.0037 - mae: 6.0037\n",
            "Epoch 257/500\n",
            "1/1 [==============================] - 0s 7ms/step - loss: 5.9981 - mae: 5.9981\n",
            "Epoch 258/500\n",
            "1/1 [==============================] - 0s 5ms/step - loss: 5.9925 - mae: 5.9925\n",
            "Epoch 259/500\n",
            "1/1 [==============================] - 0s 8ms/step - loss: 5.9869 - mae: 5.9869\n",
            "Epoch 260/500\n",
            "1/1 [==============================] - 0s 7ms/step - loss: 5.9814 - mae: 5.9814\n",
            "Epoch 261/500\n",
            "1/1 [==============================] - 0s 7ms/step - loss: 5.9775 - mae: 5.9775\n",
            "Epoch 262/500\n",
            "1/1 [==============================] - 0s 9ms/step - loss: 5.9719 - mae: 5.9719\n",
            "Epoch 263/500\n",
            "1/1 [==============================] - 0s 8ms/step - loss: 5.9662 - mae: 5.9662\n",
            "Epoch 264/500\n",
            "1/1 [==============================] - 0s 6ms/step - loss: 5.9606 - mae: 5.9606\n",
            "Epoch 265/500\n",
            "1/1 [==============================] - 0s 6ms/step - loss: 5.9550 - mae: 5.9550\n",
            "Epoch 266/500\n",
            "1/1 [==============================] - 0s 5ms/step - loss: 5.9494 - mae: 5.9494\n",
            "Epoch 267/500\n",
            "1/1 [==============================] - 0s 6ms/step - loss: 5.9437 - mae: 5.9437\n",
            "Epoch 268/500\n",
            "1/1 [==============================] - 0s 9ms/step - loss: 5.9381 - mae: 5.9381\n",
            "Epoch 269/500\n",
            "1/1 [==============================] - 0s 7ms/step - loss: 5.9325 - mae: 5.9325\n",
            "Epoch 270/500\n",
            "1/1 [==============================] - 0s 8ms/step - loss: 5.9269 - mae: 5.9269\n",
            "Epoch 271/500\n",
            "1/1 [==============================] - 0s 9ms/step - loss: 5.9212 - mae: 5.9212\n",
            "Epoch 272/500\n",
            "1/1 [==============================] - 0s 9ms/step - loss: 5.9156 - mae: 5.9156\n",
            "Epoch 273/500\n",
            "1/1 [==============================] - 0s 8ms/step - loss: 5.9100 - mae: 5.9100\n",
            "Epoch 274/500\n",
            "1/1 [==============================] - 0s 8ms/step - loss: 5.9044 - mae: 5.9044\n",
            "Epoch 275/500\n",
            "1/1 [==============================] - 0s 8ms/step - loss: 5.8987 - mae: 5.8987\n",
            "Epoch 276/500\n",
            "1/1 [==============================] - 0s 8ms/step - loss: 5.8931 - mae: 5.8931\n",
            "Epoch 277/500\n",
            "1/1 [==============================] - 0s 8ms/step - loss: 5.8875 - mae: 5.8875\n",
            "Epoch 278/500\n",
            "1/1 [==============================] - 0s 8ms/step - loss: 5.8819 - mae: 5.8819\n",
            "Epoch 279/500\n",
            "1/1 [==============================] - 0s 8ms/step - loss: 5.8762 - mae: 5.8762\n",
            "Epoch 280/500\n",
            "1/1 [==============================] - 0s 10ms/step - loss: 5.8706 - mae: 5.8706\n",
            "Epoch 281/500\n",
            "1/1 [==============================] - 0s 12ms/step - loss: 5.8650 - mae: 5.8650\n",
            "Epoch 282/500\n",
            "1/1 [==============================] - 0s 8ms/step - loss: 5.8594 - mae: 5.8594\n",
            "Epoch 283/500\n",
            "1/1 [==============================] - 0s 8ms/step - loss: 5.8537 - mae: 5.8537\n",
            "Epoch 284/500\n",
            "1/1 [==============================] - 0s 7ms/step - loss: 5.8481 - mae: 5.8481\n",
            "Epoch 285/500\n",
            "1/1 [==============================] - 0s 7ms/step - loss: 5.8425 - mae: 5.8425\n",
            "Epoch 286/500\n",
            "1/1 [==============================] - 0s 7ms/step - loss: 5.8369 - mae: 5.8369\n",
            "Epoch 287/500\n",
            "1/1 [==============================] - 0s 7ms/step - loss: 5.8312 - mae: 5.8312\n",
            "Epoch 288/500\n",
            "1/1 [==============================] - 0s 10ms/step - loss: 5.8256 - mae: 5.8256\n",
            "Epoch 289/500\n",
            "1/1 [==============================] - 0s 5ms/step - loss: 5.8200 - mae: 5.8200\n",
            "Epoch 290/500\n",
            "1/1 [==============================] - 0s 9ms/step - loss: 5.8144 - mae: 5.8144\n",
            "Epoch 291/500\n",
            "1/1 [==============================] - 0s 8ms/step - loss: 5.8087 - mae: 5.8087\n",
            "Epoch 292/500\n",
            "1/1 [==============================] - 0s 8ms/step - loss: 5.8031 - mae: 5.8031\n",
            "Epoch 293/500\n",
            "1/1 [==============================] - 0s 9ms/step - loss: 5.7975 - mae: 5.7975\n",
            "Epoch 294/500\n",
            "1/1 [==============================] - 0s 8ms/step - loss: 5.7919 - mae: 5.7919\n",
            "Epoch 295/500\n",
            "1/1 [==============================] - 0s 10ms/step - loss: 5.7862 - mae: 5.7862\n",
            "Epoch 296/500\n",
            "1/1 [==============================] - 0s 5ms/step - loss: 5.7806 - mae: 5.7806\n",
            "Epoch 297/500\n",
            "1/1 [==============================] - 0s 9ms/step - loss: 5.7750 - mae: 5.7750\n",
            "Epoch 298/500\n",
            "1/1 [==============================] - 0s 5ms/step - loss: 5.7694 - mae: 5.7694\n",
            "Epoch 299/500\n",
            "1/1 [==============================] - 0s 5ms/step - loss: 5.7637 - mae: 5.7637\n",
            "Epoch 300/500\n",
            "1/1 [==============================] - 0s 5ms/step - loss: 5.7581 - mae: 5.7581\n",
            "Epoch 301/500\n",
            "1/1 [==============================] - 0s 7ms/step - loss: 5.7533 - mae: 5.7533\n",
            "Epoch 302/500\n",
            "1/1 [==============================] - 0s 8ms/step - loss: 5.7487 - mae: 5.7487\n",
            "Epoch 303/500\n",
            "1/1 [==============================] - 0s 5ms/step - loss: 5.7431 - mae: 5.7431\n",
            "Epoch 304/500\n",
            "1/1 [==============================] - 0s 5ms/step - loss: 5.7375 - mae: 5.7375\n",
            "Epoch 305/500\n",
            "1/1 [==============================] - 0s 7ms/step - loss: 5.7319 - mae: 5.7319\n",
            "Epoch 306/500\n",
            "1/1 [==============================] - 0s 9ms/step - loss: 5.7262 - mae: 5.7262\n",
            "Epoch 307/500\n",
            "1/1 [==============================] - 0s 6ms/step - loss: 5.7206 - mae: 5.7206\n",
            "Epoch 308/500\n",
            "1/1 [==============================] - 0s 5ms/step - loss: 5.7150 - mae: 5.7150\n",
            "Epoch 309/500\n",
            "1/1 [==============================] - 0s 6ms/step - loss: 5.7094 - mae: 5.7094\n",
            "Epoch 310/500\n",
            "1/1 [==============================] - 0s 6ms/step - loss: 5.7037 - mae: 5.7037\n",
            "Epoch 311/500\n",
            "1/1 [==============================] - 0s 8ms/step - loss: 5.6981 - mae: 5.6981\n",
            "Epoch 312/500\n",
            "1/1 [==============================] - 0s 5ms/step - loss: 5.6925 - mae: 5.6925\n",
            "Epoch 313/500\n",
            "1/1 [==============================] - 0s 8ms/step - loss: 5.6869 - mae: 5.6869\n",
            "Epoch 314/500\n",
            "1/1 [==============================] - 0s 6ms/step - loss: 5.6812 - mae: 5.6812\n",
            "Epoch 315/500\n",
            "1/1 [==============================] - 0s 7ms/step - loss: 5.6756 - mae: 5.6756\n",
            "Epoch 316/500\n",
            "1/1 [==============================] - 0s 7ms/step - loss: 5.6700 - mae: 5.6700\n",
            "Epoch 317/500\n",
            "1/1 [==============================] - 0s 6ms/step - loss: 5.6644 - mae: 5.6644\n",
            "Epoch 318/500\n",
            "1/1 [==============================] - 0s 8ms/step - loss: 5.6587 - mae: 5.6587\n",
            "Epoch 319/500\n",
            "1/1 [==============================] - 0s 6ms/step - loss: 5.6531 - mae: 5.6531\n",
            "Epoch 320/500\n",
            "1/1 [==============================] - 0s 9ms/step - loss: 5.6475 - mae: 5.6475\n",
            "Epoch 321/500\n",
            "1/1 [==============================] - 0s 11ms/step - loss: 5.6419 - mae: 5.6419\n",
            "Epoch 322/500\n",
            "1/1 [==============================] - 0s 10ms/step - loss: 5.6362 - mae: 5.6362\n",
            "Epoch 323/500\n",
            "1/1 [==============================] - 0s 11ms/step - loss: 5.6306 - mae: 5.6306\n",
            "Epoch 324/500\n",
            "1/1 [==============================] - 0s 6ms/step - loss: 5.6250 - mae: 5.6250\n",
            "Epoch 325/500\n",
            "1/1 [==============================] - 0s 9ms/step - loss: 5.6194 - mae: 5.6194\n",
            "Epoch 326/500\n",
            "1/1 [==============================] - 0s 6ms/step - loss: 5.6137 - mae: 5.6137\n",
            "Epoch 327/500\n",
            "1/1 [==============================] - 0s 7ms/step - loss: 5.6081 - mae: 5.6081\n",
            "Epoch 328/500\n",
            "1/1 [==============================] - 0s 9ms/step - loss: 5.6025 - mae: 5.6025\n",
            "Epoch 329/500\n",
            "1/1 [==============================] - 0s 8ms/step - loss: 5.5969 - mae: 5.5969\n",
            "Epoch 330/500\n",
            "1/1 [==============================] - 0s 8ms/step - loss: 5.5912 - mae: 5.5912\n",
            "Epoch 331/500\n",
            "1/1 [==============================] - 0s 8ms/step - loss: 5.5856 - mae: 5.5856\n",
            "Epoch 332/500\n",
            "1/1 [==============================] - 0s 11ms/step - loss: 5.5800 - mae: 5.5800\n",
            "Epoch 333/500\n",
            "1/1 [==============================] - 0s 7ms/step - loss: 5.5744 - mae: 5.5744\n",
            "Epoch 334/500\n",
            "1/1 [==============================] - 0s 7ms/step - loss: 5.5687 - mae: 5.5687\n",
            "Epoch 335/500\n",
            "1/1 [==============================] - 0s 10ms/step - loss: 5.5631 - mae: 5.5631\n",
            "Epoch 336/500\n",
            "1/1 [==============================] - 0s 7ms/step - loss: 5.5575 - mae: 5.5575\n",
            "Epoch 337/500\n",
            "1/1 [==============================] - 0s 9ms/step - loss: 5.5519 - mae: 5.5519\n",
            "Epoch 338/500\n",
            "1/1 [==============================] - 0s 6ms/step - loss: 5.5462 - mae: 5.5462\n",
            "Epoch 339/500\n",
            "1/1 [==============================] - 0s 8ms/step - loss: 5.5406 - mae: 5.5406\n",
            "Epoch 340/500\n",
            "1/1 [==============================] - 0s 9ms/step - loss: 5.5350 - mae: 5.5350\n",
            "Epoch 341/500\n",
            "1/1 [==============================] - 0s 6ms/step - loss: 5.5294 - mae: 5.5294\n",
            "Epoch 342/500\n",
            "1/1 [==============================] - 0s 7ms/step - loss: 5.5252 - mae: 5.5252\n",
            "Epoch 343/500\n",
            "1/1 [==============================] - 0s 10ms/step - loss: 5.5200 - mae: 5.5200\n",
            "Epoch 344/500\n",
            "1/1 [==============================] - 0s 8ms/step - loss: 5.5144 - mae: 5.5144\n",
            "Epoch 345/500\n",
            "1/1 [==============================] - 0s 9ms/step - loss: 5.5087 - mae: 5.5087\n",
            "Epoch 346/500\n",
            "1/1 [==============================] - 0s 8ms/step - loss: 5.5031 - mae: 5.5031\n",
            "Epoch 347/500\n",
            "1/1 [==============================] - 0s 6ms/step - loss: 5.4975 - mae: 5.4975\n",
            "Epoch 348/500\n",
            "1/1 [==============================] - 0s 7ms/step - loss: 5.4919 - mae: 5.4919\n",
            "Epoch 349/500\n",
            "1/1 [==============================] - 0s 7ms/step - loss: 5.4862 - mae: 5.4862\n",
            "Epoch 350/500\n",
            "1/1 [==============================] - 0s 6ms/step - loss: 5.4806 - mae: 5.4806\n",
            "Epoch 351/500\n",
            "1/1 [==============================] - 0s 9ms/step - loss: 5.4750 - mae: 5.4750\n",
            "Epoch 352/500\n",
            "1/1 [==============================] - 0s 9ms/step - loss: 5.4694 - mae: 5.4694\n",
            "Epoch 353/500\n",
            "1/1 [==============================] - 0s 7ms/step - loss: 5.4637 - mae: 5.4637\n",
            "Epoch 354/500\n",
            "1/1 [==============================] - 0s 8ms/step - loss: 5.4581 - mae: 5.4581\n",
            "Epoch 355/500\n",
            "1/1 [==============================] - 0s 7ms/step - loss: 5.4525 - mae: 5.4525\n",
            "Epoch 356/500\n",
            "1/1 [==============================] - 0s 6ms/step - loss: 5.4469 - mae: 5.4469\n",
            "Epoch 357/500\n",
            "1/1 [==============================] - 0s 10ms/step - loss: 5.4412 - mae: 5.4412\n",
            "Epoch 358/500\n",
            "1/1 [==============================] - 0s 6ms/step - loss: 5.4356 - mae: 5.4356\n",
            "Epoch 359/500\n",
            "1/1 [==============================] - 0s 6ms/step - loss: 5.4300 - mae: 5.4300\n",
            "Epoch 360/500\n",
            "1/1 [==============================] - 0s 6ms/step - loss: 5.4244 - mae: 5.4244\n",
            "Epoch 361/500\n",
            "1/1 [==============================] - 0s 8ms/step - loss: 5.4187 - mae: 5.4187\n",
            "Epoch 362/500\n",
            "1/1 [==============================] - 0s 6ms/step - loss: 5.4131 - mae: 5.4131\n",
            "Epoch 363/500\n",
            "1/1 [==============================] - 0s 8ms/step - loss: 5.4075 - mae: 5.4075\n",
            "Epoch 364/500\n",
            "1/1 [==============================] - 0s 8ms/step - loss: 5.4019 - mae: 5.4019\n",
            "Epoch 365/500\n",
            "1/1 [==============================] - 0s 6ms/step - loss: 5.3963 - mae: 5.3963\n",
            "Epoch 366/500\n",
            "1/1 [==============================] - 0s 6ms/step - loss: 5.3906 - mae: 5.3906\n",
            "Epoch 367/500\n",
            "1/1 [==============================] - 0s 7ms/step - loss: 5.3850 - mae: 5.3850\n",
            "Epoch 368/500\n",
            "1/1 [==============================] - 0s 9ms/step - loss: 5.3794 - mae: 5.3794\n",
            "Epoch 369/500\n",
            "1/1 [==============================] - 0s 6ms/step - loss: 5.3738 - mae: 5.3738\n",
            "Epoch 370/500\n",
            "1/1 [==============================] - 0s 6ms/step - loss: 5.3681 - mae: 5.3681\n",
            "Epoch 371/500\n",
            "1/1 [==============================] - 0s 7ms/step - loss: 5.3625 - mae: 5.3625\n",
            "Epoch 372/500\n",
            "1/1 [==============================] - 0s 6ms/step - loss: 5.3569 - mae: 5.3569\n",
            "Epoch 373/500\n",
            "1/1 [==============================] - 0s 6ms/step - loss: 5.3513 - mae: 5.3513\n",
            "Epoch 374/500\n",
            "1/1 [==============================] - 0s 9ms/step - loss: 5.3456 - mae: 5.3456\n",
            "Epoch 375/500\n",
            "1/1 [==============================] - 0s 7ms/step - loss: 5.3400 - mae: 5.3400\n",
            "Epoch 376/500\n",
            "1/1 [==============================] - 0s 7ms/step - loss: 5.3344 - mae: 5.3344\n",
            "Epoch 377/500\n",
            "1/1 [==============================] - 0s 8ms/step - loss: 5.3288 - mae: 5.3288\n",
            "Epoch 378/500\n",
            "1/1 [==============================] - 0s 8ms/step - loss: 5.3231 - mae: 5.3231\n",
            "Epoch 379/500\n",
            "1/1 [==============================] - 0s 9ms/step - loss: 5.3175 - mae: 5.3175\n",
            "Epoch 380/500\n",
            "1/1 [==============================] - 0s 9ms/step - loss: 5.3119 - mae: 5.3119\n",
            "Epoch 381/500\n",
            "1/1 [==============================] - 0s 6ms/step - loss: 5.3063 - mae: 5.3063\n",
            "Epoch 382/500\n",
            "1/1 [==============================] - 0s 7ms/step - loss: 5.3008 - mae: 5.3008\n",
            "Epoch 383/500\n",
            "1/1 [==============================] - 0s 6ms/step - loss: 5.2969 - mae: 5.2969\n",
            "Epoch 384/500\n",
            "1/1 [==============================] - 0s 10ms/step - loss: 5.2913 - mae: 5.2913\n",
            "Epoch 385/500\n",
            "1/1 [==============================] - 0s 7ms/step - loss: 5.2856 - mae: 5.2856\n",
            "Epoch 386/500\n",
            "1/1 [==============================] - 0s 8ms/step - loss: 5.2800 - mae: 5.2800\n",
            "Epoch 387/500\n",
            "1/1 [==============================] - 0s 8ms/step - loss: 5.2744 - mae: 5.2744\n",
            "Epoch 388/500\n",
            "1/1 [==============================] - 0s 7ms/step - loss: 5.2688 - mae: 5.2688\n",
            "Epoch 389/500\n",
            "1/1 [==============================] - 0s 9ms/step - loss: 5.2631 - mae: 5.2631\n",
            "Epoch 390/500\n",
            "1/1 [==============================] - 0s 8ms/step - loss: 5.2575 - mae: 5.2575\n",
            "Epoch 391/500\n",
            "1/1 [==============================] - 0s 11ms/step - loss: 5.2519 - mae: 5.2519\n",
            "Epoch 392/500\n",
            "1/1 [==============================] - 0s 8ms/step - loss: 5.2463 - mae: 5.2463\n",
            "Epoch 393/500\n",
            "1/1 [==============================] - 0s 7ms/step - loss: 5.2406 - mae: 5.2406\n",
            "Epoch 394/500\n",
            "1/1 [==============================] - 0s 7ms/step - loss: 5.2350 - mae: 5.2350\n",
            "Epoch 395/500\n",
            "1/1 [==============================] - 0s 6ms/step - loss: 5.2294 - mae: 5.2294\n",
            "Epoch 396/500\n",
            "1/1 [==============================] - 0s 7ms/step - loss: 5.2238 - mae: 5.2238\n",
            "Epoch 397/500\n",
            "1/1 [==============================] - 0s 6ms/step - loss: 5.2181 - mae: 5.2181\n",
            "Epoch 398/500\n",
            "1/1 [==============================] - 0s 9ms/step - loss: 5.2125 - mae: 5.2125\n",
            "Epoch 399/500\n",
            "1/1 [==============================] - 0s 8ms/step - loss: 5.2069 - mae: 5.2069\n",
            "Epoch 400/500\n",
            "1/1 [==============================] - 0s 6ms/step - loss: 5.2013 - mae: 5.2013\n",
            "Epoch 401/500\n",
            "1/1 [==============================] - 0s 7ms/step - loss: 5.1956 - mae: 5.1956\n",
            "Epoch 402/500\n",
            "1/1 [==============================] - 0s 9ms/step - loss: 5.1900 - mae: 5.1900\n",
            "Epoch 403/500\n",
            "1/1 [==============================] - 0s 6ms/step - loss: 5.1844 - mae: 5.1844\n",
            "Epoch 404/500\n",
            "1/1 [==============================] - 0s 7ms/step - loss: 5.1788 - mae: 5.1788\n",
            "Epoch 405/500\n",
            "1/1 [==============================] - 0s 8ms/step - loss: 5.1731 - mae: 5.1731\n",
            "Epoch 406/500\n",
            "1/1 [==============================] - 0s 8ms/step - loss: 5.1675 - mae: 5.1675\n",
            "Epoch 407/500\n",
            "1/1 [==============================] - 0s 8ms/step - loss: 5.1619 - mae: 5.1619\n",
            "Epoch 408/500\n",
            "1/1 [==============================] - 0s 5ms/step - loss: 5.1563 - mae: 5.1563\n",
            "Epoch 409/500\n",
            "1/1 [==============================] - 0s 8ms/step - loss: 5.1506 - mae: 5.1506\n",
            "Epoch 410/500\n",
            "1/1 [==============================] - 0s 7ms/step - loss: 5.1450 - mae: 5.1450\n",
            "Epoch 411/500\n",
            "1/1 [==============================] - 0s 9ms/step - loss: 5.1394 - mae: 5.1394\n",
            "Epoch 412/500\n",
            "1/1 [==============================] - 0s 8ms/step - loss: 5.1338 - mae: 5.1338\n",
            "Epoch 413/500\n",
            "1/1 [==============================] - 0s 9ms/step - loss: 5.1281 - mae: 5.1281\n",
            "Epoch 414/500\n",
            "1/1 [==============================] - 0s 6ms/step - loss: 5.1225 - mae: 5.1225\n",
            "Epoch 415/500\n",
            "1/1 [==============================] - 0s 6ms/step - loss: 5.1169 - mae: 5.1169\n",
            "Epoch 416/500\n",
            "1/1 [==============================] - 0s 6ms/step - loss: 5.1113 - mae: 5.1113\n",
            "Epoch 417/500\n",
            "1/1 [==============================] - 0s 6ms/step - loss: 5.1056 - mae: 5.1056\n",
            "Epoch 418/500\n",
            "1/1 [==============================] - 0s 10ms/step - loss: 5.1000 - mae: 5.1000\n",
            "Epoch 419/500\n",
            "1/1 [==============================] - 0s 10ms/step - loss: 5.0944 - mae: 5.0944\n",
            "Epoch 420/500\n",
            "1/1 [==============================] - 0s 8ms/step - loss: 5.0888 - mae: 5.0888\n",
            "Epoch 421/500\n",
            "1/1 [==============================] - 0s 7ms/step - loss: 5.0831 - mae: 5.0831\n",
            "Epoch 422/500\n",
            "1/1 [==============================] - 0s 7ms/step - loss: 5.0775 - mae: 5.0775\n",
            "Epoch 423/500\n",
            "1/1 [==============================] - 0s 6ms/step - loss: 5.0727 - mae: 5.0727\n",
            "Epoch 424/500\n",
            "1/1 [==============================] - 0s 7ms/step - loss: 5.0681 - mae: 5.0681\n",
            "Epoch 425/500\n",
            "1/1 [==============================] - 0s 7ms/step - loss: 5.0625 - mae: 5.0625\n",
            "Epoch 426/500\n",
            "1/1 [==============================] - 0s 5ms/step - loss: 5.0569 - mae: 5.0569\n",
            "Epoch 427/500\n",
            "1/1 [==============================] - 0s 6ms/step - loss: 5.0513 - mae: 5.0513\n",
            "Epoch 428/500\n",
            "1/1 [==============================] - 0s 7ms/step - loss: 5.0456 - mae: 5.0456\n",
            "Epoch 429/500\n",
            "1/1 [==============================] - 0s 9ms/step - loss: 5.0400 - mae: 5.0400\n",
            "Epoch 430/500\n",
            "1/1 [==============================] - 0s 7ms/step - loss: 5.0344 - mae: 5.0344\n",
            "Epoch 431/500\n",
            "1/1 [==============================] - 0s 6ms/step - loss: 5.0288 - mae: 5.0288\n",
            "Epoch 432/500\n",
            "1/1 [==============================] - 0s 6ms/step - loss: 5.0231 - mae: 5.0231\n",
            "Epoch 433/500\n",
            "1/1 [==============================] - 0s 7ms/step - loss: 5.0175 - mae: 5.0175\n",
            "Epoch 434/500\n",
            "1/1 [==============================] - 0s 7ms/step - loss: 5.0119 - mae: 5.0119\n",
            "Epoch 435/500\n",
            "1/1 [==============================] - 0s 7ms/step - loss: 5.0063 - mae: 5.0063\n",
            "Epoch 436/500\n",
            "1/1 [==============================] - 0s 5ms/step - loss: 5.0006 - mae: 5.0006\n",
            "Epoch 437/500\n",
            "1/1 [==============================] - 0s 6ms/step - loss: 4.9950 - mae: 4.9950\n",
            "Epoch 438/500\n",
            "1/1 [==============================] - 0s 6ms/step - loss: 4.9894 - mae: 4.9894\n",
            "Epoch 439/500\n",
            "1/1 [==============================] - 0s 6ms/step - loss: 4.9838 - mae: 4.9838\n",
            "Epoch 440/500\n",
            "1/1 [==============================] - 0s 9ms/step - loss: 4.9781 - mae: 4.9781\n",
            "Epoch 441/500\n",
            "1/1 [==============================] - 0s 5ms/step - loss: 4.9725 - mae: 4.9725\n",
            "Epoch 442/500\n",
            "1/1 [==============================] - 0s 5ms/step - loss: 4.9669 - mae: 4.9669\n",
            "Epoch 443/500\n",
            "1/1 [==============================] - 0s 9ms/step - loss: 4.9613 - mae: 4.9613\n",
            "Epoch 444/500\n",
            "1/1 [==============================] - 0s 9ms/step - loss: 4.9556 - mae: 4.9556\n",
            "Epoch 445/500\n",
            "1/1 [==============================] - 0s 6ms/step - loss: 4.9500 - mae: 4.9500\n",
            "Epoch 446/500\n",
            "1/1 [==============================] - 0s 10ms/step - loss: 4.9444 - mae: 4.9444\n",
            "Epoch 447/500\n",
            "1/1 [==============================] - 0s 6ms/step - loss: 4.9388 - mae: 4.9388\n",
            "Epoch 448/500\n",
            "1/1 [==============================] - 0s 6ms/step - loss: 4.9331 - mae: 4.9331\n",
            "Epoch 449/500\n",
            "1/1 [==============================] - 0s 5ms/step - loss: 4.9275 - mae: 4.9275\n",
            "Epoch 450/500\n",
            "1/1 [==============================] - 0s 12ms/step - loss: 4.9219 - mae: 4.9219\n",
            "Epoch 451/500\n",
            "1/1 [==============================] - 0s 8ms/step - loss: 4.9163 - mae: 4.9163\n",
            "Epoch 452/500\n",
            "1/1 [==============================] - 0s 10ms/step - loss: 4.9106 - mae: 4.9106\n",
            "Epoch 453/500\n",
            "1/1 [==============================] - 0s 12ms/step - loss: 4.9050 - mae: 4.9050\n",
            "Epoch 454/500\n",
            "1/1 [==============================] - 0s 10ms/step - loss: 4.8994 - mae: 4.8994\n",
            "Epoch 455/500\n",
            "1/1 [==============================] - 0s 10ms/step - loss: 4.8938 - mae: 4.8938\n",
            "Epoch 456/500\n",
            "1/1 [==============================] - 0s 11ms/step - loss: 4.8881 - mae: 4.8881\n",
            "Epoch 457/500\n",
            "1/1 [==============================] - 0s 5ms/step - loss: 4.8825 - mae: 4.8825\n",
            "Epoch 458/500\n",
            "1/1 [==============================] - 0s 5ms/step - loss: 4.8769 - mae: 4.8769\n",
            "Epoch 459/500\n",
            "1/1 [==============================] - 0s 5ms/step - loss: 4.8713 - mae: 4.8713\n",
            "Epoch 460/500\n",
            "1/1 [==============================] - 0s 5ms/step - loss: 4.8656 - mae: 4.8656\n",
            "Epoch 461/500\n",
            "1/1 [==============================] - 0s 8ms/step - loss: 4.8600 - mae: 4.8600\n",
            "Epoch 462/500\n",
            "1/1 [==============================] - 0s 8ms/step - loss: 4.8544 - mae: 4.8544\n",
            "Epoch 463/500\n",
            "1/1 [==============================] - 0s 16ms/step - loss: 4.8488 - mae: 4.8488\n",
            "Epoch 464/500\n",
            "1/1 [==============================] - 0s 14ms/step - loss: 4.8445 - mae: 4.8445\n",
            "Epoch 465/500\n",
            "1/1 [==============================] - 0s 7ms/step - loss: 4.8394 - mae: 4.8394\n",
            "Epoch 466/500\n",
            "1/1 [==============================] - 0s 8ms/step - loss: 4.8338 - mae: 4.8338\n",
            "Epoch 467/500\n",
            "1/1 [==============================] - 0s 7ms/step - loss: 4.8281 - mae: 4.8281\n",
            "Epoch 468/500\n",
            "1/1 [==============================] - 0s 8ms/step - loss: 4.8225 - mae: 4.8225\n",
            "Epoch 469/500\n",
            "1/1 [==============================] - 0s 6ms/step - loss: 4.8169 - mae: 4.8169\n",
            "Epoch 470/500\n",
            "1/1 [==============================] - 0s 6ms/step - loss: 4.8113 - mae: 4.8113\n",
            "Epoch 471/500\n",
            "1/1 [==============================] - 0s 9ms/step - loss: 4.8056 - mae: 4.8056\n",
            "Epoch 472/500\n",
            "1/1 [==============================] - 0s 6ms/step - loss: 4.8000 - mae: 4.8000\n",
            "Epoch 473/500\n",
            "1/1 [==============================] - 0s 7ms/step - loss: 4.7944 - mae: 4.7944\n",
            "Epoch 474/500\n",
            "1/1 [==============================] - 0s 8ms/step - loss: 4.7888 - mae: 4.7888\n",
            "Epoch 475/500\n",
            "1/1 [==============================] - 0s 8ms/step - loss: 4.7831 - mae: 4.7831\n",
            "Epoch 476/500\n",
            "1/1 [==============================] - 0s 7ms/step - loss: 4.7775 - mae: 4.7775\n",
            "Epoch 477/500\n",
            "1/1 [==============================] - 0s 6ms/step - loss: 4.7719 - mae: 4.7719\n",
            "Epoch 478/500\n",
            "1/1 [==============================] - 0s 6ms/step - loss: 4.7663 - mae: 4.7663\n",
            "Epoch 479/500\n",
            "1/1 [==============================] - 0s 6ms/step - loss: 4.7606 - mae: 4.7606\n",
            "Epoch 480/500\n",
            "1/1 [==============================] - 0s 6ms/step - loss: 4.7550 - mae: 4.7550\n",
            "Epoch 481/500\n",
            "1/1 [==============================] - 0s 6ms/step - loss: 4.7494 - mae: 4.7494\n",
            "Epoch 482/500\n",
            "1/1 [==============================] - 0s 9ms/step - loss: 4.7438 - mae: 4.7438\n",
            "Epoch 483/500\n",
            "1/1 [==============================] - 0s 7ms/step - loss: 4.7381 - mae: 4.7381\n",
            "Epoch 484/500\n",
            "1/1 [==============================] - 0s 7ms/step - loss: 4.7325 - mae: 4.7325\n",
            "Epoch 485/500\n",
            "1/1 [==============================] - 0s 7ms/step - loss: 4.7269 - mae: 4.7269\n",
            "Epoch 486/500\n",
            "1/1 [==============================] - 0s 7ms/step - loss: 4.7213 - mae: 4.7213\n",
            "Epoch 487/500\n",
            "1/1 [==============================] - 0s 8ms/step - loss: 4.7156 - mae: 4.7156\n",
            "Epoch 488/500\n",
            "1/1 [==============================] - 0s 7ms/step - loss: 4.7100 - mae: 4.7100\n",
            "Epoch 489/500\n",
            "1/1 [==============================] - 0s 8ms/step - loss: 4.7044 - mae: 4.7044\n",
            "Epoch 490/500\n",
            "1/1 [==============================] - 0s 7ms/step - loss: 4.6988 - mae: 4.6988\n",
            "Epoch 491/500\n",
            "1/1 [==============================] - 0s 8ms/step - loss: 4.6931 - mae: 4.6931\n",
            "Epoch 492/500\n",
            "1/1 [==============================] - 0s 8ms/step - loss: 4.6875 - mae: 4.6875\n",
            "Epoch 493/500\n",
            "1/1 [==============================] - 0s 8ms/step - loss: 4.6819 - mae: 4.6819\n",
            "Epoch 494/500\n",
            "1/1 [==============================] - 0s 8ms/step - loss: 4.6763 - mae: 4.6763\n",
            "Epoch 495/500\n",
            "1/1 [==============================] - 0s 8ms/step - loss: 4.6706 - mae: 4.6706\n",
            "Epoch 496/500\n",
            "1/1 [==============================] - 0s 8ms/step - loss: 4.6650 - mae: 4.6650\n",
            "Epoch 497/500\n",
            "1/1 [==============================] - 0s 8ms/step - loss: 4.6594 - mae: 4.6594\n",
            "Epoch 498/500\n",
            "1/1 [==============================] - 0s 8ms/step - loss: 4.6538 - mae: 4.6538\n",
            "Epoch 499/500\n",
            "1/1 [==============================] - 0s 9ms/step - loss: 4.6481 - mae: 4.6481\n",
            "Epoch 500/500\n",
            "1/1 [==============================] - 0s 8ms/step - loss: 4.6425 - mae: 4.6425\n"
          ]
        },
        {
          "output_type": "execute_result",
          "data": {
            "text/plain": [
              "<keras.callbacks.History at 0x7fce60af9450>"
            ]
          },
          "metadata": {},
          "execution_count": 30
        }
      ]
    },
    {
      "cell_type": "code",
      "source": [
        "model.predict([17.0])"
      ],
      "metadata": {
        "colab": {
          "base_uri": "https://localhost:8080/"
        },
        "id": "oooG4z8qhxIf",
        "outputId": "f2da7b56-4fb5-4684-b206-fab2ef0b80b0"
      },
      "execution_count": null,
      "outputs": [
        {
          "output_type": "execute_result",
          "data": {
            "text/plain": [
              "array([[30.3385]], dtype=float32)"
            ]
          },
          "metadata": {},
          "execution_count": 32
        }
      ]
    },
    {
      "cell_type": "code",
      "source": [
        "X = np.arange(-100, 100, 4)\n",
        "X"
      ],
      "metadata": {
        "colab": {
          "base_uri": "https://localhost:8080/"
        },
        "id": "EKprSjHahTAh",
        "outputId": "2403dc11-b16b-4927-d36c-e9fd9bd7933a"
      },
      "execution_count": null,
      "outputs": [
        {
          "output_type": "execute_result",
          "data": {
            "text/plain": [
              "array([-100,  -96,  -92,  -88,  -84,  -80,  -76,  -72,  -68,  -64,  -60,\n",
              "        -56,  -52,  -48,  -44,  -40,  -36,  -32,  -28,  -24,  -20,  -16,\n",
              "        -12,   -8,   -4,    0,    4,    8,   12,   16,   20,   24,   28,\n",
              "         32,   36,   40,   44,   48,   52,   56,   60,   64,   68,   72,\n",
              "         76,   80,   84,   88,   92,   96])"
            ]
          },
          "metadata": {},
          "execution_count": 33
        }
      ]
    },
    {
      "cell_type": "code",
      "source": [
        "y = np.arange(-90, 110, 4)\n",
        "y"
      ],
      "metadata": {
        "colab": {
          "base_uri": "https://localhost:8080/"
        },
        "id": "Tny6mE8TiDmm",
        "outputId": "6ca4d462-fac3-47bc-9ffb-30d77572f066"
      },
      "execution_count": null,
      "outputs": [
        {
          "output_type": "execute_result",
          "data": {
            "text/plain": [
              "array([-90, -86, -82, -78, -74, -70, -66, -62, -58, -54, -50, -46, -42,\n",
              "       -38, -34, -30, -26, -22, -18, -14, -10,  -6,  -2,   2,   6,  10,\n",
              "        14,  18,  22,  26,  30,  34,  38,  42,  46,  50,  54,  58,  62,\n",
              "        66,  70,  74,  78,  82,  86,  90,  94,  98, 102, 106])"
            ]
          },
          "metadata": {},
          "execution_count": 35
        }
      ]
    },
    {
      "cell_type": "code",
      "source": [
        "y = X + 10\n",
        "y"
      ],
      "metadata": {
        "colab": {
          "base_uri": "https://localhost:8080/"
        },
        "id": "S2iugpW8iLNb",
        "outputId": "5d37aac3-9564-4f3e-b6bc-f9ef4c8e8b0c"
      },
      "execution_count": null,
      "outputs": [
        {
          "output_type": "execute_result",
          "data": {
            "text/plain": [
              "array([-90, -86, -82, -78, -74, -70, -66, -62, -58, -54, -50, -46, -42,\n",
              "       -38, -34, -30, -26, -22, -18, -14, -10,  -6,  -2,   2,   6,  10,\n",
              "        14,  18,  22,  26,  30,  34,  38,  42,  46,  50,  54,  58,  62,\n",
              "        66,  70,  74,  78,  82,  86,  90,  94,  98, 102, 106])"
            ]
          },
          "metadata": {},
          "execution_count": 36
        }
      ]
    },
    {
      "cell_type": "code",
      "source": [
        "len(X)"
      ],
      "metadata": {
        "colab": {
          "base_uri": "https://localhost:8080/"
        },
        "id": "rhks-StQiPmg",
        "outputId": "d9afb551-f5a4-46a0-bf25-0fc2c0843d5f"
      },
      "execution_count": null,
      "outputs": [
        {
          "output_type": "execute_result",
          "data": {
            "text/plain": [
              "50"
            ]
          },
          "metadata": {},
          "execution_count": 37
        }
      ]
    },
    {
      "cell_type": "code",
      "source": [
        "X_train = X[:40]\n",
        "y_train = y[:40]\n",
        "\n",
        "X_test = X[40:]\n",
        "y_test = y[40:]\n",
        "\n",
        "len(X_train), len(X_test)"
      ],
      "metadata": {
        "colab": {
          "base_uri": "https://localhost:8080/"
        },
        "id": "Z0UPcUoSiWLC",
        "outputId": "97dc83d2-51fd-4522-ff49-e04e89ed2c2b"
      },
      "execution_count": null,
      "outputs": [
        {
          "output_type": "execute_result",
          "data": {
            "text/plain": [
              "(40, 10)"
            ]
          },
          "metadata": {},
          "execution_count": 39
        }
      ]
    },
    {
      "cell_type": "code",
      "source": [
        "plt.figure(figsize=(10,7))\n",
        "plt.scatter(X_train, y_train, c='b', label='train data')\n",
        "plt.scatter(X_test, y_test, c='g', label='test data')\n",
        "plt.legend()"
      ],
      "metadata": {
        "colab": {
          "base_uri": "https://localhost:8080/",
          "height": 445
        },
        "id": "Yepr952YiocX",
        "outputId": "cefee123-bc49-4da9-c34b-fa29a9ca00a7"
      },
      "execution_count": null,
      "outputs": [
        {
          "output_type": "execute_result",
          "data": {
            "text/plain": [
              "<matplotlib.legend.Legend at 0x7fce5fc0e550>"
            ]
          },
          "metadata": {},
          "execution_count": 40
        },
        {
          "output_type": "display_data",
          "data": {
            "text/plain": [
              "<Figure size 720x504 with 1 Axes>"
            ],
            "image/png": "[encoded data removed]"
          },
          "metadata": {
            "needs_background": "light"
          }
        }
      ]
    },
    {
      "cell_type": "code",
      "source": [
        "tf.random.set_seed(42)\n",
        "\n",
        "model = tf.keras.Sequential([\n",
        "                             tf.keras.layers.Dense(1, input_shape=[1])\n",
        "])\n",
        "\n",
        "model.compile(loss=tf.keras.losses.mae,\n",
        "              optimizer=tf.keras.optimizers.SGD(),\n",
        "              metrics=['mae'])"
      ],
      "metadata": {
        "id": "D0vta2uRjA79"
      },
      "execution_count": null,
      "outputs": []
    },
    {
      "cell_type": "code",
      "source": [
        "model.summary()"
      ],
      "metadata": {
        "colab": {
          "base_uri": "https://localhost:8080/"
        },
        "id": "1W-h9PRPjfdB",
        "outputId": "952c1f17-1ba9-4bd0-c95d-35a706265ec1"
      },
      "execution_count": null,
      "outputs": [
        {
          "output_type": "stream",
          "name": "stdout",
          "text": [
            "Model: \"sequential_16\"\n",
            "_________________________________________________________________\n",
            " Layer (type)                Output Shape              Param #   \n",
            "=================================================================\n",
            " dense_16 (Dense)            (None, 2)                 8         \n",
            "                                                                 \n",
            "=================================================================\n",
            "Total params: 8\n",
            "Trainable params: 8\n",
            "Non-trainable params: 0\n",
            "_________________________________________________________________\n"
          ]
        }
      ]
    },
    {
      "cell_type": "code",
      "source": [
        "model.fit(X_train, y_train, epochs=100, verbose=0)"
      ],
      "metadata": {
        "colab": {
          "base_uri": "https://localhost:8080/"
        },
        "id": "lGUIpBmXjtgY",
        "outputId": "023e898e-e8ee-42f9-bca8-1f6355324b7d"
      },
      "execution_count": null,
      "outputs": [
        {
          "output_type": "execute_result",
          "data": {
            "text/plain": [
              "<keras.callbacks.History at 0x7fce5fb26c90>"
            ]
          },
          "metadata": {},
          "execution_count": 59
        }
      ]
    },
    {
      "cell_type": "code",
      "source": [
        "model.summary()"
      ],
      "metadata": {
        "colab": {
          "base_uri": "https://localhost:8080/"
        },
        "id": "zqWFNvGRkhcX",
        "outputId": "dd4fe9da-8c31-4fec-8639-9e8b471bdc7e"
      },
      "execution_count": null,
      "outputs": [
        {
          "output_type": "stream",
          "name": "stdout",
          "text": [
            "Model: \"sequential_17\"\n",
            "_________________________________________________________________\n",
            " Layer (type)                Output Shape              Param #   \n",
            "=================================================================\n",
            " dense_17 (Dense)            (None, 1)                 2         \n",
            "                                                                 \n",
            "=================================================================\n",
            "Total params: 2\n",
            "Trainable params: 2\n",
            "Non-trainable params: 0\n",
            "_________________________________________________________________\n"
          ]
        }
      ]
    },
    {
      "cell_type": "code",
      "source": [
        "from tensorflow.keras.utils import plot_model\n",
        "plot_model(model, show_shapes=True)"
      ],
      "metadata": {
        "colab": {
          "base_uri": "https://localhost:8080/",
          "height": 201
        },
        "id": "a61IOGpYkkPg",
        "outputId": "c836ebf3-be25-4ee2-93f2-2254ff7791c8"
      },
      "execution_count": null,
      "outputs": [
        {
          "output_type": "execute_result",
          "data": {
            "text/plain": [
              "<IPython.core.display.Image object>"
            ],
            "image/png": "[encoded data removed]"
          },
          "metadata": {},
          "execution_count": 61
        }
      ]
    },
    {
      "cell_type": "code",
      "source": [
        "y_preds = model.predict(X_test)"
      ],
      "metadata": {
        "colab": {
          "base_uri": "https://localhost:8080/"
        },
        "id": "b_tYBSuXji0R",
        "outputId": "508e26e4-4ade-4a1d-ec5c-8f7d13da5f2c"
      },
      "execution_count": null,
      "outputs": [
        {
          "output_type": "stream",
          "name": "stdout",
          "text": [
            "WARNING:tensorflow:6 out of the last 7 calls to <function Model.make_predict_function.<locals>.predict_function at 0x7fce5fa554d0> triggered tf.function retracing. Tracing is expensive and the excessive number of tracings could be due to (1) creating @tf.function repeatedly in a loop, (2) passing tensors with different shapes, (3) passing Python objects instead of tensors. For (1), please define your @tf.function outside of the loop. For (2), @tf.function has experimental_relax_shapes=True option that relaxes argument shapes that can avoid unnecessary retracing. For (3), please refer to https://www.tensorflow.org/guide/function#controlling_retracing and https://www.tensorflow.org/api_docs/python/tf/function for  more details.\n"
          ]
        }
      ]
    },
    {
      "cell_type": "code",
      "source": [
        "y_preds"
      ],
      "metadata": {
        "colab": {
          "base_uri": "https://localhost:8080/"
        },
        "id": "BDPp5oexk-Hg",
        "outputId": "16f15980-7700-4853-c8a2-1734d5e46b65"
      },
      "execution_count": null,
      "outputs": [
        {
          "output_type": "execute_result",
          "data": {
            "text/plain": [
              "array([[53.57109 ],\n",
              "       [57.05633 ],\n",
              "       [60.541573],\n",
              "       [64.02681 ],\n",
              "       [67.512054],\n",
              "       [70.99729 ],\n",
              "       [74.48254 ],\n",
              "       [77.96777 ],\n",
              "       [81.45301 ],\n",
              "       [84.938255]], dtype=float32)"
            ]
          },
          "metadata": {},
          "execution_count": 63
        }
      ]
    },
    {
      "cell_type": "code",
      "source": [
        "def plot_predictions(train_data = X_train,\n",
        "                     train_labels = y_train,\n",
        "                     test_data = X_test,\n",
        "                     test_labels = y_test,\n",
        "                     predictions = y_preds):\n",
        "  plt.figure(figsize=(10,7))\n",
        "  plt.scatter(train_data, train_labels, c=\"b\", label=\"train data\")\n",
        "  plt.scatter(test_data, test_labels, c=\"g\", label=\"test data\")\n",
        "  plt.scatter(test_data, predictions, c=\"r\", label=\"predictions\")\n",
        "  plt.legend();"
      ],
      "metadata": {
        "id": "JDVHCXVYlGw5"
      },
      "execution_count": null,
      "outputs": []
    },
    {
      "cell_type": "code",
      "source": [
        "plot_predictions(train_data = X_train,\n",
        "                     train_labels = y_train,\n",
        "                     test_data = X_test,\n",
        "                     test_labels = y_test,\n",
        "                     predictions = y_preds)"
      ],
      "metadata": {
        "colab": {
          "base_uri": "https://localhost:8080/",
          "height": 428
        },
        "id": "CrkUlRA_mL8c",
        "outputId": "76cd21d7-493b-432f-f5fb-4aa6cc38caf0"
      },
      "execution_count": null,
      "outputs": [
        {
          "output_type": "display_data",
          "data": {
            "text/plain": [
              "<Figure size 720x504 with 1 Axes>"
            ],
            "image/png": "[encoded data removed]"
          },
          "metadata": {
            "needs_background": "light"
          }
        }
      ]
    },
    {
      "cell_type": "code",
      "source": [
        "model.evaluate(X_test, y_test)"
      ],
      "metadata": {
        "colab": {
          "base_uri": "https://localhost:8080/"
        },
        "id": "u-6ytpC4mlFd",
        "outputId": "b0721a39-5511-408b-c934-10a6583016df"
      },
      "execution_count": null,
      "outputs": [
        {
          "output_type": "stream",
          "name": "stdout",
          "text": [
            "1/1 [==============================] - 0s 183ms/step - loss: 18.7453 - mae: 18.7453\n"
          ]
        },
        {
          "output_type": "execute_result",
          "data": {
            "text/plain": [
              "[18.74532699584961, 18.74532699584961]"
            ]
          },
          "metadata": {},
          "execution_count": 72
        }
      ]
    },
    {
      "cell_type": "code",
      "source": [
        "# Calculate the mean absolute error\n",
        "mae = tf.metrics.mean_absolute_error(y_true=y_test, \n",
        "                                     y_pred=y_preds)\n",
        "mae"
      ],
      "metadata": {
        "colab": {
          "base_uri": "https://localhost:8080/"
        },
        "id": "9L0tSBRGmwIE",
        "outputId": "7cb1fa2b-4e76-4823-fa6f-974687437570"
      },
      "execution_count": null,
      "outputs": [
        {
          "output_type": "execute_result",
          "data": {
            "text/plain": [
              "<tf.Tensor: shape=(10,), dtype=float32, numpy=\n",
              "array([34.42891 , 30.943668, 27.45843 , 23.97319 , 20.487946, 17.202168,\n",
              "       14.510478, 12.419336, 11.018796, 10.212349], dtype=float32)>"
            ]
          },
          "metadata": {},
          "execution_count": 73
        }
      ]
    },
    {
      "cell_type": "code",
      "source": [
        "def mae(y_test, y_pred):\n",
        "  \"\"\"\n",
        "  Calculuates mean absolute error between y_test and y_preds.\n",
        "  \"\"\"\n",
        "  return tf.metrics.mean_absolute_error(y_test,\n",
        "                                        y_pred)\n",
        "  \n",
        "def mse(y_test, y_pred):\n",
        "  \"\"\"\n",
        "  Calculates mean squared error between y_test and y_preds.\n",
        "  \"\"\"\n",
        "  return tf.metrics.mean_squared_error(y_test,\n",
        "                                       y_pred)"
      ],
      "metadata": {
        "id": "SkXjf_LHm50c"
      },
      "execution_count": null,
      "outputs": []
    },
    {
      "cell_type": "code",
      "source": [
        "tf.random.set_seed(42)\n",
        "model_1 = tf.keras.Sequential([\n",
        "                               tf.keras.layers.Dense(1)\n",
        "])\n",
        "model_1.compile(loss=tf.keras.losses.mae,\n",
        "                optimizer=tf.keras.optimizers.SGD(),\n",
        "                metrics=[\"mae\"])\n",
        "model_1.fit(tf.expand_dims(X_train, axis=-1), y_train, epochs=100)"
      ],
      "metadata": {
        "colab": {
          "base_uri": "https://localhost:8080/"
        },
        "id": "ip434KHhmg7y",
        "outputId": "dd196b6d-75ab-4a6a-b844-90bc98ae1079"
      },
      "execution_count": null,
      "outputs": [
        {
          "output_type": "stream",
          "name": "stdout",
          "text": [
            "Epoch 1/100\n",
            "2/2 [==============================] - 0s 8ms/step - loss: 15.9024 - mae: 15.9024\n",
            "Epoch 2/100\n",
            "2/2 [==============================] - 0s 9ms/step - loss: 11.2837 - mae: 11.2837\n",
            "Epoch 3/100\n",
            "2/2 [==============================] - 0s 7ms/step - loss: 11.1074 - mae: 11.1074\n",
            "Epoch 4/100\n",
            "2/2 [==============================] - 0s 8ms/step - loss: 9.2990 - mae: 9.2990\n",
            "Epoch 5/100\n",
            "2/2 [==============================] - 0s 6ms/step - loss: 10.1677 - mae: 10.1677\n",
            "Epoch 6/100\n",
            "2/2 [==============================] - 0s 6ms/step - loss: 9.4303 - mae: 9.4303\n",
            "Epoch 7/100\n",
            "2/2 [==============================] - 0s 6ms/step - loss: 8.5704 - mae: 8.5704\n",
            "Epoch 8/100\n",
            "2/2 [==============================] - 0s 6ms/step - loss: 9.0442 - mae: 9.0442\n",
            "Epoch 9/100\n",
            "2/2 [==============================] - 0s 7ms/step - loss: 18.7517 - mae: 18.7517\n",
            "Epoch 10/100\n",
            "2/2 [==============================] - 0s 6ms/step - loss: 10.1142 - mae: 10.1142\n",
            "Epoch 11/100\n",
            "2/2 [==============================] - 0s 7ms/step - loss: 8.3980 - mae: 8.3980\n",
            "Epoch 12/100\n",
            "2/2 [==============================] - 0s 8ms/step - loss: 10.6639 - mae: 10.6639\n",
            "Epoch 13/100\n",
            "2/2 [==============================] - 0s 6ms/step - loss: 9.7977 - mae: 9.7977\n",
            "Epoch 14/100\n",
            "2/2 [==============================] - 0s 6ms/step - loss: 16.0103 - mae: 16.0103\n",
            "Epoch 15/100\n",
            "2/2 [==============================] - 0s 6ms/step - loss: 11.4068 - mae: 11.4068\n",
            "Epoch 16/100\n",
            "2/2 [==============================] - 0s 6ms/step - loss: 8.5393 - mae: 8.5393\n",
            "Epoch 17/100\n",
            "2/2 [==============================] - 0s 7ms/step - loss: 13.6348 - mae: 13.6348\n",
            "Epoch 18/100\n",
            "2/2 [==============================] - 0s 6ms/step - loss: 11.4629 - mae: 11.4629\n",
            "Epoch 19/100\n",
            "2/2 [==============================] - 0s 7ms/step - loss: 17.9148 - mae: 17.9148\n",
            "Epoch 20/100\n",
            "2/2 [==============================] - 0s 6ms/step - loss: 15.0494 - mae: 15.0494\n",
            "Epoch 21/100\n",
            "2/2 [==============================] - 0s 6ms/step - loss: 11.0216 - mae: 11.0216\n",
            "Epoch 22/100\n",
            "2/2 [==============================] - 0s 6ms/step - loss: 8.1558 - mae: 8.1558\n",
            "Epoch 23/100\n",
            "2/2 [==============================] - 0s 22ms/step - loss: 9.5138 - mae: 9.5138\n",
            "Epoch 24/100\n",
            "2/2 [==============================] - 0s 6ms/step - loss: 7.6617 - mae: 7.6617\n",
            "Epoch 25/100\n",
            "2/2 [==============================] - 0s 14ms/step - loss: 13.1859 - mae: 13.1859\n",
            "Epoch 26/100\n",
            "2/2 [==============================] - 0s 12ms/step - loss: 16.4211 - mae: 16.4211\n",
            "Epoch 27/100\n",
            "2/2 [==============================] - 0s 8ms/step - loss: 13.1659 - mae: 13.1659\n",
            "Epoch 28/100\n",
            "2/2 [==============================] - 0s 8ms/step - loss: 14.2559 - mae: 14.2559\n",
            "Epoch 29/100\n",
            "2/2 [==============================] - 0s 7ms/step - loss: 10.0670 - mae: 10.0670\n",
            "Epoch 30/100\n",
            "2/2 [==============================] - 0s 7ms/step - loss: 16.3409 - mae: 16.3409\n",
            "Epoch 31/100\n",
            "2/2 [==============================] - 0s 7ms/step - loss: 23.6444 - mae: 23.6444\n",
            "Epoch 32/100\n",
            "2/2 [==============================] - 0s 9ms/step - loss: 7.6215 - mae: 7.6215\n",
            "Epoch 33/100\n",
            "2/2 [==============================] - 0s 7ms/step - loss: 9.3221 - mae: 9.3221\n",
            "Epoch 34/100\n",
            "2/2 [==============================] - 0s 7ms/step - loss: 13.7313 - mae: 13.7313\n",
            "Epoch 35/100\n",
            "2/2 [==============================] - 0s 7ms/step - loss: 11.1276 - mae: 11.1276\n",
            "Epoch 36/100\n",
            "2/2 [==============================] - 0s 7ms/step - loss: 13.3222 - mae: 13.3222\n",
            "Epoch 37/100\n",
            "2/2 [==============================] - 0s 7ms/step - loss: 9.4763 - mae: 9.4763\n",
            "Epoch 38/100\n",
            "2/2 [==============================] - 0s 6ms/step - loss: 10.1381 - mae: 10.1381\n",
            "Epoch 39/100\n",
            "2/2 [==============================] - 0s 6ms/step - loss: 10.1793 - mae: 10.1793\n",
            "Epoch 40/100\n",
            "2/2 [==============================] - 0s 7ms/step - loss: 10.9137 - mae: 10.9137\n",
            "Epoch 41/100\n",
            "2/2 [==============================] - 0s 7ms/step - loss: 7.9063 - mae: 7.9063\n",
            "Epoch 42/100\n",
            "2/2 [==============================] - 0s 13ms/step - loss: 10.0914 - mae: 10.0914\n",
            "Epoch 43/100\n",
            "2/2 [==============================] - 0s 7ms/step - loss: 8.7006 - mae: 8.7006\n",
            "Epoch 44/100\n",
            "2/2 [==============================] - 0s 7ms/step - loss: 12.2047 - mae: 12.2047\n",
            "Epoch 45/100\n",
            "2/2 [==============================] - 0s 7ms/step - loss: 13.7970 - mae: 13.7970\n",
            "Epoch 46/100\n",
            "2/2 [==============================] - 0s 8ms/step - loss: 8.4687 - mae: 8.4687\n",
            "Epoch 47/100\n",
            "2/2 [==============================] - 0s 4ms/step - loss: 9.1330 - mae: 9.1330\n",
            "Epoch 48/100\n",
            "2/2 [==============================] - 0s 8ms/step - loss: 10.6190 - mae: 10.6190\n",
            "Epoch 49/100\n",
            "2/2 [==============================] - 0s 6ms/step - loss: 7.7503 - mae: 7.7503\n",
            "Epoch 50/100\n",
            "2/2 [==============================] - 0s 5ms/step - loss: 9.5407 - mae: 9.5407\n",
            "Epoch 51/100\n",
            "2/2 [==============================] - 0s 5ms/step - loss: 9.1584 - mae: 9.1584\n",
            "Epoch 52/100\n",
            "2/2 [==============================] - 0s 6ms/step - loss: 16.3630 - mae: 16.3630\n",
            "Epoch 53/100\n",
            "2/2 [==============================] - 0s 5ms/step - loss: 14.1299 - mae: 14.1299\n",
            "Epoch 54/100\n",
            "2/2 [==============================] - 0s 5ms/step - loss: 21.1247 - mae: 21.1247\n",
            "Epoch 55/100\n",
            "2/2 [==============================] - 0s 5ms/step - loss: 16.3961 - mae: 16.3961\n",
            "Epoch 56/100\n",
            "2/2 [==============================] - 0s 5ms/step - loss: 9.9806 - mae: 9.9806\n",
            "Epoch 57/100\n",
            "2/2 [==============================] - 0s 5ms/step - loss: 9.9606 - mae: 9.9606\n",
            "Epoch 58/100\n",
            "2/2 [==============================] - 0s 5ms/step - loss: 9.2209 - mae: 9.2209\n",
            "Epoch 59/100\n",
            "2/2 [==============================] - 0s 9ms/step - loss: 8.4239 - mae: 8.4239\n",
            "Epoch 60/100\n",
            "2/2 [==============================] - 0s 6ms/step - loss: 9.4869 - mae: 9.4869\n",
            "Epoch 61/100\n",
            "2/2 [==============================] - 0s 5ms/step - loss: 11.4355 - mae: 11.4355\n",
            "Epoch 62/100\n",
            "2/2 [==============================] - 0s 5ms/step - loss: 11.6887 - mae: 11.6887\n",
            "Epoch 63/100\n",
            "2/2 [==============================] - 0s 5ms/step - loss: 7.0838 - mae: 7.0838\n",
            "Epoch 64/100\n",
            "2/2 [==============================] - 0s 7ms/step - loss: 16.9675 - mae: 16.9675\n",
            "Epoch 65/100\n",
            "2/2 [==============================] - 0s 5ms/step - loss: 12.4599 - mae: 12.4599\n",
            "Epoch 66/100\n",
            "2/2 [==============================] - 0s 6ms/step - loss: 13.0184 - mae: 13.0184\n",
            "Epoch 67/100\n",
            "2/2 [==============================] - 0s 6ms/step - loss: 8.0600 - mae: 8.0600\n",
            "Epoch 68/100\n",
            "2/2 [==============================] - 0s 6ms/step - loss: 10.1888 - mae: 10.1888\n",
            "Epoch 69/100\n",
            "2/2 [==============================] - 0s 5ms/step - loss: 12.3633 - mae: 12.3633\n",
            "Epoch 70/100\n",
            "2/2 [==============================] - 0s 6ms/step - loss: 9.0516 - mae: 9.0516\n",
            "Epoch 71/100\n",
            "2/2 [==============================] - 0s 6ms/step - loss: 10.0378 - mae: 10.0378\n",
            "Epoch 72/100\n",
            "2/2 [==============================] - 0s 6ms/step - loss: 10.0516 - mae: 10.0516\n",
            "Epoch 73/100\n",
            "2/2 [==============================] - 0s 6ms/step - loss: 12.6151 - mae: 12.6151\n",
            "Epoch 74/100\n",
            "2/2 [==============================] - 0s 5ms/step - loss: 10.3819 - mae: 10.3819\n",
            "Epoch 75/100\n",
            "2/2 [==============================] - 0s 5ms/step - loss: 9.7229 - mae: 9.7229\n",
            "Epoch 76/100\n",
            "2/2 [==============================] - 0s 5ms/step - loss: 11.2252 - mae: 11.2252\n",
            "Epoch 77/100\n",
            "2/2 [==============================] - 0s 6ms/step - loss: 8.3642 - mae: 8.3642\n",
            "Epoch 78/100\n",
            "2/2 [==============================] - 0s 5ms/step - loss: 9.1274 - mae: 9.1274\n",
            "Epoch 79/100\n",
            "2/2 [==============================] - 0s 5ms/step - loss: 19.5039 - mae: 19.5039\n",
            "Epoch 80/100\n",
            "2/2 [==============================] - 0s 5ms/step - loss: 14.8945 - mae: 14.8945\n",
            "Epoch 81/100\n",
            "2/2 [==============================] - 0s 6ms/step - loss: 9.0034 - mae: 9.0034\n",
            "Epoch 82/100\n",
            "2/2 [==============================] - 0s 6ms/step - loss: 13.0206 - mae: 13.0206\n",
            "Epoch 83/100\n",
            "2/2 [==============================] - 0s 9ms/step - loss: 7.9299 - mae: 7.9299\n",
            "Epoch 84/100\n",
            "2/2 [==============================] - 0s 6ms/step - loss: 7.6872 - mae: 7.6872\n",
            "Epoch 85/100\n",
            "2/2 [==============================] - 0s 5ms/step - loss: 10.0328 - mae: 10.0328\n",
            "Epoch 86/100\n",
            "2/2 [==============================] - 0s 7ms/step - loss: 9.2433 - mae: 9.2433\n",
            "Epoch 87/100\n",
            "2/2 [==============================] - 0s 8ms/step - loss: 12.0209 - mae: 12.0209\n",
            "Epoch 88/100\n",
            "2/2 [==============================] - 0s 6ms/step - loss: 10.6389 - mae: 10.6389\n",
            "Epoch 89/100\n",
            "2/2 [==============================] - 0s 5ms/step - loss: 7.2667 - mae: 7.2667\n",
            "Epoch 90/100\n",
            "2/2 [==============================] - 0s 6ms/step - loss: 12.7786 - mae: 12.7786\n",
            "Epoch 91/100\n",
            "2/2 [==============================] - 0s 6ms/step - loss: 7.3481 - mae: 7.3481\n",
            "Epoch 92/100\n",
            "2/2 [==============================] - 0s 6ms/step - loss: 7.7175 - mae: 7.7175\n",
            "Epoch 93/100\n",
            "2/2 [==============================] - 0s 6ms/step - loss: 7.1263 - mae: 7.1263\n",
            "Epoch 94/100\n",
            "2/2 [==============================] - 0s 6ms/step - loss: 12.6190 - mae: 12.6190\n",
            "Epoch 95/100\n",
            "2/2 [==============================] - 0s 5ms/step - loss: 10.0912 - mae: 10.0912\n",
            "Epoch 96/100\n",
            "2/2 [==============================] - 0s 6ms/step - loss: 9.3558 - mae: 9.3558\n",
            "Epoch 97/100\n",
            "2/2 [==============================] - 0s 8ms/step - loss: 12.6834 - mae: 12.6834\n",
            "Epoch 98/100\n",
            "2/2 [==============================] - 0s 6ms/step - loss: 8.6762 - mae: 8.6762\n",
            "Epoch 99/100\n",
            "2/2 [==============================] - 0s 6ms/step - loss: 9.4693 - mae: 9.4693\n",
            "Epoch 100/100\n",
            "2/2 [==============================] - 0s 6ms/step - loss: 8.7067 - mae: 8.7067\n"
          ]
        },
        {
          "output_type": "execute_result",
          "data": {
            "text/plain": [
              "<keras.callbacks.History at 0x7fcf74ba2650>"
            ]
          },
          "metadata": {},
          "execution_count": 76
        }
      ]
    },
    {
      "cell_type": "code",
      "source": [
        "y_preds_1 = model_1.predict(X_test)\n",
        "plot_predictions(predictions=y_preds_1)"
      ],
      "metadata": {
        "colab": {
          "base_uri": "https://localhost:8080/",
          "height": 428
        },
        "id": "Kqz4C9YWpwAc",
        "outputId": "a0f61dc1-e32b-481b-b0e9-627f9f5fb63b"
      },
      "execution_count": null,
      "outputs": [
        {
          "output_type": "display_data",
          "data": {
            "text/plain": [
              "<Figure size 720x504 with 1 Axes>"
            ],
            "image/png": "[encoded data removed]"
          },
          "metadata": {
            "needs_background": "light"
          }
        }
      ]
    },
    {
      "cell_type": "code",
      "source": [
        "mae_1 = mae(y_test, y_preds_1.squeeze()).numpy()\n",
        "mse_1 = mse(y_test, y_preds_1.squeeze()).numpy()\n",
        "mae_1, mse_1"
      ],
      "metadata": {
        "colab": {
          "base_uri": "https://localhost:8080/"
        },
        "id": "ziOKUdzsp8Nq",
        "outputId": "c2bc8035-f374-45ec-caf9-3b49383fa61a"
      },
      "execution_count": null,
      "outputs": [
        {
          "output_type": "execute_result",
          "data": {
            "text/plain": [
              "(18.745327, 353.5734)"
            ]
          },
          "metadata": {},
          "execution_count": 79
        }
      ]
    },
    {
      "cell_type": "code",
      "source": [
        "%%time\n",
        "tf.random.set_seed(42)\n",
        "model_2 = tf.keras.Sequential([\n",
        "                               tf.keras.layers.Dense(1),\n",
        "                               tf.keras.layers.Dense(1)\n",
        "])\n",
        "model_2.compile(loss=tf.keras.losses.mae,\n",
        "                 optimizer=tf.keras.optimizers.SGD(),\n",
        "                 metrics=['mae']\n",
        ")\n",
        "model_2.fit(tf.expand_dims(X_train, axis=-1), y_train, epochs=100, verbose=0)"
      ],
      "metadata": {
        "colab": {
          "base_uri": "https://localhost:8080/"
        },
        "id": "BewYENEUqPgH",
        "outputId": "9f2ee89b-2fdc-4cfd-b25b-45b2bfd85207"
      },
      "execution_count": null,
      "outputs": [
        {
          "output_type": "stream",
          "name": "stdout",
          "text": [
            "CPU times: user 1.24 s, sys: 50.9 ms, total: 1.29 s\n",
            "Wall time: 1.74 s\n"
          ]
        }
      ]
    },
    {
      "cell_type": "code",
      "source": [
        "y_preds_2 = model_2.predict(X_test)\n",
        "plot_predictions(predictions=y_preds_2)"
      ],
      "metadata": {
        "colab": {
          "base_uri": "https://localhost:8080/",
          "height": 428
        },
        "id": "5FV-ET9qrhIZ",
        "outputId": "28ea20c3-098d-4a90-b5dd-8df434c2e710"
      },
      "execution_count": null,
      "outputs": [
        {
          "output_type": "display_data",
          "data": {
            "text/plain": [
              "<Figure size 720x504 with 1 Axes>"
            ],
            "image/png": "[encoded data removed]"
          },
          "metadata": {
            "needs_background": "light"
          }
        }
      ]
    },
    {
      "cell_type": "code",
      "source": [
        "mae_2 = mae(y_test, y_preds_2.squeeze()).numpy()\n",
        "mse_2 = mse(y_test, y_preds_2.squeeze()).numpy()\n",
        "mae_2, mse_2"
      ],
      "metadata": {
        "colab": {
          "base_uri": "https://localhost:8080/"
        },
        "id": "2jdaDyotrzX2",
        "outputId": "6d94d0de-8582-4b30-8bfb-b5fe6a65a210"
      },
      "execution_count": null,
      "outputs": [
        {
          "output_type": "execute_result",
          "data": {
            "text/plain": [
              "(1.9098641, 5.4595404)"
            ]
          },
          "metadata": {},
          "execution_count": 87
        }
      ]
    },
    {
      "cell_type": "code",
      "source": [
        "%%time\n",
        "tf.random.set_seed(42)\n",
        "model_3 = tf.keras.Sequential([\n",
        "                               tf.keras.layers.Dense(1),\n",
        "                               tf.keras.layers.Dense(1)\n",
        "])\n",
        "model_3.compile(loss=tf.keras.losses.mae,\n",
        "                optimizer=tf.keras.optimizers.SGD(),\n",
        "                metrics=[\"mae\"])\n",
        "model_3.fit(tf.expand_dims(X_train, axis=-1), y_train, epochs=500, verbose=0)"
      ],
      "metadata": {
        "colab": {
          "base_uri": "https://localhost:8080/"
        },
        "id": "Z1HxuBE2sFqf",
        "outputId": "706c2ac0-c5b0-4e06-8eb6-8e34b76dbdf5"
      },
      "execution_count": null,
      "outputs": [
        {
          "output_type": "stream",
          "name": "stdout",
          "text": [
            "CPU times: user 4.05 s, sys: 286 ms, total: 4.34 s\n",
            "Wall time: 3.91 s\n"
          ]
        }
      ]
    },
    {
      "cell_type": "code",
      "source": [
        "y_preds_3 = model_3.predict(X_test)\n",
        "plot_predictions(predictions=y_preds_3)"
      ],
      "metadata": {
        "colab": {
          "base_uri": "https://localhost:8080/",
          "height": 428
        },
        "id": "Gp9IKDzAs5Hr",
        "outputId": "4e31320b-35e2-454c-cc98-b4d3ed9d6fad"
      },
      "execution_count": null,
      "outputs": [
        {
          "output_type": "display_data",
          "data": {
            "text/plain": [
              "<Figure size 720x504 with 1 Axes>"
            ],
            "image/png": "[encoded data removed]"
          },
          "metadata": {
            "needs_background": "light"
          }
        }
      ]
    },
    {
      "cell_type": "code",
      "source": [
        "mae_3 = mae(y_test, y_preds_3.squeeze()).numpy()\n",
        "mse_3 = mse(y_test, y_preds_3.squeeze()).numpy()\n",
        "mae_3, mse_3"
      ],
      "metadata": {
        "colab": {
          "base_uri": "https://localhost:8080/"
        },
        "id": "_oAVNBvOtSMm",
        "outputId": "434b4b67-c3ec-4269-9222-07b52987ab94"
      },
      "execution_count": null,
      "outputs": [
        {
          "output_type": "execute_result",
          "data": {
            "text/plain": [
              "(68.687874, 4804.4736)"
            ]
          },
          "metadata": {},
          "execution_count": 93
        }
      ]
    },
    {
      "cell_type": "code",
      "source": [
        "model_results = [[\"model_1\", mae_1, mse_1],\n",
        "                 [\"model_2\", mae_2, mse_2],\n",
        "                 [\"model_3\", mae_3, mse_3]]"
      ],
      "metadata": {
        "id": "n_ZKhxRJtfvF"
      },
      "execution_count": null,
      "outputs": []
    },
    {
      "cell_type": "code",
      "source": [
        "import pandas as pd\n",
        "all_results = pd.DataFrame(model_results, columns=[\"model\", \"mae\", \"mse\"])\n",
        "all_results"
      ],
      "metadata": {
        "colab": {
          "base_uri": "https://localhost:8080/",
          "height": 143
        },
        "id": "UJgiAECttwkh",
        "outputId": "04137c01-cfaa-4d6e-bf6e-9ae8f67b4b65"
      },
      "execution_count": null,
      "outputs": [
        {
          "output_type": "execute_result",
          "data": {
            "text/plain": [
              "     model        mae          mse\n",
              "0  model_1  18.745327   353.573395\n",
              "1  model_2   1.909864     5.459540\n",
              "2  model_3  68.687874  4804.473633"
            ],
            "text/html": [
              "\n",
              "  <div id=\"df-710534d6-3f26-4fc6-ac10-64c2d5ed90d7\">\n",
              "    <div class=\"colab-df-container\">\n",
              "      <div>\n",
              "<style scoped>\n",
              "    .dataframe tbody tr th:only-of-type {\n",
              "        vertical-align: middle;\n",
              "    }\n",
              "\n",
              "    .dataframe tbody tr th {\n",
              "        vertical-align: top;\n",
              "    }\n",
              "\n",
              "    .dataframe thead th {\n",
              "        text-align: right;\n",
              "    }\n",
              "</style>\n",
              "<table border=\"1\" class=\"dataframe\">\n",
              "  <thead>\n",
              "    <tr style=\"text-align: right;\">\n",
              "      <th></th>\n",
              "      <th>model</th>\n",
              "      <th>mae</th>\n",
              "      <th>mse</th>\n",
              "    </tr>\n",
              "  </thead>\n",
              "  <tbody>\n",
              "    <tr>\n",
              "      <th>0</th>\n",
              "      <td>model_1</td>\n",
              "      <td>18.745327</td>\n",
              "      <td>353.573395</td>\n",
              "    </tr>\n",
              "    <tr>\n",
              "      <th>1</th>\n",
              "      <td>model_2</td>\n",
              "      <td>1.909864</td>\n",
              "      <td>5.459540</td>\n",
              "    </tr>\n",
              "    <tr>\n",
              "      <th>2</th>\n",
              "      <td>model_3</td>\n",
              "      <td>68.687874</td>\n",
              "      <td>4804.473633</td>\n",
              "    </tr>\n",
              "  </tbody>\n",
              "</table>\n",
              "</div>\n",
              "      <button class=\"colab-df-convert\" onclick=\"convertToInteractive('df-710534d6-3f26-4fc6-ac10-64c2d5ed90d7')\"\n",
              "              title=\"Convert this dataframe to an interactive table.\"\n",
              "              style=\"display:none;\">\n",
              "        \n",
              "  <svg xmlns=\"http://www.w3.org/2000/svg\" height=\"24px\"viewBox=\"0 0 24 24\"\n",
              "       width=\"24px\">\n",
              "    <path d=\"M0 0h24v24H0V0z\" fill=\"none\"/>\n",
              "    <path d=\"M18.56 5.44l.94 2.06.94-2.06 2.06-.94-2.06-.94-.94-2.06-.94 2.06-2.06.94zm-11 1L8.5 8.5l.94-2.06 2.06-.94-2.06-.94L8.5 2.5l-.94 2.06-2.06.94zm10 10l.94 2.06.94-2.06 2.06-.94-2.06-.94-.94-2.06-.94 2.06-2.06.94z\"/><path d=\"M17.41 7.96l-1.37-1.37c-.4-.4-.92-.59-1.43-.59-.52 0-1.04.2-1.43.59L10.3 9.45l-7.72 7.72c-.78.78-.78 2.05 0 2.83L4 21.41c.39.39.9.59 1.41.59.51 0 1.02-.2 1.41-.59l7.78-7.78 2.81-2.81c.8-.78.8-2.07 0-2.86zM5.41 20L4 18.59l7.72-7.72 1.47 1.35L5.41 20z\"/>\n",
              "  </svg>\n",
              "      </button>\n",
              "      \n",
              "  <style>\n",
              "    .colab-df-container {\n",
              "      display:flex;\n",
              "      flex-wrap:wrap;\n",
              "      gap: 12px;\n",
              "    }\n",
              "\n",
              "    .colab-df-convert {\n",
              "      background-color: #E8F0FE;\n",
              "      border: none;\n",
              "      border-radius: 50%;\n",
              "      cursor: pointer;\n",
              "      display: none;\n",
              "      fill: #1967D2;\n",
              "      height: 32px;\n",
              "      padding: 0 0 0 0;\n",
              "      width: 32px;\n",
              "    }\n",
              "\n",
              "    .colab-df-convert:hover {\n",
              "      background-color: #E2EBFA;\n",
              "      box-shadow: 0px 1px 2px rgba(60, 64, 67, 0.3), 0px 1px 3px 1px rgba(60, 64, 67, 0.15);\n",
              "      fill: #174EA6;\n",
              "    }\n",
              "\n",
              "    [theme=dark] .colab-df-convert {\n",
              "      background-color: #3B4455;\n",
              "      fill: #D2E3FC;\n",
              "    }\n",
              "\n",
              "    [theme=dark] .colab-df-convert:hover {\n",
              "      background-color: #434B5C;\n",
              "      box-shadow: 0px 1px 3px 1px rgba(0, 0, 0, 0.15);\n",
              "      filter: drop-shadow(0px 1px 2px rgba(0, 0, 0, 0.3));\n",
              "      fill: #FFFFFF;\n",
              "    }\n",
              "  </style>\n",
              "\n",
              "      <script>\n",
              "        const buttonEl =\n",
              "          document.querySelector('#df-710534d6-3f26-4fc6-ac10-64c2d5ed90d7 button.colab-df-convert');\n",
              "        buttonEl.style.display =\n",
              "          google.colab.kernel.accessAllowed ? 'block' : 'none';\n",
              "\n",
              "        async function convertToInteractive(key) {\n",
              "          const element = document.querySelector('#df-710534d6-3f26-4fc6-ac10-64c2d5ed90d7');\n",
              "          const dataTable =\n",
              "            await google.colab.kernel.invokeFunction('convertToInteractive',\n",
              "                                                     [key], {});\n",
              "          if (!dataTable) return;\n",
              "\n",
              "          const docLinkHtml = 'Like what you see? Visit the ' +\n",
              "            '<a target=\"_blank\" href=https://colab.research.google.com/notebooks/data_table.ipynb>data table notebook</a>'\n",
              "            + ' to learn more about interactive tables.';\n",
              "          element.innerHTML = '';\n",
              "          dataTable['output_type'] = 'display_data';\n",
              "          await google.colab.output.renderOutput(dataTable, element);\n",
              "          const docLink = document.createElement('div');\n",
              "          docLink.innerHTML = docLinkHtml;\n",
              "          element.appendChild(docLink);\n",
              "        }\n",
              "      </script>\n",
              "    </div>\n",
              "  </div>\n",
              "  "
            ]
          },
          "metadata": {},
          "execution_count": 95
        }
      ]
    },
    {
      "cell_type": "code",
      "source": [
        "model_2.save(\"best_model\")"
      ],
      "metadata": {
        "colab": {
          "base_uri": "https://localhost:8080/"
        },
        "id": "NnqySFaot-7_",
        "outputId": "598ed805-4858-4570-9d99-990dee08b81a"
      },
      "execution_count": null,
      "outputs": [
        {
          "output_type": "stream",
          "name": "stdout",
          "text": [
            "INFO:tensorflow:Assets written to: best_model/assets\n"
          ]
        }
      ]
    },
    {
      "cell_type": "code",
      "source": [
        "!ls best_model"
      ],
      "metadata": {
        "colab": {
          "base_uri": "https://localhost:8080/"
        },
        "id": "pioD8n5WtP3V",
        "outputId": "51b82de6-d158-492e-c91f-e01065f0fdd0"
      },
      "execution_count": null,
      "outputs": [
        {
          "output_type": "stream",
          "name": "stdout",
          "text": [
            "assets\tkeras_metadata.pb  saved_model.pb  variables\n"
          ]
        }
      ]
    },
    {
      "cell_type": "code",
      "source": [
        "model_2.save(\"best_model.h5\")"
      ],
      "metadata": {
        "id": "O8Sye5yYtLQj"
      },
      "execution_count": null,
      "outputs": []
    },
    {
      "cell_type": "code",
      "source": [
        "!ls "
      ],
      "metadata": {
        "colab": {
          "base_uri": "https://localhost:8080/"
        },
        "id": "24fnpjdhrusx",
        "outputId": "98ae5351-94fd-442d-b300-29e9a328f487"
      },
      "execution_count": null,
      "outputs": [
        {
          "output_type": "stream",
          "name": "stdout",
          "text": [
            "best_model  best_model.h5  model.png  sample_data\n"
          ]
        }
      ]
    },
    {
      "cell_type": "code",
      "source": [
        "load_model = tf.keras.models.load_model(\"best_model\")\n",
        "load_model.summary()"
      ],
      "metadata": {
        "colab": {
          "base_uri": "https://localhost:8080/"
        },
        "id": "8SQZQe40rbop",
        "outputId": "928c95c6-d809-4783-9830-7f15592a5857"
      },
      "execution_count": null,
      "outputs": [
        {
          "output_type": "stream",
          "name": "stdout",
          "text": [
            "Model: \"sequential_22\"\n",
            "_________________________________________________________________\n",
            " Layer (type)                Output Shape              Param #   \n",
            "=================================================================\n",
            " dense_25 (Dense)            (None, 1)                 2         \n",
            "                                                                 \n",
            " dense_26 (Dense)            (None, 1)                 2         \n",
            "                                                                 \n",
            "=================================================================\n",
            "Total params: 4\n",
            "Trainable params: 4\n",
            "Non-trainable params: 0\n",
            "_________________________________________________________________\n"
          ]
        }
      ]
    },
    {
      "cell_type": "code",
      "source": [
        "model_2_preds = model_2.predict(X_test)\n",
        "saved_model_preds = load_model.predict(X_test)\n",
        "mae(y_test, saved_model_preds.squeeze()).numpy() == mae(y_test, model_2_preds.squeeze()).numpy()"
      ],
      "metadata": {
        "colab": {
          "base_uri": "https://localhost:8080/"
        },
        "id": "k0zg8o1cupW7",
        "outputId": "0efd50c0-2098-4652-e256-5c3c81b03e8d"
      },
      "execution_count": null,
      "outputs": [
        {
          "output_type": "execute_result",
          "data": {
            "text/plain": [
              "True"
            ]
          },
          "metadata": {},
          "execution_count": 101
        }
      ]
    },
    {
      "cell_type": "code",
      "source": [
        "load_h5_model = tf.keras.models.load_model(\"best_model.h5\")\n",
        "load_h5_model.summary()"
      ],
      "metadata": {
        "colab": {
          "base_uri": "https://localhost:8080/"
        },
        "id": "E7Xd7g_TvG6D",
        "outputId": "cba68937-bdb7-4739-8ccb-e552b7cbaa08"
      },
      "execution_count": null,
      "outputs": [
        {
          "output_type": "stream",
          "name": "stdout",
          "text": [
            "Model: \"sequential_22\"\n",
            "_________________________________________________________________\n",
            " Layer (type)                Output Shape              Param #   \n",
            "=================================================================\n",
            " dense_25 (Dense)            (None, 1)                 2         \n",
            "                                                                 \n",
            " dense_26 (Dense)            (None, 1)                 2         \n",
            "                                                                 \n",
            "=================================================================\n",
            "Total params: 4\n",
            "Trainable params: 4\n",
            "Non-trainable params: 0\n",
            "_________________________________________________________________\n"
          ]
        }
      ]
    },
    {
      "cell_type": "code",
      "source": [
        "model_2_preds = model_2.predict(X_test)\n",
        "h5_model_preds = load_h5_model.predict(X_test)\n",
        "mae(y_test, h5_model_preds.squeeze()).numpy() == mae(y_test, model_2_preds.squeeze()).numpy()"
      ],
      "metadata": {
        "colab": {
          "base_uri": "https://localhost:8080/"
        },
        "id": "AZpIW5T_vSk6",
        "outputId": "7aedc279-394c-4112-ff3c-aaee9a5a0d17"
      },
      "execution_count": null,
      "outputs": [
        {
          "output_type": "execute_result",
          "data": {
            "text/plain": [
              "True"
            ]
          },
          "metadata": {},
          "execution_count": 103
        }
      ]
    },
    {
      "cell_type": "code",
      "source": [
        "from google.colab import files\n",
        "files.download(\"best_model.h5\")"
      ],
      "metadata": {
        "colab": {
          "base_uri": "https://localhost:8080/",
          "height": 17
        },
        "id": "CuRLtQRevaKW",
        "outputId": "ca66216e-ae33-411d-aa49-a6ccafd5a4da"
      },
      "execution_count": null,
      "outputs": [
        {
          "output_type": "display_data",
          "data": {
            "text/plain": [
              "<IPython.core.display.Javascript object>"
            ],
            "application/javascript": [
              "\n",
              "    async function download(id, filename, size) {\n",
              "      if (!google.colab.kernel.accessAllowed) {\n",
              "        return;\n",
              "      }\n",
              "      const div = document.createElement('div');\n",
              "      const label = document.createElement('label');\n",
              "      label.textContent = `Downloading \"${filename}\": `;\n",
              "      div.appendChild(label);\n",
              "      const progress = document.createElement('progress');\n",
              "      progress.max = size;\n",
              "      div.appendChild(progress);\n",
              "      document.body.appendChild(div);\n",
              "\n",
              "      const buffers = [];\n",
              "      let downloaded = 0;\n",
              "\n",
              "      const channel = await google.colab.kernel.comms.open(id);\n",
              "      // Send a message to notify the kernel that we're ready.\n",
              "      channel.send({})\n",
              "\n",
              "      for await (const message of channel.messages) {\n",
              "        // Send a message to notify the kernel that we're ready.\n",
              "        channel.send({})\n",
              "        if (message.buffers) {\n",
              "          for (const buffer of message.buffers) {\n",
              "            buffers.push(buffer);\n",
              "            downloaded += buffer.byteLength;\n",
              "            progress.value = downloaded;\n",
              "          }\n",
              "        }\n",
              "      }\n",
              "      const blob = new Blob(buffers, {type: 'application/binary'});\n",
              "      const a = document.createElement('a');\n",
              "      a.href = window.URL.createObjectURL(blob);\n",
              "      a.download = filename;\n",
              "      div.appendChild(a);\n",
              "      a.click();\n",
              "      div.remove();\n",
              "    }\n",
              "  "
            ]
          },
          "metadata": {}
        },
        {
          "output_type": "display_data",
          "data": {
            "text/plain": [
              "<IPython.core.display.Javascript object>"
            ],
            "application/javascript": [
              "download(\"download_2e106af2-ed46-4b77-b9af-da547bcace9f\", \"best_model.h5\", 17872)"
            ]
          },
          "metadata": {}
        }
      ]
    },
    {
      "cell_type": "code",
      "source": [
        "import tensorflow as tf\n",
        "import pandas as pd\n",
        "import matplotlib.pyplot as plt"
      ],
      "metadata": {
        "id": "M893-DFEvhdK"
      },
      "execution_count": null,
      "outputs": []
    },
    {
      "cell_type": "code",
      "source": [
        "insurance = pd.read_csv(\"https://raw.githubusercontent.com/stedy/Machine-Learning-with-R-datasets/master/insurance.csv\")"
      ],
      "metadata": {
        "id": "Yqlqxxriy7El"
      },
      "execution_count": null,
      "outputs": []
    },
    {
      "cell_type": "code",
      "source": [
        "insurance.head()"
      ],
      "metadata": {
        "colab": {
          "base_uri": "https://localhost:8080/",
          "height": 206
        },
        "id": "e1JbRCzdzCVc",
        "outputId": "18b44099-3e32-476f-bbd1-ae5ab9ac7bb1"
      },
      "execution_count": null,
      "outputs": [
        {
          "output_type": "execute_result",
          "data": {
            "text/plain": [
              "   age     sex     bmi  children smoker     region      charges\n",
              "0   19  female  27.900         0    yes  southwest  16884.92400\n",
              "1   18    male  33.770         1     no  southeast   1725.55230\n",
              "2   28    male  33.000         3     no  southeast   4449.46200\n",
              "3   33    male  22.705         0     no  northwest  21984.47061\n",
              "4   32    male  28.880         0     no  northwest   3866.85520"
            ],
            "text/html": [
              "\n",
              "  <div id=\"df-e8654189-e925-47e8-894f-d0c1130c77e0\">\n",
              "    <div class=\"colab-df-container\">\n",
              "      <div>\n",
              "<style scoped>\n",
              "    .dataframe tbody tr th:only-of-type {\n",
              "        vertical-align: middle;\n",
              "    }\n",
              "\n",
              "    .dataframe tbody tr th {\n",
              "        vertical-align: top;\n",
              "    }\n",
              "\n",
              "    .dataframe thead th {\n",
              "        text-align: right;\n",
              "    }\n",
              "</style>\n",
              "<table border=\"1\" class=\"dataframe\">\n",
              "  <thead>\n",
              "    <tr style=\"text-align: right;\">\n",
              "      <th></th>\n",
              "      <th>age</th>\n",
              "      <th>sex</th>\n",
              "      <th>bmi</th>\n",
              "      <th>children</th>\n",
              "      <th>smoker</th>\n",
              "      <th>region</th>\n",
              "      <th>charges</th>\n",
              "    </tr>\n",
              "  </thead>\n",
              "  <tbody>\n",
              "    <tr>\n",
              "      <th>0</th>\n",
              "      <td>19</td>\n",
              "      <td>female</td>\n",
              "      <td>27.900</td>\n",
              "      <td>0</td>\n",
              "      <td>yes</td>\n",
              "      <td>southwest</td>\n",
              "      <td>16884.92400</td>\n",
              "    </tr>\n",
              "    <tr>\n",
              "      <th>1</th>\n",
              "      <td>18</td>\n",
              "      <td>male</td>\n",
              "      <td>33.770</td>\n",
              "      <td>1</td>\n",
              "      <td>no</td>\n",
              "      <td>southeast</td>\n",
              "      <td>1725.55230</td>\n",
              "    </tr>\n",
              "    <tr>\n",
              "      <th>2</th>\n",
              "      <td>28</td>\n",
              "      <td>male</td>\n",
              "      <td>33.000</td>\n",
              "      <td>3</td>\n",
              "      <td>no</td>\n",
              "      <td>southeast</td>\n",
              "      <td>4449.46200</td>\n",
              "    </tr>\n",
              "    <tr>\n",
              "      <th>3</th>\n",
              "      <td>33</td>\n",
              "      <td>male</td>\n",
              "      <td>22.705</td>\n",
              "      <td>0</td>\n",
              "      <td>no</td>\n",
              "      <td>northwest</td>\n",
              "      <td>21984.47061</td>\n",
              "    </tr>\n",
              "    <tr>\n",
              "      <th>4</th>\n",
              "      <td>32</td>\n",
              "      <td>male</td>\n",
              "      <td>28.880</td>\n",
              "      <td>0</td>\n",
              "      <td>no</td>\n",
              "      <td>northwest</td>\n",
              "      <td>3866.85520</td>\n",
              "    </tr>\n",
              "  </tbody>\n",
              "</table>\n",
              "</div>\n",
              "      <button class=\"colab-df-convert\" onclick=\"convertToInteractive('df-e8654189-e925-47e8-894f-d0c1130c77e0')\"\n",
              "              title=\"Convert this dataframe to an interactive table.\"\n",
              "              style=\"display:none;\">\n",
              "        \n",
              "  <svg xmlns=\"http://www.w3.org/2000/svg\" height=\"24px\"viewBox=\"0 0 24 24\"\n",
              "       width=\"24px\">\n",
              "    <path d=\"M0 0h24v24H0V0z\" fill=\"none\"/>\n",
              "    <path d=\"M18.56 5.44l.94 2.06.94-2.06 2.06-.94-2.06-.94-.94-2.06-.94 2.06-2.06.94zm-11 1L8.5 8.5l.94-2.06 2.06-.94-2.06-.94L8.5 2.5l-.94 2.06-2.06.94zm10 10l.94 2.06.94-2.06 2.06-.94-2.06-.94-.94-2.06-.94 2.06-2.06.94z\"/><path d=\"M17.41 7.96l-1.37-1.37c-.4-.4-.92-.59-1.43-.59-.52 0-1.04.2-1.43.59L10.3 9.45l-7.72 7.72c-.78.78-.78 2.05 0 2.83L4 21.41c.39.39.9.59 1.41.59.51 0 1.02-.2 1.41-.59l7.78-7.78 2.81-2.81c.8-.78.8-2.07 0-2.86zM5.41 20L4 18.59l7.72-7.72 1.47 1.35L5.41 20z\"/>\n",
              "  </svg>\n",
              "      </button>\n",
              "      \n",
              "  <style>\n",
              "    .colab-df-container {\n",
              "      display:flex;\n",
              "      flex-wrap:wrap;\n",
              "      gap: 12px;\n",
              "    }\n",
              "\n",
              "    .colab-df-convert {\n",
              "      background-color: #E8F0FE;\n",
              "      border: none;\n",
              "      border-radius: 50%;\n",
              "      cursor: pointer;\n",
              "      display: none;\n",
              "      fill: #1967D2;\n",
              "      height: 32px;\n",
              "      padding: 0 0 0 0;\n",
              "      width: 32px;\n",
              "    }\n",
              "\n",
              "    .colab-df-convert:hover {\n",
              "      background-color: #E2EBFA;\n",
              "      box-shadow: 0px 1px 2px rgba(60, 64, 67, 0.3), 0px 1px 3px 1px rgba(60, 64, 67, 0.15);\n",
              "      fill: #174EA6;\n",
              "    }\n",
              "\n",
              "    [theme=dark] .colab-df-convert {\n",
              "      background-color: #3B4455;\n",
              "      fill: #D2E3FC;\n",
              "    }\n",
              "\n",
              "    [theme=dark] .colab-df-convert:hover {\n",
              "      background-color: #434B5C;\n",
              "      box-shadow: 0px 1px 3px 1px rgba(0, 0, 0, 0.15);\n",
              "      filter: drop-shadow(0px 1px 2px rgba(0, 0, 0, 0.3));\n",
              "      fill: #FFFFFF;\n",
              "    }\n",
              "  </style>\n",
              "\n",
              "      <script>\n",
              "        const buttonEl =\n",
              "          document.querySelector('#df-e8654189-e925-47e8-894f-d0c1130c77e0 button.colab-df-convert');\n",
              "        buttonEl.style.display =\n",
              "          google.colab.kernel.accessAllowed ? 'block' : 'none';\n",
              "\n",
              "        async function convertToInteractive(key) {\n",
              "          const element = document.querySelector('#df-e8654189-e925-47e8-894f-d0c1130c77e0');\n",
              "          const dataTable =\n",
              "            await google.colab.kernel.invokeFunction('convertToInteractive',\n",
              "                                                     [key], {});\n",
              "          if (!dataTable) return;\n",
              "\n",
              "          const docLinkHtml = 'Like what you see? Visit the ' +\n",
              "            '<a target=\"_blank\" href=https://colab.research.google.com/notebooks/data_table.ipynb>data table notebook</a>'\n",
              "            + ' to learn more about interactive tables.';\n",
              "          element.innerHTML = '';\n",
              "          dataTable['output_type'] = 'display_data';\n",
              "          await google.colab.output.renderOutput(dataTable, element);\n",
              "          const docLink = document.createElement('div');\n",
              "          docLink.innerHTML = docLinkHtml;\n",
              "          element.appendChild(docLink);\n",
              "        }\n",
              "      </script>\n",
              "    </div>\n",
              "  </div>\n",
              "  "
            ]
          },
          "metadata": {},
          "execution_count": 107
        }
      ]
    },
    {
      "cell_type": "code",
      "source": [
        "insurance_one_hot = pd.get_dummies(insurance)\n",
        "insurance_one_hot"
      ],
      "metadata": {
        "colab": {
          "base_uri": "https://localhost:8080/",
          "height": 488
        },
        "id": "fdVVEcqRzDoe",
        "outputId": "02dda595-be39-4acc-aeca-b46deb270069"
      },
      "execution_count": null,
      "outputs": [
        {
          "output_type": "execute_result",
          "data": {
            "text/plain": [
              "      age     bmi  children      charges  sex_female  sex_male  smoker_no  \\\n",
              "0      19  27.900         0  16884.92400           1         0          0   \n",
              "1      18  33.770         1   1725.55230           0         1          1   \n",
              "2      28  33.000         3   4449.46200           0         1          1   \n",
              "3      33  22.705         0  21984.47061           0         1          1   \n",
              "4      32  28.880         0   3866.85520           0         1          1   \n",
              "...   ...     ...       ...          ...         ...       ...        ...   \n",
              "1333   50  30.970         3  10600.54830           0         1          1   \n",
              "1334   18  31.920         0   2205.98080           1         0          1   \n",
              "1335   18  36.850         0   1629.83350           1         0          1   \n",
              "1336   21  25.800         0   2007.94500           1         0          1   \n",
              "1337   61  29.070         0  29141.36030           1         0          0   \n",
              "\n",
              "      smoker_yes  region_northeast  region_northwest  region_southeast  \\\n",
              "0              1                 0                 0                 0   \n",
              "1              0                 0                 0                 1   \n",
              "2              0                 0                 0                 1   \n",
              "3              0                 0                 1                 0   \n",
              "4              0                 0                 1                 0   \n",
              "...          ...               ...               ...               ...   \n",
              "1333           0                 0                 1                 0   \n",
              "1334           0                 1                 0                 0   \n",
              "1335           0                 0                 0                 1   \n",
              "1336           0                 0                 0                 0   \n",
              "1337           1                 0                 1                 0   \n",
              "\n",
              "      region_southwest  \n",
              "0                    1  \n",
              "1                    0  \n",
              "2                    0  \n",
              "3                    0  \n",
              "4                    0  \n",
              "...                ...  \n",
              "1333                 0  \n",
              "1334                 0  \n",
              "1335                 0  \n",
              "1336                 1  \n",
              "1337                 0  \n",
              "\n",
              "[1338 rows x 12 columns]"
            ],
            "text/html": [
              "\n",
              "  <div id=\"df-88ad102f-5fe1-43a5-a2fd-f5dbbd311bd6\">\n",
              "    <div class=\"colab-df-container\">\n",
              "      <div>\n",
              "<style scoped>\n",
              "    .dataframe tbody tr th:only-of-type {\n",
              "        vertical-align: middle;\n",
              "    }\n",
              "\n",
              "    .dataframe tbody tr th {\n",
              "        vertical-align: top;\n",
              "    }\n",
              "\n",
              "    .dataframe thead th {\n",
              "        text-align: right;\n",
              "    }\n",
              "</style>\n",
              "<table border=\"1\" class=\"dataframe\">\n",
              "  <thead>\n",
              "    <tr style=\"text-align: right;\">\n",
              "      <th></th>\n",
              "      <th>age</th>\n",
              "      <th>bmi</th>\n",
              "      <th>children</th>\n",
              "      <th>charges</th>\n",
              "      <th>sex_female</th>\n",
              "      <th>sex_male</th>\n",
              "      <th>smoker_no</th>\n",
              "      <th>smoker_yes</th>\n",
              "      <th>region_northeast</th>\n",
              "      <th>region_northwest</th>\n",
              "      <th>region_southeast</th>\n",
              "      <th>region_southwest</th>\n",
              "    </tr>\n",
              "  </thead>\n",
              "  <tbody>\n",
              "    <tr>\n",
              "      <th>0</th>\n",
              "      <td>19</td>\n",
              "      <td>27.900</td>\n",
              "      <td>0</td>\n",
              "      <td>16884.92400</td>\n",
              "      <td>1</td>\n",
              "      <td>0</td>\n",
              "      <td>0</td>\n",
              "      <td>1</td>\n",
              "      <td>0</td>\n",
              "      <td>0</td>\n",
              "      <td>0</td>\n",
              "      <td>1</td>\n",
              "    </tr>\n",
              "    <tr>\n",
              "      <th>1</th>\n",
              "      <td>18</td>\n",
              "      <td>33.770</td>\n",
              "      <td>1</td>\n",
              "      <td>1725.55230</td>\n",
              "      <td>0</td>\n",
              "      <td>1</td>\n",
              "      <td>1</td>\n",
              "      <td>0</td>\n",
              "      <td>0</td>\n",
              "      <td>0</td>\n",
              "      <td>1</td>\n",
              "      <td>0</td>\n",
              "    </tr>\n",
              "    <tr>\n",
              "      <th>2</th>\n",
              "      <td>28</td>\n",
              "      <td>33.000</td>\n",
              "      <td>3</td>\n",
              "      <td>4449.46200</td>\n",
              "      <td>0</td>\n",
              "      <td>1</td>\n",
              "      <td>1</td>\n",
              "      <td>0</td>\n",
              "      <td>0</td>\n",
              "      <td>0</td>\n",
              "      <td>1</td>\n",
              "      <td>0</td>\n",
              "    </tr>\n",
              "    <tr>\n",
              "      <th>3</th>\n",
              "      <td>33</td>\n",
              "      <td>22.705</td>\n",
              "      <td>0</td>\n",
              "      <td>21984.47061</td>\n",
              "      <td>0</td>\n",
              "      <td>1</td>\n",
              "      <td>1</td>\n",
              "      <td>0</td>\n",
              "      <td>0</td>\n",
              "      <td>1</td>\n",
              "      <td>0</td>\n",
              "      <td>0</td>\n",
              "    </tr>\n",
              "    <tr>\n",
              "      <th>4</th>\n",
              "      <td>32</td>\n",
              "      <td>28.880</td>\n",
              "      <td>0</td>\n",
              "      <td>3866.85520</td>\n",
              "      <td>0</td>\n",
              "      <td>1</td>\n",
              "      <td>1</td>\n",
              "      <td>0</td>\n",
              "      <td>0</td>\n",
              "      <td>1</td>\n",
              "      <td>0</td>\n",
              "      <td>0</td>\n",
              "    </tr>\n",
              "    <tr>\n",
              "      <th>...</th>\n",
              "      <td>...</td>\n",
              "      <td>...</td>\n",
              "      <td>...</td>\n",
              "      <td>...</td>\n",
              "      <td>...</td>\n",
              "      <td>...</td>\n",
              "      <td>...</td>\n",
              "      <td>...</td>\n",
              "      <td>...</td>\n",
              "      <td>...</td>\n",
              "      <td>...</td>\n",
              "      <td>...</td>\n",
              "    </tr>\n",
              "    <tr>\n",
              "      <th>1333</th>\n",
              "      <td>50</td>\n",
              "      <td>30.970</td>\n",
              "      <td>3</td>\n",
              "      <td>10600.54830</td>\n",
              "      <td>0</td>\n",
              "      <td>1</td>\n",
              "      <td>1</td>\n",
              "      <td>0</td>\n",
              "      <td>0</td>\n",
              "      <td>1</td>\n",
              "      <td>0</td>\n",
              "      <td>0</td>\n",
              "    </tr>\n",
              "    <tr>\n",
              "      <th>1334</th>\n",
              "      <td>18</td>\n",
              "      <td>31.920</td>\n",
              "      <td>0</td>\n",
              "      <td>2205.98080</td>\n",
              "      <td>1</td>\n",
              "      <td>0</td>\n",
              "      <td>1</td>\n",
              "      <td>0</td>\n",
              "      <td>1</td>\n",
              "      <td>0</td>\n",
              "      <td>0</td>\n",
              "      <td>0</td>\n",
              "    </tr>\n",
              "    <tr>\n",
              "      <th>1335</th>\n",
              "      <td>18</td>\n",
              "      <td>36.850</td>\n",
              "      <td>0</td>\n",
              "      <td>1629.83350</td>\n",
              "      <td>1</td>\n",
              "      <td>0</td>\n",
              "      <td>1</td>\n",
              "      <td>0</td>\n",
              "      <td>0</td>\n",
              "      <td>0</td>\n",
              "      <td>1</td>\n",
              "      <td>0</td>\n",
              "    </tr>\n",
              "    <tr>\n",
              "      <th>1336</th>\n",
              "      <td>21</td>\n",
              "      <td>25.800</td>\n",
              "      <td>0</td>\n",
              "      <td>2007.94500</td>\n",
              "      <td>1</td>\n",
              "      <td>0</td>\n",
              "      <td>1</td>\n",
              "      <td>0</td>\n",
              "      <td>0</td>\n",
              "      <td>0</td>\n",
              "      <td>0</td>\n",
              "      <td>1</td>\n",
              "    </tr>\n",
              "    <tr>\n",
              "      <th>1337</th>\n",
              "      <td>61</td>\n",
              "      <td>29.070</td>\n",
              "      <td>0</td>\n",
              "      <td>29141.36030</td>\n",
              "      <td>1</td>\n",
              "      <td>0</td>\n",
              "      <td>0</td>\n",
              "      <td>1</td>\n",
              "      <td>0</td>\n",
              "      <td>1</td>\n",
              "      <td>0</td>\n",
              "      <td>0</td>\n",
              "    </tr>\n",
              "  </tbody>\n",
              "</table>\n",
              "<p>1338 rows × 12 columns</p>\n",
              "</div>\n",
              "      <button class=\"colab-df-convert\" onclick=\"convertToInteractive('df-88ad102f-5fe1-43a5-a2fd-f5dbbd311bd6')\"\n",
              "              title=\"Convert this dataframe to an interactive table.\"\n",
              "              style=\"display:none;\">\n",
              "        \n",
              "  <svg xmlns=\"http://www.w3.org/2000/svg\" height=\"24px\"viewBox=\"0 0 24 24\"\n",
              "       width=\"24px\">\n",
              "    <path d=\"M0 0h24v24H0V0z\" fill=\"none\"/>\n",
              "    <path d=\"M18.56 5.44l.94 2.06.94-2.06 2.06-.94-2.06-.94-.94-2.06-.94 2.06-2.06.94zm-11 1L8.5 8.5l.94-2.06 2.06-.94-2.06-.94L8.5 2.5l-.94 2.06-2.06.94zm10 10l.94 2.06.94-2.06 2.06-.94-2.06-.94-.94-2.06-.94 2.06-2.06.94z\"/><path d=\"M17.41 7.96l-1.37-1.37c-.4-.4-.92-.59-1.43-.59-.52 0-1.04.2-1.43.59L10.3 9.45l-7.72 7.72c-.78.78-.78 2.05 0 2.83L4 21.41c.39.39.9.59 1.41.59.51 0 1.02-.2 1.41-.59l7.78-7.78 2.81-2.81c.8-.78.8-2.07 0-2.86zM5.41 20L4 18.59l7.72-7.72 1.47 1.35L5.41 20z\"/>\n",
              "  </svg>\n",
              "      </button>\n",
              "      \n",
              "  <style>\n",
              "    .colab-df-container {\n",
              "      display:flex;\n",
              "      flex-wrap:wrap;\n",
              "      gap: 12px;\n",
              "    }\n",
              "\n",
              "    .colab-df-convert {\n",
              "      background-color: #E8F0FE;\n",
              "      border: none;\n",
              "      border-radius: 50%;\n",
              "      cursor: pointer;\n",
              "      display: none;\n",
              "      fill: #1967D2;\n",
              "      height: 32px;\n",
              "      padding: 0 0 0 0;\n",
              "      width: 32px;\n",
              "    }\n",
              "\n",
              "    .colab-df-convert:hover {\n",
              "      background-color: #E2EBFA;\n",
              "      box-shadow: 0px 1px 2px rgba(60, 64, 67, 0.3), 0px 1px 3px 1px rgba(60, 64, 67, 0.15);\n",
              "      fill: #174EA6;\n",
              "    }\n",
              "\n",
              "    [theme=dark] .colab-df-convert {\n",
              "      background-color: #3B4455;\n",
              "      fill: #D2E3FC;\n",
              "    }\n",
              "\n",
              "    [theme=dark] .colab-df-convert:hover {\n",
              "      background-color: #434B5C;\n",
              "      box-shadow: 0px 1px 3px 1px rgba(0, 0, 0, 0.15);\n",
              "      filter: drop-shadow(0px 1px 2px rgba(0, 0, 0, 0.3));\n",
              "      fill: #FFFFFF;\n",
              "    }\n",
              "  </style>\n",
              "\n",
              "      <script>\n",
              "        const buttonEl =\n",
              "          document.querySelector('#df-88ad102f-5fe1-43a5-a2fd-f5dbbd311bd6 button.colab-df-convert');\n",
              "        buttonEl.style.display =\n",
              "          google.colab.kernel.accessAllowed ? 'block' : 'none';\n",
              "\n",
              "        async function convertToInteractive(key) {\n",
              "          const element = document.querySelector('#df-88ad102f-5fe1-43a5-a2fd-f5dbbd311bd6');\n",
              "          const dataTable =\n",
              "            await google.colab.kernel.invokeFunction('convertToInteractive',\n",
              "                                                     [key], {});\n",
              "          if (!dataTable) return;\n",
              "\n",
              "          const docLinkHtml = 'Like what you see? Visit the ' +\n",
              "            '<a target=\"_blank\" href=https://colab.research.google.com/notebooks/data_table.ipynb>data table notebook</a>'\n",
              "            + ' to learn more about interactive tables.';\n",
              "          element.innerHTML = '';\n",
              "          dataTable['output_type'] = 'display_data';\n",
              "          await google.colab.output.renderOutput(dataTable, element);\n",
              "          const docLink = document.createElement('div');\n",
              "          docLink.innerHTML = docLinkHtml;\n",
              "          element.appendChild(docLink);\n",
              "        }\n",
              "      </script>\n",
              "    </div>\n",
              "  </div>\n",
              "  "
            ]
          },
          "metadata": {},
          "execution_count": 108
        }
      ]
    },
    {
      "cell_type": "code",
      "source": [
        "X = insurance_one_hot.drop(\"charges\", axis=1)\n",
        "y = insurance_one_hot[\"charges\"]"
      ],
      "metadata": {
        "id": "afQW7OPdzNc6"
      },
      "execution_count": null,
      "outputs": []
    },
    {
      "cell_type": "code",
      "source": [
        "X.head()"
      ],
      "metadata": {
        "colab": {
          "base_uri": "https://localhost:8080/",
          "height": 206
        },
        "id": "TddsFvIbzep4",
        "outputId": "ce62fef9-6b18-4df3-a5e2-c156dbc6eee6"
      },
      "execution_count": null,
      "outputs": [
        {
          "output_type": "execute_result",
          "data": {
            "text/plain": [
              "   age     bmi  children  sex_female  sex_male  smoker_no  smoker_yes  \\\n",
              "0   19  27.900         0           1         0          0           1   \n",
              "1   18  33.770         1           0         1          1           0   \n",
              "2   28  33.000         3           0         1          1           0   \n",
              "3   33  22.705         0           0         1          1           0   \n",
              "4   32  28.880         0           0         1          1           0   \n",
              "\n",
              "   region_northeast  region_northwest  region_southeast  region_southwest  \n",
              "0                 0                 0                 0                 1  \n",
              "1                 0                 0                 1                 0  \n",
              "2                 0                 0                 1                 0  \n",
              "3                 0                 1                 0                 0  \n",
              "4                 0                 1                 0                 0  "
            ],
            "text/html": [
              "\n",
              "  <div id=\"df-e30c534e-8210-420e-a423-d75e46ce4984\">\n",
              "    <div class=\"colab-df-container\">\n",
              "      <div>\n",
              "<style scoped>\n",
              "    .dataframe tbody tr th:only-of-type {\n",
              "        vertical-align: middle;\n",
              "    }\n",
              "\n",
              "    .dataframe tbody tr th {\n",
              "        vertical-align: top;\n",
              "    }\n",
              "\n",
              "    .dataframe thead th {\n",
              "        text-align: right;\n",
              "    }\n",
              "</style>\n",
              "<table border=\"1\" class=\"dataframe\">\n",
              "  <thead>\n",
              "    <tr style=\"text-align: right;\">\n",
              "      <th></th>\n",
              "      <th>age</th>\n",
              "      <th>bmi</th>\n",
              "      <th>children</th>\n",
              "      <th>sex_female</th>\n",
              "      <th>sex_male</th>\n",
              "      <th>smoker_no</th>\n",
              "      <th>smoker_yes</th>\n",
              "      <th>region_northeast</th>\n",
              "      <th>region_northwest</th>\n",
              "      <th>region_southeast</th>\n",
              "      <th>region_southwest</th>\n",
              "    </tr>\n",
              "  </thead>\n",
              "  <tbody>\n",
              "    <tr>\n",
              "      <th>0</th>\n",
              "      <td>19</td>\n",
              "      <td>27.900</td>\n",
              "      <td>0</td>\n",
              "      <td>1</td>\n",
              "      <td>0</td>\n",
              "      <td>0</td>\n",
              "      <td>1</td>\n",
              "      <td>0</td>\n",
              "      <td>0</td>\n",
              "      <td>0</td>\n",
              "      <td>1</td>\n",
              "    </tr>\n",
              "    <tr>\n",
              "      <th>1</th>\n",
              "      <td>18</td>\n",
              "      <td>33.770</td>\n",
              "      <td>1</td>\n",
              "      <td>0</td>\n",
              "      <td>1</td>\n",
              "      <td>1</td>\n",
              "      <td>0</td>\n",
              "      <td>0</td>\n",
              "      <td>0</td>\n",
              "      <td>1</td>\n",
              "      <td>0</td>\n",
              "    </tr>\n",
              "    <tr>\n",
              "      <th>2</th>\n",
              "      <td>28</td>\n",
              "      <td>33.000</td>\n",
              "      <td>3</td>\n",
              "      <td>0</td>\n",
              "      <td>1</td>\n",
              "      <td>1</td>\n",
              "      <td>0</td>\n",
              "      <td>0</td>\n",
              "      <td>0</td>\n",
              "      <td>1</td>\n",
              "      <td>0</td>\n",
              "    </tr>\n",
              "    <tr>\n",
              "      <th>3</th>\n",
              "      <td>33</td>\n",
              "      <td>22.705</td>\n",
              "      <td>0</td>\n",
              "      <td>0</td>\n",
              "      <td>1</td>\n",
              "      <td>1</td>\n",
              "      <td>0</td>\n",
              "      <td>0</td>\n",
              "      <td>1</td>\n",
              "      <td>0</td>\n",
              "      <td>0</td>\n",
              "    </tr>\n",
              "    <tr>\n",
              "      <th>4</th>\n",
              "      <td>32</td>\n",
              "      <td>28.880</td>\n",
              "      <td>0</td>\n",
              "      <td>0</td>\n",
              "      <td>1</td>\n",
              "      <td>1</td>\n",
              "      <td>0</td>\n",
              "      <td>0</td>\n",
              "      <td>1</td>\n",
              "      <td>0</td>\n",
              "      <td>0</td>\n",
              "    </tr>\n",
              "  </tbody>\n",
              "</table>\n",
              "</div>\n",
              "      <button class=\"colab-df-convert\" onclick=\"convertToInteractive('df-e30c534e-8210-420e-a423-d75e46ce4984')\"\n",
              "              title=\"Convert this dataframe to an interactive table.\"\n",
              "              style=\"display:none;\">\n",
              "        \n",
              "  <svg xmlns=\"http://www.w3.org/2000/svg\" height=\"24px\"viewBox=\"0 0 24 24\"\n",
              "       width=\"24px\">\n",
              "    <path d=\"M0 0h24v24H0V0z\" fill=\"none\"/>\n",
              "    <path d=\"M18.56 5.44l.94 2.06.94-2.06 2.06-.94-2.06-.94-.94-2.06-.94 2.06-2.06.94zm-11 1L8.5 8.5l.94-2.06 2.06-.94-2.06-.94L8.5 2.5l-.94 2.06-2.06.94zm10 10l.94 2.06.94-2.06 2.06-.94-2.06-.94-.94-2.06-.94 2.06-2.06.94z\"/><path d=\"M17.41 7.96l-1.37-1.37c-.4-.4-.92-.59-1.43-.59-.52 0-1.04.2-1.43.59L10.3 9.45l-7.72 7.72c-.78.78-.78 2.05 0 2.83L4 21.41c.39.39.9.59 1.41.59.51 0 1.02-.2 1.41-.59l7.78-7.78 2.81-2.81c.8-.78.8-2.07 0-2.86zM5.41 20L4 18.59l7.72-7.72 1.47 1.35L5.41 20z\"/>\n",
              "  </svg>\n",
              "      </button>\n",
              "      \n",
              "  <style>\n",
              "    .colab-df-container {\n",
              "      display:flex;\n",
              "      flex-wrap:wrap;\n",
              "      gap: 12px;\n",
              "    }\n",
              "\n",
              "    .colab-df-convert {\n",
              "      background-color: #E8F0FE;\n",
              "      border: none;\n",
              "      border-radius: 50%;\n",
              "      cursor: pointer;\n",
              "      display: none;\n",
              "      fill: #1967D2;\n",
              "      height: 32px;\n",
              "      padding: 0 0 0 0;\n",
              "      width: 32px;\n",
              "    }\n",
              "\n",
              "    .colab-df-convert:hover {\n",
              "      background-color: #E2EBFA;\n",
              "      box-shadow: 0px 1px 2px rgba(60, 64, 67, 0.3), 0px 1px 3px 1px rgba(60, 64, 67, 0.15);\n",
              "      fill: #174EA6;\n",
              "    }\n",
              "\n",
              "    [theme=dark] .colab-df-convert {\n",
              "      background-color: #3B4455;\n",
              "      fill: #D2E3FC;\n",
              "    }\n",
              "\n",
              "    [theme=dark] .colab-df-convert:hover {\n",
              "      background-color: #434B5C;\n",
              "      box-shadow: 0px 1px 3px 1px rgba(0, 0, 0, 0.15);\n",
              "      filter: drop-shadow(0px 1px 2px rgba(0, 0, 0, 0.3));\n",
              "      fill: #FFFFFF;\n",
              "    }\n",
              "  </style>\n",
              "\n",
              "      <script>\n",
              "        const buttonEl =\n",
              "          document.querySelector('#df-e30c534e-8210-420e-a423-d75e46ce4984 button.colab-df-convert');\n",
              "        buttonEl.style.display =\n",
              "          google.colab.kernel.accessAllowed ? 'block' : 'none';\n",
              "\n",
              "        async function convertToInteractive(key) {\n",
              "          const element = document.querySelector('#df-e30c534e-8210-420e-a423-d75e46ce4984');\n",
              "          const dataTable =\n",
              "            await google.colab.kernel.invokeFunction('convertToInteractive',\n",
              "                                                     [key], {});\n",
              "          if (!dataTable) return;\n",
              "\n",
              "          const docLinkHtml = 'Like what you see? Visit the ' +\n",
              "            '<a target=\"_blank\" href=https://colab.research.google.com/notebooks/data_table.ipynb>data table notebook</a>'\n",
              "            + ' to learn more about interactive tables.';\n",
              "          element.innerHTML = '';\n",
              "          dataTable['output_type'] = 'display_data';\n",
              "          await google.colab.output.renderOutput(dataTable, element);\n",
              "          const docLink = document.createElement('div');\n",
              "          docLink.innerHTML = docLinkHtml;\n",
              "          element.appendChild(docLink);\n",
              "        }\n",
              "      </script>\n",
              "    </div>\n",
              "  </div>\n",
              "  "
            ]
          },
          "metadata": {},
          "execution_count": 110
        }
      ]
    },
    {
      "cell_type": "code",
      "source": [
        "from sklearn.model_selection import train_test_split\n",
        "X_train, X_test, y_train, y_test = train_test_split(X, y, test_size=0.2, random_state=42)"
      ],
      "metadata": {
        "id": "DtYpvrjczftN"
      },
      "execution_count": null,
      "outputs": []
    },
    {
      "cell_type": "code",
      "source": [
        "tf.random.set_seed(42)\n",
        "insurance_model = tf.keras.Sequential([\n",
        "                                       tf.keras.layers.Dense(1),\n",
        "                                       tf.keras.layers.Dense(1)\n",
        "])\n",
        "insurance_model.compile(loss=tf.keras.losses.mae,\n",
        "                        optimizer=tf.keras.optimizers.SGD(),\n",
        "                        metrics=['mae'])\n",
        "insurance_model.fit(X_train, y_train, epochs=100)"
      ],
      "metadata": {
        "colab": {
          "base_uri": "https://localhost:8080/"
        },
        "id": "RK3ZzEKBzzsF",
        "outputId": "157e2429-dd7d-46ea-ceac-50d43a18713c"
      },
      "execution_count": null,
      "outputs": [
        {
          "output_type": "stream",
          "name": "stdout",
          "text": [
            "Epoch 1/100\n",
            "34/34 [==============================] - 1s 5ms/step - loss: 8868.5918 - mae: 8868.5918\n",
            "Epoch 2/100\n",
            "34/34 [==============================] - 0s 3ms/step - loss: 7887.1597 - mae: 7887.1597\n",
            "Epoch 3/100\n",
            "34/34 [==============================] - 0s 5ms/step - loss: 7537.0947 - mae: 7537.0947\n",
            "Epoch 4/100\n",
            "34/34 [==============================] - 0s 4ms/step - loss: 7859.4336 - mae: 7859.4336\n",
            "Epoch 5/100\n",
            "34/34 [==============================] - 0s 4ms/step - loss: 7639.6699 - mae: 7639.6699\n",
            "Epoch 6/100\n",
            "34/34 [==============================] - 0s 4ms/step - loss: 7578.0840 - mae: 7578.0840\n",
            "Epoch 7/100\n",
            "34/34 [==============================] - 0s 3ms/step - loss: 7514.6162 - mae: 7514.6162\n",
            "Epoch 8/100\n",
            "34/34 [==============================] - 0s 3ms/step - loss: 7694.1348 - mae: 7694.1348\n",
            "Epoch 9/100\n",
            "34/34 [==============================] - 0s 4ms/step - loss: 7595.9121 - mae: 7595.9121\n",
            "Epoch 10/100\n",
            "34/34 [==============================] - 0s 4ms/step - loss: 7735.9106 - mae: 7735.9106\n",
            "Epoch 11/100\n",
            "34/34 [==============================] - 0s 4ms/step - loss: 7444.4185 - mae: 7444.4185\n",
            "Epoch 12/100\n",
            "34/34 [==============================] - 0s 4ms/step - loss: 7678.0332 - mae: 7678.0332\n",
            "Epoch 13/100\n",
            "34/34 [==============================] - 0s 4ms/step - loss: 7681.5835 - mae: 7681.5835\n",
            "Epoch 14/100\n",
            "34/34 [==============================] - 0s 4ms/step - loss: 7702.2842 - mae: 7702.2842\n",
            "Epoch 15/100\n",
            "34/34 [==============================] - 0s 4ms/step - loss: 7585.8931 - mae: 7585.8931\n",
            "Epoch 16/100\n",
            "34/34 [==============================] - 0s 4ms/step - loss: 7689.5356 - mae: 7689.5356\n",
            "Epoch 17/100\n",
            "34/34 [==============================] - 0s 3ms/step - loss: 7509.2036 - mae: 7509.2036\n",
            "Epoch 18/100\n",
            "34/34 [==============================] - 0s 3ms/step - loss: 7695.0083 - mae: 7695.0083\n",
            "Epoch 19/100\n",
            "34/34 [==============================] - 0s 4ms/step - loss: 7669.3740 - mae: 7669.3740\n",
            "Epoch 20/100\n",
            "34/34 [==============================] - 0s 5ms/step - loss: 7901.1362 - mae: 7901.1362\n",
            "Epoch 21/100\n",
            "34/34 [==============================] - 0s 4ms/step - loss: 7552.4819 - mae: 7552.4819\n",
            "Epoch 22/100\n",
            "34/34 [==============================] - 0s 4ms/step - loss: 7844.9971 - mae: 7844.9971\n",
            "Epoch 23/100\n",
            "34/34 [==============================] - 0s 4ms/step - loss: 7642.2505 - mae: 7642.2505\n",
            "Epoch 24/100\n",
            "34/34 [==============================] - 0s 4ms/step - loss: 7515.3096 - mae: 7515.3096\n",
            "Epoch 25/100\n",
            "34/34 [==============================] - 0s 4ms/step - loss: 7678.3521 - mae: 7678.3521\n",
            "Epoch 26/100\n",
            "34/34 [==============================] - 0s 4ms/step - loss: 7653.0283 - mae: 7653.0283\n",
            "Epoch 27/100\n",
            "34/34 [==============================] - 0s 4ms/step - loss: 7559.5464 - mae: 7559.5464\n",
            "Epoch 28/100\n",
            "34/34 [==============================] - 0s 4ms/step - loss: 7459.9404 - mae: 7459.9404\n",
            "Epoch 29/100\n",
            "34/34 [==============================] - 0s 4ms/step - loss: 7618.6182 - mae: 7618.6182\n",
            "Epoch 30/100\n",
            "34/34 [==============================] - 0s 4ms/step - loss: 7628.6250 - mae: 7628.6250\n",
            "Epoch 31/100\n",
            "34/34 [==============================] - 0s 4ms/step - loss: 7540.4888 - mae: 7540.4888\n",
            "Epoch 32/100\n",
            "34/34 [==============================] - 0s 4ms/step - loss: 7486.0176 - mae: 7486.0176\n",
            "Epoch 33/100\n",
            "34/34 [==============================] - 0s 4ms/step - loss: 7418.6636 - mae: 7418.6636\n",
            "Epoch 34/100\n",
            "34/34 [==============================] - 0s 3ms/step - loss: 7480.7305 - mae: 7480.7305\n",
            "Epoch 35/100\n",
            "34/34 [==============================] - 0s 4ms/step - loss: 7615.3110 - mae: 7615.3110\n",
            "Epoch 36/100\n",
            "34/34 [==============================] - 0s 4ms/step - loss: 7566.7886 - mae: 7566.7886\n",
            "Epoch 37/100\n",
            "34/34 [==============================] - 0s 4ms/step - loss: 7661.0869 - mae: 7661.0869\n",
            "Epoch 38/100\n",
            "34/34 [==============================] - 0s 4ms/step - loss: 7522.6816 - mae: 7522.6816\n",
            "Epoch 39/100\n",
            "34/34 [==============================] - 0s 4ms/step - loss: 7556.0698 - mae: 7556.0698\n",
            "Epoch 40/100\n",
            "34/34 [==============================] - 0s 5ms/step - loss: 7433.5664 - mae: 7433.5664\n",
            "Epoch 41/100\n",
            "34/34 [==============================] - 0s 5ms/step - loss: 7722.4321 - mae: 7722.4321\n",
            "Epoch 42/100\n",
            "34/34 [==============================] - 0s 7ms/step - loss: 7344.2690 - mae: 7344.2690\n",
            "Epoch 43/100\n",
            "34/34 [==============================] - 0s 4ms/step - loss: 7597.4331 - mae: 7597.4331\n",
            "Epoch 44/100\n",
            "34/34 [==============================] - 0s 6ms/step - loss: 7338.0142 - mae: 7338.0142\n",
            "Epoch 45/100\n",
            "34/34 [==============================] - 0s 6ms/step - loss: 7510.3462 - mae: 7510.3462\n",
            "Epoch 46/100\n",
            "34/34 [==============================] - 0s 6ms/step - loss: 7413.5796 - mae: 7413.5796\n",
            "Epoch 47/100\n",
            "34/34 [==============================] - 0s 6ms/step - loss: 7451.0391 - mae: 7451.0391\n",
            "Epoch 48/100\n",
            "34/34 [==============================] - 0s 5ms/step - loss: 7340.5386 - mae: 7340.5386\n",
            "Epoch 49/100\n",
            "34/34 [==============================] - 0s 4ms/step - loss: 7481.9971 - mae: 7481.9971\n",
            "Epoch 50/100\n",
            "34/34 [==============================] - 0s 4ms/step - loss: 7468.2852 - mae: 7468.2852\n",
            "Epoch 51/100\n",
            "34/34 [==============================] - 0s 3ms/step - loss: 7411.3418 - mae: 7411.3418\n",
            "Epoch 52/100\n",
            "34/34 [==============================] - 0s 4ms/step - loss: 7460.0806 - mae: 7460.0806\n",
            "Epoch 53/100\n",
            "34/34 [==============================] - 0s 4ms/step - loss: 7601.6606 - mae: 7601.6606\n",
            "Epoch 54/100\n",
            "34/34 [==============================] - 0s 4ms/step - loss: 7241.2549 - mae: 7241.2549\n",
            "Epoch 55/100\n",
            "34/34 [==============================] - 0s 4ms/step - loss: 7539.6948 - mae: 7539.6948\n",
            "Epoch 56/100\n",
            "34/34 [==============================] - 0s 4ms/step - loss: 7293.2012 - mae: 7293.2012\n",
            "Epoch 57/100\n",
            "34/34 [==============================] - 0s 4ms/step - loss: 7417.9722 - mae: 7417.9722\n",
            "Epoch 58/100\n",
            "34/34 [==============================] - 0s 3ms/step - loss: 7353.0615 - mae: 7353.0615\n",
            "Epoch 59/100\n",
            "34/34 [==============================] - 0s 3ms/step - loss: 7643.8242 - mae: 7643.8242\n",
            "Epoch 60/100\n",
            "34/34 [==============================] - 0s 3ms/step - loss: 7410.3989 - mae: 7410.3989\n",
            "Epoch 61/100\n",
            "34/34 [==============================] - 0s 3ms/step - loss: 7612.8340 - mae: 7612.8340\n",
            "Epoch 62/100\n",
            "34/34 [==============================] - 0s 4ms/step - loss: 7387.9087 - mae: 7387.9087\n",
            "Epoch 63/100\n",
            "34/34 [==============================] - 0s 3ms/step - loss: 7359.5596 - mae: 7359.5596\n",
            "Epoch 64/100\n",
            "34/34 [==============================] - 0s 3ms/step - loss: 7109.0879 - mae: 7109.0879\n",
            "Epoch 65/100\n",
            "34/34 [==============================] - 0s 4ms/step - loss: 7396.3223 - mae: 7396.3223\n",
            "Epoch 66/100\n",
            "34/34 [==============================] - 0s 3ms/step - loss: 7179.8618 - mae: 7179.8618\n",
            "Epoch 67/100\n",
            "34/34 [==============================] - 0s 4ms/step - loss: 7289.7710 - mae: 7289.7710\n",
            "Epoch 68/100\n",
            "34/34 [==============================] - 0s 4ms/step - loss: 7523.6968 - mae: 7523.6968\n",
            "Epoch 69/100\n",
            "34/34 [==============================] - 0s 4ms/step - loss: 7442.6157 - mae: 7442.6157\n",
            "Epoch 70/100\n",
            "34/34 [==============================] - 0s 3ms/step - loss: 7673.4829 - mae: 7673.4829\n",
            "Epoch 71/100\n",
            "34/34 [==============================] - 0s 4ms/step - loss: 7276.0332 - mae: 7276.0332\n",
            "Epoch 72/100\n",
            "34/34 [==============================] - 0s 4ms/step - loss: 7246.3726 - mae: 7246.3726\n",
            "Epoch 73/100\n",
            "34/34 [==============================] - 0s 4ms/step - loss: 7372.0708 - mae: 7372.0708\n",
            "Epoch 74/100\n",
            "34/34 [==============================] - 0s 3ms/step - loss: 7512.0742 - mae: 7512.0742\n",
            "Epoch 75/100\n",
            "34/34 [==============================] - 0s 5ms/step - loss: 7269.7441 - mae: 7269.7441\n",
            "Epoch 76/100\n",
            "34/34 [==============================] - 0s 5ms/step - loss: 7199.5054 - mae: 7199.5054\n",
            "Epoch 77/100\n",
            "34/34 [==============================] - 0s 5ms/step - loss: 7261.2925 - mae: 7261.2925\n",
            "Epoch 78/100\n",
            "34/34 [==============================] - 0s 5ms/step - loss: 7185.7632 - mae: 7185.7632\n",
            "Epoch 79/100\n",
            "34/34 [==============================] - 0s 5ms/step - loss: 7301.7490 - mae: 7301.7490\n",
            "Epoch 80/100\n",
            "34/34 [==============================] - 0s 6ms/step - loss: 7002.6313 - mae: 7002.6313\n",
            "Epoch 81/100\n",
            "34/34 [==============================] - 0s 5ms/step - loss: 7289.1362 - mae: 7289.1362\n",
            "Epoch 82/100\n",
            "34/34 [==============================] - 0s 5ms/step - loss: 7155.3945 - mae: 7155.3945\n",
            "Epoch 83/100\n",
            "34/34 [==============================] - 0s 3ms/step - loss: 7475.1709 - mae: 7475.1709\n",
            "Epoch 84/100\n",
            "34/34 [==============================] - 0s 3ms/step - loss: 7387.3672 - mae: 7387.3672\n",
            "Epoch 85/100\n",
            "34/34 [==============================] - 0s 4ms/step - loss: 7289.9453 - mae: 7289.9453\n",
            "Epoch 86/100\n",
            "34/34 [==============================] - 0s 4ms/step - loss: 7268.0947 - mae: 7268.0947\n",
            "Epoch 87/100\n",
            "34/34 [==============================] - 0s 4ms/step - loss: 7238.5869 - mae: 7238.5869\n",
            "Epoch 88/100\n",
            "34/34 [==============================] - 0s 4ms/step - loss: 7201.7344 - mae: 7201.7344\n",
            "Epoch 89/100\n",
            "34/34 [==============================] - 0s 4ms/step - loss: 7538.0747 - mae: 7538.0747\n",
            "Epoch 90/100\n",
            "34/34 [==============================] - 0s 4ms/step - loss: 6967.1172 - mae: 6967.1172\n",
            "Epoch 91/100\n",
            "34/34 [==============================] - 0s 4ms/step - loss: 7314.1289 - mae: 7314.1289\n",
            "Epoch 92/100\n",
            "34/34 [==============================] - 0s 4ms/step - loss: 7192.3115 - mae: 7192.3115\n",
            "Epoch 93/100\n",
            "34/34 [==============================] - 0s 4ms/step - loss: 7530.8770 - mae: 7530.8770\n",
            "Epoch 94/100\n",
            "34/34 [==============================] - 0s 4ms/step - loss: 7187.3579 - mae: 7187.3579\n",
            "Epoch 95/100\n",
            "34/34 [==============================] - 0s 4ms/step - loss: 7561.5630 - mae: 7561.5630\n",
            "Epoch 96/100\n",
            "34/34 [==============================] - 0s 4ms/step - loss: 7263.4639 - mae: 7263.4639\n",
            "Epoch 97/100\n",
            "34/34 [==============================] - 0s 4ms/step - loss: 7146.2900 - mae: 7146.2900\n",
            "Epoch 98/100\n",
            "34/34 [==============================] - 0s 3ms/step - loss: 7247.9248 - mae: 7247.9248\n",
            "Epoch 99/100\n",
            "34/34 [==============================] - 0s 4ms/step - loss: 7200.6689 - mae: 7200.6689\n",
            "Epoch 100/100\n",
            "34/34 [==============================] - 0s 4ms/step - loss: 7301.6870 - mae: 7301.6870\n"
          ]
        },
        {
          "output_type": "execute_result",
          "data": {
            "text/plain": [
              "<keras.callbacks.History at 0x7fce4f401790>"
            ]
          },
          "metadata": {},
          "execution_count": 112
        }
      ]
    },
    {
      "cell_type": "code",
      "source": [
        "insurance_model.evaluate(X_test, y_test)"
      ],
      "metadata": {
        "colab": {
          "base_uri": "https://localhost:8080/"
        },
        "id": "Zi6vaYIj0bEP",
        "outputId": "b23e3c28-89ad-4e55-d20e-e63784c9d263"
      },
      "execution_count": null,
      "outputs": [
        {
          "output_type": "stream",
          "name": "stdout",
          "text": [
            "9/9 [==============================] - 0s 4ms/step - loss: 8628.2344 - mae: 8628.2344\n"
          ]
        },
        {
          "output_type": "execute_result",
          "data": {
            "text/plain": [
              "[8628.234375, 8628.234375]"
            ]
          },
          "metadata": {},
          "execution_count": 113
        }
      ]
    },
    {
      "cell_type": "code",
      "source": [
        "tf.random.set_seed(42)\n",
        "insurance_model_2 = tf.keras.Sequential([\n",
        "                                       tf.keras.layers.Dense(100),\n",
        "                                       tf.keras.layers.Dense(10),\n",
        "                                       tf.keras.layers.Dense(1)\n",
        "])\n",
        "insurance_model_2.compile(loss=tf.keras.losses.mae,\n",
        "                        optimizer=tf.keras.optimizers.Adam(),\n",
        "                        metrics=['mae'])\n",
        "\n",
        "history = insurance_model_2.fit(X_train, y_train, epochs=100, verbose=0)"
      ],
      "metadata": {
        "id": "hZh7yyw-0i7h"
      },
      "execution_count": null,
      "outputs": []
    },
    {
      "cell_type": "code",
      "source": [
        "pd.DataFrame(history.history).plot()\n",
        "plt.xlabel(\"loss\")\n",
        "plt.ylabel(\"epochs\")"
      ],
      "metadata": {
        "colab": {
          "base_uri": "https://localhost:8080/",
          "height": 296
        },
        "id": "qQHlmd0k1LTQ",
        "outputId": "86d18fca-c77e-4a28-b14a-52c70efb6d54"
      },
      "execution_count": null,
      "outputs": [
        {
          "output_type": "execute_result",
          "data": {
            "text/plain": [
              "Text(0, 0.5, 'epochs')"
            ]
          },
          "metadata": {},
          "execution_count": 117
        },
        {
          "output_type": "display_data",
          "data": {
            "text/plain": [
              "<Figure size 432x288 with 1 Axes>"
            ],
            "image/png": "[encoded data removed]"
          },
          "metadata": {
            "needs_background": "light"
          }
        }
      ]
    },
    {
      "cell_type": "code",
      "source": [
        "history_2 = insurance_model_2.fit(X_train, y_train, epochs=100, verbose=0)"
      ],
      "metadata": {
        "id": "LcSwECXB2zUQ"
      },
      "execution_count": null,
      "outputs": []
    },
    {
      "cell_type": "code",
      "source": [
        "insurance_model_2_loss, insurance_model_2_mae = insurance_model_2.evaluate(X_test, y_test)\n",
        "insurance_model_2_loss, insurance_model_2_mae"
      ],
      "metadata": {
        "colab": {
          "base_uri": "https://localhost:8080/"
        },
        "id": "Koe72YjK3due",
        "outputId": "2d75d8ff-7f26-4dea-c4da-4c6f273a1fbd"
      },
      "execution_count": null,
      "outputs": [
        {
          "output_type": "stream",
          "name": "stdout",
          "text": [
            "9/9 [==============================] - 0s 3ms/step - loss: 3495.8022 - mae: 3495.8022\n"
          ]
        },
        {
          "output_type": "execute_result",
          "data": {
            "text/plain": [
              "(3495.80224609375, 3495.80224609375)"
            ]
          },
          "metadata": {},
          "execution_count": 119
        }
      ]
    },
    {
      "cell_type": "code",
      "source": [
        "pd.DataFrame(history_2.history).plot()\n",
        "plt.ylabel(\"loss\")\n",
        "plt.xlabel(\"epochs\")"
      ],
      "metadata": {
        "colab": {
          "base_uri": "https://localhost:8080/",
          "height": 296
        },
        "id": "7pV55WYP1Imu",
        "outputId": "87db53ab-f08b-4208-b964-4b3e836a64d5"
      },
      "execution_count": null,
      "outputs": [
        {
          "output_type": "execute_result",
          "data": {
            "text/plain": [
              "Text(0.5, 0, 'epochs')"
            ]
          },
          "metadata": {},
          "execution_count": 120
        },
        {
          "output_type": "display_data",
          "data": {
            "text/plain": [
              "<Figure size 432x288 with 1 Axes>"
            ],
            "image/png": "[encoded data removed]"
          },
          "metadata": {
            "needs_background": "light"
          }
        }
      ]
    },
    {
      "cell_type": "code",
      "source": [
        "from sklearn.compose import make_column_transformer\n",
        "from sklearn.preprocessing import MinMaxScaler, OneHotEncoder\n",
        "\n",
        "# Create column transformer (this will help us normalize/preprocess our data)\n",
        "ct = make_column_transformer(\n",
        "    (MinMaxScaler(), [\"age\", \"bmi\", \"children\"]), # get all values between 0 and 1\n",
        "    (OneHotEncoder(handle_unknown=\"ignore\"), [\"sex\", \"smoker\", \"region\"])\n",
        ")\n",
        "\n",
        "# Create X & y\n",
        "X = insurance.drop(\"charges\", axis=1)\n",
        "y = insurance[\"charges\"]\n",
        "\n",
        "# Build our train and test sets (use random state to ensure same split as before)\n",
        "X_train, X_test, y_train, y_test = train_test_split(X, y, test_size=0.2, random_state=42)\n",
        "\n",
        "# Fit column transformer on the training data only (doing so on test data would result in data leakage)\n",
        "ct.fit(X_train)\n",
        "\n",
        "# Transform training and test data with normalization (MinMaxScalar) and one hot encoding (OneHotEncoder)\n",
        "X_train_normal = ct.transform(X_train)\n",
        "X_test_normal = ct.transform(X_test)"
      ],
      "metadata": {
        "id": "BBi3SmEp35Q8"
      },
      "execution_count": null,
      "outputs": []
    },
    {
      "cell_type": "code",
      "source": [
        "# Non-normalized and non-one-hot encoded data example\n",
        "X_train.loc[0]"
      ],
      "metadata": {
        "colab": {
          "base_uri": "https://localhost:8080/"
        },
        "id": "-UQGp3iT7FRP",
        "outputId": "6ebcc943-ba8f-404b-e505-30350db049ce"
      },
      "execution_count": null,
      "outputs": [
        {
          "output_type": "execute_result",
          "data": {
            "text/plain": [
              "age                19\n",
              "sex            female\n",
              "bmi              27.9\n",
              "children            0\n",
              "smoker            yes\n",
              "region      southwest\n",
              "Name: 0, dtype: object"
            ]
          },
          "metadata": {},
          "execution_count": 122
        }
      ]
    },
    {
      "cell_type": "code",
      "source": [
        "X_train_normal[0]"
      ],
      "metadata": {
        "colab": {
          "base_uri": "https://localhost:8080/"
        },
        "id": "u22gN_oy1BNF",
        "outputId": "20467d97-f894-480e-e92e-e8829e3c3060"
      },
      "execution_count": null,
      "outputs": [
        {
          "output_type": "execute_result",
          "data": {
            "text/plain": [
              "array([0.60869565, 0.10734463, 0.4       , 1.        , 0.        ,\n",
              "       1.        , 0.        , 0.        , 1.        , 0.        ,\n",
              "       0.        ])"
            ]
          },
          "metadata": {},
          "execution_count": 123
        }
      ]
    },
    {
      "cell_type": "code",
      "source": [
        "X_train_normal.shape, X_train.shape"
      ],
      "metadata": {
        "colab": {
          "base_uri": "https://localhost:8080/"
        },
        "id": "bpfoPs5BrUyU",
        "outputId": "a0957776-2d7a-4e4d-b714-8dcfbc29f9e8"
      },
      "execution_count": null,
      "outputs": [
        {
          "output_type": "execute_result",
          "data": {
            "text/plain": [
              "((1070, 11), (1070, 6))"
            ]
          },
          "metadata": {},
          "execution_count": 124
        }
      ]
    },
    {
      "cell_type": "code",
      "source": [
        "# Set random seed\n",
        "tf.random.set_seed(42)\n",
        "\n",
        "# Build the model (3 layers, 100, 10, 1 units)\n",
        "insurance_model_3 = tf.keras.Sequential([\n",
        "  tf.keras.layers.Dense(100),\n",
        "  tf.keras.layers.Dense(10),\n",
        "  tf.keras.layers.Dense(1)\n",
        "])\n",
        "\n",
        "# Compile the model\n",
        "insurance_model_3.compile(loss=tf.keras.losses.mae,\n",
        "                          optimizer=tf.keras.optimizers.Adam(),\n",
        "                          metrics=['mae'])\n",
        "\n",
        "# Fit the model for 200 epochs (same as insurance_model_2)\n",
        "insurance_model_3.fit(X_train_normal, y_train, epochs=200, verbose=0) "
      ],
      "metadata": {
        "colab": {
          "base_uri": "https://localhost:8080/"
        },
        "id": "9okVU-AwrP94",
        "outputId": "8cdf9070-d421-4918-89fe-e6947e2cdc2f"
      },
      "execution_count": null,
      "outputs": [
        {
          "output_type": "execute_result",
          "data": {
            "text/plain": [
              "<keras.callbacks.History at 0x7fce600ff210>"
            ]
          },
          "metadata": {},
          "execution_count": 125
        }
      ]
    },
    {
      "cell_type": "code",
      "source": [
        "# Evaulate 3rd model\n",
        "insurance_model_3_loss, insurance_model_3_mae = insurance_model_3.evaluate(X_test_normal, y_test)"
      ],
      "metadata": {
        "colab": {
          "base_uri": "https://localhost:8080/"
        },
        "id": "BINF1Tyd7SPf",
        "outputId": "d8a5d4b4-470f-49a9-994a-77f6f064fc49"
      },
      "execution_count": null,
      "outputs": [
        {
          "output_type": "stream",
          "name": "stdout",
          "text": [
            "9/9 [==============================] - 0s 3ms/step - loss: 3171.5781 - mae: 3171.5781\n"
          ]
        }
      ]
    },
    {
      "cell_type": "code",
      "source": [
        ""
      ],
      "metadata": {
        "id": "Xuu2gdzV7YzU"
      },
      "execution_count": null,
      "outputs": []
    },
    {
      "cell_type": "code",
      "source": [
        ""
      ],
      "metadata": {
        "id": "xZmOqL79puFH"
      },
      "execution_count": null,
      "outputs": []
    },
    {
      "cell_type": "code",
      "source": [
        ""
      ],
      "metadata": {
        "id": "VOuw1hI5mY6B"
      },
      "execution_count": null,
      "outputs": []
    }
  ]
}