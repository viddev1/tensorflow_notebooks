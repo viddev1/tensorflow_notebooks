{
  "nbformat": 4,
  "nbformat_minor": 0,
  "metadata": {
    "colab": {
      "name": "IntroTensors.ipynb",
      "provenance": [],
      "collapsed_sections": [],
      "authorship_tag": "ABX9TyNye0R+GiGGVr/E4RVQm4Yh",
      "include_colab_link": true
    },
    "kernelspec": {
      "name": "python3",
      "display_name": "Python 3"
    },
    "language_info": {
      "name": "python"
    },
    "accelerator": "GPU"
  },
  "cells": [
    {
      "cell_type": "markdown",
      "metadata": {
        "id": "view-in-github",
        "colab_type": "text"
      },
      "source": [
        "<a href=\"https://colab.research.google.com/github/viddev1/tensorflow_notebooks/blob/main/IntroTensors.ipynb\" target=\"_parent\"><img src=\"https://colab.research.google.com/assets/colab-badge.svg\" alt=\"Open In Colab\"/></a>"
      ]
    },
    {
      "cell_type": "code",
      "execution_count": null,
      "metadata": {
        "colab": {
          "base_uri": "https://localhost:8080/"
        },
        "id": "r8-tUSecPc08",
        "outputId": "bfe9d54a-562a-491c-fa29-0b2eabfd657e"
      },
      "outputs": [
        {
          "output_type": "stream",
          "name": "stdout",
          "text": [
            "2.8.0\n"
          ]
        }
      ],
      "source": [
        "import tensorflow as tf\n",
        "print(tf.__version__)"
      ]
    },
    {
      "cell_type": "code",
      "source": [
        "x = tf.constant(7)\n",
        "print(x)"
      ],
      "metadata": {
        "colab": {
          "base_uri": "https://localhost:8080/"
        },
        "id": "fOOSSsAMP0wC",
        "outputId": "affb295b-2d3c-4bb8-e9ca-a3a9a79e3da2"
      },
      "execution_count": null,
      "outputs": [
        {
          "output_type": "stream",
          "name": "stdout",
          "text": [
            "tf.Tensor(7, shape=(), dtype=int32)\n"
          ]
        }
      ]
    },
    {
      "cell_type": "code",
      "source": [
        "x.ndim"
      ],
      "metadata": {
        "colab": {
          "base_uri": "https://localhost:8080/"
        },
        "id": "kQ55aj8vP1cp",
        "outputId": "120d2af2-70fd-4cc7-ed5d-d7f5cb8e3e23"
      },
      "execution_count": null,
      "outputs": [
        {
          "output_type": "execute_result",
          "data": {
            "text/plain": [
              "0"
            ]
          },
          "metadata": {},
          "execution_count": 4
        }
      ]
    },
    {
      "cell_type": "code",
      "source": [
        "vec = tf.constant([[[10,20],[10,20]],[[20,30],[20,30]]], dtype=tf.float16)\n",
        "vec"
      ],
      "metadata": {
        "colab": {
          "base_uri": "https://localhost:8080/"
        },
        "id": "6ezINlgMP1mZ",
        "outputId": "c2099ed8-ded9-4d33-8fe6-7217825270bc"
      },
      "execution_count": null,
      "outputs": [
        {
          "output_type": "execute_result",
          "data": {
            "text/plain": [
              "<tf.Tensor: shape=(2, 2, 2), dtype=float16, numpy=\n",
              "array([[[10., 20.],\n",
              "        [10., 20.]],\n",
              "\n",
              "       [[20., 30.],\n",
              "        [20., 30.]]], dtype=float16)>"
            ]
          },
          "metadata": {},
          "execution_count": 5
        }
      ]
    },
    {
      "cell_type": "code",
      "source": [
        "vec.ndim"
      ],
      "metadata": {
        "colab": {
          "base_uri": "https://localhost:8080/"
        },
        "id": "Vg6ThTUjP1yg",
        "outputId": "eaef2b8b-1a48-436c-eada-7afb8186162e"
      },
      "execution_count": null,
      "outputs": [
        {
          "output_type": "execute_result",
          "data": {
            "text/plain": [
              "3"
            ]
          },
          "metadata": {},
          "execution_count": 6
        }
      ]
    },
    {
      "cell_type": "code",
      "source": [
        "tensor = tf.constant([[[1, 2, 3],\n",
        "                       [4, 5, 6]],\n",
        "                      [[7, 8, 9],\n",
        "                       [10, 11, 12]],\n",
        "                      [[13, 14, 15],\n",
        "                       [16, 17, 18]]], dtype=tf.float16, shape=(3,2,3) ,name=\"tens\")\n",
        "tensor"
      ],
      "metadata": {
        "id": "z4JXhJFoP15c",
        "colab": {
          "base_uri": "https://localhost:8080/"
        },
        "outputId": "a3fda1eb-8d5a-416a-faab-6031e3e9bf70"
      },
      "execution_count": null,
      "outputs": [
        {
          "output_type": "execute_result",
          "data": {
            "text/plain": [
              "<tf.Tensor: shape=(3, 2, 3), dtype=float16, numpy=\n",
              "array([[[ 1.,  2.,  3.],\n",
              "        [ 4.,  5.,  6.]],\n",
              "\n",
              "       [[ 7.,  8.,  9.],\n",
              "        [10., 11., 12.]],\n",
              "\n",
              "       [[13., 14., 15.],\n",
              "        [16., 17., 18.]]], dtype=float16)>"
            ]
          },
          "metadata": {},
          "execution_count": 7
        }
      ]
    },
    {
      "cell_type": "code",
      "source": [
        "tensor.ndim"
      ],
      "metadata": {
        "colab": {
          "base_uri": "https://localhost:8080/"
        },
        "id": "1qxPjPqqjK4s",
        "outputId": "163d83aa-dea2-4d9d-ed35-254b22c35a5a"
      },
      "execution_count": null,
      "outputs": [
        {
          "output_type": "execute_result",
          "data": {
            "text/plain": [
              "3"
            ]
          },
          "metadata": {},
          "execution_count": 8
        }
      ]
    },
    {
      "cell_type": "code",
      "source": [
        "chg_tensor =  tf.Variable([1,3])\n",
        "unchg_tensor = tf.constant([1,3])\n",
        "chg_tensor, unchg_tensor"
      ],
      "metadata": {
        "colab": {
          "base_uri": "https://localhost:8080/"
        },
        "id": "dufCy4PGjLrq",
        "outputId": "ce2825a7-8b29-4ee9-ab82-2e1c698f1bdb"
      },
      "execution_count": null,
      "outputs": [
        {
          "output_type": "execute_result",
          "data": {
            "text/plain": [
              "(<tf.Variable 'Variable:0' shape=(2,) dtype=int32, numpy=array([1, 3], dtype=int32)>,\n",
              " <tf.Tensor: shape=(2,), dtype=int32, numpy=array([1, 3], dtype=int32)>)"
            ]
          },
          "metadata": {},
          "execution_count": 9
        }
      ]
    },
    {
      "cell_type": "code",
      "source": [
        "chg_tensor[0].assign(7)\n",
        "chg_tensor"
      ],
      "metadata": {
        "colab": {
          "base_uri": "https://localhost:8080/"
        },
        "id": "ZHye9K7Npauh",
        "outputId": "a3f98398-22f7-4381-f9e2-5d99eb479b0d"
      },
      "execution_count": null,
      "outputs": [
        {
          "output_type": "execute_result",
          "data": {
            "text/plain": [
              "<tf.Variable 'Variable:0' shape=(2,) dtype=int32, numpy=array([7, 3], dtype=int32)>"
            ]
          },
          "metadata": {},
          "execution_count": 10
        }
      ]
    },
    {
      "cell_type": "code",
      "source": [
        "#unchg_tensor[0].assign(7)\n",
        "#unchg_tensor"
      ],
      "metadata": {
        "id": "8ZjiNLz0p81W"
      },
      "execution_count": null,
      "outputs": []
    },
    {
      "cell_type": "code",
      "source": [
        "rand0 = tf.random.Generator.from_seed(0)\n",
        "rand0 = rand0.normal(shape=(4,2))\n",
        "rand1 = tf.random.Generator.from_seed(7)\n",
        "rand1 = rand1.normal(shape=(4,2))\n",
        "rand0, rand1, rand0 == rand1, rand1 == rand0"
      ],
      "metadata": {
        "colab": {
          "base_uri": "https://localhost:8080/"
        },
        "id": "mdHouj3z7BuA",
        "outputId": "7a76474e-0332-481c-803d-ca878f2c7609"
      },
      "execution_count": null,
      "outputs": [
        {
          "output_type": "execute_result",
          "data": {
            "text/plain": [
              "(<tf.Tensor: shape=(4, 2), dtype=float32, numpy=\n",
              " array([[-1.3544159 ,  0.70454913],\n",
              "        [ 0.03666191,  0.86918795],\n",
              "        [ 0.43842277, -0.53439844],\n",
              "        [-0.07710262,  1.5658046 ]], dtype=float32)>,\n",
              " <tf.Tensor: shape=(4, 2), dtype=float32, numpy=\n",
              " array([[-1.3240396 ,  0.2878567 ],\n",
              "        [-0.8757901 , -0.08857017],\n",
              "        [ 0.69211644,  0.84215707],\n",
              "        [-0.06378496,  0.92800784]], dtype=float32)>,\n",
              " <tf.Tensor: shape=(4, 2), dtype=bool, numpy=\n",
              " array([[False, False],\n",
              "        [False, False],\n",
              "        [False, False],\n",
              "        [False, False]])>,\n",
              " <tf.Tensor: shape=(4, 2), dtype=bool, numpy=\n",
              " array([[False, False],\n",
              "        [False, False],\n",
              "        [False, False],\n",
              "        [False, False]])>)"
            ]
          },
          "metadata": {},
          "execution_count": 12
        }
      ]
    },
    {
      "cell_type": "code",
      "source": [
        "tf.random.shuffle(rand0)"
      ],
      "metadata": {
        "id": "4_B6vxDHE3J9",
        "colab": {
          "base_uri": "https://localhost:8080/"
        },
        "outputId": "b287f844-ad18-48b2-fd4e-b269d4cdace3"
      },
      "execution_count": null,
      "outputs": [
        {
          "output_type": "execute_result",
          "data": {
            "text/plain": [
              "<tf.Tensor: shape=(4, 2), dtype=float32, numpy=\n",
              "array([[ 0.03666191,  0.86918795],\n",
              "       [ 0.43842277, -0.53439844],\n",
              "       [-1.3544159 ,  0.70454913],\n",
              "       [-0.07710262,  1.5658046 ]], dtype=float32)>"
            ]
          },
          "metadata": {},
          "execution_count": 13
        }
      ]
    },
    {
      "cell_type": "code",
      "source": [
        "tf.random.shuffle(rand0, seed=21)"
      ],
      "metadata": {
        "id": "7usvUWSTLK3o",
        "colab": {
          "base_uri": "https://localhost:8080/"
        },
        "outputId": "62b5ef29-9e09-4594-eac4-8fc741a8556b"
      },
      "execution_count": null,
      "outputs": [
        {
          "output_type": "execute_result",
          "data": {
            "text/plain": [
              "<tf.Tensor: shape=(4, 2), dtype=float32, numpy=\n",
              "array([[ 0.03666191,  0.86918795],\n",
              "       [-1.3544159 ,  0.70454913],\n",
              "       [-0.07710262,  1.5658046 ],\n",
              "       [ 0.43842277, -0.53439844]], dtype=float32)>"
            ]
          },
          "metadata": {},
          "execution_count": 14
        }
      ]
    },
    {
      "cell_type": "code",
      "source": [
        "tf.ones(shape=(4,2))"
      ],
      "metadata": {
        "id": "XQlJXgg3LVAN",
        "colab": {
          "base_uri": "https://localhost:8080/"
        },
        "outputId": "c24b7844-d5be-41b6-c69f-454fbe5db431"
      },
      "execution_count": null,
      "outputs": [
        {
          "output_type": "execute_result",
          "data": {
            "text/plain": [
              "<tf.Tensor: shape=(4, 2), dtype=float32, numpy=\n",
              "array([[1., 1.],\n",
              "       [1., 1.],\n",
              "       [1., 1.],\n",
              "       [1., 1.]], dtype=float32)>"
            ]
          },
          "metadata": {},
          "execution_count": 15
        }
      ]
    },
    {
      "cell_type": "code",
      "source": [
        "tf.zeros(shape=(3,3))"
      ],
      "metadata": {
        "id": "x5XXVfoOML8X",
        "colab": {
          "base_uri": "https://localhost:8080/"
        },
        "outputId": "bd5c61fd-6050-4c59-928b-235a0c1b3524"
      },
      "execution_count": null,
      "outputs": [
        {
          "output_type": "execute_result",
          "data": {
            "text/plain": [
              "<tf.Tensor: shape=(3, 3), dtype=float32, numpy=\n",
              "array([[0., 0., 0.],\n",
              "       [0., 0., 0.],\n",
              "       [0., 0., 0.]], dtype=float32)>"
            ]
          },
          "metadata": {},
          "execution_count": 16
        }
      ]
    },
    {
      "cell_type": "code",
      "source": [
        "import numpy as np\n",
        "n_A = np.arange(0, 48, dtype= np.int32)\n",
        "A = tf.constant(n_A, shape=[4,4,3])\n",
        "n_A, A"
      ],
      "metadata": {
        "id": "jnKYsmcqMMnT",
        "colab": {
          "base_uri": "https://localhost:8080/"
        },
        "outputId": "b7fbb8d8-3286-4842-c032-e7d837d85bc4"
      },
      "execution_count": null,
      "outputs": [
        {
          "output_type": "execute_result",
          "data": {
            "text/plain": [
              "(array([ 0,  1,  2,  3,  4,  5,  6,  7,  8,  9, 10, 11, 12, 13, 14, 15, 16,\n",
              "        17, 18, 19, 20, 21, 22, 23, 24, 25, 26, 27, 28, 29, 30, 31, 32, 33,\n",
              "        34, 35, 36, 37, 38, 39, 40, 41, 42, 43, 44, 45, 46, 47],\n",
              "       dtype=int32), <tf.Tensor: shape=(4, 4, 3), dtype=int32, numpy=\n",
              " array([[[ 0,  1,  2],\n",
              "         [ 3,  4,  5],\n",
              "         [ 6,  7,  8],\n",
              "         [ 9, 10, 11]],\n",
              " \n",
              "        [[12, 13, 14],\n",
              "         [15, 16, 17],\n",
              "         [18, 19, 20],\n",
              "         [21, 22, 23]],\n",
              " \n",
              "        [[24, 25, 26],\n",
              "         [27, 28, 29],\n",
              "         [30, 31, 32],\n",
              "         [33, 34, 35]],\n",
              " \n",
              "        [[36, 37, 38],\n",
              "         [39, 40, 41],\n",
              "         [42, 43, 44],\n",
              "         [45, 46, 47]]], dtype=int32)>)"
            ]
          },
          "metadata": {},
          "execution_count": 17
        }
      ]
    },
    {
      "cell_type": "code",
      "source": [
        "r4_tnsr = tf.zeros([2,3,4,5])\n",
        "r4_tnsr"
      ],
      "metadata": {
        "id": "WIiHrNelOeKg",
        "colab": {
          "base_uri": "https://localhost:8080/"
        },
        "outputId": "9a6646a6-fe9e-4ecf-9855-f30c5db12039"
      },
      "execution_count": null,
      "outputs": [
        {
          "output_type": "execute_result",
          "data": {
            "text/plain": [
              "<tf.Tensor: shape=(2, 3, 4, 5), dtype=float32, numpy=\n",
              "array([[[[0., 0., 0., 0., 0.],\n",
              "         [0., 0., 0., 0., 0.],\n",
              "         [0., 0., 0., 0., 0.],\n",
              "         [0., 0., 0., 0., 0.]],\n",
              "\n",
              "        [[0., 0., 0., 0., 0.],\n",
              "         [0., 0., 0., 0., 0.],\n",
              "         [0., 0., 0., 0., 0.],\n",
              "         [0., 0., 0., 0., 0.]],\n",
              "\n",
              "        [[0., 0., 0., 0., 0.],\n",
              "         [0., 0., 0., 0., 0.],\n",
              "         [0., 0., 0., 0., 0.],\n",
              "         [0., 0., 0., 0., 0.]]],\n",
              "\n",
              "\n",
              "       [[[0., 0., 0., 0., 0.],\n",
              "         [0., 0., 0., 0., 0.],\n",
              "         [0., 0., 0., 0., 0.],\n",
              "         [0., 0., 0., 0., 0.]],\n",
              "\n",
              "        [[0., 0., 0., 0., 0.],\n",
              "         [0., 0., 0., 0., 0.],\n",
              "         [0., 0., 0., 0., 0.],\n",
              "         [0., 0., 0., 0., 0.]],\n",
              "\n",
              "        [[0., 0., 0., 0., 0.],\n",
              "         [0., 0., 0., 0., 0.],\n",
              "         [0., 0., 0., 0., 0.],\n",
              "         [0., 0., 0., 0., 0.]]]], dtype=float32)>"
            ]
          },
          "metadata": {},
          "execution_count": 18
        }
      ]
    },
    {
      "cell_type": "code",
      "source": [
        "r4_tnsr.shape, r4_tnsr.ndim, tf.size(r4_tnsr)"
      ],
      "metadata": {
        "id": "ujawW991akb5",
        "colab": {
          "base_uri": "https://localhost:8080/"
        },
        "outputId": "93ce226b-0893-4fe1-fae6-af1d05006acf"
      },
      "execution_count": null,
      "outputs": [
        {
          "output_type": "execute_result",
          "data": {
            "text/plain": [
              "(TensorShape([2, 3, 4, 5]), 4, <tf.Tensor: shape=(), dtype=int32, numpy=120>)"
            ]
          },
          "metadata": {},
          "execution_count": 19
        }
      ]
    },
    {
      "cell_type": "code",
      "source": [
        "# Get various attributes of tensor\n",
        "print(\"Datatype of every element:\", r4_tnsr.dtype)\n",
        "print(\"Number of dimensions (rank):\", r4_tnsr.ndim)\n",
        "print(\"Shape of tensor:\", r4_tnsr.shape)\n",
        "print(\"Elements along axis 0 of tensor:\", r4_tnsr.shape[0])\n",
        "print(\"Elements along last axis of tensor:\", r4_tnsr.shape[-1])\n",
        "print(\"Total number of elements (2*3*4*5):\", tf.size(r4_tnsr).numpy()) # .numpy() converts to NumPy array"
      ],
      "metadata": {
        "id": "gs84JBV0a2yc",
        "colab": {
          "base_uri": "https://localhost:8080/"
        },
        "outputId": "7734d734-9f6a-4293-c8b2-c81b2e2fd5f7"
      },
      "execution_count": null,
      "outputs": [
        {
          "output_type": "stream",
          "name": "stdout",
          "text": [
            "Datatype of every element: <dtype: 'float32'>\n",
            "Number of dimensions (rank): 4\n",
            "Shape of tensor: (2, 3, 4, 5)\n",
            "Elements along axis 0 of tensor: 2\n",
            "Elements along last axis of tensor: 5\n",
            "Total number of elements (2*3*4*5): 120\n"
          ]
        }
      ]
    },
    {
      "cell_type": "code",
      "source": [
        "r4_tnsr[:1, :3, :2, :4]"
      ],
      "metadata": {
        "id": "e52FTev2bTAD",
        "colab": {
          "base_uri": "https://localhost:8080/"
        },
        "outputId": "5ce57e51-e376-4c83-a31a-7c45749ce6d3"
      },
      "execution_count": null,
      "outputs": [
        {
          "output_type": "execute_result",
          "data": {
            "text/plain": [
              "<tf.Tensor: shape=(1, 3, 2, 4), dtype=float32, numpy=\n",
              "array([[[[0., 0., 0., 0.],\n",
              "         [0., 0., 0., 0.]],\n",
              "\n",
              "        [[0., 0., 0., 0.],\n",
              "         [0., 0., 0., 0.]],\n",
              "\n",
              "        [[0., 0., 0., 0.],\n",
              "         [0., 0., 0., 0.]]]], dtype=float32)>"
            ]
          },
          "metadata": {},
          "execution_count": 21
        }
      ]
    },
    {
      "cell_type": "code",
      "source": [
        "r4_tnsr[:1,:1,:1,:]"
      ],
      "metadata": {
        "id": "jnT_YpYjbr5d",
        "colab": {
          "base_uri": "https://localhost:8080/"
        },
        "outputId": "76a34f75-c8c1-407f-985c-d90f1bd7bd40"
      },
      "execution_count": null,
      "outputs": [
        {
          "output_type": "execute_result",
          "data": {
            "text/plain": [
              "<tf.Tensor: shape=(1, 1, 1, 5), dtype=float32, numpy=array([[[[0., 0., 0., 0., 0.]]]], dtype=float32)>"
            ]
          },
          "metadata": {},
          "execution_count": 22
        }
      ]
    },
    {
      "cell_type": "code",
      "source": [
        "r2_tnsr = tf.constant([[1,5],\n",
        "                       [2,7]])\n",
        "r2_tnsr[:,-1]"
      ],
      "metadata": {
        "id": "73jIAKf3b9qR",
        "colab": {
          "base_uri": "https://localhost:8080/"
        },
        "outputId": "9411474e-6f6e-4b42-b5ea-117b8410cf7c"
      },
      "execution_count": null,
      "outputs": [
        {
          "output_type": "execute_result",
          "data": {
            "text/plain": [
              "<tf.Tensor: shape=(2,), dtype=int32, numpy=array([5, 7], dtype=int32)>"
            ]
          },
          "metadata": {},
          "execution_count": 23
        }
      ]
    },
    {
      "cell_type": "code",
      "source": [
        "r3_tnsr = r2_tnsr[...,tf.newaxis]\n",
        "r2_tnsr, r3_tnsr"
      ],
      "metadata": {
        "id": "BRiMrDQcchZZ",
        "colab": {
          "base_uri": "https://localhost:8080/"
        },
        "outputId": "573c42e1-5499-43d9-ba90-6b06ad7a26f8"
      },
      "execution_count": null,
      "outputs": [
        {
          "output_type": "execute_result",
          "data": {
            "text/plain": [
              "(<tf.Tensor: shape=(2, 2), dtype=int32, numpy=\n",
              " array([[1, 5],\n",
              "        [2, 7]], dtype=int32)>,\n",
              " <tf.Tensor: shape=(2, 2, 1), dtype=int32, numpy=\n",
              " array([[[1],\n",
              "         [5]],\n",
              " \n",
              "        [[2],\n",
              "         [7]]], dtype=int32)>)"
            ]
          },
          "metadata": {},
          "execution_count": 24
        }
      ]
    },
    {
      "cell_type": "code",
      "source": [
        "tf.expand_dims(r2_tnsr, axis=-1)"
      ],
      "metadata": {
        "id": "38um_oa6c4Vj",
        "colab": {
          "base_uri": "https://localhost:8080/"
        },
        "outputId": "a26ca29f-ae0d-4ae1-fc56-8883f66690f4"
      },
      "execution_count": null,
      "outputs": [
        {
          "output_type": "execute_result",
          "data": {
            "text/plain": [
              "<tf.Tensor: shape=(2, 2, 1), dtype=int32, numpy=\n",
              "array([[[1],\n",
              "        [5]],\n",
              "\n",
              "       [[2],\n",
              "        [7]]], dtype=int32)>"
            ]
          },
          "metadata": {},
          "execution_count": 25
        }
      ]
    },
    {
      "cell_type": "code",
      "source": [
        "r2_tnsr+10"
      ],
      "metadata": {
        "id": "rAenx6m2dlUr",
        "colab": {
          "base_uri": "https://localhost:8080/"
        },
        "outputId": "5cb1596b-61e2-4623-861e-a1127a9503c6"
      },
      "execution_count": null,
      "outputs": [
        {
          "output_type": "execute_result",
          "data": {
            "text/plain": [
              "<tf.Tensor: shape=(2, 2), dtype=int32, numpy=\n",
              "array([[11, 15],\n",
              "       [12, 17]], dtype=int32)>"
            ]
          },
          "metadata": {},
          "execution_count": 26
        }
      ]
    },
    {
      "cell_type": "code",
      "source": [
        "r2_tnsr-10"
      ],
      "metadata": {
        "id": "GRrbV47Efs8T",
        "colab": {
          "base_uri": "https://localhost:8080/"
        },
        "outputId": "e9b5a511-46ab-4a9f-9d8f-efac12483189"
      },
      "execution_count": null,
      "outputs": [
        {
          "output_type": "execute_result",
          "data": {
            "text/plain": [
              "<tf.Tensor: shape=(2, 2), dtype=int32, numpy=\n",
              "array([[-9, -5],\n",
              "       [-8, -3]], dtype=int32)>"
            ]
          },
          "metadata": {},
          "execution_count": 27
        }
      ]
    },
    {
      "cell_type": "code",
      "source": [
        "r2_tnsr*5"
      ],
      "metadata": {
        "id": "hEc11dr3ftpC",
        "colab": {
          "base_uri": "https://localhost:8080/"
        },
        "outputId": "5045f273-835d-4d16-d7e4-2d11e41642ab"
      },
      "execution_count": null,
      "outputs": [
        {
          "output_type": "execute_result",
          "data": {
            "text/plain": [
              "<tf.Tensor: shape=(2, 2), dtype=int32, numpy=\n",
              "array([[ 5, 25],\n",
              "       [10, 35]], dtype=int32)>"
            ]
          },
          "metadata": {},
          "execution_count": 28
        }
      ]
    },
    {
      "cell_type": "code",
      "source": [
        "tf.multiply(r2_tnsr, 10)"
      ],
      "metadata": {
        "id": "anwR-Mxxf12r",
        "colab": {
          "base_uri": "https://localhost:8080/"
        },
        "outputId": "c1c1b566-24f9-4824-a459-ab50191f85f5"
      },
      "execution_count": null,
      "outputs": [
        {
          "output_type": "execute_result",
          "data": {
            "text/plain": [
              "<tf.Tensor: shape=(2, 2), dtype=int32, numpy=\n",
              "array([[10, 50],\n",
              "       [20, 70]], dtype=int32)>"
            ]
          },
          "metadata": {},
          "execution_count": 29
        }
      ]
    },
    {
      "cell_type": "code",
      "source": [
        "print(r2_tnsr)\n",
        "tf.matmul(r2_tnsr, r2_tnsr)"
      ],
      "metadata": {
        "id": "-pDjpVdBhmhu",
        "colab": {
          "base_uri": "https://localhost:8080/"
        },
        "outputId": "8284644d-4f22-4cea-af74-6f4862ab6ee3"
      },
      "execution_count": null,
      "outputs": [
        {
          "output_type": "stream",
          "name": "stdout",
          "text": [
            "tf.Tensor(\n",
            "[[1 5]\n",
            " [2 7]], shape=(2, 2), dtype=int32)\n"
          ]
        },
        {
          "output_type": "execute_result",
          "data": {
            "text/plain": [
              "<tf.Tensor: shape=(2, 2), dtype=int32, numpy=\n",
              "array([[11, 40],\n",
              "       [16, 59]], dtype=int32)>"
            ]
          },
          "metadata": {},
          "execution_count": 30
        }
      ]
    },
    {
      "cell_type": "code",
      "source": [
        "r2_tnsr @ r2_tnsr"
      ],
      "metadata": {
        "id": "Hy8jLEFPh5t2",
        "colab": {
          "base_uri": "https://localhost:8080/"
        },
        "outputId": "bdf5c92b-fbb0-4c52-f043-c84ff82d1f49"
      },
      "execution_count": null,
      "outputs": [
        {
          "output_type": "execute_result",
          "data": {
            "text/plain": [
              "<tf.Tensor: shape=(2, 2), dtype=int32, numpy=\n",
              "array([[11, 40],\n",
              "       [16, 59]], dtype=int32)>"
            ]
          },
          "metadata": {},
          "execution_count": 31
        }
      ]
    },
    {
      "cell_type": "code",
      "source": [
        "# Create (3, 2) tensor\n",
        "X = tf.constant([[1, 2],\n",
        "                 [3, 4],\n",
        "                 [5, 6]])\n",
        "\n",
        "# Create another (3, 2) tensor\n",
        "Y = tf.constant([[7, 8],\n",
        "                 [9, 10],\n",
        "                 [11, 12]])\n",
        "X, Y"
      ],
      "metadata": {
        "id": "Z0-EjuQciDuk",
        "colab": {
          "base_uri": "https://localhost:8080/"
        },
        "outputId": "067c88c3-62e4-49cf-ca47-5223fd6b9c79"
      },
      "execution_count": null,
      "outputs": [
        {
          "output_type": "execute_result",
          "data": {
            "text/plain": [
              "(<tf.Tensor: shape=(3, 2), dtype=int32, numpy=\n",
              " array([[1, 2],\n",
              "        [3, 4],\n",
              "        [5, 6]], dtype=int32)>, <tf.Tensor: shape=(3, 2), dtype=int32, numpy=\n",
              " array([[ 7,  8],\n",
              "        [ 9, 10],\n",
              "        [11, 12]], dtype=int32)>)"
            ]
          },
          "metadata": {},
          "execution_count": 32
        }
      ]
    },
    {
      "cell_type": "code",
      "source": [
        "X@tf.transpose(Y)"
      ],
      "metadata": {
        "id": "g3EWilgTiFso",
        "colab": {
          "base_uri": "https://localhost:8080/"
        },
        "outputId": "68d8e5d2-cf47-4863-dd12-3e065c0a573f"
      },
      "execution_count": null,
      "outputs": [
        {
          "output_type": "execute_result",
          "data": {
            "text/plain": [
              "<tf.Tensor: shape=(3, 3), dtype=int32, numpy=\n",
              "array([[ 23,  29,  35],\n",
              "       [ 53,  67,  81],\n",
              "       [ 83, 105, 127]], dtype=int32)>"
            ]
          },
          "metadata": {},
          "execution_count": 33
        }
      ]
    },
    {
      "cell_type": "code",
      "source": [
        "X@tf.reshape(Y, shape=[2,3])"
      ],
      "metadata": {
        "id": "QtDY49wXisJu",
        "colab": {
          "base_uri": "https://localhost:8080/"
        },
        "outputId": "cc59b8a9-37a6-4c81-fdc2-4991248f24fa"
      },
      "execution_count": null,
      "outputs": [
        {
          "output_type": "execute_result",
          "data": {
            "text/plain": [
              "<tf.Tensor: shape=(3, 3), dtype=int32, numpy=\n",
              "array([[ 27,  30,  33],\n",
              "       [ 61,  68,  75],\n",
              "       [ 95, 106, 117]], dtype=int32)>"
            ]
          },
          "metadata": {},
          "execution_count": 34
        }
      ]
    },
    {
      "cell_type": "code",
      "source": [
        "tf.reshape(Y, shape=[2,3])"
      ],
      "metadata": {
        "id": "0nQ3HpQdi-XZ",
        "colab": {
          "base_uri": "https://localhost:8080/"
        },
        "outputId": "9d5dabc5-e58b-4d84-e004-204dd7cf04ec"
      },
      "execution_count": null,
      "outputs": [
        {
          "output_type": "execute_result",
          "data": {
            "text/plain": [
              "<tf.Tensor: shape=(2, 3), dtype=int32, numpy=\n",
              "array([[ 7,  8,  9],\n",
              "       [10, 11, 12]], dtype=int32)>"
            ]
          },
          "metadata": {},
          "execution_count": 35
        }
      ]
    },
    {
      "cell_type": "code",
      "source": [
        "tf.transpose(Y)"
      ],
      "metadata": {
        "id": "FzNrYcsCjARm",
        "colab": {
          "base_uri": "https://localhost:8080/"
        },
        "outputId": "5ad0faca-7b3e-4a52-f4e9-88603c92334f"
      },
      "execution_count": null,
      "outputs": [
        {
          "output_type": "execute_result",
          "data": {
            "text/plain": [
              "<tf.Tensor: shape=(2, 3), dtype=int32, numpy=\n",
              "array([[ 7,  9, 11],\n",
              "       [ 8, 10, 12]], dtype=int32)>"
            ]
          },
          "metadata": {},
          "execution_count": 36
        }
      ]
    },
    {
      "cell_type": "code",
      "source": [
        "tf.matmul(X, tf.transpose(Y))"
      ],
      "metadata": {
        "colab": {
          "base_uri": "https://localhost:8080/"
        },
        "id": "FGXJPFNLyoAC",
        "outputId": "5238ca2f-70a1-4d12-fe52-a530350d1ed3"
      },
      "execution_count": null,
      "outputs": [
        {
          "output_type": "execute_result",
          "data": {
            "text/plain": [
              "<tf.Tensor: shape=(3, 3), dtype=int32, numpy=\n",
              "array([[ 23,  29,  35],\n",
              "       [ 53,  67,  81],\n",
              "       [ 83, 105, 127]], dtype=int32)>"
            ]
          },
          "metadata": {},
          "execution_count": 37
        }
      ]
    },
    {
      "cell_type": "code",
      "source": [
        "tf.tensordot(tf.transpose(X), Y, axes=1)"
      ],
      "metadata": {
        "colab": {
          "base_uri": "https://localhost:8080/"
        },
        "id": "fw32mtWuyn82",
        "outputId": "3d7e9189-1471-48dd-8e82-12a63369238e"
      },
      "execution_count": null,
      "outputs": [
        {
          "output_type": "execute_result",
          "data": {
            "text/plain": [
              "<tf.Tensor: shape=(2, 2), dtype=int32, numpy=\n",
              "array([[ 89,  98],\n",
              "       [116, 128]], dtype=int32)>"
            ]
          },
          "metadata": {},
          "execution_count": 38
        }
      ]
    },
    {
      "cell_type": "code",
      "source": [
        "Y.shape, tf.reshape(Y, (2, 3)).shape, tf.transpose(Y).shape, tf.transpose(X).shape"
      ],
      "metadata": {
        "colab": {
          "base_uri": "https://localhost:8080/"
        },
        "id": "sIDIUYxBynb-",
        "outputId": "cbe186f2-e86a-48ff-fbb9-ed1ff0c162ff"
      },
      "execution_count": null,
      "outputs": [
        {
          "output_type": "execute_result",
          "data": {
            "text/plain": [
              "(TensorShape([3, 2]),\n",
              " TensorShape([2, 3]),\n",
              " TensorShape([2, 3]),\n",
              " TensorShape([2, 3]))"
            ]
          },
          "metadata": {},
          "execution_count": 39
        }
      ]
    },
    {
      "cell_type": "code",
      "source": [
        "tf.matmul(tf.transpose(X), Y)"
      ],
      "metadata": {
        "colab": {
          "base_uri": "https://localhost:8080/"
        },
        "id": "nWdkT5r40Vfs",
        "outputId": "b6a264c5-8e0b-463c-e38f-a0a3e5be03f5"
      },
      "execution_count": null,
      "outputs": [
        {
          "output_type": "execute_result",
          "data": {
            "text/plain": [
              "<tf.Tensor: shape=(2, 2), dtype=int32, numpy=\n",
              "array([[ 89,  98],\n",
              "       [116, 128]], dtype=int32)>"
            ]
          },
          "metadata": {},
          "execution_count": 40
        }
      ]
    },
    {
      "cell_type": "code",
      "source": [
        "# Create a new tensor with default datatype (float32)\n",
        "B = tf.constant([1.7, 7.4])\n",
        "\n",
        "# Create a new tensor with default datatype (int32)\n",
        "C = tf.constant([1, 7])\n",
        "B, C"
      ],
      "metadata": {
        "colab": {
          "base_uri": "https://localhost:8080/"
        },
        "id": "nNrnKUz_05-Q",
        "outputId": "2c1782c5-b37e-4c10-9373-322a893358ad"
      },
      "execution_count": null,
      "outputs": [
        {
          "output_type": "execute_result",
          "data": {
            "text/plain": [
              "(<tf.Tensor: shape=(2,), dtype=float32, numpy=array([1.7, 7.4], dtype=float32)>,\n",
              " <tf.Tensor: shape=(2,), dtype=int32, numpy=array([1, 7], dtype=int32)>)"
            ]
          },
          "metadata": {},
          "execution_count": 41
        }
      ]
    },
    {
      "cell_type": "code",
      "source": [
        "B = tf.cast(B, dtype=tf.float16)\n",
        "B"
      ],
      "metadata": {
        "colab": {
          "base_uri": "https://localhost:8080/"
        },
        "id": "4SS-2bzl3MwZ",
        "outputId": "a7241ff4-231b-489b-a49e-8463fe50a139"
      },
      "execution_count": null,
      "outputs": [
        {
          "output_type": "execute_result",
          "data": {
            "text/plain": [
              "<tf.Tensor: shape=(2,), dtype=float16, numpy=array([1.7, 7.4], dtype=float16)>"
            ]
          },
          "metadata": {},
          "execution_count": 42
        }
      ]
    },
    {
      "cell_type": "code",
      "source": [
        "C = tf.cast(C, dtype=tf.int16)\n",
        "C"
      ],
      "metadata": {
        "colab": {
          "base_uri": "https://localhost:8080/"
        },
        "id": "ARqM9BDf3Vfj",
        "outputId": "ad5a3aea-f216-4d02-d4a2-60595dd0efdc"
      },
      "execution_count": null,
      "outputs": [
        {
          "output_type": "execute_result",
          "data": {
            "text/plain": [
              "<tf.Tensor: shape=(2,), dtype=int16, numpy=array([1, 7], dtype=int16)>"
            ]
          },
          "metadata": {},
          "execution_count": 43
        }
      ]
    },
    {
      "cell_type": "code",
      "source": [
        "# Create tensor with negative values\n",
        "D = tf.constant([-7, -10])\n",
        "D"
      ],
      "metadata": {
        "colab": {
          "base_uri": "https://localhost:8080/"
        },
        "id": "rmBBABEw3cKJ",
        "outputId": "a86a783c-356a-46c2-b018-c8a68e4986f5"
      },
      "execution_count": null,
      "outputs": [
        {
          "output_type": "execute_result",
          "data": {
            "text/plain": [
              "<tf.Tensor: shape=(2,), dtype=int32, numpy=array([ -7, -10], dtype=int32)>"
            ]
          },
          "metadata": {},
          "execution_count": 44
        }
      ]
    },
    {
      "cell_type": "code",
      "source": [
        "tf.abs(D)"
      ],
      "metadata": {
        "colab": {
          "base_uri": "https://localhost:8080/"
        },
        "id": "dNecHhTs3f40",
        "outputId": "6ae455e0-c317-460c-9ca5-5aca5b26fc1b"
      },
      "execution_count": null,
      "outputs": [
        {
          "output_type": "execute_result",
          "data": {
            "text/plain": [
              "<tf.Tensor: shape=(2,), dtype=int32, numpy=array([ 7, 10], dtype=int32)>"
            ]
          },
          "metadata": {},
          "execution_count": 45
        }
      ]
    },
    {
      "cell_type": "code",
      "source": [
        "# Create a tensor with 50 random values between 0 and 100\n",
        "E = tf.constant(np.random.randint(low=0, high=100, size=50))\n",
        "E"
      ],
      "metadata": {
        "colab": {
          "base_uri": "https://localhost:8080/"
        },
        "id": "VNmAKU3d3iW1",
        "outputId": "47dc73c6-1214-4e3f-927c-a6d941fca836"
      },
      "execution_count": null,
      "outputs": [
        {
          "output_type": "execute_result",
          "data": {
            "text/plain": [
              "<tf.Tensor: shape=(50,), dtype=int64, numpy=\n",
              "array([45, 21, 79, 46, 67, 22, 89, 78, 76, 32, 33, 88, 15, 79,  7, 13, 35,\n",
              "        2, 55, 29, 82, 74, 16,  4, 34, 40, 19, 44, 72, 56, 89, 36, 95,  0,\n",
              "       70, 24, 44, 93, 34, 79, 25, 75, 88, 17, 16, 77, 35, 91, 62, 58])>"
            ]
          },
          "metadata": {},
          "execution_count": 46
        }
      ]
    },
    {
      "cell_type": "code",
      "source": [
        "tf.reduce_min(E),tf.reduce_max(E),tf.reduce_mean(E),tf.reduce_sum(E)"
      ],
      "metadata": {
        "colab": {
          "base_uri": "https://localhost:8080/"
        },
        "id": "77arfhfq3mkf",
        "outputId": "1998bc2f-b1de-41ce-ad7c-0ae0b7b866ec"
      },
      "execution_count": null,
      "outputs": [
        {
          "output_type": "execute_result",
          "data": {
            "text/plain": [
              "(<tf.Tensor: shape=(), dtype=int64, numpy=0>,\n",
              " <tf.Tensor: shape=(), dtype=int64, numpy=95>,\n",
              " <tf.Tensor: shape=(), dtype=int64, numpy=49>,\n",
              " <tf.Tensor: shape=(), dtype=int64, numpy=2460>)"
            ]
          },
          "metadata": {},
          "execution_count": 47
        }
      ]
    },
    {
      "cell_type": "code",
      "source": [
        "# Create a tensor with 50 values between 0 and 1\n",
        "F = tf.constant(np.random.random(50))\n",
        "F"
      ],
      "metadata": {
        "colab": {
          "base_uri": "https://localhost:8080/"
        },
        "id": "KnhT9CRB3xlU",
        "outputId": "667df1a8-d853-4737-ab54-7f5c6621fba9"
      },
      "execution_count": null,
      "outputs": [
        {
          "output_type": "execute_result",
          "data": {
            "text/plain": [
              "<tf.Tensor: shape=(50,), dtype=float64, numpy=\n",
              "array([0.56468661, 0.08130327, 0.73828207, 0.79387568, 0.27037611,\n",
              "       0.17623642, 0.43281735, 0.30625919, 0.35971987, 0.15297854,\n",
              "       0.36617998, 0.69800933, 0.95449182, 0.46370222, 0.70996242,\n",
              "       0.98660048, 0.45463029, 0.6790863 , 0.74635369, 0.46232612,\n",
              "       0.39788832, 0.55272621, 0.39141083, 0.98037107, 0.82005238,\n",
              "       0.33110619, 0.85863748, 0.23220659, 0.04316528, 0.16013338,\n",
              "       0.40834043, 0.68959542, 0.88662263, 0.83061173, 0.23946949,\n",
              "       0.04377235, 0.82224226, 0.95827632, 0.94731828, 0.18742436,\n",
              "       0.65769849, 0.14707712, 0.50207658, 0.52353446, 0.33241298,\n",
              "       0.22605946, 0.61576237, 0.4603163 , 0.80726163, 0.30832905])>"
            ]
          },
          "metadata": {},
          "execution_count": 48
        }
      ]
    },
    {
      "cell_type": "code",
      "source": [
        "tf.argmax(F)"
      ],
      "metadata": {
        "colab": {
          "base_uri": "https://localhost:8080/"
        },
        "id": "O5P7dzh_31Il",
        "outputId": "1a8bdc8e-fca6-4134-e947-879361ba72e0"
      },
      "execution_count": null,
      "outputs": [
        {
          "output_type": "execute_result",
          "data": {
            "text/plain": [
              "<tf.Tensor: shape=(), dtype=int64, numpy=15>"
            ]
          },
          "metadata": {},
          "execution_count": 49
        }
      ]
    },
    {
      "cell_type": "code",
      "source": [
        "tf.argmin(F)"
      ],
      "metadata": {
        "colab": {
          "base_uri": "https://localhost:8080/"
        },
        "id": "AqsYpTH_35pg",
        "outputId": "4c8f512c-4091-4ee6-a6e1-536932450cbf"
      },
      "execution_count": null,
      "outputs": [
        {
          "output_type": "execute_result",
          "data": {
            "text/plain": [
              "<tf.Tensor: shape=(), dtype=int64, numpy=28>"
            ]
          },
          "metadata": {},
          "execution_count": 50
        }
      ]
    },
    {
      "cell_type": "code",
      "source": [
        "# Find the maximum element position of F\n",
        "print(f\"The maximum value of F is at position: {tf.argmax(F).numpy()}\") \n",
        "print(f\"The maximum value of F is: {tf.reduce_max(F).numpy()}\") \n",
        "print(f\"Using tf.argmax() to index F, the maximum value of F is: {F[tf.argmax(F)].numpy()}\")\n",
        "print(f\"Are the two max values the same (they should be)? {F[tf.argmax(F)].numpy() == tf.reduce_max(F).numpy()}\")"
      ],
      "metadata": {
        "colab": {
          "base_uri": "https://localhost:8080/"
        },
        "id": "NVNMZcba3-Uu",
        "outputId": "e58ce6c3-b949-4ff9-f906-b4e671c84495"
      },
      "execution_count": null,
      "outputs": [
        {
          "output_type": "stream",
          "name": "stdout",
          "text": [
            "The maximum value of F is at position: 15\n",
            "The maximum value of F is: 0.986600482924704\n",
            "Using tf.argmax() to index F, the maximum value of F is: 0.986600482924704\n",
            "Are the two max values the same (they should be)? True\n"
          ]
        }
      ]
    },
    {
      "cell_type": "code",
      "source": [
        "G = tf.constant(np.random.randint(0, 100, 50), shape=(1,1,1,1,50))\n",
        "G.shape, G.ndim"
      ],
      "metadata": {
        "colab": {
          "base_uri": "https://localhost:8080/"
        },
        "id": "VYMqmk8-Cdt8",
        "outputId": "48887fc3-2cb4-4922-8d35-4755c6a974a5"
      },
      "execution_count": null,
      "outputs": [
        {
          "output_type": "execute_result",
          "data": {
            "text/plain": [
              "(TensorShape([1, 1, 1, 1, 50]), 5)"
            ]
          },
          "metadata": {},
          "execution_count": 52
        }
      ]
    },
    {
      "cell_type": "code",
      "source": [
        "G_squeezed = tf.squeeze(G)\n",
        "G_squeezed.shape, G_squeezed.ndim"
      ],
      "metadata": {
        "colab": {
          "base_uri": "https://localhost:8080/"
        },
        "id": "_mAcx-cbDHIn",
        "outputId": "424814c7-45f9-4a5c-88f8-f1c1da1be9cd"
      },
      "execution_count": null,
      "outputs": [
        {
          "output_type": "execute_result",
          "data": {
            "text/plain": [
              "(TensorShape([50]), 1)"
            ]
          },
          "metadata": {},
          "execution_count": 53
        }
      ]
    },
    {
      "cell_type": "code",
      "source": [
        "G, G_squeezed"
      ],
      "metadata": {
        "colab": {
          "base_uri": "https://localhost:8080/"
        },
        "id": "f8ow4iytDTM2",
        "outputId": "8cc26783-17fa-4713-86ad-b38a7bf7281e"
      },
      "execution_count": null,
      "outputs": [
        {
          "output_type": "execute_result",
          "data": {
            "text/plain": [
              "(<tf.Tensor: shape=(1, 1, 1, 1, 50), dtype=int64, numpy=\n",
              " array([[[[[58, 50, 77, 43, 64, 45, 76, 93, 40, 97, 46, 39, 36,  9, 64,\n",
              "            35, 52, 84, 20,  6, 86, 54, 55, 67,  2, 55, 47, 20,  2, 83,\n",
              "            30, 91, 95, 52,  8, 32, 26, 88, 43, 24, 73, 83, 80, 54, 96,\n",
              "            73, 52, 85, 81, 67]]]]])>,\n",
              " <tf.Tensor: shape=(50,), dtype=int64, numpy=\n",
              " array([58, 50, 77, 43, 64, 45, 76, 93, 40, 97, 46, 39, 36,  9, 64, 35, 52,\n",
              "        84, 20,  6, 86, 54, 55, 67,  2, 55, 47, 20,  2, 83, 30, 91, 95, 52,\n",
              "         8, 32, 26, 88, 43, 24, 73, 83, 80, 54, 96, 73, 52, 85, 81, 67])>)"
            ]
          },
          "metadata": {},
          "execution_count": 54
        }
      ]
    },
    {
      "cell_type": "code",
      "source": [
        "lst = [0, 1, 2, 3] \n",
        "\n",
        "tf.one_hot(lst, depth=4, on_value=1, off_value=0)"
      ],
      "metadata": {
        "colab": {
          "base_uri": "https://localhost:8080/"
        },
        "id": "nNBdnBIWDZF-",
        "outputId": "0d1bc52a-dcc9-4ca3-971c-7a8c9b7c5e26"
      },
      "execution_count": null,
      "outputs": [
        {
          "output_type": "execute_result",
          "data": {
            "text/plain": [
              "<tf.Tensor: shape=(4, 4), dtype=int32, numpy=\n",
              "array([[1, 0, 0, 0],\n",
              "       [0, 1, 0, 0],\n",
              "       [0, 0, 1, 0],\n",
              "       [0, 0, 0, 1]], dtype=int32)>"
            ]
          },
          "metadata": {},
          "execution_count": 55
        }
      ]
    },
    {
      "cell_type": "code",
      "source": [
        "H = tf.constant(np.arange(1, 10))\n",
        "H"
      ],
      "metadata": {
        "colab": {
          "base_uri": "https://localhost:8080/"
        },
        "id": "HkQxUvFHEdzS",
        "outputId": "14bc1e76-eb0a-4bac-f8fc-da3528821df9"
      },
      "execution_count": null,
      "outputs": [
        {
          "output_type": "execute_result",
          "data": {
            "text/plain": [
              "<tf.Tensor: shape=(9,), dtype=int64, numpy=array([1, 2, 3, 4, 5, 6, 7, 8, 9])>"
            ]
          },
          "metadata": {},
          "execution_count": 56
        }
      ]
    },
    {
      "cell_type": "code",
      "source": [
        "tf.square(H)"
      ],
      "metadata": {
        "colab": {
          "base_uri": "https://localhost:8080/"
        },
        "id": "AYw0CkohEq9L",
        "outputId": "6eee792b-f53b-423b-a069-2f676a019317"
      },
      "execution_count": null,
      "outputs": [
        {
          "output_type": "execute_result",
          "data": {
            "text/plain": [
              "<tf.Tensor: shape=(9,), dtype=int64, numpy=array([ 1,  4,  9, 16, 25, 36, 49, 64, 81])>"
            ]
          },
          "metadata": {},
          "execution_count": 57
        }
      ]
    },
    {
      "cell_type": "code",
      "source": [
        "tf.sqrt(\n",
        "    tf.cast(H, dtype=tf.float32)\n",
        "    )"
      ],
      "metadata": {
        "colab": {
          "base_uri": "https://localhost:8080/"
        },
        "id": "LS7a_StxFPCS",
        "outputId": "6b92b617-d66b-4e84-c628-b864d8359c5a"
      },
      "execution_count": null,
      "outputs": [
        {
          "output_type": "execute_result",
          "data": {
            "text/plain": [
              "<tf.Tensor: shape=(9,), dtype=float32, numpy=\n",
              "array([1.       , 1.4142135, 1.7320508, 2.       , 2.2360678, 2.4494896,\n",
              "       2.6457512, 2.828427 , 3.       ], dtype=float32)>"
            ]
          },
          "metadata": {},
          "execution_count": 58
        }
      ]
    },
    {
      "cell_type": "code",
      "source": [
        "tf.math.log(\n",
        "     tf.cast(H, dtype=tf.float32)\n",
        ")"
      ],
      "metadata": {
        "colab": {
          "base_uri": "https://localhost:8080/"
        },
        "id": "a71dE5uMFRVV",
        "outputId": "97399163-77cb-463d-b364-bd7092530edb"
      },
      "execution_count": null,
      "outputs": [
        {
          "output_type": "execute_result",
          "data": {
            "text/plain": [
              "<tf.Tensor: shape=(9,), dtype=float32, numpy=\n",
              "array([0.       , 0.6931472, 1.0986123, 1.3862944, 1.609438 , 1.7917595,\n",
              "       1.9459102, 2.0794415, 2.1972246], dtype=float32)>"
            ]
          },
          "metadata": {},
          "execution_count": 59
        }
      ]
    },
    {
      "cell_type": "code",
      "source": [
        "# Create a variable tensor\n",
        "I = tf.Variable(np.arange(0, 5))\n",
        "I"
      ],
      "metadata": {
        "colab": {
          "base_uri": "https://localhost:8080/"
        },
        "id": "E0f0SWD9GRqV",
        "outputId": "b1afc7b7-2db0-4407-9906-68f66ffed732"
      },
      "execution_count": null,
      "outputs": [
        {
          "output_type": "execute_result",
          "data": {
            "text/plain": [
              "<tf.Variable 'Variable:0' shape=(5,) dtype=int64, numpy=array([0, 1, 2, 3, 4])>"
            ]
          },
          "metadata": {},
          "execution_count": 60
        }
      ]
    },
    {
      "cell_type": "code",
      "source": [
        "I.assign([0, 1, 2, 4, 50])"
      ],
      "metadata": {
        "colab": {
          "base_uri": "https://localhost:8080/"
        },
        "id": "KuL9NdQhH8iH",
        "outputId": "631d3805-9565-4fab-afb5-17e17b895270"
      },
      "execution_count": null,
      "outputs": [
        {
          "output_type": "execute_result",
          "data": {
            "text/plain": [
              "<tf.Variable 'UnreadVariable' shape=(5,) dtype=int64, numpy=array([ 0,  1,  2,  4, 50])>"
            ]
          },
          "metadata": {},
          "execution_count": 61
        }
      ]
    },
    {
      "cell_type": "code",
      "source": [
        "I.assign_add([10, 10, 10, 10, 10])"
      ],
      "metadata": {
        "colab": {
          "base_uri": "https://localhost:8080/"
        },
        "id": "3HuVXJnBH8Wk",
        "outputId": "c1286b0e-e058-41a7-9930-d8d78755c59e"
      },
      "execution_count": null,
      "outputs": [
        {
          "output_type": "execute_result",
          "data": {
            "text/plain": [
              "<tf.Variable 'UnreadVariable' shape=(5,) dtype=int64, numpy=array([10, 11, 12, 14, 60])>"
            ]
          },
          "metadata": {},
          "execution_count": 62
        }
      ]
    },
    {
      "cell_type": "code",
      "source": [
        "# Create a tensor from a NumPy array\n",
        "J = tf.constant(np.array([3., 7., 10.]))\n",
        "J"
      ],
      "metadata": {
        "colab": {
          "base_uri": "https://localhost:8080/"
        },
        "id": "OVJlEyEdH8LQ",
        "outputId": "fc269c8d-ef0a-465a-8b46-2a11fe3bf2a7"
      },
      "execution_count": null,
      "outputs": [
        {
          "output_type": "execute_result",
          "data": {
            "text/plain": [
              "<tf.Tensor: shape=(3,), dtype=float64, numpy=array([ 3.,  7., 10.])>"
            ]
          },
          "metadata": {},
          "execution_count": 63
        }
      ]
    },
    {
      "cell_type": "code",
      "source": [
        "np.array(J), type(np.array(J))"
      ],
      "metadata": {
        "colab": {
          "base_uri": "https://localhost:8080/"
        },
        "id": "sUd4x53tIRJM",
        "outputId": "7608a140-50f5-44a3-b612-71326a75804f"
      },
      "execution_count": null,
      "outputs": [
        {
          "output_type": "execute_result",
          "data": {
            "text/plain": [
              "(array([ 3.,  7., 10.]), numpy.ndarray)"
            ]
          },
          "metadata": {},
          "execution_count": 64
        }
      ]
    },
    {
      "cell_type": "code",
      "source": [
        "J.numpy(), type(J.numpy())"
      ],
      "metadata": {
        "colab": {
          "base_uri": "https://localhost:8080/"
        },
        "id": "gQxjJB6BIZpZ",
        "outputId": "651b14fa-c7b1-4102-c48a-4f29f728f65a"
      },
      "execution_count": null,
      "outputs": [
        {
          "output_type": "execute_result",
          "data": {
            "text/plain": [
              "(array([ 3.,  7., 10.]), numpy.ndarray)"
            ]
          },
          "metadata": {},
          "execution_count": 65
        }
      ]
    },
    {
      "cell_type": "code",
      "source": [
        "# Create a tensor from NumPy and from an array\n",
        "numpy_J = tf.constant(np.array([3., 7., 10.])) # will be float64 (due to NumPy)\n",
        "tensor_J = tf.constant([3., 7., 10.]) # will be float32 (due to being TensorFlow default)\n",
        "numpy_J.dtype, tensor_J.dtype"
      ],
      "metadata": {
        "colab": {
          "base_uri": "https://localhost:8080/"
        },
        "id": "Wu_oEFYRIdhI",
        "outputId": "7c7db206-f671-41d1-92de-68084e54f656"
      },
      "execution_count": null,
      "outputs": [
        {
          "output_type": "execute_result",
          "data": {
            "text/plain": [
              "(tf.float64, tf.float32)"
            ]
          },
          "metadata": {},
          "execution_count": 66
        }
      ]
    },
    {
      "cell_type": "code",
      "source": [
        "# Create the same function and decorate it with tf.function\n",
        "@tf.function\n",
        "def tf_function(x, y):\n",
        "  return x ** 2 + y\n",
        "\n",
        "x = tf.constant(np.arange(0, 10))\n",
        "y = tf.constant(np.arange(10, 20))\n",
        "tf_function(x, y)"
      ],
      "metadata": {
        "colab": {
          "base_uri": "https://localhost:8080/"
        },
        "id": "-JY0vq8BZ8XX",
        "outputId": "4b9ce64c-0402-4e7f-ed5a-e5df5f795d13"
      },
      "execution_count": null,
      "outputs": [
        {
          "output_type": "execute_result",
          "data": {
            "text/plain": [
              "<tf.Tensor: shape=(10,), dtype=int64, numpy=array([ 10,  12,  16,  22,  30,  40,  52,  66,  82, 100])>"
            ]
          },
          "metadata": {},
          "execution_count": 67
        }
      ]
    },
    {
      "cell_type": "code",
      "source": [
        "print(tf.config.list_physical_devices('GPU'))"
      ],
      "metadata": {
        "colab": {
          "base_uri": "https://localhost:8080/"
        },
        "id": "OzM1yQfaIqKM",
        "outputId": "6be56b1e-544c-4c46-a2d5-43b89d1143d1"
      },
      "execution_count": null,
      "outputs": [
        {
          "output_type": "stream",
          "name": "stdout",
          "text": [
            "[PhysicalDevice(name='/physical_device:GPU:0', device_type='GPU')]\n"
          ]
        }
      ]
    },
    {
      "cell_type": "code",
      "source": [
        "!nvidia-smi"
      ],
      "metadata": {
        "colab": {
          "base_uri": "https://localhost:8080/"
        },
        "id": "4lnp_hIHahza",
        "outputId": "014141c5-3223-4e9d-d03a-38a7679d875c"
      },
      "execution_count": null,
      "outputs": [
        {
          "output_type": "stream",
          "name": "stdout",
          "text": [
            "Mon May 16 01:10:21 2022       \n",
            "+-----------------------------------------------------------------------------+\n",
            "| NVIDIA-SMI 460.32.03    Driver Version: 460.32.03    CUDA Version: 11.2     |\n",
            "|-------------------------------+----------------------+----------------------+\n",
            "| GPU  Name        Persistence-M| Bus-Id        Disp.A | Volatile Uncorr. ECC |\n",
            "| Fan  Temp  Perf  Pwr:Usage/Cap|         Memory-Usage | GPU-Util  Compute M. |\n",
            "|                               |                      |               MIG M. |\n",
            "|===============================+======================+======================|\n",
            "|   0  Tesla T4            Off  | 00000000:00:04.0 Off |                    0 |\n",
            "| N/A   42C    P0    26W /  70W |    266MiB / 15109MiB |      0%      Default |\n",
            "|                               |                      |                  N/A |\n",
            "+-------------------------------+----------------------+----------------------+\n",
            "                                                                               \n",
            "+-----------------------------------------------------------------------------+\n",
            "| Processes:                                                                  |\n",
            "|  GPU   GI   CI        PID   Type   Process name                  GPU Memory |\n",
            "|        ID   ID                                                   Usage      |\n",
            "|=============================================================================|\n",
            "+-----------------------------------------------------------------------------+\n"
          ]
        }
      ]
    },
    {
      "cell_type": "code",
      "source": [
        ""
      ],
      "metadata": {
        "id": "PKmWgn6Faodh"
      },
      "execution_count": null,
      "outputs": []
    }
  ]
}