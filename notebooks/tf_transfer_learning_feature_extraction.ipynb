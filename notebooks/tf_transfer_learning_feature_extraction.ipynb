{
  "nbformat": 4,
  "nbformat_minor": 0,
  "metadata": {
    "colab": {
      "name": "tf_transfer_learning_p1.ipynb",
      "provenance": [],
      "authorship_tag": "ABX9TyP7s60rSF3oJvG5KNFQzlY5",
      "include_colab_link": true
    },
    "kernelspec": {
      "name": "python3",
      "display_name": "Python 3"
    },
    "language_info": {
      "name": "python"
    },
    "accelerator": "GPU"
  },
  "cells": [
    {
      "cell_type": "markdown",
      "metadata": {
        "id": "view-in-github",
        "colab_type": "text"
      },
      "source": [
        "<a href=\"https://colab.research.google.com/github/viddev1/tensorflow_notebooks/blob/main/tf_transfer_learning_p1.ipynb\" target=\"_parent\"><img src=\"https://colab.research.google.com/assets/colab-badge.svg\" alt=\"Open In Colab\"/></a>"
      ]
    },
    {
      "cell_type": "code",
      "execution_count": 2,
      "metadata": {
        "colab": {
          "base_uri": "https://localhost:8080/"
        },
        "id": "EljVjEuMxNmj",
        "outputId": "e463f96f-3da9-4778-a36c-ec9baf94048d"
      },
      "outputs": [
        {
          "output_type": "stream",
          "name": "stdout",
          "text": [
            "Wed May 25 02:57:34 2022       \n",
            "+-----------------------------------------------------------------------------+\n",
            "| NVIDIA-SMI 460.32.03    Driver Version: 460.32.03    CUDA Version: 11.2     |\n",
            "|-------------------------------+----------------------+----------------------+\n",
            "| GPU  Name        Persistence-M| Bus-Id        Disp.A | Volatile Uncorr. ECC |\n",
            "| Fan  Temp  Perf  Pwr:Usage/Cap|         Memory-Usage | GPU-Util  Compute M. |\n",
            "|                               |                      |               MIG M. |\n",
            "|===============================+======================+======================|\n",
            "|   0  Tesla T4            Off  | 00000000:00:04.0 Off |                    0 |\n",
            "| N/A   52C    P8    12W /  70W |      0MiB / 15109MiB |      0%      Default |\n",
            "|                               |                      |                  N/A |\n",
            "+-------------------------------+----------------------+----------------------+\n",
            "                                                                               \n",
            "+-----------------------------------------------------------------------------+\n",
            "| Processes:                                                                  |\n",
            "|  GPU   GI   CI        PID   Type   Process name                  GPU Memory |\n",
            "|        ID   ID                                                   Usage      |\n",
            "|=============================================================================|\n",
            "|  No running processes found                                                 |\n",
            "+-----------------------------------------------------------------------------+\n"
          ]
        }
      ],
      "source": [
        "!nvidia-smi"
      ]
    },
    {
      "cell_type": "code",
      "source": [
        "# Get data (10% of labels)\n",
        "import zipfile\n",
        "\n",
        "# Download data\n",
        "!wget https://storage.googleapis.com/ztm_tf_course/food_vision/10_food_classes_10_percent.zip\n",
        "\n",
        "# Unzip the downloaded file\n",
        "zip_ref = zipfile.ZipFile(\"10_food_classes_10_percent.zip\", \"r\")\n",
        "zip_ref.extractall()\n",
        "zip_ref.close()"
      ],
      "metadata": {
        "colab": {
          "base_uri": "https://localhost:8080/"
        },
        "id": "v_ke0r7czbtK",
        "outputId": "2254fcc4-a99f-457c-fa71-0c8fc75150ea"
      },
      "execution_count": 3,
      "outputs": [
        {
          "output_type": "stream",
          "name": "stdout",
          "text": [
            "--2022-05-25 02:57:35--  https://storage.googleapis.com/ztm_tf_course/food_vision/10_food_classes_10_percent.zip\n",
            "Resolving storage.googleapis.com (storage.googleapis.com)... 173.194.69.128, 108.177.119.128, 172.217.218.128, ...\n",
            "Connecting to storage.googleapis.com (storage.googleapis.com)|173.194.69.128|:443... connected.\n",
            "HTTP request sent, awaiting response... 200 OK\n",
            "Length: 168546183 (161M) [application/zip]\n",
            "Saving to: ‘10_food_classes_10_percent.zip’\n",
            "\n",
            "10_food_classes_10_ 100%[===================>] 160.74M  97.0MB/s    in 1.7s    \n",
            "\n",
            "2022-05-25 02:57:37 (97.0 MB/s) - ‘10_food_classes_10_percent.zip’ saved [168546183/168546183]\n",
            "\n"
          ]
        }
      ]
    },
    {
      "cell_type": "code",
      "source": [
        "import os\n",
        "for dirpath, dirnames, filenames in os.walk(\"10_food_classes_10_percent\"):\n",
        "  print(f\"There are {len(dirnames)} directories and {len(filenames)} images in '{dirpath} \")"
      ],
      "metadata": {
        "colab": {
          "base_uri": "https://localhost:8080/"
        },
        "id": "CtuLjo0v36NH",
        "outputId": "104eda32-11e2-4f8f-d4c8-2a18dddf243f"
      },
      "execution_count": 4,
      "outputs": [
        {
          "output_type": "stream",
          "name": "stdout",
          "text": [
            "There are 2 directories and 0 images in '10_food_classes_10_percent \n",
            "There are 10 directories and 0 images in '10_food_classes_10_percent/train \n",
            "There are 0 directories and 75 images in '10_food_classes_10_percent/train/sushi \n",
            "There are 0 directories and 75 images in '10_food_classes_10_percent/train/pizza \n",
            "There are 0 directories and 75 images in '10_food_classes_10_percent/train/chicken_curry \n",
            "There are 0 directories and 75 images in '10_food_classes_10_percent/train/fried_rice \n",
            "There are 0 directories and 75 images in '10_food_classes_10_percent/train/ice_cream \n",
            "There are 0 directories and 75 images in '10_food_classes_10_percent/train/grilled_salmon \n",
            "There are 0 directories and 75 images in '10_food_classes_10_percent/train/chicken_wings \n",
            "There are 0 directories and 75 images in '10_food_classes_10_percent/train/ramen \n",
            "There are 0 directories and 75 images in '10_food_classes_10_percent/train/hamburger \n",
            "There are 0 directories and 75 images in '10_food_classes_10_percent/train/steak \n",
            "There are 10 directories and 0 images in '10_food_classes_10_percent/test \n",
            "There are 0 directories and 250 images in '10_food_classes_10_percent/test/sushi \n",
            "There are 0 directories and 250 images in '10_food_classes_10_percent/test/pizza \n",
            "There are 0 directories and 250 images in '10_food_classes_10_percent/test/chicken_curry \n",
            "There are 0 directories and 250 images in '10_food_classes_10_percent/test/fried_rice \n",
            "There are 0 directories and 250 images in '10_food_classes_10_percent/test/ice_cream \n",
            "There are 0 directories and 250 images in '10_food_classes_10_percent/test/grilled_salmon \n",
            "There are 0 directories and 250 images in '10_food_classes_10_percent/test/chicken_wings \n",
            "There are 0 directories and 250 images in '10_food_classes_10_percent/test/ramen \n",
            "There are 0 directories and 250 images in '10_food_classes_10_percent/test/hamburger \n",
            "There are 0 directories and 250 images in '10_food_classes_10_percent/test/steak \n"
          ]
        }
      ]
    },
    {
      "cell_type": "code",
      "source": [
        "from tensorflow.keras.preprocessing.image import ImageDataGenerator\n",
        "\n",
        "img_shape = (224, 224)\n",
        "batch_size = 32\n",
        "\n",
        "train_dir = \"10_food_classes_10_percent/train/\"\n",
        "test_dir = \"10_food_classes_10_percent/test/\"\n",
        "\n",
        "train_datagen = ImageDataGenerator(rescale=1/255.)\n",
        "test_datagen = ImageDataGenerator(rescale=1/255.)\n",
        "\n",
        "print(\"training images:\")\n",
        "train_data_10_percent = train_datagen.flow_from_directory(train_dir,\n",
        "                                                          target_size=img_shape,\n",
        "                                                          batch_size=batch_size,\n",
        "                                                          class_mode='categorical')\n",
        "\n",
        "print(\"testing images:\")\n",
        "test_data_10_percent = test_datagen.flow_from_directory(test_dir,\n",
        "                                                          target_size=img_shape,\n",
        "                                                          batch_size=batch_size,\n",
        "                                                          class_mode='categorical')"
      ],
      "metadata": {
        "colab": {
          "base_uri": "https://localhost:8080/"
        },
        "id": "L9QAJhjt4URL",
        "outputId": "31113366-3b69-49f4-e9ca-a44f4050f698"
      },
      "execution_count": 5,
      "outputs": [
        {
          "output_type": "stream",
          "name": "stdout",
          "text": [
            "training images:\n",
            "Found 750 images belonging to 10 classes.\n",
            "testing images:\n",
            "Found 2500 images belonging to 10 classes.\n"
          ]
        }
      ]
    },
    {
      "cell_type": "code",
      "source": [
        "import datetime\n",
        "import tensorflow as tf\n",
        "def create_tensorboard_callback(dir, exp_name):\n",
        "  log_dir = dir + \"/\" + exp_name + \"/\" + datetime.datetime.now().strftime(\"%Y%m%d-%H%M%S\")\n",
        "  tensorboard_callback =  tf.keras.callbacks.TensorBoard(log_dir=log_dir)\n",
        "  print(f\"saving tensorboard log files to: {log_dir}\")\n",
        "  return tensorboard_callback"
      ],
      "metadata": {
        "id": "uXI2sPcz5c8l"
      },
      "execution_count": 6,
      "outputs": []
    },
    {
      "cell_type": "code",
      "source": [
        "import tensorflow as tf\n",
        "import tensorflow_hub as hub\n",
        "from tensorflow.keras import layers"
      ],
      "metadata": {
        "id": "-_kSCOB07wlV"
      },
      "execution_count": 7,
      "outputs": []
    },
    {
      "cell_type": "code",
      "source": [
        "# Resnet 50 V2 feature vector\n",
        "resnet_url = \"https://tfhub.dev/google/imagenet/resnet_v2_50/feature_vector/4\"\n",
        "\n",
        "# Original: EfficientNetB0 feature vector (version 1)\n",
        "efficientnet_url = \"https://tfhub.dev/tensorflow/efficientnet/b0/feature-vector/1\"\n",
        "\n",
        "# # New: EfficientNetB0 feature vector (version 2)\n",
        "# efficientnet_url = \"https://tfhub.dev/google/imagenet/efficientnet_v2_imagenet1k_b0/feature_vector/2\""
      ],
      "metadata": {
        "id": "C7R_mhKq-6eO"
      },
      "execution_count": 8,
      "outputs": []
    },
    {
      "cell_type": "code",
      "source": [
        "def create_model(model_url, num_classes=10):\n",
        "  fea_ext_layer = hub.KerasLayer(model_url,\n",
        "                                 trainable=False,\n",
        "                                 name='feature_extraction_layer',\n",
        "                                 input_shape=img_shape+(3,)\n",
        "                                 )\n",
        "  model = tf.keras.Sequential([\n",
        "                               fea_ext_layer,\n",
        "                               layers.Dense(10, activation='softmax', name='output_layer')\n",
        "  ])\n",
        "  return model"
      ],
      "metadata": {
        "id": "PnEmMS45_fbp"
      },
      "execution_count": 9,
      "outputs": []
    },
    {
      "cell_type": "code",
      "source": [
        "resnet_model = create_model(resnet_url, num_classes=train_data_10_percent.num_classes)\n",
        "\n",
        "resnet_model.compile(loss='categorical_crossentropy',\n",
        "                     optimizer=tf.keras.optimizers.Adam(),\n",
        "                     metrics=['accuracy']\n",
        "                     )"
      ],
      "metadata": {
        "id": "x_HBK8UtAEEj"
      },
      "execution_count": 10,
      "outputs": []
    },
    {
      "cell_type": "code",
      "source": [
        "resnet_history = resnet_model.fit(train_data_10_percent,\n",
        "                                  epochs=5,\n",
        "                                  steps_per_epoch=len(train_data_10_percent),\n",
        "                                  validation_data=test_data_10_percent,\n",
        "                                  validation_steps=len(test_data_10_percent),\n",
        "                                  callbacks=[create_tensorboard_callback(dir=\"tensorflow_hub\",\n",
        "                                                                         exp_name=\"resnet50v2\")])"
      ],
      "metadata": {
        "colab": {
          "base_uri": "https://localhost:8080/"
        },
        "id": "tpNdyQj3Aypz",
        "outputId": "55b86eda-cc8b-4177-d24e-3d822605443a"
      },
      "execution_count": 11,
      "outputs": [
        {
          "output_type": "stream",
          "name": "stdout",
          "text": [
            "saving tensorboard log files to: tensorflow_hub/resnet50v2/20220525-025758\n",
            "Epoch 1/5\n",
            "24/24 [==============================] - 42s 1s/step - loss: 2.1585 - accuracy: 0.3000 - val_loss: 1.3215 - val_accuracy: 0.5812\n",
            "Epoch 2/5\n",
            "24/24 [==============================] - 16s 695ms/step - loss: 1.0091 - accuracy: 0.7080 - val_loss: 0.9283 - val_accuracy: 0.6924\n",
            "Epoch 3/5\n",
            "24/24 [==============================] - 16s 701ms/step - loss: 0.6722 - accuracy: 0.7987 - val_loss: 0.7969 - val_accuracy: 0.7420\n",
            "Epoch 4/5\n",
            "24/24 [==============================] - 17s 715ms/step - loss: 0.5189 - accuracy: 0.8507 - val_loss: 0.7262 - val_accuracy: 0.7664\n",
            "Epoch 5/5\n",
            "24/24 [==============================] - 16s 705ms/step - loss: 0.4067 - accuracy: 0.9093 - val_loss: 0.6925 - val_accuracy: 0.7792\n"
          ]
        }
      ]
    },
    {
      "cell_type": "code",
      "source": [
        "import matplotlib.pyplot as plt\n",
        "\n",
        "def plot_loss_curves(history):\n",
        "  loss = history.history['loss']\n",
        "  val_loss = history.history['val_loss']\n",
        "  accuracy = history.history['accuracy']\n",
        "  val_accuracy = history.history['val_accuracy']\n",
        "\n",
        "  epochs = range(len(history.history['loss']))\n",
        "\n",
        "  plt.plot(epochs, loss, label='training_loss')\n",
        "  plt.plot(epochs, val_loss, label='validation loss')\n",
        "  plt.title('Loss')\n",
        "  plt.xlabel('Epochs')\n",
        "  plt.legend()\n",
        "\n",
        "  plt.figure()\n",
        "  plt.plot(epochs, accuracy, label='training accuracy')\n",
        "  plt.plot(epochs, val_accuracy, label='validation accuracy')\n",
        "  plt.title('Accuracy')\n",
        "  plt.xlabel('Epochs')\n",
        "  plt.legend()"
      ],
      "metadata": {
        "id": "sQHcJOYKBby-"
      },
      "execution_count": 12,
      "outputs": []
    },
    {
      "cell_type": "code",
      "source": [
        "plot_loss_curves(resnet_history)"
      ],
      "metadata": {
        "colab": {
          "base_uri": "https://localhost:8080/",
          "height": 573
        },
        "id": "suOXeCfhCriO",
        "outputId": "ba4e98a7-610b-4089-bf67-9d5ed1b49f6e"
      },
      "execution_count": 13,
      "outputs": [
        {
          "output_type": "display_data",
          "data": {
            "text/plain": [
              "<Figure size 432x288 with 1 Axes>"
            ],
            "image/png": "[encoded data removed]"
          },
          "metadata": {
            "needs_background": "light"
          }
        },
        {
          "output_type": "display_data",
          "data": {
            "text/plain": [
              "<Figure size 432x288 with 1 Axes>"
            ],
            "image/png": "[encoded data removed]"
          },
          "metadata": {
            "needs_background": "light"
          }
        }
      ]
    },
    {
      "cell_type": "code",
      "source": [
        "resnet_model.summary()"
      ],
      "metadata": {
        "colab": {
          "base_uri": "https://localhost:8080/"
        },
        "id": "fATnVZw5CvJj",
        "outputId": "f444c72f-98c3-45a2-a6f4-ca8ab4f30c52"
      },
      "execution_count": 14,
      "outputs": [
        {
          "output_type": "stream",
          "name": "stdout",
          "text": [
            "Model: \"sequential\"\n",
            "_________________________________________________________________\n",
            " Layer (type)                Output Shape              Param #   \n",
            "=================================================================\n",
            " feature_extraction_layer (K  (None, 2048)             23564800  \n",
            " erasLayer)                                                      \n",
            "                                                                 \n",
            " output_layer (Dense)        (None, 10)                20490     \n",
            "                                                                 \n",
            "=================================================================\n",
            "Total params: 23,585,290\n",
            "Trainable params: 20,490\n",
            "Non-trainable params: 23,564,800\n",
            "_________________________________________________________________\n"
          ]
        }
      ]
    },
    {
      "cell_type": "code",
      "source": [
        "efficientnet_model = create_model(model_url=efficientnet_url,\n",
        "                                  num_classes=train_data_10_percent.num_classes)\n",
        "\n",
        "efficientnet_model.compile(loss='categorical_crossentropy',\n",
        "                     optimizer=tf.keras.optimizers.Adam(),\n",
        "                     metrics=['accuracy'])\n",
        "\n",
        "efficientnet_history = efficientnet_model.fit(train_data_10_percent,\n",
        "                                  epochs=5,\n",
        "                                  steps_per_epoch=len(train_data_10_percent),\n",
        "                                  validation_data=test_data_10_percent,\n",
        "                                  validation_steps=len(test_data_10_percent),\n",
        "                                  callbacks=[create_tensorboard_callback(dir=\"tensorflow_hub\",\n",
        "                                                                         exp_name=\"efficientnetB0\")])"
      ],
      "metadata": {
        "colab": {
          "base_uri": "https://localhost:8080/"
        },
        "id": "j52eNqCTDDTK",
        "outputId": "db6d0bd8-8871-4e73-f71a-7e8090592a6c"
      },
      "execution_count": 15,
      "outputs": [
        {
          "output_type": "stream",
          "name": "stdout",
          "text": [
            "saving tensorboard log files to: tensorflow_hub/efficientnetB0/20220525-025957\n",
            "Epoch 1/5\n",
            "24/24 [==============================] - 34s 1s/step - loss: 1.8728 - accuracy: 0.4027 - val_loss: 1.2987 - val_accuracy: 0.7172\n",
            "Epoch 2/5\n",
            "24/24 [==============================] - 18s 776ms/step - loss: 1.0684 - accuracy: 0.7680 - val_loss: 0.8762 - val_accuracy: 0.8152\n",
            "Epoch 3/5\n",
            "24/24 [==============================] - 19s 819ms/step - loss: 0.7704 - accuracy: 0.8240 - val_loss: 0.7041 - val_accuracy: 0.8444\n",
            "Epoch 4/5\n",
            "24/24 [==============================] - 17s 752ms/step - loss: 0.6183 - accuracy: 0.8587 - val_loss: 0.6189 - val_accuracy: 0.8576\n",
            "Epoch 5/5\n",
            "24/24 [==============================] - 19s 795ms/step - loss: 0.5208 - accuracy: 0.8800 - val_loss: 0.5616 - val_accuracy: 0.8680\n"
          ]
        }
      ]
    },
    {
      "cell_type": "code",
      "source": [
        "plot_loss_curves(efficientnet_history)"
      ],
      "metadata": {
        "id": "UxVvhzWtJcqw"
      },
      "execution_count": 15,
      "outputs": []
    },
    {
      "cell_type": "code",
      "source": [
        "efficientnet_model.summary()"
      ],
      "metadata": {
        "colab": {
          "base_uri": "https://localhost:8080/"
        },
        "id": "MXj8ZFH4Jj4V",
        "outputId": "bed167db-7f25-4d44-cc6b-2e5a838fcfcb"
      },
      "execution_count": 16,
      "outputs": [
        {
          "output_type": "stream",
          "name": "stdout",
          "text": [
            "Model: \"sequential_1\"\n",
            "_________________________________________________________________\n",
            " Layer (type)                Output Shape              Param #   \n",
            "=================================================================\n",
            " feature_extraction_layer (K  (None, 1280)             4049564   \n",
            " erasLayer)                                                      \n",
            "                                                                 \n",
            " output_layer (Dense)        (None, 10)                12810     \n",
            "                                                                 \n",
            "=================================================================\n",
            "Total params: 4,062,374\n",
            "Trainable params: 12,810\n",
            "Non-trainable params: 4,049,564\n",
            "_________________________________________________________________\n"
          ]
        }
      ]
    },
    {
      "cell_type": "code",
      "source": [
        "!tensorboard dev upload --logdir ./tensorflow_hub/ \\\n",
        "  --name \"EfficientNetB0 vs ResNet50V2\" \\\n",
        "  --description \"Comparing two different TF Hub Feature Extractor model actitectures using 10% of training data images\" \\\n",
        "  --one_shot"
      ],
      "metadata": {
        "colab": {
          "base_uri": "https://localhost:8080/"
        },
        "id": "TDHE8McnJosK",
        "outputId": "44b98771-987f-4a24-eb86-52c6ca328e82"
      },
      "execution_count": 17,
      "outputs": [
        {
          "output_type": "stream",
          "name": "stdout",
          "text": [
            "\n",
            "***** TensorBoard Uploader *****\n",
            "\n",
            "This will upload your TensorBoard logs to https://tensorboard.dev/ from\n",
            "the following directory:\n",
            "\n",
            "./tensorflow_hub/\n",
            "\n",
            "This TensorBoard will be visible to everyone. Do not upload sensitive\n",
            "data.\n",
            "\n",
            "Your use of this service is subject to Google's Terms of Service\n",
            "<https://policies.google.com/terms> and Privacy Policy\n",
            "<https://policies.google.com/privacy>, and TensorBoard.dev's Terms of Service\n",
            "<https://tensorboard.dev/policy/terms/>.\n",
            "\n",
            "This notice will not be shown again while you are logged into the uploader.\n",
            "To log out, run `tensorboard dev auth revoke`.\n",
            "\n",
            "Continue? (yes/NO) yes\n",
            "\n",
            "Please visit this URL to authorize this application: https://accounts.google.com/o/oauth2/auth?response_type=code&client_id=373649185512-8v619h5kft38l4456nm2dj4ubeqsrvh6.apps.googleusercontent.com&redirect_uri=urn%3Aietf%3Awg%3Aoauth%3A2.0%3Aoob&scope=openid+https%3A%2F%2Fwww.googleapis.com%2Fauth%2Fuserinfo.email&state=46WEx4IliwekEFs1UNrvHFrKQtIrzS&prompt=consent&access_type=offline\n",
            "Enter the authorization code: 4/1AX4XfWh_Xib9LHIoagTbRuymHU8uTZaOil7A9yeCK53G7vn30g9WZFNhR1c\n",
            "\n",
            "\n",
            "New experiment created. View your TensorBoard at: https://tensorboard.dev/experiment/xdjvTGB7SXKnZrrbj0GPSA/\n",
            "\n",
            "\u001b[1m[2022-05-25T03:02:54]\u001b[0m Started scanning logdir.\n",
            "\u001b[1m[2022-05-25T03:02:57]\u001b[0m Total uploaded: 60 scalars, 0 tensors, 2 binary objects (5.6 MB)\n",
            "\u001b[1m[2022-05-25T03:02:57]\u001b[0m Done scanning logdir.\n",
            "\n",
            "\n",
            "Done. View your TensorBoard at https://tensorboard.dev/experiment/xdjvTGB7SXKnZrrbj0GPSA/\n"
          ]
        }
      ]
    },
    {
      "cell_type": "code",
      "source": [
        "!tensorboard dev list"
      ],
      "metadata": {
        "colab": {
          "base_uri": "https://localhost:8080/"
        },
        "id": "G96VJp4pKi8t",
        "outputId": "de021ed6-93b8-4a79-e645-5a7c5aeaa7f4"
      },
      "execution_count": 18,
      "outputs": [
        {
          "output_type": "stream",
          "name": "stdout",
          "text": [
            "https://tensorboard.dev/experiment/xdjvTGB7SXKnZrrbj0GPSA/\n",
            "\tName                 EfficientNetB0 vs ResNet50V2\n",
            "\tDescription          Comparing two different TF Hub Feature Extractor model actitectures using 10% of training data images\n",
            "\tId                   xdjvTGB7SXKnZrrbj0GPSA\n",
            "\tCreated              2022-05-25 03:02:54 (3 minutes ago)\n",
            "\tUpdated              2022-05-25 03:02:57 (3 minutes ago)\n",
            "\tRuns                 4\n",
            "\tTags                 5\n",
            "\tScalars              60\n",
            "\tTensor bytes         0\n",
            "\tBinary object bytes  5918538\n",
            "Total: 1 experiment(s)\n"
          ]
        }
      ]
    },
    {
      "cell_type": "code",
      "source": [
        "!tensorboard dev delete --experiment_id xdjvTGB7SXKnZrrbj0GPSA"
      ],
      "metadata": {
        "colab": {
          "base_uri": "https://localhost:8080/"
        },
        "id": "iXglC-vyLhUV",
        "outputId": "f8553e01-3d8c-4f44-cf8f-c5d8fa1572f2"
      },
      "execution_count": 19,
      "outputs": [
        {
          "output_type": "stream",
          "name": "stdout",
          "text": [
            "Deleted experiment xdjvTGB7SXKnZrrbj0GPSA.\n"
          ]
        }
      ]
    },
    {
      "cell_type": "code",
      "source": [
        "!tensorboard dev list"
      ],
      "metadata": {
        "colab": {
          "base_uri": "https://localhost:8080/"
        },
        "id": "iFrxIexHLqJ0",
        "outputId": "9c62072f-3cd0-44e7-ab99-dd60af63d416"
      },
      "execution_count": 20,
      "outputs": [
        {
          "output_type": "stream",
          "name": "stdout",
          "text": [
            "No experiments. Use `tensorboard dev upload` to get started.\n"
          ]
        }
      ]
    },
    {
      "cell_type": "code",
      "source": [
        ""
      ],
      "metadata": {
        "id": "PaODMDqBLskr"
      },
      "execution_count": null,
      "outputs": []
    }
  ]
}