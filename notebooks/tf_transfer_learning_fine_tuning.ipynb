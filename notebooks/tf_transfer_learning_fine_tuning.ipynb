{
  "nbformat": 4,
  "nbformat_minor": 0,
  "metadata": {
    "colab": {
      "name": "tf_transfer_learning_fine_tuning.ipynb",
      "provenance": [],
      "collapsed_sections": [],
      "authorship_tag": "ABX9TyP3rcgV2m4whUuAEssm3Kgz",
      "include_colab_link": true
    },
    "kernelspec": {
      "name": "python3",
      "display_name": "Python 3"
    },
    "language_info": {
      "name": "python"
    },
    "accelerator": "GPU"
  },
  "cells": [
    {
      "cell_type": "markdown",
      "metadata": {
        "id": "view-in-github",
        "colab_type": "text"
      },
      "source": [
        "<a href=\"https://colab.research.google.com/github/viddev1/tensorflow_notebooks/blob/main/notebooks/tf_transfer_learning_fine_tuning.ipynb\" target=\"_parent\"><img src=\"https://colab.research.google.com/assets/colab-badge.svg\" alt=\"Open In Colab\"/></a>"
      ]
    },
    {
      "cell_type": "code",
      "execution_count": null,
      "metadata": {
        "colab": {
          "base_uri": "https://localhost:8080/"
        },
        "id": "J8-JyqZYqHVq",
        "outputId": "859c172c-1bd5-4115-a52d-bef4ff3416a6"
      },
      "outputs": [
        {
          "output_type": "stream",
          "name": "stdout",
          "text": [
            "Mon May 30 01:54:34 2022       \n",
            "+-----------------------------------------------------------------------------+\n",
            "| NVIDIA-SMI 460.32.03    Driver Version: 460.32.03    CUDA Version: 11.2     |\n",
            "|-------------------------------+----------------------+----------------------+\n",
            "| GPU  Name        Persistence-M| Bus-Id        Disp.A | Volatile Uncorr. ECC |\n",
            "| Fan  Temp  Perf  Pwr:Usage/Cap|         Memory-Usage | GPU-Util  Compute M. |\n",
            "|                               |                      |               MIG M. |\n",
            "|===============================+======================+======================|\n",
            "|   0  Tesla T4            Off  | 00000000:00:04.0 Off |                    0 |\n",
            "| N/A   65C    P8    11W /  70W |      0MiB / 15109MiB |      0%      Default |\n",
            "|                               |                      |                  N/A |\n",
            "+-------------------------------+----------------------+----------------------+\n",
            "                                                                               \n",
            "+-----------------------------------------------------------------------------+\n",
            "| Processes:                                                                  |\n",
            "|  GPU   GI   CI        PID   Type   Process name                  GPU Memory |\n",
            "|        ID   ID                                                   Usage      |\n",
            "|=============================================================================|\n",
            "|  No running processes found                                                 |\n",
            "+-----------------------------------------------------------------------------+\n"
          ]
        }
      ],
      "source": [
        "!nvidia-smi"
      ]
    },
    {
      "cell_type": "code",
      "source": [
        "# Get helper_functions.py script from course GitHub\n",
        "!wget https://raw.githubusercontent.com/mrdbourke/tensorflow-deep-learning/main/extras/helper_functions.py \n",
        "\n",
        "# Import helper functions we're going to use\n",
        "from helper_functions import create_tensorboard_callback, plot_loss_curves, unzip_data, walk_through_dir"
      ],
      "metadata": {
        "colab": {
          "base_uri": "https://localhost:8080/"
        },
        "id": "_yphz6xhzUJt",
        "outputId": "2dfea99b-c37d-4b98-fc59-c4e7f295df82"
      },
      "execution_count": 2,
      "outputs": [
        {
          "output_type": "stream",
          "name": "stdout",
          "text": [
            "--2022-05-31 08:45:15--  https://raw.githubusercontent.com/mrdbourke/tensorflow-deep-learning/main/extras/helper_functions.py\n",
            "Resolving raw.githubusercontent.com (raw.githubusercontent.com)... 185.199.108.133, 185.199.109.133, 185.199.110.133, ...\n",
            "Connecting to raw.githubusercontent.com (raw.githubusercontent.com)|185.199.108.133|:443... connected.\n",
            "HTTP request sent, awaiting response... 200 OK\n",
            "Length: 10246 (10K) [text/plain]\n",
            "Saving to: ‘helper_functions.py’\n",
            "\n",
            "\rhelper_functions.py   0%[                    ]       0  --.-KB/s               \rhelper_functions.py 100%[===================>]  10.01K  --.-KB/s    in 0s      \n",
            "\n",
            "2022-05-31 08:45:16 (110 MB/s) - ‘helper_functions.py’ saved [10246/10246]\n",
            "\n"
          ]
        }
      ]
    },
    {
      "cell_type": "code",
      "source": [
        "!wget https://storage.googleapis.com/ztm_tf_course/food_vision/10_food_classes_10_percent.zip"
      ],
      "metadata": {
        "colab": {
          "base_uri": "https://localhost:8080/"
        },
        "id": "MTWIOcoT1bnM",
        "outputId": "c3c2b48d-6cbf-4d31-a818-2714a1d6ea18"
      },
      "execution_count": 23,
      "outputs": [
        {
          "output_type": "stream",
          "name": "stdout",
          "text": [
            "--2022-05-31 09:00:15--  https://storage.googleapis.com/ztm_tf_course/food_vision/10_food_classes_10_percent.zip\n",
            "Resolving storage.googleapis.com (storage.googleapis.com)... 172.217.2.112, 142.250.73.208, 142.250.65.80, ...\n",
            "Connecting to storage.googleapis.com (storage.googleapis.com)|172.217.2.112|:443... connected.\n",
            "HTTP request sent, awaiting response... 200 OK\n",
            "Length: 168546183 (161M) [application/zip]\n",
            "Saving to: ‘10_food_classes_10_percent.zip’\n",
            "\n",
            "10_food_classes_10_ 100%[===================>] 160.74M   277MB/s    in 0.6s    \n",
            "\n",
            "2022-05-31 09:00:16 (277 MB/s) - ‘10_food_classes_10_percent.zip’ saved [168546183/168546183]\n",
            "\n"
          ]
        }
      ]
    },
    {
      "cell_type": "code",
      "source": [
        "unzip_data(\"10_food_classes_10_percent.zip\")"
      ],
      "metadata": {
        "id": "TxUkpe6G1qCf"
      },
      "execution_count": 24,
      "outputs": []
    },
    {
      "cell_type": "code",
      "source": [
        "walk_through_dir(\"10_food_classes_10_percent\")"
      ],
      "metadata": {
        "colab": {
          "base_uri": "https://localhost:8080/"
        },
        "id": "K18DGdAo11XF",
        "outputId": "20cddcc7-59a3-4f63-b3d1-b09d4669a70b"
      },
      "execution_count": null,
      "outputs": [
        {
          "output_type": "stream",
          "name": "stdout",
          "text": [
            "There are 2 directories and 0 images in '10_food_classes_10_percent'.\n",
            "There are 10 directories and 0 images in '10_food_classes_10_percent/test'.\n",
            "There are 0 directories and 250 images in '10_food_classes_10_percent/test/fried_rice'.\n",
            "There are 0 directories and 250 images in '10_food_classes_10_percent/test/chicken_wings'.\n",
            "There are 0 directories and 250 images in '10_food_classes_10_percent/test/pizza'.\n",
            "There are 0 directories and 250 images in '10_food_classes_10_percent/test/chicken_curry'.\n",
            "There are 0 directories and 250 images in '10_food_classes_10_percent/test/hamburger'.\n",
            "There are 0 directories and 250 images in '10_food_classes_10_percent/test/grilled_salmon'.\n",
            "There are 0 directories and 250 images in '10_food_classes_10_percent/test/ice_cream'.\n",
            "There are 0 directories and 250 images in '10_food_classes_10_percent/test/ramen'.\n",
            "There are 0 directories and 250 images in '10_food_classes_10_percent/test/sushi'.\n",
            "There are 0 directories and 250 images in '10_food_classes_10_percent/test/steak'.\n",
            "There are 10 directories and 0 images in '10_food_classes_10_percent/train'.\n",
            "There are 0 directories and 75 images in '10_food_classes_10_percent/train/fried_rice'.\n",
            "There are 0 directories and 75 images in '10_food_classes_10_percent/train/chicken_wings'.\n",
            "There are 0 directories and 75 images in '10_food_classes_10_percent/train/pizza'.\n",
            "There are 0 directories and 75 images in '10_food_classes_10_percent/train/chicken_curry'.\n",
            "There are 0 directories and 75 images in '10_food_classes_10_percent/train/hamburger'.\n",
            "There are 0 directories and 75 images in '10_food_classes_10_percent/train/grilled_salmon'.\n",
            "There are 0 directories and 75 images in '10_food_classes_10_percent/train/ice_cream'.\n",
            "There are 0 directories and 75 images in '10_food_classes_10_percent/train/ramen'.\n",
            "There are 0 directories and 75 images in '10_food_classes_10_percent/train/sushi'.\n",
            "There are 0 directories and 75 images in '10_food_classes_10_percent/train/steak'.\n"
          ]
        }
      ]
    },
    {
      "cell_type": "code",
      "source": [
        "train_dir_10_percent = \"10_food_classes_10_percent/train/\"\n",
        "test_dir = \"10_food_classes_10_percent/test/\""
      ],
      "metadata": {
        "id": "Fn5Iexx21_52"
      },
      "execution_count": 25,
      "outputs": []
    },
    {
      "cell_type": "code",
      "source": [
        "import tensorflow as tf\n",
        "IMG_SIZE = (224, 224)\n",
        "train_data_10_percent = tf.keras.preprocessing.image_dataset_from_directory(directory=train_dir,\n",
        "                                                                            image_size=IMG_SIZE,\n",
        "                                                                            label_mode=\"categorical\",\n",
        "                                                                            batch_size=32)\n",
        "test_data_10_percent = tf.keras.preprocessing.image_dataset_from_directory(directory=test_dir,\n",
        "                                                                           image_size=IMG_SIZE,\n",
        "                                                                           label_mode=\"categorical\")"
      ],
      "metadata": {
        "colab": {
          "base_uri": "https://localhost:8080/"
        },
        "id": "X7v04ahq2JxZ",
        "outputId": "6b7f49d1-1624-4a1e-a377-a754d77b521b"
      },
      "execution_count": null,
      "outputs": [
        {
          "output_type": "stream",
          "name": "stdout",
          "text": [
            "Found 750 files belonging to 10 classes.\n",
            "Found 2500 files belonging to 10 classes.\n"
          ]
        }
      ]
    },
    {
      "cell_type": "code",
      "source": [
        "train_data_10_percent, test_data_10_percent"
      ],
      "metadata": {
        "colab": {
          "base_uri": "https://localhost:8080/"
        },
        "id": "hkqy2hA83Kl6",
        "outputId": "7ee75d23-f123-4e19-cb2a-a60a39f100f8"
      },
      "execution_count": null,
      "outputs": [
        {
          "output_type": "execute_result",
          "data": {
            "text/plain": [
              "(<BatchDataset element_spec=(TensorSpec(shape=(None, 224, 224, 3), dtype=tf.float32, name=None), TensorSpec(shape=(None, 10), dtype=tf.float32, name=None))>,\n",
              " <BatchDataset element_spec=(TensorSpec(shape=(None, 224, 224, 3), dtype=tf.float32, name=None), TensorSpec(shape=(None, 10), dtype=tf.float32, name=None))>)"
            ]
          },
          "metadata": {},
          "execution_count": 10
        }
      ]
    },
    {
      "cell_type": "code",
      "source": [
        "train_data_10_percent.class_names"
      ],
      "metadata": {
        "colab": {
          "base_uri": "https://localhost:8080/"
        },
        "id": "aknsEs4C3QsP",
        "outputId": "dea68b4b-3944-4032-ec25-b19e7f00672d"
      },
      "execution_count": null,
      "outputs": [
        {
          "output_type": "execute_result",
          "data": {
            "text/plain": [
              "['chicken_curry',\n",
              " 'chicken_wings',\n",
              " 'fried_rice',\n",
              " 'grilled_salmon',\n",
              " 'hamburger',\n",
              " 'ice_cream',\n",
              " 'pizza',\n",
              " 'ramen',\n",
              " 'steak',\n",
              " 'sushi']"
            ]
          },
          "metadata": {},
          "execution_count": 11
        }
      ]
    },
    {
      "cell_type": "code",
      "source": [
        "for images, labels in train_data_10_percent.take(1):\n",
        "  print(images, labels)"
      ],
      "metadata": {
        "colab": {
          "base_uri": "https://localhost:8080/"
        },
        "id": "5Nxi1dd63vwA",
        "outputId": "047c4420-3dd7-4601-de11-f8db031453d7"
      },
      "execution_count": null,
      "outputs": [
        {
          "output_type": "stream",
          "name": "stdout",
          "text": [
            "tf.Tensor(\n",
            "[[[[7.44454727e+01 5.54454727e+01 2.32187500e+01]\n",
            "   [7.20966187e+01 5.34241066e+01 1.94416447e+01]\n",
            "   [8.41734695e+01 6.61734695e+01 2.80223198e+01]\n",
            "   ...\n",
            "   [1.14333401e+01 6.43334055e+00 2.43334031e+00]\n",
            "   [1.03064327e+01 5.30643272e+00 1.30643284e+00]\n",
            "   [1.00580359e+01 5.05803585e+00 1.05803585e+00]]\n",
            "\n",
            "  [[7.52471313e+01 5.52471313e+01 2.08453445e+01]\n",
            "   [7.42598877e+01 5.42598877e+01 1.91438122e+01]\n",
            "   [8.27920990e+01 6.30519791e+01 2.52474499e+01]\n",
            "   ...\n",
            "   [8.78573608e+00 4.78573608e+00 1.78573608e+00]\n",
            "   [1.09378176e+01 6.93781805e+00 3.93781805e+00]\n",
            "   [1.04106789e+01 6.41067886e+00 3.43140793e+00]]\n",
            "\n",
            "  [[7.16881332e+01 5.01613541e+01 1.23488522e+01]\n",
            "   [7.64177322e+01 5.48909454e+01 1.63641586e+01]\n",
            "   [8.72863541e+01 6.64869232e+01 2.54585457e+01]\n",
            "   ...\n",
            "   [5.73216438e+00 4.02234316e+00 4.22517776e-01]\n",
            "   [6.87498665e+00 5.16516542e+00 1.40177250e+00]\n",
            "   [4.35264349e+00 2.64282227e+00 0.00000000e+00]]\n",
            "\n",
            "  ...\n",
            "\n",
            "  [[1.01370224e+02 7.43702240e+01 3.37022614e+00]\n",
            "   [1.02351700e+02 7.53516998e+01 4.42312765e+00]\n",
            "   [1.01344063e+02 7.49869156e+01 3.77263165e+00]\n",
            "   ...\n",
            "   [7.63366699e-01 2.71266460e+00 0.00000000e+00]\n",
            "   [9.45463836e-01 2.94546390e+00 0.00000000e+00]\n",
            "   [2.36633301e-01 1.96397567e+00 0.00000000e+00]]\n",
            "\n",
            "  [[1.05074379e+02 7.80743790e+01 7.07437754e+00]\n",
            "   [1.06285500e+02 7.92854996e+01 8.28964806e+00]\n",
            "   [1.02013412e+02 7.56562729e+01 4.44198704e+00]\n",
            "   ...\n",
            "   [0.00000000e+00 1.78573608e+00 0.00000000e+00]\n",
            "   [1.00000000e+00 3.00000000e+00 0.00000000e+00]\n",
            "   [1.00000000e+00 3.00000000e+00 0.00000000e+00]]\n",
            "\n",
            "  [[1.02407181e+02 7.64071808e+01 2.40718317e+00]\n",
            "   [1.10101105e+02 8.41011047e+01 1.01011028e+01]\n",
            "   [9.49147873e+01 6.93433609e+01 1.51140586e-01]\n",
            "   ...\n",
            "   [9.24437463e-01 2.92443752e+00 0.00000000e+00]\n",
            "   [3.27466428e-01 2.32746649e+00 0.00000000e+00]\n",
            "   [0.00000000e+00 1.22669840e+00 0.00000000e+00]]]\n",
            "\n",
            "\n",
            " [[[1.00000000e+00 1.00000000e+00 1.00000000e+00]\n",
            "   [1.00000000e+00 1.00000000e+00 1.00000000e+00]\n",
            "   [1.00000000e+00 1.00000000e+00 1.00000000e+00]\n",
            "   ...\n",
            "   [5.55664444e+01 3.72092361e+01 3.24948196e+01]\n",
            "   [5.54745102e+01 2.74949760e+01 2.14491138e+01]\n",
            "   [5.49995804e+01 4.70305862e+01 4.71581497e+01]]\n",
            "\n",
            "  [[1.00000000e+00 1.00000000e+00 1.00000000e+00]\n",
            "   [1.00000000e+00 1.00000000e+00 1.00000000e+00]\n",
            "   [1.00000000e+00 1.00000000e+00 1.00000000e+00]\n",
            "   ...\n",
            "   [6.12042732e+01 3.90306091e+01 3.51734428e+01]\n",
            "   [5.67652626e+01 3.23469772e+01 2.56225243e+01]\n",
            "   [5.03670120e+01 4.10713577e+01 4.14285355e+01]]\n",
            "\n",
            "  [[1.00000000e+00 1.00000000e+00 1.00000000e+00]\n",
            "   [1.00000000e+00 1.00000000e+00 1.00000000e+00]\n",
            "   [1.00000000e+00 1.00000000e+00 1.00000000e+00]\n",
            "   ...\n",
            "   [6.54541702e+01 3.93162155e+01 3.48111420e+01]\n",
            "   [5.33570518e+01 3.40714417e+01 2.73571682e+01]\n",
            "   [4.94592628e+01 3.77805710e+01 3.76888771e+01]]\n",
            "\n",
            "  ...\n",
            "\n",
            "  [[1.82091808e+01 1.83622494e+01 1.64387817e+01]\n",
            "   [2.73418198e+01 2.28571434e+01 1.87142773e+01]\n",
            "   [2.68826332e+01 2.24030533e+01 1.97857056e+01]\n",
            "   ...\n",
            "   [8.26784973e+01 4.54437180e+01 3.45661507e+01]\n",
            "   [7.30559235e+01 4.49998245e+01 3.09283848e+01]\n",
            "   [7.21995773e+01 4.14136887e+01 2.81280422e+01]]\n",
            "\n",
            "  [[1.73316231e+01 1.80459080e+01 1.64030514e+01]\n",
            "   [2.48520260e+01 2.11326199e+01 1.79285717e+01]\n",
            "   [2.42142677e+01 2.08571243e+01 1.80714111e+01]\n",
            "   ...\n",
            "   [8.62194214e+01 4.55304794e+01 3.27907372e+01]\n",
            "   [7.02502060e+01 3.87451057e+01 2.38777542e+01]\n",
            "   [7.69795151e+01 4.55302849e+01 3.22446404e+01]]\n",
            "\n",
            "  [[1.61836758e+01 1.86428566e+01 1.71836681e+01]\n",
            "   [2.31428623e+01 1.93571472e+01 1.64285755e+01]\n",
            "   [2.23571434e+01 1.88622456e+01 1.80612221e+01]\n",
            "   ...\n",
            "   [1.04790817e+02 6.03520050e+01 4.42142639e+01]\n",
            "   [7.30359039e+01 4.02298164e+01 2.19645214e+01]\n",
            "   [9.60559464e+01 6.19843864e+01 4.60558586e+01]]]\n",
            "\n",
            "\n",
            " [[[1.38000000e+02 1.01000000e+02 3.10000000e+01]\n",
            "   [1.40285721e+02 1.03285713e+02 3.23316345e+01]\n",
            "   [1.40142868e+02 1.02142853e+02 2.91428566e+01]\n",
            "   ...\n",
            "   [2.75051155e+01 8.50511646e+00 2.93364382e+00]\n",
            "   [3.28112564e+01 1.18112555e+01 6.81125546e+00]\n",
            "   [3.75867920e+01 1.65867920e+01 1.15867920e+01]]\n",
            "\n",
            "  [[1.42857147e+02 1.05857147e+02 3.77653084e+01]\n",
            "   [1.44923477e+02 1.05989799e+02 3.69897957e+01]\n",
            "   [1.44642868e+02 1.06642853e+02 3.56122437e+01]\n",
            "   ...\n",
            "   [2.73725128e+01 8.58677673e+00 4.58677673e+00]\n",
            "   [3.40765572e+01 1.30765581e+01 8.07655811e+00]\n",
            "   [3.83571777e+01 1.73571777e+01 1.23571777e+01]]\n",
            "\n",
            "  [[1.39719391e+02 1.00290817e+02 3.55051041e+01]\n",
            "   [1.39642853e+02 1.00214287e+02 3.34591827e+01]\n",
            "   [1.39811218e+02 1.00428574e+02 3.14285717e+01]\n",
            "   ...\n",
            "   [2.74796658e+01 9.00004387e+00 4.95413017e+00]\n",
            "   [3.43571701e+01 1.55714550e+01 1.15714550e+01]\n",
            "   [3.82908249e+01 1.92908249e+01 1.37193956e+01]]\n",
            "\n",
            "  ...\n",
            "\n",
            "  [[3.44133987e+01 2.80561886e+01 1.82704525e+01]\n",
            "   [3.00101223e+01 2.60407104e+01 1.73825054e+01]\n",
            "   [3.05969009e+01 3.00254707e+01 2.50254707e+01]\n",
            "   ...\n",
            "   [1.16173811e+01 1.36173811e+01 9.04590893e+00]\n",
            "   [9.37239361e+00 1.13723936e+01 6.80092144e+00]\n",
            "   [9.20411682e+00 1.12041168e+01 6.63264513e+00]]\n",
            "\n",
            "  [[6.66174850e+01 5.45460434e+01 4.04031601e+01]\n",
            "   [4.13776703e+01 3.32246056e+01 2.20102959e+01]\n",
            "   [2.83979664e+01 2.58265362e+01 1.92551098e+01]\n",
            "   ...\n",
            "   [1.04999084e+01 1.24999084e+01 7.49990845e+00]\n",
            "   [1.00714417e+01 1.20714417e+01 7.07144165e+00]\n",
            "   [1.32347012e+01 1.52347012e+01 1.02347012e+01]]\n",
            "\n",
            "  [[8.14745255e+01 6.75306549e+01 5.05051079e+01]\n",
            "   [6.29287796e+01 5.27604065e+01 4.05665283e+01]\n",
            "   [3.60716019e+01 3.35001755e+01 2.53573170e+01]\n",
            "   ...\n",
            "   [1.60462418e+01 1.80462418e+01 1.30462427e+01]\n",
            "   [1.49950724e+01 1.69950733e+01 1.19950724e+01]\n",
            "   [1.31991091e+01 1.51991091e+01 1.01991091e+01]]]\n",
            "\n",
            "\n",
            " ...\n",
            "\n",
            "\n",
            " [[[7.53571396e+01 4.48163261e+01 2.33571434e+01]\n",
            "   [5.78316307e+01 3.45459175e+01 2.02397957e+01]\n",
            "   [4.27857132e+01 2.81530609e+01 2.30765305e+01]\n",
            "   ...\n",
            "   [2.27928543e+02 1.95989761e+02 7.48368530e+01]\n",
            "   [2.24928558e+02 1.92260193e+02 8.48826981e+01]\n",
            "   [2.23969406e+02 1.89612228e+02 9.36837692e+01]]\n",
            "\n",
            "  [[9.00969391e+01 5.58571434e+01 2.87602024e+01]\n",
            "   [7.01377563e+01 4.20051003e+01 2.11377544e+01]\n",
            "   [5.05867310e+01 3.14285717e+01 2.15153065e+01]\n",
            "   ...\n",
            "   [2.24729614e+02 1.92872452e+02 8.05001068e+01]\n",
            "   [2.24739716e+02 1.91800964e+02 8.70918274e+01]\n",
            "   [2.10882477e+02 1.78525299e+02 8.02396545e+01]]\n",
            "\n",
            "  [[9.23418350e+01 5.32653046e+01 2.01122437e+01]\n",
            "   [8.48826523e+01 5.29846916e+01 2.48112259e+01]\n",
            "   [6.50663223e+01 3.84489784e+01 2.17091846e+01]\n",
            "   ...\n",
            "   [2.18030502e+02 1.85479507e+02 8.55050049e+01]\n",
            "   [2.06076538e+02 1.74719391e+02 7.39030609e+01]\n",
            "   [2.10418533e+02 1.81418533e+02 7.92654495e+01]]\n",
            "\n",
            "  ...\n",
            "\n",
            "  [[2.27418427e+02 2.09418427e+02 8.49898987e+01]\n",
            "   [2.28984695e+02 2.09214264e+02 8.81683502e+01]\n",
            "   [2.29785736e+02 2.09122437e+02 9.00459137e+01]\n",
            "   ...\n",
            "   [2.47280670e+02 2.30494934e+02 1.40923462e+02]\n",
            "   [2.53030670e+02 2.36515335e+02 1.44530579e+02]\n",
            "   [2.48081528e+02 2.32295792e+02 1.37290604e+02]]\n",
            "\n",
            "  [[2.29066284e+02 2.09066284e+02 8.80662689e+01]\n",
            "   [2.27341888e+02 2.07341888e+02 8.63418808e+01]\n",
            "   [2.29596970e+02 2.07596970e+02 8.85969696e+01]\n",
            "   ...\n",
            "   [2.51372330e+02 2.32372330e+02 1.38714111e+02]\n",
            "   [2.47658096e+02 2.29658096e+02 1.31372330e+02]\n",
            "   [2.43479568e+02 2.25479568e+02 1.25336678e+02]]\n",
            "\n",
            "  [[2.27454254e+02 2.06454254e+02 8.74542618e+01]\n",
            "   [2.28841644e+02 2.06841644e+02 8.78416443e+01]\n",
            "   [2.27729370e+02 2.05086517e+02 8.60865097e+01]\n",
            "   ...\n",
            "   [2.44413239e+02 2.24413239e+02 1.28851944e+02]\n",
            "   [2.49188904e+02 2.29260345e+02 1.30046021e+02]\n",
            "   [2.50459198e+02 2.31459198e+02 1.28872421e+02]]]\n",
            "\n",
            "\n",
            " [[[4.35011139e+01 7.82198715e+01 7.19787979e+01]\n",
            "   [4.48158493e+01 7.94040146e+01 7.52433014e+01]\n",
            "   [4.74520073e+01 7.92075882e+01 7.85691986e+01]\n",
            "   ...\n",
            "   [1.45043503e+02 1.53257767e+02 1.37829239e+02]\n",
            "   [1.45143951e+02 1.56143951e+02 1.42143951e+02]\n",
            "   [1.35776596e+02 1.46776596e+02 1.32776596e+02]]\n",
            "\n",
            "  [[4.76026764e+01 7.84933014e+01 6.81272278e+01]\n",
            "   [4.92299118e+01 8.04274597e+01 7.31752243e+01]\n",
            "   [4.94609375e+01 8.06104889e+01 7.68973236e+01]\n",
            "   ...\n",
            "   [1.43156250e+02 1.51370514e+02 1.35941986e+02]\n",
            "   [1.38706436e+02 1.49706436e+02 1.35706436e+02]\n",
            "   [1.34893951e+02 1.45893951e+02 1.31893951e+02]]\n",
            "\n",
            "  [[4.70725441e+01 7.24609375e+01 5.37901764e+01]\n",
            "   [4.89397354e+01 7.67299118e+01 6.29709816e+01]\n",
            "   [4.60178566e+01 7.46305771e+01 6.49910736e+01]\n",
            "   ...\n",
            "   [1.42000000e+02 1.50214264e+02 1.34785736e+02]\n",
            "   [1.36610474e+02 1.47610474e+02 1.33610474e+02]\n",
            "   [1.34809158e+02 1.45809158e+02 1.31809158e+02]]\n",
            "\n",
            "  ...\n",
            "\n",
            "  [[1.80915177e+00 3.69977689e+00 7.40290165e+00]\n",
            "   [5.02230227e-02 1.66517830e+00 4.77455330e+00]\n",
            "   [0.00000000e+00 1.06361616e+00 4.17299128e+00]\n",
            "   ...\n",
            "   [2.08532364e+02 2.05829239e+02 1.89422989e+02]\n",
            "   [2.07468750e+02 2.04765625e+02 1.88359375e+02]\n",
            "   [2.06468750e+02 2.03765625e+02 1.87359375e+02]]\n",
            "\n",
            "  [[9.85490978e-01 4.98549128e+00 7.24218702e+00]\n",
            "   [0.00000000e+00 2.49330330e+00 3.49330330e+00]\n",
            "   [0.00000000e+00 1.09040189e+00 9.34151828e-01]\n",
            "   ...\n",
            "   [2.47340393e+02 2.47074768e+02 2.33809143e+02]\n",
            "   [2.46828125e+02 2.46562500e+02 2.33296875e+02]\n",
            "   [2.45828125e+02 2.46140625e+02 2.32296875e+02]]\n",
            "\n",
            "  [[1.88058007e+00 5.88057995e+00 5.87611580e+00]\n",
            "   [0.00000000e+00 2.07142830e+00 1.35267830e+00]\n",
            "   [0.00000000e+00 2.22767878e+00 0.00000000e+00]\n",
            "   ...\n",
            "   [2.46265625e+02 2.51562500e+02 2.39562500e+02]\n",
            "   [2.46265625e+02 2.51562500e+02 2.39562500e+02]\n",
            "   [2.46125000e+02 2.51562500e+02 2.39421875e+02]]]\n",
            "\n",
            "\n",
            " [[[1.92000000e+02 2.39000000e+02 2.45000000e+02]\n",
            "   [1.92000000e+02 2.39000000e+02 2.47000000e+02]\n",
            "   [1.89785721e+02 2.36571426e+02 2.47214279e+02]\n",
            "   ...\n",
            "   [1.43719376e+02 1.32719376e+02 1.02719383e+02]\n",
            "   [1.42642853e+02 1.31642853e+02 1.03642860e+02]\n",
            "   [1.43229614e+02 1.32229614e+02 1.04229614e+02]]\n",
            "\n",
            "  [[1.91000000e+02 2.38000000e+02 2.44000000e+02]\n",
            "   [1.91071426e+02 2.38071426e+02 2.46071426e+02]\n",
            "   [1.90801025e+02 2.37586731e+02 2.48229584e+02]\n",
            "   ...\n",
            "   [1.44943878e+02 1.31214264e+02 1.01403099e+02]\n",
            "   [1.44000000e+02 1.30000000e+02 1.01000000e+02]\n",
            "   [1.44000000e+02 1.30000000e+02 1.01000000e+02]]\n",
            "\n",
            "  [[1.91785721e+02 2.38785721e+02 2.46357147e+02]\n",
            "   [1.92729599e+02 2.39729599e+02 2.47729599e+02]\n",
            "   [1.91785721e+02 2.38571442e+02 2.49214294e+02]\n",
            "   ...\n",
            "   [1.44999985e+02 1.30428543e+02 9.76428375e+01]\n",
            "   [1.44785721e+02 1.30000000e+02 9.94285736e+01]\n",
            "   [1.44785721e+02 1.30000000e+02 9.94285736e+01]]\n",
            "\n",
            "  ...\n",
            "\n",
            "  [[1.84566391e+02 1.82489853e+02 1.60632736e+02]\n",
            "   [1.84224609e+02 1.82010315e+02 1.61438904e+02]\n",
            "   [1.74780777e+02 1.72566483e+02 1.51995071e+02]\n",
            "   ...\n",
            "   [1.01617416e+02 7.16174164e+01 3.56174164e+01]\n",
            "   [1.02571503e+02 7.25715027e+01 3.65715027e+01]\n",
            "   [1.03489555e+02 7.34895554e+01 3.74895554e+01]]\n",
            "\n",
            "  [[1.89377533e+02 1.86423447e+02 1.67994904e+02]\n",
            "   [1.93142822e+02 1.90142822e+02 1.73000000e+02]\n",
            "   [1.89086716e+02 1.86086716e+02 1.68943893e+02]\n",
            "   ...\n",
            "   [1.10066406e+02 8.00664062e+01 4.40664101e+01]\n",
            "   [1.06076637e+02 7.60766373e+01 4.00766335e+01]\n",
            "   [1.05923355e+02 7.59233551e+01 3.99233589e+01]]\n",
            "\n",
            "  [[1.87285767e+02 1.84285767e+02 1.68826584e+02]\n",
            "   [1.91076569e+02 1.88076569e+02 1.73076569e+02]\n",
            "   [1.91994919e+02 1.88352066e+02 1.75280624e+02]\n",
            "   ...\n",
            "   [1.08234711e+02 7.82347107e+01 4.22347145e+01]\n",
            "   [1.07505074e+02 7.75050735e+01 4.15050735e+01]\n",
            "   [1.03142883e+02 7.31428833e+01 3.71428833e+01]]]], shape=(32, 224, 224, 3), dtype=float32) tf.Tensor(\n",
            "[[0. 0. 0. 1. 0. 0. 0. 0. 0. 0.]\n",
            " [1. 0. 0. 0. 0. 0. 0. 0. 0. 0.]\n",
            " [0. 0. 0. 0. 0. 0. 0. 1. 0. 0.]\n",
            " [0. 0. 0. 0. 0. 1. 0. 0. 0. 0.]\n",
            " [1. 0. 0. 0. 0. 0. 0. 0. 0. 0.]\n",
            " [0. 0. 0. 0. 0. 0. 0. 0. 0. 1.]\n",
            " [0. 0. 0. 0. 1. 0. 0. 0. 0. 0.]\n",
            " [0. 0. 0. 0. 1. 0. 0. 0. 0. 0.]\n",
            " [1. 0. 0. 0. 0. 0. 0. 0. 0. 0.]\n",
            " [0. 0. 0. 0. 0. 0. 1. 0. 0. 0.]\n",
            " [0. 0. 0. 0. 0. 0. 1. 0. 0. 0.]\n",
            " [0. 0. 0. 0. 0. 1. 0. 0. 0. 0.]\n",
            " [0. 1. 0. 0. 0. 0. 0. 0. 0. 0.]\n",
            " [0. 1. 0. 0. 0. 0. 0. 0. 0. 0.]\n",
            " [0. 0. 0. 1. 0. 0. 0. 0. 0. 0.]\n",
            " [0. 1. 0. 0. 0. 0. 0. 0. 0. 0.]\n",
            " [0. 0. 0. 0. 1. 0. 0. 0. 0. 0.]\n",
            " [0. 1. 0. 0. 0. 0. 0. 0. 0. 0.]\n",
            " [0. 1. 0. 0. 0. 0. 0. 0. 0. 0.]\n",
            " [0. 0. 0. 0. 0. 0. 0. 0. 0. 1.]\n",
            " [0. 0. 0. 0. 0. 0. 1. 0. 0. 0.]\n",
            " [0. 0. 0. 0. 0. 0. 0. 0. 1. 0.]\n",
            " [0. 0. 0. 0. 0. 0. 0. 0. 0. 1.]\n",
            " [0. 0. 0. 0. 1. 0. 0. 0. 0. 0.]\n",
            " [0. 0. 0. 0. 0. 0. 0. 0. 0. 1.]\n",
            " [0. 1. 0. 0. 0. 0. 0. 0. 0. 0.]\n",
            " [0. 0. 0. 0. 1. 0. 0. 0. 0. 0.]\n",
            " [0. 0. 0. 0. 0. 0. 1. 0. 0. 0.]\n",
            " [0. 0. 0. 0. 1. 0. 0. 0. 0. 0.]\n",
            " [0. 0. 0. 0. 0. 0. 0. 0. 0. 1.]\n",
            " [0. 0. 0. 1. 0. 0. 0. 0. 0. 0.]\n",
            " [0. 0. 0. 0. 0. 0. 0. 1. 0. 0.]], shape=(32, 10), dtype=float32)\n"
          ]
        }
      ]
    },
    {
      "cell_type": "code",
      "source": [
        "base_model = tf.keras.applications.EfficientNetB0(include_top=False)\n",
        "\n",
        "base_model.trainable=False\n",
        "\n",
        "inputs = tf.keras.layers.Input(shape=(224, 224, 3), name='input layer')\n",
        "\n",
        "x = base_model(inputs)\n",
        "\n",
        "print(f\"shape after base model: {x.shape}\")\n",
        "\n",
        "x = tf.keras.layers.GlobalAveragePooling2D(name=\"global_average_pooling_layer\")(x)\n",
        "print(f\"After GlobalAveragePooling Layer: {x.shape}\")\n",
        "\n",
        "outputs = tf.keras.layers.Dense(10, activation=\"softmax\", name=\"output_layer\")(x)\n",
        "\n",
        "model_0 = tf.keras.Model(inputs, outputs)\n",
        "\n",
        "model_0.compile(loss=\"categorical_crossentropy\",\n",
        "                optimizer=tf.keras.optimizers.Adam(),\n",
        "                metrics=[\"accuracy\"]\n",
        "                )\n",
        "\n",
        "history_10_percent = model_0.fit(train_data_10_percent,\n",
        "                                 epochs=5,\n",
        "                                 steps_per_epoch=len(train_data_10_percent),\n",
        "                                 validation_data=test_data_10_percent,\n",
        "                                 validation_steps=len(test_data_10_percent),\n",
        "                                 callbacks=[create_tensorboard_callback(\"transfer_learning\", \"10_percent_feature_extract\")]\n",
        "                                 )"
      ],
      "metadata": {
        "colab": {
          "base_uri": "https://localhost:8080/"
        },
        "id": "G9YQqH9j33bw",
        "outputId": "2a2ca4ed-7782-4f37-c8da-e8e32946da43"
      },
      "execution_count": null,
      "outputs": [
        {
          "output_type": "stream",
          "name": "stdout",
          "text": [
            "Downloading data from https://storage.googleapis.com/keras-applications/efficientnetb0_notop.h5\n",
            "16711680/16705208 [==============================] - 0s 0us/step\n",
            "16719872/16705208 [==============================] - 0s 0us/step\n",
            "shape after base model: (None, 7, 7, 1280)\n",
            "After GlobalAveragePooling Layer: (None, 1280)\n",
            "Saving TensorBoard log files to: transfer_learning/10_percent_feature_extract/20220530-015447\n",
            "Epoch 1/5\n",
            "24/24 [==============================] - 26s 436ms/step - loss: 1.8738 - accuracy: 0.4253 - val_loss: 1.3190 - val_accuracy: 0.7144\n",
            "Epoch 2/5\n",
            "24/24 [==============================] - 14s 541ms/step - loss: 1.1203 - accuracy: 0.7587 - val_loss: 0.9095 - val_accuracy: 0.8004\n",
            "Epoch 3/5\n",
            "24/24 [==============================] - 11s 461ms/step - loss: 0.8260 - accuracy: 0.8133 - val_loss: 0.7392 - val_accuracy: 0.8260\n",
            "Epoch 4/5\n",
            "24/24 [==============================] - 8s 337ms/step - loss: 0.6681 - accuracy: 0.8427 - val_loss: 0.6544 - val_accuracy: 0.8364\n",
            "Epoch 5/5\n",
            "24/24 [==============================] - 8s 327ms/step - loss: 0.5721 - accuracy: 0.8653 - val_loss: 0.5968 - val_accuracy: 0.8420\n"
          ]
        }
      ]
    },
    {
      "cell_type": "code",
      "source": [
        "for layer_number, layer in enumerate(base_model.layers):\n",
        "  print(layer_number, layer)"
      ],
      "metadata": {
        "colab": {
          "base_uri": "https://localhost:8080/"
        },
        "id": "FPtqA4ed9d3e",
        "outputId": "549b1f04-a87e-4f26-f031-3d39b9116fc5"
      },
      "execution_count": null,
      "outputs": [
        {
          "output_type": "stream",
          "name": "stdout",
          "text": [
            "0 <keras.engine.input_layer.InputLayer object at 0x7f14095dd750>\n",
            "1 <keras.layers.preprocessing.image_preprocessing.Rescaling object at 0x7f140b251f90>\n",
            "2 <keras.layers.preprocessing.normalization.Normalization object at 0x7f14097d6d50>\n",
            "3 <keras.layers.convolutional.ZeroPadding2D object at 0x7f14095f0510>\n",
            "4 <keras.layers.convolutional.Conv2D object at 0x7f1409767a50>\n",
            "5 <keras.layers.normalization.batch_normalization.BatchNormalization object at 0x7f1409778c90>\n",
            "6 <keras.layers.core.activation.Activation object at 0x7f140891df90>\n",
            "7 <keras.layers.convolutional.DepthwiseConv2D object at 0x7f14088ed490>\n",
            "8 <keras.layers.normalization.batch_normalization.BatchNormalization object at 0x7f14088ed910>\n",
            "9 <keras.layers.core.activation.Activation object at 0x7f140888b210>\n",
            "10 <keras.layers.pooling.GlobalAveragePooling2D object at 0x7f140888bd10>\n",
            "11 <keras.layers.core.reshape.Reshape object at 0x7f1408901790>\n",
            "12 <keras.layers.convolutional.Conv2D object at 0x7f1408894dd0>\n",
            "13 <keras.layers.convolutional.Conv2D object at 0x7f1408894950>\n",
            "14 <keras.layers.merge.Multiply object at 0x7f1487e4abd0>\n",
            "15 <keras.layers.convolutional.Conv2D object at 0x7f14088ac4d0>\n",
            "16 <keras.layers.normalization.batch_normalization.BatchNormalization object at 0x7f14088b5610>\n",
            "17 <keras.layers.convolutional.Conv2D object at 0x7f14088ac9d0>\n",
            "18 <keras.layers.normalization.batch_normalization.BatchNormalization object at 0x7f1409767bd0>\n",
            "19 <keras.layers.core.activation.Activation object at 0x7f1408849110>\n",
            "20 <keras.layers.convolutional.ZeroPadding2D object at 0x7f1408849fd0>\n",
            "21 <keras.layers.convolutional.DepthwiseConv2D object at 0x7f1408854410>\n",
            "22 <keras.layers.normalization.batch_normalization.BatchNormalization object at 0x7f1408859b90>\n",
            "23 <keras.layers.core.activation.Activation object at 0x7f14088bd250>\n",
            "24 <keras.layers.pooling.GlobalAveragePooling2D object at 0x7f14088b1fd0>\n",
            "25 <keras.layers.core.reshape.Reshape object at 0x7f1408860050>\n",
            "26 <keras.layers.convolutional.Conv2D object at 0x7f1408860910>\n",
            "27 <keras.layers.convolutional.Conv2D object at 0x7f1408842bd0>\n",
            "28 <keras.layers.merge.Multiply object at 0x7f14088730d0>\n",
            "29 <keras.layers.convolutional.Conv2D object at 0x7f14088775d0>\n",
            "30 <keras.layers.normalization.batch_normalization.BatchNormalization object at 0x7f1408873f90>\n",
            "31 <keras.layers.convolutional.Conv2D object at 0x7f1408880b50>\n",
            "32 <keras.layers.normalization.batch_normalization.BatchNormalization object at 0x7f1408805310>\n",
            "33 <keras.layers.core.activation.Activation object at 0x7f1408880550>\n",
            "34 <keras.layers.convolutional.DepthwiseConv2D object at 0x7f1408810750>\n",
            "35 <keras.layers.normalization.batch_normalization.BatchNormalization object at 0x7f1408824310>\n",
            "36 <keras.layers.core.activation.Activation object at 0x7f1408818490>\n",
            "37 <keras.layers.pooling.GlobalAveragePooling2D object at 0x7f1408829810>\n",
            "38 <keras.layers.core.reshape.Reshape object at 0x7f1408838790>\n",
            "39 <keras.layers.convolutional.Conv2D object at 0x7f1408831790>\n",
            "40 <keras.layers.convolutional.Conv2D object at 0x7f14087c2190>\n",
            "41 <keras.layers.merge.Multiply object at 0x7f14087ccb50>\n",
            "42 <keras.layers.convolutional.Conv2D object at 0x7f140d3c3a50>\n",
            "43 <keras.layers.normalization.batch_normalization.BatchNormalization object at 0x7f14087d4dd0>\n",
            "44 <keras.layers.core.dropout.Dropout object at 0x7f14087e4dd0>\n",
            "45 <keras.layers.merge.Add object at 0x7f14087e4f10>\n",
            "46 <keras.layers.convolutional.Conv2D object at 0x7f14087e9090>\n",
            "47 <keras.layers.normalization.batch_normalization.BatchNormalization object at 0x7f14087eff10>\n",
            "48 <keras.layers.core.activation.Activation object at 0x7f14087f62d0>\n",
            "49 <keras.layers.convolutional.ZeroPadding2D object at 0x7f1410adb390>\n",
            "50 <keras.layers.convolutional.DepthwiseConv2D object at 0x7f1408782dd0>\n",
            "51 <keras.layers.normalization.batch_normalization.BatchNormalization object at 0x7f1408789390>\n",
            "52 <keras.layers.core.activation.Activation object at 0x7f1408789550>\n",
            "53 <keras.layers.pooling.GlobalAveragePooling2D object at 0x7f14087f6210>\n",
            "54 <keras.layers.core.reshape.Reshape object at 0x7f1408796d10>\n",
            "55 <keras.layers.convolutional.Conv2D object at 0x7f14087a4050>\n",
            "56 <keras.layers.convolutional.Conv2D object at 0x7f14087a92d0>\n",
            "57 <keras.layers.merge.Multiply object at 0x7f14087b63d0>\n",
            "58 <keras.layers.convolutional.Conv2D object at 0x7f14087bc750>\n",
            "59 <keras.layers.normalization.batch_normalization.BatchNormalization object at 0x7f14087458d0>\n",
            "60 <keras.layers.convolutional.Conv2D object at 0x7f140874e590>\n",
            "61 <keras.layers.normalization.batch_normalization.BatchNormalization object at 0x7f140874afd0>\n",
            "62 <keras.layers.core.activation.Activation object at 0x7f14087a4e90>\n",
            "63 <keras.layers.convolutional.DepthwiseConv2D object at 0x7f14087d4bd0>\n",
            "64 <keras.layers.normalization.batch_normalization.BatchNormalization object at 0x7f140879dbd0>\n",
            "65 <keras.layers.core.activation.Activation object at 0x7f14087cf210>\n",
            "66 <keras.layers.pooling.GlobalAveragePooling2D object at 0x7f1408818850>\n",
            "67 <keras.layers.core.reshape.Reshape object at 0x7f1408824690>\n",
            "68 <keras.layers.convolutional.Conv2D object at 0x7f140883e610>\n",
            "69 <keras.layers.convolutional.Conv2D object at 0x7f1408842450>\n",
            "70 <keras.layers.merge.Multiply object at 0x7f1408842610>\n",
            "71 <keras.layers.convolutional.Conv2D object at 0x7f14087cf190>\n",
            "72 <keras.layers.normalization.batch_normalization.BatchNormalization object at 0x7f140875f090>\n",
            "73 <keras.layers.core.dropout.Dropout object at 0x7f14087616d0>\n",
            "74 <keras.layers.merge.Add object at 0x7f140875a910>\n",
            "75 <keras.layers.convolutional.Conv2D object at 0x7f140876d690>\n",
            "76 <keras.layers.normalization.batch_normalization.BatchNormalization object at 0x7f1408773190>\n",
            "77 <keras.layers.core.activation.Activation object at 0x7f1408773e50>\n",
            "78 <keras.layers.convolutional.ZeroPadding2D object at 0x7f1408777f10>\n",
            "79 <keras.layers.convolutional.DepthwiseConv2D object at 0x7f1408777b90>\n",
            "80 <keras.layers.normalization.batch_normalization.BatchNormalization object at 0x7f140870a3d0>\n",
            "81 <keras.layers.core.activation.Activation object at 0x7f140870e450>\n",
            "82 <keras.layers.pooling.GlobalAveragePooling2D object at 0x7f1408712750>\n",
            "83 <keras.layers.core.reshape.Reshape object at 0x7f1408723550>\n",
            "84 <keras.layers.convolutional.Conv2D object at 0x7f140871e1d0>\n",
            "85 <keras.layers.convolutional.Conv2D object at 0x7f140872a790>\n",
            "86 <keras.layers.merge.Multiply object at 0x7f14087388d0>\n",
            "87 <keras.layers.convolutional.Conv2D object at 0x7f140872aa10>\n",
            "88 <keras.layers.normalization.batch_normalization.BatchNormalization object at 0x7f1408740b50>\n",
            "89 <keras.layers.convolutional.Conv2D object at 0x7f14086c9050>\n",
            "90 <keras.layers.normalization.batch_normalization.BatchNormalization object at 0x7f14086ce1d0>\n",
            "91 <keras.layers.core.activation.Activation object at 0x7f14086d5cd0>\n",
            "92 <keras.layers.convolutional.DepthwiseConv2D object at 0x7f14086e3150>\n",
            "93 <keras.layers.normalization.batch_normalization.BatchNormalization object at 0x7f14086d9a90>\n",
            "94 <keras.layers.core.activation.Activation object at 0x7f14086ec410>\n",
            "95 <keras.layers.pooling.GlobalAveragePooling2D object at 0x7f14088c7ed0>\n",
            "96 <keras.layers.core.reshape.Reshape object at 0x7f14086eca90>\n",
            "97 <keras.layers.convolutional.Conv2D object at 0x7f14086e7d10>\n",
            "98 <keras.layers.convolutional.Conv2D object at 0x7f1408683350>\n",
            "99 <keras.layers.merge.Multiply object at 0x7f1408683550>\n",
            "100 <keras.layers.convolutional.Conv2D object at 0x7f14086fbf50>\n",
            "101 <keras.layers.normalization.batch_normalization.BatchNormalization object at 0x7f140873c190>\n",
            "102 <keras.layers.core.dropout.Dropout object at 0x7f140870e210>\n",
            "103 <keras.layers.merge.Add object at 0x7f140877de10>\n",
            "104 <keras.layers.convolutional.Conv2D object at 0x7f1408777d50>\n",
            "105 <keras.layers.normalization.batch_normalization.BatchNormalization object at 0x7f1408761d50>\n",
            "106 <keras.layers.core.activation.Activation object at 0x7f1408696e50>\n",
            "107 <keras.layers.convolutional.DepthwiseConv2D object at 0x7f14087cf090>\n",
            "108 <keras.layers.normalization.batch_normalization.BatchNormalization object at 0x7f140869de90>\n",
            "109 <keras.layers.core.activation.Activation object at 0x7f14086a2650>\n",
            "110 <keras.layers.pooling.GlobalAveragePooling2D object at 0x7f14086a0a10>\n",
            "111 <keras.layers.core.reshape.Reshape object at 0x7f14086af790>\n",
            "112 <keras.layers.convolutional.Conv2D object at 0x7f14086bbd10>\n",
            "113 <keras.layers.convolutional.Conv2D object at 0x7f14086b2610>\n",
            "114 <keras.layers.merge.Multiply object at 0x7f14086423d0>\n",
            "115 <keras.layers.convolutional.Conv2D object at 0x7f1408651b90>\n",
            "116 <keras.layers.normalization.batch_normalization.BatchNormalization object at 0x7f1408642e50>\n",
            "117 <keras.layers.core.dropout.Dropout object at 0x7f140865b210>\n",
            "118 <keras.layers.merge.Add object at 0x7f1408665990>\n",
            "119 <keras.layers.convolutional.Conv2D object at 0x7f14086657d0>\n",
            "120 <keras.layers.normalization.batch_normalization.BatchNormalization object at 0x7f1408669450>\n",
            "121 <keras.layers.core.activation.Activation object at 0x7f140866c4d0>\n",
            "122 <keras.layers.convolutional.DepthwiseConv2D object at 0x7f1408673390>\n",
            "123 <keras.layers.normalization.batch_normalization.BatchNormalization object at 0x7f140867e950>\n",
            "124 <keras.layers.core.activation.Activation object at 0x7f1408609210>\n",
            "125 <keras.layers.pooling.GlobalAveragePooling2D object at 0x7f1408609dd0>\n",
            "126 <keras.layers.core.reshape.Reshape object at 0x7f1408610dd0>\n",
            "127 <keras.layers.convolutional.Conv2D object at 0x7f140861a050>\n",
            "128 <keras.layers.convolutional.Conv2D object at 0x7f140861a3d0>\n",
            "129 <keras.layers.merge.Multiply object at 0x7f14086292d0>\n",
            "130 <keras.layers.convolutional.Conv2D object at 0x7f140862c650>\n",
            "131 <keras.layers.normalization.batch_normalization.BatchNormalization object at 0x7f14086357d0>\n",
            "132 <keras.layers.convolutional.Conv2D object at 0x7f140862cb50>\n",
            "133 <keras.layers.normalization.batch_normalization.BatchNormalization object at 0x7f140863ad90>\n",
            "134 <keras.layers.core.activation.Activation object at 0x7f14085c8390>\n",
            "135 <keras.layers.convolutional.DepthwiseConv2D object at 0x7f14085c3310>\n",
            "136 <keras.layers.normalization.batch_normalization.BatchNormalization object at 0x7f14085d4dd0>\n",
            "137 <keras.layers.core.activation.Activation object at 0x7f14085d9510>\n",
            "138 <keras.layers.pooling.GlobalAveragePooling2D object at 0x7f14085d9050>\n",
            "139 <keras.layers.core.reshape.Reshape object at 0x7f1408635550>\n",
            "140 <keras.layers.convolutional.Conv2D object at 0x7f1408605890>\n",
            "141 <keras.layers.convolutional.Conv2D object at 0x7f1408651090>\n",
            "142 <keras.layers.merge.Multiply object at 0x7f14086bb310>\n",
            "143 <keras.layers.convolutional.Conv2D object at 0x7f14086a6e10>\n",
            "144 <keras.layers.normalization.batch_normalization.BatchNormalization object at 0x7f14086c9550>\n",
            "145 <keras.layers.core.dropout.Dropout object at 0x7f1408685150>\n",
            "146 <keras.layers.merge.Add object at 0x7f14085e5390>\n",
            "147 <keras.layers.convolutional.Conv2D object at 0x7f14085e6210>\n",
            "148 <keras.layers.normalization.batch_normalization.BatchNormalization object at 0x7f14085e9d50>\n",
            "149 <keras.layers.core.activation.Activation object at 0x7f14085e1a10>\n",
            "150 <keras.layers.convolutional.DepthwiseConv2D object at 0x7f14085e5110>\n",
            "151 <keras.layers.normalization.batch_normalization.BatchNormalization object at 0x7f14085fa390>\n",
            "152 <keras.layers.core.activation.Activation object at 0x7f14085eccd0>\n",
            "153 <keras.layers.pooling.GlobalAveragePooling2D object at 0x7f14085fe8d0>\n",
            "154 <keras.layers.core.reshape.Reshape object at 0x7f140858e850>\n",
            "155 <keras.layers.convolutional.Conv2D object at 0x7f1408587750>\n",
            "156 <keras.layers.convolutional.Conv2D object at 0x7f1408597090>\n",
            "157 <keras.layers.merge.Multiply object at 0x7f14085a3c10>\n",
            "158 <keras.layers.convolutional.Conv2D object at 0x7f14085972d0>\n",
            "159 <keras.layers.normalization.batch_normalization.BatchNormalization object at 0x7f14085abed0>\n",
            "160 <keras.layers.core.dropout.Dropout object at 0x7f14085b9e50>\n",
            "161 <keras.layers.merge.Add object at 0x7f14085ad490>\n",
            "162 <keras.layers.convolutional.Conv2D object at 0x7f14085be150>\n",
            "163 <keras.layers.normalization.batch_normalization.BatchNormalization object at 0x7f13f02f0c90>\n",
            "164 <keras.layers.core.activation.Activation object at 0x7f13f02f7410>\n",
            "165 <keras.layers.convolutional.ZeroPadding2D object at 0x7f13f02f3dd0>\n",
            "166 <keras.layers.convolutional.DepthwiseConv2D object at 0x7f13f0303f50>\n",
            "167 <keras.layers.normalization.batch_normalization.BatchNormalization object at 0x7f13f030c510>\n",
            "168 <keras.layers.core.activation.Activation object at 0x7f13f0308310>\n",
            "169 <keras.layers.pooling.GlobalAveragePooling2D object at 0x7f13f030f5d0>\n",
            "170 <keras.layers.core.reshape.Reshape object at 0x7f13f031f5d0>\n",
            "171 <keras.layers.convolutional.Conv2D object at 0x7f13f0324350>\n",
            "172 <keras.layers.convolutional.Conv2D object at 0x7f13f032a690>\n",
            "173 <keras.layers.merge.Multiply object at 0x7f13f02b7610>\n",
            "174 <keras.layers.convolutional.Conv2D object at 0x7f13f02bc990>\n",
            "175 <keras.layers.normalization.batch_normalization.BatchNormalization object at 0x7f13f02c3ad0>\n",
            "176 <keras.layers.convolutional.Conv2D object at 0x7f13f02c5e50>\n",
            "177 <keras.layers.normalization.batch_normalization.BatchNormalization object at 0x7f13f02cfad0>\n",
            "178 <keras.layers.core.activation.Activation object at 0x7f13f02c3f50>\n",
            "179 <keras.layers.convolutional.DepthwiseConv2D object at 0x7f13f032a750>\n",
            "180 <keras.layers.normalization.batch_normalization.BatchNormalization object at 0x7f14085bea90>\n",
            "181 <keras.layers.core.activation.Activation object at 0x7f13f0314a50>\n",
            "182 <keras.layers.pooling.GlobalAveragePooling2D object at 0x7f1408583c10>\n",
            "183 <keras.layers.core.reshape.Reshape object at 0x7f140877ddd0>\n",
            "184 <keras.layers.convolutional.Conv2D object at 0x7f14085fa850>\n",
            "185 <keras.layers.convolutional.Conv2D object at 0x7f13f02d1490>\n",
            "186 <keras.layers.merge.Multiply object at 0x7f13f02df450>\n",
            "187 <keras.layers.convolutional.Conv2D object at 0x7f13f02e17d0>\n",
            "188 <keras.layers.normalization.batch_normalization.BatchNormalization object at 0x7f13f02e6910>\n",
            "189 <keras.layers.core.dropout.Dropout object at 0x7f13f02e8fd0>\n",
            "190 <keras.layers.merge.Add object at 0x7f13f0277a50>\n",
            "191 <keras.layers.convolutional.Conv2D object at 0x7f13f0277450>\n",
            "192 <keras.layers.normalization.batch_normalization.BatchNormalization object at 0x7f13f0271ad0>\n",
            "193 <keras.layers.core.activation.Activation object at 0x7f13f0280250>\n",
            "194 <keras.layers.convolutional.DepthwiseConv2D object at 0x7f13f0286110>\n",
            "195 <keras.layers.normalization.batch_normalization.BatchNormalization object at 0x7f13f0291810>\n",
            "196 <keras.layers.core.activation.Activation object at 0x7f13f029a410>\n",
            "197 <keras.layers.pooling.GlobalAveragePooling2D object at 0x7f13f02918d0>\n",
            "198 <keras.layers.core.reshape.Reshape object at 0x7f13f02a4a10>\n",
            "199 <keras.layers.convolutional.Conv2D object at 0x7f13f02a8d50>\n",
            "200 <keras.layers.convolutional.Conv2D object at 0x7f13f0232c10>\n",
            "201 <keras.layers.merge.Multiply object at 0x7f13f0239e90>\n",
            "202 <keras.layers.convolutional.Conv2D object at 0x7f13f0280f90>\n",
            "203 <keras.layers.normalization.batch_normalization.BatchNormalization object at 0x7f13f0291dd0>\n",
            "204 <keras.layers.core.dropout.Dropout object at 0x7f13f024a790>\n",
            "205 <keras.layers.merge.Add object at 0x7f13f02ee7d0>\n",
            "206 <keras.layers.convolutional.Conv2D object at 0x7f13f0240cd0>\n",
            "207 <keras.layers.normalization.batch_normalization.BatchNormalization object at 0x7f13f02c53d0>\n",
            "208 <keras.layers.core.activation.Activation object at 0x7f13f025ba50>\n",
            "209 <keras.layers.convolutional.DepthwiseConv2D object at 0x7f13f0253310>\n",
            "210 <keras.layers.normalization.batch_normalization.BatchNormalization object at 0x7f13f026b090>\n",
            "211 <keras.layers.core.activation.Activation object at 0x7f13f0266cd0>\n",
            "212 <keras.layers.pooling.GlobalAveragePooling2D object at 0x7f13f024f610>\n",
            "213 <keras.layers.core.reshape.Reshape object at 0x7f13f0266310>\n",
            "214 <keras.layers.convolutional.Conv2D object at 0x7f13f029a910>\n",
            "215 <keras.layers.convolutional.Conv2D object at 0x7f13f0223510>\n",
            "216 <keras.layers.merge.Multiply object at 0x7f13f021d810>\n",
            "217 <keras.layers.convolutional.Conv2D object at 0x7f13f021d910>\n",
            "218 <keras.layers.normalization.batch_normalization.BatchNormalization object at 0x7f13f0266a50>\n",
            "219 <keras.layers.core.dropout.Dropout object at 0x7f13f025f650>\n",
            "220 <keras.layers.merge.Add object at 0x7f13f02a4110>\n",
            "221 <keras.layers.convolutional.Conv2D object at 0x7f13f02a4390>\n",
            "222 <keras.layers.normalization.batch_normalization.BatchNormalization object at 0x7f13f0219890>\n",
            "223 <keras.layers.core.activation.Activation object at 0x7f13f0271a50>\n",
            "224 <keras.layers.convolutional.DepthwiseConv2D object at 0x7f13f02df9d0>\n",
            "225 <keras.layers.normalization.batch_normalization.BatchNormalization object at 0x7f14085b2590>\n",
            "226 <keras.layers.core.activation.Activation object at 0x7f13f01f2610>\n",
            "227 <keras.layers.pooling.GlobalAveragePooling2D object at 0x7f13f029ad50>\n",
            "228 <keras.layers.core.reshape.Reshape object at 0x7f13f02277d0>\n",
            "229 <keras.layers.convolutional.Conv2D object at 0x7f13f024ff10>\n",
            "230 <keras.layers.convolutional.Conv2D object at 0x7f13f01f2550>\n",
            "231 <keras.layers.merge.Multiply object at 0x7f13f01c8150>\n",
            "232 <keras.layers.convolutional.Conv2D object at 0x7f13f01ba9d0>\n",
            "233 <keras.layers.normalization.batch_normalization.BatchNormalization object at 0x7f13f01ba890>\n",
            "234 <keras.layers.convolutional.Conv2D object at 0x7f1409778a90>\n",
            "235 <keras.layers.normalization.batch_normalization.BatchNormalization object at 0x7f13f01cd590>\n",
            "236 <keras.layers.core.activation.Activation object at 0x7f13f01de790>\n"
          ]
        }
      ]
    },
    {
      "cell_type": "code",
      "source": [
        "base_model.summary()"
      ],
      "metadata": {
        "colab": {
          "base_uri": "https://localhost:8080/"
        },
        "id": "R5AK2rLu92pp",
        "outputId": "92c2ad14-9d27-40be-bba5-994401167724"
      },
      "execution_count": null,
      "outputs": [
        {
          "output_type": "stream",
          "name": "stdout",
          "text": [
            "Model: \"efficientnetb0\"\n",
            "__________________________________________________________________________________________________\n",
            " Layer (type)                   Output Shape         Param #     Connected to                     \n",
            "==================================================================================================\n",
            " input_1 (InputLayer)           [(None, None, None,  0           []                               \n",
            "                                 3)]                                                              \n",
            "                                                                                                  \n",
            " rescaling (Rescaling)          (None, None, None,   0           ['input_1[0][0]']                \n",
            "                                3)                                                                \n",
            "                                                                                                  \n",
            " normalization (Normalization)  (None, None, None,   7           ['rescaling[0][0]']              \n",
            "                                3)                                                                \n",
            "                                                                                                  \n",
            " stem_conv_pad (ZeroPadding2D)  (None, None, None,   0           ['normalization[0][0]']          \n",
            "                                3)                                                                \n",
            "                                                                                                  \n",
            " stem_conv (Conv2D)             (None, None, None,   864         ['stem_conv_pad[0][0]']          \n",
            "                                32)                                                               \n",
            "                                                                                                  \n",
            " stem_bn (BatchNormalization)   (None, None, None,   128         ['stem_conv[0][0]']              \n",
            "                                32)                                                               \n",
            "                                                                                                  \n",
            " stem_activation (Activation)   (None, None, None,   0           ['stem_bn[0][0]']                \n",
            "                                32)                                                               \n",
            "                                                                                                  \n",
            " block1a_dwconv (DepthwiseConv2  (None, None, None,   288        ['stem_activation[0][0]']        \n",
            " D)                             32)                                                               \n",
            "                                                                                                  \n",
            " block1a_bn (BatchNormalization  (None, None, None,   128        ['block1a_dwconv[0][0]']         \n",
            " )                              32)                                                               \n",
            "                                                                                                  \n",
            " block1a_activation (Activation  (None, None, None,   0          ['block1a_bn[0][0]']             \n",
            " )                              32)                                                               \n",
            "                                                                                                  \n",
            " block1a_se_squeeze (GlobalAver  (None, 32)          0           ['block1a_activation[0][0]']     \n",
            " agePooling2D)                                                                                    \n",
            "                                                                                                  \n",
            " block1a_se_reshape (Reshape)   (None, 1, 1, 32)     0           ['block1a_se_squeeze[0][0]']     \n",
            "                                                                                                  \n",
            " block1a_se_reduce (Conv2D)     (None, 1, 1, 8)      264         ['block1a_se_reshape[0][0]']     \n",
            "                                                                                                  \n",
            " block1a_se_expand (Conv2D)     (None, 1, 1, 32)     288         ['block1a_se_reduce[0][0]']      \n",
            "                                                                                                  \n",
            " block1a_se_excite (Multiply)   (None, None, None,   0           ['block1a_activation[0][0]',     \n",
            "                                32)                               'block1a_se_expand[0][0]']      \n",
            "                                                                                                  \n",
            " block1a_project_conv (Conv2D)  (None, None, None,   512         ['block1a_se_excite[0][0]']      \n",
            "                                16)                                                               \n",
            "                                                                                                  \n",
            " block1a_project_bn (BatchNorma  (None, None, None,   64         ['block1a_project_conv[0][0]']   \n",
            " lization)                      16)                                                               \n",
            "                                                                                                  \n",
            " block2a_expand_conv (Conv2D)   (None, None, None,   1536        ['block1a_project_bn[0][0]']     \n",
            "                                96)                                                               \n",
            "                                                                                                  \n",
            " block2a_expand_bn (BatchNormal  (None, None, None,   384        ['block2a_expand_conv[0][0]']    \n",
            " ization)                       96)                                                               \n",
            "                                                                                                  \n",
            " block2a_expand_activation (Act  (None, None, None,   0          ['block2a_expand_bn[0][0]']      \n",
            " ivation)                       96)                                                               \n",
            "                                                                                                  \n",
            " block2a_dwconv_pad (ZeroPaddin  (None, None, None,   0          ['block2a_expand_activation[0][0]\n",
            " g2D)                           96)                              ']                               \n",
            "                                                                                                  \n",
            " block2a_dwconv (DepthwiseConv2  (None, None, None,   864        ['block2a_dwconv_pad[0][0]']     \n",
            " D)                             96)                                                               \n",
            "                                                                                                  \n",
            " block2a_bn (BatchNormalization  (None, None, None,   384        ['block2a_dwconv[0][0]']         \n",
            " )                              96)                                                               \n",
            "                                                                                                  \n",
            " block2a_activation (Activation  (None, None, None,   0          ['block2a_bn[0][0]']             \n",
            " )                              96)                                                               \n",
            "                                                                                                  \n",
            " block2a_se_squeeze (GlobalAver  (None, 96)          0           ['block2a_activation[0][0]']     \n",
            " agePooling2D)                                                                                    \n",
            "                                                                                                  \n",
            " block2a_se_reshape (Reshape)   (None, 1, 1, 96)     0           ['block2a_se_squeeze[0][0]']     \n",
            "                                                                                                  \n",
            " block2a_se_reduce (Conv2D)     (None, 1, 1, 4)      388         ['block2a_se_reshape[0][0]']     \n",
            "                                                                                                  \n",
            " block2a_se_expand (Conv2D)     (None, 1, 1, 96)     480         ['block2a_se_reduce[0][0]']      \n",
            "                                                                                                  \n",
            " block2a_se_excite (Multiply)   (None, None, None,   0           ['block2a_activation[0][0]',     \n",
            "                                96)                               'block2a_se_expand[0][0]']      \n",
            "                                                                                                  \n",
            " block2a_project_conv (Conv2D)  (None, None, None,   2304        ['block2a_se_excite[0][0]']      \n",
            "                                24)                                                               \n",
            "                                                                                                  \n",
            " block2a_project_bn (BatchNorma  (None, None, None,   96         ['block2a_project_conv[0][0]']   \n",
            " lization)                      24)                                                               \n",
            "                                                                                                  \n",
            " block2b_expand_conv (Conv2D)   (None, None, None,   3456        ['block2a_project_bn[0][0]']     \n",
            "                                144)                                                              \n",
            "                                                                                                  \n",
            " block2b_expand_bn (BatchNormal  (None, None, None,   576        ['block2b_expand_conv[0][0]']    \n",
            " ization)                       144)                                                              \n",
            "                                                                                                  \n",
            " block2b_expand_activation (Act  (None, None, None,   0          ['block2b_expand_bn[0][0]']      \n",
            " ivation)                       144)                                                              \n",
            "                                                                                                  \n",
            " block2b_dwconv (DepthwiseConv2  (None, None, None,   1296       ['block2b_expand_activation[0][0]\n",
            " D)                             144)                             ']                               \n",
            "                                                                                                  \n",
            " block2b_bn (BatchNormalization  (None, None, None,   576        ['block2b_dwconv[0][0]']         \n",
            " )                              144)                                                              \n",
            "                                                                                                  \n",
            " block2b_activation (Activation  (None, None, None,   0          ['block2b_bn[0][0]']             \n",
            " )                              144)                                                              \n",
            "                                                                                                  \n",
            " block2b_se_squeeze (GlobalAver  (None, 144)         0           ['block2b_activation[0][0]']     \n",
            " agePooling2D)                                                                                    \n",
            "                                                                                                  \n",
            " block2b_se_reshape (Reshape)   (None, 1, 1, 144)    0           ['block2b_se_squeeze[0][0]']     \n",
            "                                                                                                  \n",
            " block2b_se_reduce (Conv2D)     (None, 1, 1, 6)      870         ['block2b_se_reshape[0][0]']     \n",
            "                                                                                                  \n",
            " block2b_se_expand (Conv2D)     (None, 1, 1, 144)    1008        ['block2b_se_reduce[0][0]']      \n",
            "                                                                                                  \n",
            " block2b_se_excite (Multiply)   (None, None, None,   0           ['block2b_activation[0][0]',     \n",
            "                                144)                              'block2b_se_expand[0][0]']      \n",
            "                                                                                                  \n",
            " block2b_project_conv (Conv2D)  (None, None, None,   3456        ['block2b_se_excite[0][0]']      \n",
            "                                24)                                                               \n",
            "                                                                                                  \n",
            " block2b_project_bn (BatchNorma  (None, None, None,   96         ['block2b_project_conv[0][0]']   \n",
            " lization)                      24)                                                               \n",
            "                                                                                                  \n",
            " block2b_drop (Dropout)         (None, None, None,   0           ['block2b_project_bn[0][0]']     \n",
            "                                24)                                                               \n",
            "                                                                                                  \n",
            " block2b_add (Add)              (None, None, None,   0           ['block2b_drop[0][0]',           \n",
            "                                24)                               'block2a_project_bn[0][0]']     \n",
            "                                                                                                  \n",
            " block3a_expand_conv (Conv2D)   (None, None, None,   3456        ['block2b_add[0][0]']            \n",
            "                                144)                                                              \n",
            "                                                                                                  \n",
            " block3a_expand_bn (BatchNormal  (None, None, None,   576        ['block3a_expand_conv[0][0]']    \n",
            " ization)                       144)                                                              \n",
            "                                                                                                  \n",
            " block3a_expand_activation (Act  (None, None, None,   0          ['block3a_expand_bn[0][0]']      \n",
            " ivation)                       144)                                                              \n",
            "                                                                                                  \n",
            " block3a_dwconv_pad (ZeroPaddin  (None, None, None,   0          ['block3a_expand_activation[0][0]\n",
            " g2D)                           144)                             ']                               \n",
            "                                                                                                  \n",
            " block3a_dwconv (DepthwiseConv2  (None, None, None,   3600       ['block3a_dwconv_pad[0][0]']     \n",
            " D)                             144)                                                              \n",
            "                                                                                                  \n",
            " block3a_bn (BatchNormalization  (None, None, None,   576        ['block3a_dwconv[0][0]']         \n",
            " )                              144)                                                              \n",
            "                                                                                                  \n",
            " block3a_activation (Activation  (None, None, None,   0          ['block3a_bn[0][0]']             \n",
            " )                              144)                                                              \n",
            "                                                                                                  \n",
            " block3a_se_squeeze (GlobalAver  (None, 144)         0           ['block3a_activation[0][0]']     \n",
            " agePooling2D)                                                                                    \n",
            "                                                                                                  \n",
            " block3a_se_reshape (Reshape)   (None, 1, 1, 144)    0           ['block3a_se_squeeze[0][0]']     \n",
            "                                                                                                  \n",
            " block3a_se_reduce (Conv2D)     (None, 1, 1, 6)      870         ['block3a_se_reshape[0][0]']     \n",
            "                                                                                                  \n",
            " block3a_se_expand (Conv2D)     (None, 1, 1, 144)    1008        ['block3a_se_reduce[0][0]']      \n",
            "                                                                                                  \n",
            " block3a_se_excite (Multiply)   (None, None, None,   0           ['block3a_activation[0][0]',     \n",
            "                                144)                              'block3a_se_expand[0][0]']      \n",
            "                                                                                                  \n",
            " block3a_project_conv (Conv2D)  (None, None, None,   5760        ['block3a_se_excite[0][0]']      \n",
            "                                40)                                                               \n",
            "                                                                                                  \n",
            " block3a_project_bn (BatchNorma  (None, None, None,   160        ['block3a_project_conv[0][0]']   \n",
            " lization)                      40)                                                               \n",
            "                                                                                                  \n",
            " block3b_expand_conv (Conv2D)   (None, None, None,   9600        ['block3a_project_bn[0][0]']     \n",
            "                                240)                                                              \n",
            "                                                                                                  \n",
            " block3b_expand_bn (BatchNormal  (None, None, None,   960        ['block3b_expand_conv[0][0]']    \n",
            " ization)                       240)                                                              \n",
            "                                                                                                  \n",
            " block3b_expand_activation (Act  (None, None, None,   0          ['block3b_expand_bn[0][0]']      \n",
            " ivation)                       240)                                                              \n",
            "                                                                                                  \n",
            " block3b_dwconv (DepthwiseConv2  (None, None, None,   6000       ['block3b_expand_activation[0][0]\n",
            " D)                             240)                             ']                               \n",
            "                                                                                                  \n",
            " block3b_bn (BatchNormalization  (None, None, None,   960        ['block3b_dwconv[0][0]']         \n",
            " )                              240)                                                              \n",
            "                                                                                                  \n",
            " block3b_activation (Activation  (None, None, None,   0          ['block3b_bn[0][0]']             \n",
            " )                              240)                                                              \n",
            "                                                                                                  \n",
            " block3b_se_squeeze (GlobalAver  (None, 240)         0           ['block3b_activation[0][0]']     \n",
            " agePooling2D)                                                                                    \n",
            "                                                                                                  \n",
            " block3b_se_reshape (Reshape)   (None, 1, 1, 240)    0           ['block3b_se_squeeze[0][0]']     \n",
            "                                                                                                  \n",
            " block3b_se_reduce (Conv2D)     (None, 1, 1, 10)     2410        ['block3b_se_reshape[0][0]']     \n",
            "                                                                                                  \n",
            " block3b_se_expand (Conv2D)     (None, 1, 1, 240)    2640        ['block3b_se_reduce[0][0]']      \n",
            "                                                                                                  \n",
            " block3b_se_excite (Multiply)   (None, None, None,   0           ['block3b_activation[0][0]',     \n",
            "                                240)                              'block3b_se_expand[0][0]']      \n",
            "                                                                                                  \n",
            " block3b_project_conv (Conv2D)  (None, None, None,   9600        ['block3b_se_excite[0][0]']      \n",
            "                                40)                                                               \n",
            "                                                                                                  \n",
            " block3b_project_bn (BatchNorma  (None, None, None,   160        ['block3b_project_conv[0][0]']   \n",
            " lization)                      40)                                                               \n",
            "                                                                                                  \n",
            " block3b_drop (Dropout)         (None, None, None,   0           ['block3b_project_bn[0][0]']     \n",
            "                                40)                                                               \n",
            "                                                                                                  \n",
            " block3b_add (Add)              (None, None, None,   0           ['block3b_drop[0][0]',           \n",
            "                                40)                               'block3a_project_bn[0][0]']     \n",
            "                                                                                                  \n",
            " block4a_expand_conv (Conv2D)   (None, None, None,   9600        ['block3b_add[0][0]']            \n",
            "                                240)                                                              \n",
            "                                                                                                  \n",
            " block4a_expand_bn (BatchNormal  (None, None, None,   960        ['block4a_expand_conv[0][0]']    \n",
            " ization)                       240)                                                              \n",
            "                                                                                                  \n",
            " block4a_expand_activation (Act  (None, None, None,   0          ['block4a_expand_bn[0][0]']      \n",
            " ivation)                       240)                                                              \n",
            "                                                                                                  \n",
            " block4a_dwconv_pad (ZeroPaddin  (None, None, None,   0          ['block4a_expand_activation[0][0]\n",
            " g2D)                           240)                             ']                               \n",
            "                                                                                                  \n",
            " block4a_dwconv (DepthwiseConv2  (None, None, None,   2160       ['block4a_dwconv_pad[0][0]']     \n",
            " D)                             240)                                                              \n",
            "                                                                                                  \n",
            " block4a_bn (BatchNormalization  (None, None, None,   960        ['block4a_dwconv[0][0]']         \n",
            " )                              240)                                                              \n",
            "                                                                                                  \n",
            " block4a_activation (Activation  (None, None, None,   0          ['block4a_bn[0][0]']             \n",
            " )                              240)                                                              \n",
            "                                                                                                  \n",
            " block4a_se_squeeze (GlobalAver  (None, 240)         0           ['block4a_activation[0][0]']     \n",
            " agePooling2D)                                                                                    \n",
            "                                                                                                  \n",
            " block4a_se_reshape (Reshape)   (None, 1, 1, 240)    0           ['block4a_se_squeeze[0][0]']     \n",
            "                                                                                                  \n",
            " block4a_se_reduce (Conv2D)     (None, 1, 1, 10)     2410        ['block4a_se_reshape[0][0]']     \n",
            "                                                                                                  \n",
            " block4a_se_expand (Conv2D)     (None, 1, 1, 240)    2640        ['block4a_se_reduce[0][0]']      \n",
            "                                                                                                  \n",
            " block4a_se_excite (Multiply)   (None, None, None,   0           ['block4a_activation[0][0]',     \n",
            "                                240)                              'block4a_se_expand[0][0]']      \n",
            "                                                                                                  \n",
            " block4a_project_conv (Conv2D)  (None, None, None,   19200       ['block4a_se_excite[0][0]']      \n",
            "                                80)                                                               \n",
            "                                                                                                  \n",
            " block4a_project_bn (BatchNorma  (None, None, None,   320        ['block4a_project_conv[0][0]']   \n",
            " lization)                      80)                                                               \n",
            "                                                                                                  \n",
            " block4b_expand_conv (Conv2D)   (None, None, None,   38400       ['block4a_project_bn[0][0]']     \n",
            "                                480)                                                              \n",
            "                                                                                                  \n",
            " block4b_expand_bn (BatchNormal  (None, None, None,   1920       ['block4b_expand_conv[0][0]']    \n",
            " ization)                       480)                                                              \n",
            "                                                                                                  \n",
            " block4b_expand_activation (Act  (None, None, None,   0          ['block4b_expand_bn[0][0]']      \n",
            " ivation)                       480)                                                              \n",
            "                                                                                                  \n",
            " block4b_dwconv (DepthwiseConv2  (None, None, None,   4320       ['block4b_expand_activation[0][0]\n",
            " D)                             480)                             ']                               \n",
            "                                                                                                  \n",
            " block4b_bn (BatchNormalization  (None, None, None,   1920       ['block4b_dwconv[0][0]']         \n",
            " )                              480)                                                              \n",
            "                                                                                                  \n",
            " block4b_activation (Activation  (None, None, None,   0          ['block4b_bn[0][0]']             \n",
            " )                              480)                                                              \n",
            "                                                                                                  \n",
            " block4b_se_squeeze (GlobalAver  (None, 480)         0           ['block4b_activation[0][0]']     \n",
            " agePooling2D)                                                                                    \n",
            "                                                                                                  \n",
            " block4b_se_reshape (Reshape)   (None, 1, 1, 480)    0           ['block4b_se_squeeze[0][0]']     \n",
            "                                                                                                  \n",
            " block4b_se_reduce (Conv2D)     (None, 1, 1, 20)     9620        ['block4b_se_reshape[0][0]']     \n",
            "                                                                                                  \n",
            " block4b_se_expand (Conv2D)     (None, 1, 1, 480)    10080       ['block4b_se_reduce[0][0]']      \n",
            "                                                                                                  \n",
            " block4b_se_excite (Multiply)   (None, None, None,   0           ['block4b_activation[0][0]',     \n",
            "                                480)                              'block4b_se_expand[0][0]']      \n",
            "                                                                                                  \n",
            " block4b_project_conv (Conv2D)  (None, None, None,   38400       ['block4b_se_excite[0][0]']      \n",
            "                                80)                                                               \n",
            "                                                                                                  \n",
            " block4b_project_bn (BatchNorma  (None, None, None,   320        ['block4b_project_conv[0][0]']   \n",
            " lization)                      80)                                                               \n",
            "                                                                                                  \n",
            " block4b_drop (Dropout)         (None, None, None,   0           ['block4b_project_bn[0][0]']     \n",
            "                                80)                                                               \n",
            "                                                                                                  \n",
            " block4b_add (Add)              (None, None, None,   0           ['block4b_drop[0][0]',           \n",
            "                                80)                               'block4a_project_bn[0][0]']     \n",
            "                                                                                                  \n",
            " block4c_expand_conv (Conv2D)   (None, None, None,   38400       ['block4b_add[0][0]']            \n",
            "                                480)                                                              \n",
            "                                                                                                  \n",
            " block4c_expand_bn (BatchNormal  (None, None, None,   1920       ['block4c_expand_conv[0][0]']    \n",
            " ization)                       480)                                                              \n",
            "                                                                                                  \n",
            " block4c_expand_activation (Act  (None, None, None,   0          ['block4c_expand_bn[0][0]']      \n",
            " ivation)                       480)                                                              \n",
            "                                                                                                  \n",
            " block4c_dwconv (DepthwiseConv2  (None, None, None,   4320       ['block4c_expand_activation[0][0]\n",
            " D)                             480)                             ']                               \n",
            "                                                                                                  \n",
            " block4c_bn (BatchNormalization  (None, None, None,   1920       ['block4c_dwconv[0][0]']         \n",
            " )                              480)                                                              \n",
            "                                                                                                  \n",
            " block4c_activation (Activation  (None, None, None,   0          ['block4c_bn[0][0]']             \n",
            " )                              480)                                                              \n",
            "                                                                                                  \n",
            " block4c_se_squeeze (GlobalAver  (None, 480)         0           ['block4c_activation[0][0]']     \n",
            " agePooling2D)                                                                                    \n",
            "                                                                                                  \n",
            " block4c_se_reshape (Reshape)   (None, 1, 1, 480)    0           ['block4c_se_squeeze[0][0]']     \n",
            "                                                                                                  \n",
            " block4c_se_reduce (Conv2D)     (None, 1, 1, 20)     9620        ['block4c_se_reshape[0][0]']     \n",
            "                                                                                                  \n",
            " block4c_se_expand (Conv2D)     (None, 1, 1, 480)    10080       ['block4c_se_reduce[0][0]']      \n",
            "                                                                                                  \n",
            " block4c_se_excite (Multiply)   (None, None, None,   0           ['block4c_activation[0][0]',     \n",
            "                                480)                              'block4c_se_expand[0][0]']      \n",
            "                                                                                                  \n",
            " block4c_project_conv (Conv2D)  (None, None, None,   38400       ['block4c_se_excite[0][0]']      \n",
            "                                80)                                                               \n",
            "                                                                                                  \n",
            " block4c_project_bn (BatchNorma  (None, None, None,   320        ['block4c_project_conv[0][0]']   \n",
            " lization)                      80)                                                               \n",
            "                                                                                                  \n",
            " block4c_drop (Dropout)         (None, None, None,   0           ['block4c_project_bn[0][0]']     \n",
            "                                80)                                                               \n",
            "                                                                                                  \n",
            " block4c_add (Add)              (None, None, None,   0           ['block4c_drop[0][0]',           \n",
            "                                80)                               'block4b_add[0][0]']            \n",
            "                                                                                                  \n",
            " block5a_expand_conv (Conv2D)   (None, None, None,   38400       ['block4c_add[0][0]']            \n",
            "                                480)                                                              \n",
            "                                                                                                  \n",
            " block5a_expand_bn (BatchNormal  (None, None, None,   1920       ['block5a_expand_conv[0][0]']    \n",
            " ization)                       480)                                                              \n",
            "                                                                                                  \n",
            " block5a_expand_activation (Act  (None, None, None,   0          ['block5a_expand_bn[0][0]']      \n",
            " ivation)                       480)                                                              \n",
            "                                                                                                  \n",
            " block5a_dwconv (DepthwiseConv2  (None, None, None,   12000      ['block5a_expand_activation[0][0]\n",
            " D)                             480)                             ']                               \n",
            "                                                                                                  \n",
            " block5a_bn (BatchNormalization  (None, None, None,   1920       ['block5a_dwconv[0][0]']         \n",
            " )                              480)                                                              \n",
            "                                                                                                  \n",
            " block5a_activation (Activation  (None, None, None,   0          ['block5a_bn[0][0]']             \n",
            " )                              480)                                                              \n",
            "                                                                                                  \n",
            " block5a_se_squeeze (GlobalAver  (None, 480)         0           ['block5a_activation[0][0]']     \n",
            " agePooling2D)                                                                                    \n",
            "                                                                                                  \n",
            " block5a_se_reshape (Reshape)   (None, 1, 1, 480)    0           ['block5a_se_squeeze[0][0]']     \n",
            "                                                                                                  \n",
            " block5a_se_reduce (Conv2D)     (None, 1, 1, 20)     9620        ['block5a_se_reshape[0][0]']     \n",
            "                                                                                                  \n",
            " block5a_se_expand (Conv2D)     (None, 1, 1, 480)    10080       ['block5a_se_reduce[0][0]']      \n",
            "                                                                                                  \n",
            " block5a_se_excite (Multiply)   (None, None, None,   0           ['block5a_activation[0][0]',     \n",
            "                                480)                              'block5a_se_expand[0][0]']      \n",
            "                                                                                                  \n",
            " block5a_project_conv (Conv2D)  (None, None, None,   53760       ['block5a_se_excite[0][0]']      \n",
            "                                112)                                                              \n",
            "                                                                                                  \n",
            " block5a_project_bn (BatchNorma  (None, None, None,   448        ['block5a_project_conv[0][0]']   \n",
            " lization)                      112)                                                              \n",
            "                                                                                                  \n",
            " block5b_expand_conv (Conv2D)   (None, None, None,   75264       ['block5a_project_bn[0][0]']     \n",
            "                                672)                                                              \n",
            "                                                                                                  \n",
            " block5b_expand_bn (BatchNormal  (None, None, None,   2688       ['block5b_expand_conv[0][0]']    \n",
            " ization)                       672)                                                              \n",
            "                                                                                                  \n",
            " block5b_expand_activation (Act  (None, None, None,   0          ['block5b_expand_bn[0][0]']      \n",
            " ivation)                       672)                                                              \n",
            "                                                                                                  \n",
            " block5b_dwconv (DepthwiseConv2  (None, None, None,   16800      ['block5b_expand_activation[0][0]\n",
            " D)                             672)                             ']                               \n",
            "                                                                                                  \n",
            " block5b_bn (BatchNormalization  (None, None, None,   2688       ['block5b_dwconv[0][0]']         \n",
            " )                              672)                                                              \n",
            "                                                                                                  \n",
            " block5b_activation (Activation  (None, None, None,   0          ['block5b_bn[0][0]']             \n",
            " )                              672)                                                              \n",
            "                                                                                                  \n",
            " block5b_se_squeeze (GlobalAver  (None, 672)         0           ['block5b_activation[0][0]']     \n",
            " agePooling2D)                                                                                    \n",
            "                                                                                                  \n",
            " block5b_se_reshape (Reshape)   (None, 1, 1, 672)    0           ['block5b_se_squeeze[0][0]']     \n",
            "                                                                                                  \n",
            " block5b_se_reduce (Conv2D)     (None, 1, 1, 28)     18844       ['block5b_se_reshape[0][0]']     \n",
            "                                                                                                  \n",
            " block5b_se_expand (Conv2D)     (None, 1, 1, 672)    19488       ['block5b_se_reduce[0][0]']      \n",
            "                                                                                                  \n",
            " block5b_se_excite (Multiply)   (None, None, None,   0           ['block5b_activation[0][0]',     \n",
            "                                672)                              'block5b_se_expand[0][0]']      \n",
            "                                                                                                  \n",
            " block5b_project_conv (Conv2D)  (None, None, None,   75264       ['block5b_se_excite[0][0]']      \n",
            "                                112)                                                              \n",
            "                                                                                                  \n",
            " block5b_project_bn (BatchNorma  (None, None, None,   448        ['block5b_project_conv[0][0]']   \n",
            " lization)                      112)                                                              \n",
            "                                                                                                  \n",
            " block5b_drop (Dropout)         (None, None, None,   0           ['block5b_project_bn[0][0]']     \n",
            "                                112)                                                              \n",
            "                                                                                                  \n",
            " block5b_add (Add)              (None, None, None,   0           ['block5b_drop[0][0]',           \n",
            "                                112)                              'block5a_project_bn[0][0]']     \n",
            "                                                                                                  \n",
            " block5c_expand_conv (Conv2D)   (None, None, None,   75264       ['block5b_add[0][0]']            \n",
            "                                672)                                                              \n",
            "                                                                                                  \n",
            " block5c_expand_bn (BatchNormal  (None, None, None,   2688       ['block5c_expand_conv[0][0]']    \n",
            " ization)                       672)                                                              \n",
            "                                                                                                  \n",
            " block5c_expand_activation (Act  (None, None, None,   0          ['block5c_expand_bn[0][0]']      \n",
            " ivation)                       672)                                                              \n",
            "                                                                                                  \n",
            " block5c_dwconv (DepthwiseConv2  (None, None, None,   16800      ['block5c_expand_activation[0][0]\n",
            " D)                             672)                             ']                               \n",
            "                                                                                                  \n",
            " block5c_bn (BatchNormalization  (None, None, None,   2688       ['block5c_dwconv[0][0]']         \n",
            " )                              672)                                                              \n",
            "                                                                                                  \n",
            " block5c_activation (Activation  (None, None, None,   0          ['block5c_bn[0][0]']             \n",
            " )                              672)                                                              \n",
            "                                                                                                  \n",
            " block5c_se_squeeze (GlobalAver  (None, 672)         0           ['block5c_activation[0][0]']     \n",
            " agePooling2D)                                                                                    \n",
            "                                                                                                  \n",
            " block5c_se_reshape (Reshape)   (None, 1, 1, 672)    0           ['block5c_se_squeeze[0][0]']     \n",
            "                                                                                                  \n",
            " block5c_se_reduce (Conv2D)     (None, 1, 1, 28)     18844       ['block5c_se_reshape[0][0]']     \n",
            "                                                                                                  \n",
            " block5c_se_expand (Conv2D)     (None, 1, 1, 672)    19488       ['block5c_se_reduce[0][0]']      \n",
            "                                                                                                  \n",
            " block5c_se_excite (Multiply)   (None, None, None,   0           ['block5c_activation[0][0]',     \n",
            "                                672)                              'block5c_se_expand[0][0]']      \n",
            "                                                                                                  \n",
            " block5c_project_conv (Conv2D)  (None, None, None,   75264       ['block5c_se_excite[0][0]']      \n",
            "                                112)                                                              \n",
            "                                                                                                  \n",
            " block5c_project_bn (BatchNorma  (None, None, None,   448        ['block5c_project_conv[0][0]']   \n",
            " lization)                      112)                                                              \n",
            "                                                                                                  \n",
            " block5c_drop (Dropout)         (None, None, None,   0           ['block5c_project_bn[0][0]']     \n",
            "                                112)                                                              \n",
            "                                                                                                  \n",
            " block5c_add (Add)              (None, None, None,   0           ['block5c_drop[0][0]',           \n",
            "                                112)                              'block5b_add[0][0]']            \n",
            "                                                                                                  \n",
            " block6a_expand_conv (Conv2D)   (None, None, None,   75264       ['block5c_add[0][0]']            \n",
            "                                672)                                                              \n",
            "                                                                                                  \n",
            " block6a_expand_bn (BatchNormal  (None, None, None,   2688       ['block6a_expand_conv[0][0]']    \n",
            " ization)                       672)                                                              \n",
            "                                                                                                  \n",
            " block6a_expand_activation (Act  (None, None, None,   0          ['block6a_expand_bn[0][0]']      \n",
            " ivation)                       672)                                                              \n",
            "                                                                                                  \n",
            " block6a_dwconv_pad (ZeroPaddin  (None, None, None,   0          ['block6a_expand_activation[0][0]\n",
            " g2D)                           672)                             ']                               \n",
            "                                                                                                  \n",
            " block6a_dwconv (DepthwiseConv2  (None, None, None,   16800      ['block6a_dwconv_pad[0][0]']     \n",
            " D)                             672)                                                              \n",
            "                                                                                                  \n",
            " block6a_bn (BatchNormalization  (None, None, None,   2688       ['block6a_dwconv[0][0]']         \n",
            " )                              672)                                                              \n",
            "                                                                                                  \n",
            " block6a_activation (Activation  (None, None, None,   0          ['block6a_bn[0][0]']             \n",
            " )                              672)                                                              \n",
            "                                                                                                  \n",
            " block6a_se_squeeze (GlobalAver  (None, 672)         0           ['block6a_activation[0][0]']     \n",
            " agePooling2D)                                                                                    \n",
            "                                                                                                  \n",
            " block6a_se_reshape (Reshape)   (None, 1, 1, 672)    0           ['block6a_se_squeeze[0][0]']     \n",
            "                                                                                                  \n",
            " block6a_se_reduce (Conv2D)     (None, 1, 1, 28)     18844       ['block6a_se_reshape[0][0]']     \n",
            "                                                                                                  \n",
            " block6a_se_expand (Conv2D)     (None, 1, 1, 672)    19488       ['block6a_se_reduce[0][0]']      \n",
            "                                                                                                  \n",
            " block6a_se_excite (Multiply)   (None, None, None,   0           ['block6a_activation[0][0]',     \n",
            "                                672)                              'block6a_se_expand[0][0]']      \n",
            "                                                                                                  \n",
            " block6a_project_conv (Conv2D)  (None, None, None,   129024      ['block6a_se_excite[0][0]']      \n",
            "                                192)                                                              \n",
            "                                                                                                  \n",
            " block6a_project_bn (BatchNorma  (None, None, None,   768        ['block6a_project_conv[0][0]']   \n",
            " lization)                      192)                                                              \n",
            "                                                                                                  \n",
            " block6b_expand_conv (Conv2D)   (None, None, None,   221184      ['block6a_project_bn[0][0]']     \n",
            "                                1152)                                                             \n",
            "                                                                                                  \n",
            " block6b_expand_bn (BatchNormal  (None, None, None,   4608       ['block6b_expand_conv[0][0]']    \n",
            " ization)                       1152)                                                             \n",
            "                                                                                                  \n",
            " block6b_expand_activation (Act  (None, None, None,   0          ['block6b_expand_bn[0][0]']      \n",
            " ivation)                       1152)                                                             \n",
            "                                                                                                  \n",
            " block6b_dwconv (DepthwiseConv2  (None, None, None,   28800      ['block6b_expand_activation[0][0]\n",
            " D)                             1152)                            ']                               \n",
            "                                                                                                  \n",
            " block6b_bn (BatchNormalization  (None, None, None,   4608       ['block6b_dwconv[0][0]']         \n",
            " )                              1152)                                                             \n",
            "                                                                                                  \n",
            " block6b_activation (Activation  (None, None, None,   0          ['block6b_bn[0][0]']             \n",
            " )                              1152)                                                             \n",
            "                                                                                                  \n",
            " block6b_se_squeeze (GlobalAver  (None, 1152)        0           ['block6b_activation[0][0]']     \n",
            " agePooling2D)                                                                                    \n",
            "                                                                                                  \n",
            " block6b_se_reshape (Reshape)   (None, 1, 1, 1152)   0           ['block6b_se_squeeze[0][0]']     \n",
            "                                                                                                  \n",
            " block6b_se_reduce (Conv2D)     (None, 1, 1, 48)     55344       ['block6b_se_reshape[0][0]']     \n",
            "                                                                                                  \n",
            " block6b_se_expand (Conv2D)     (None, 1, 1, 1152)   56448       ['block6b_se_reduce[0][0]']      \n",
            "                                                                                                  \n",
            " block6b_se_excite (Multiply)   (None, None, None,   0           ['block6b_activation[0][0]',     \n",
            "                                1152)                             'block6b_se_expand[0][0]']      \n",
            "                                                                                                  \n",
            " block6b_project_conv (Conv2D)  (None, None, None,   221184      ['block6b_se_excite[0][0]']      \n",
            "                                192)                                                              \n",
            "                                                                                                  \n",
            " block6b_project_bn (BatchNorma  (None, None, None,   768        ['block6b_project_conv[0][0]']   \n",
            " lization)                      192)                                                              \n",
            "                                                                                                  \n",
            " block6b_drop (Dropout)         (None, None, None,   0           ['block6b_project_bn[0][0]']     \n",
            "                                192)                                                              \n",
            "                                                                                                  \n",
            " block6b_add (Add)              (None, None, None,   0           ['block6b_drop[0][0]',           \n",
            "                                192)                              'block6a_project_bn[0][0]']     \n",
            "                                                                                                  \n",
            " block6c_expand_conv (Conv2D)   (None, None, None,   221184      ['block6b_add[0][0]']            \n",
            "                                1152)                                                             \n",
            "                                                                                                  \n",
            " block6c_expand_bn (BatchNormal  (None, None, None,   4608       ['block6c_expand_conv[0][0]']    \n",
            " ization)                       1152)                                                             \n",
            "                                                                                                  \n",
            " block6c_expand_activation (Act  (None, None, None,   0          ['block6c_expand_bn[0][0]']      \n",
            " ivation)                       1152)                                                             \n",
            "                                                                                                  \n",
            " block6c_dwconv (DepthwiseConv2  (None, None, None,   28800      ['block6c_expand_activation[0][0]\n",
            " D)                             1152)                            ']                               \n",
            "                                                                                                  \n",
            " block6c_bn (BatchNormalization  (None, None, None,   4608       ['block6c_dwconv[0][0]']         \n",
            " )                              1152)                                                             \n",
            "                                                                                                  \n",
            " block6c_activation (Activation  (None, None, None,   0          ['block6c_bn[0][0]']             \n",
            " )                              1152)                                                             \n",
            "                                                                                                  \n",
            " block6c_se_squeeze (GlobalAver  (None, 1152)        0           ['block6c_activation[0][0]']     \n",
            " agePooling2D)                                                                                    \n",
            "                                                                                                  \n",
            " block6c_se_reshape (Reshape)   (None, 1, 1, 1152)   0           ['block6c_se_squeeze[0][0]']     \n",
            "                                                                                                  \n",
            " block6c_se_reduce (Conv2D)     (None, 1, 1, 48)     55344       ['block6c_se_reshape[0][0]']     \n",
            "                                                                                                  \n",
            " block6c_se_expand (Conv2D)     (None, 1, 1, 1152)   56448       ['block6c_se_reduce[0][0]']      \n",
            "                                                                                                  \n",
            " block6c_se_excite (Multiply)   (None, None, None,   0           ['block6c_activation[0][0]',     \n",
            "                                1152)                             'block6c_se_expand[0][0]']      \n",
            "                                                                                                  \n",
            " block6c_project_conv (Conv2D)  (None, None, None,   221184      ['block6c_se_excite[0][0]']      \n",
            "                                192)                                                              \n",
            "                                                                                                  \n",
            " block6c_project_bn (BatchNorma  (None, None, None,   768        ['block6c_project_conv[0][0]']   \n",
            " lization)                      192)                                                              \n",
            "                                                                                                  \n",
            " block6c_drop (Dropout)         (None, None, None,   0           ['block6c_project_bn[0][0]']     \n",
            "                                192)                                                              \n",
            "                                                                                                  \n",
            " block6c_add (Add)              (None, None, None,   0           ['block6c_drop[0][0]',           \n",
            "                                192)                              'block6b_add[0][0]']            \n",
            "                                                                                                  \n",
            " block6d_expand_conv (Conv2D)   (None, None, None,   221184      ['block6c_add[0][0]']            \n",
            "                                1152)                                                             \n",
            "                                                                                                  \n",
            " block6d_expand_bn (BatchNormal  (None, None, None,   4608       ['block6d_expand_conv[0][0]']    \n",
            " ization)                       1152)                                                             \n",
            "                                                                                                  \n",
            " block6d_expand_activation (Act  (None, None, None,   0          ['block6d_expand_bn[0][0]']      \n",
            " ivation)                       1152)                                                             \n",
            "                                                                                                  \n",
            " block6d_dwconv (DepthwiseConv2  (None, None, None,   28800      ['block6d_expand_activation[0][0]\n",
            " D)                             1152)                            ']                               \n",
            "                                                                                                  \n",
            " block6d_bn (BatchNormalization  (None, None, None,   4608       ['block6d_dwconv[0][0]']         \n",
            " )                              1152)                                                             \n",
            "                                                                                                  \n",
            " block6d_activation (Activation  (None, None, None,   0          ['block6d_bn[0][0]']             \n",
            " )                              1152)                                                             \n",
            "                                                                                                  \n",
            " block6d_se_squeeze (GlobalAver  (None, 1152)        0           ['block6d_activation[0][0]']     \n",
            " agePooling2D)                                                                                    \n",
            "                                                                                                  \n",
            " block6d_se_reshape (Reshape)   (None, 1, 1, 1152)   0           ['block6d_se_squeeze[0][0]']     \n",
            "                                                                                                  \n",
            " block6d_se_reduce (Conv2D)     (None, 1, 1, 48)     55344       ['block6d_se_reshape[0][0]']     \n",
            "                                                                                                  \n",
            " block6d_se_expand (Conv2D)     (None, 1, 1, 1152)   56448       ['block6d_se_reduce[0][0]']      \n",
            "                                                                                                  \n",
            " block6d_se_excite (Multiply)   (None, None, None,   0           ['block6d_activation[0][0]',     \n",
            "                                1152)                             'block6d_se_expand[0][0]']      \n",
            "                                                                                                  \n",
            " block6d_project_conv (Conv2D)  (None, None, None,   221184      ['block6d_se_excite[0][0]']      \n",
            "                                192)                                                              \n",
            "                                                                                                  \n",
            " block6d_project_bn (BatchNorma  (None, None, None,   768        ['block6d_project_conv[0][0]']   \n",
            " lization)                      192)                                                              \n",
            "                                                                                                  \n",
            " block6d_drop (Dropout)         (None, None, None,   0           ['block6d_project_bn[0][0]']     \n",
            "                                192)                                                              \n",
            "                                                                                                  \n",
            " block6d_add (Add)              (None, None, None,   0           ['block6d_drop[0][0]',           \n",
            "                                192)                              'block6c_add[0][0]']            \n",
            "                                                                                                  \n",
            " block7a_expand_conv (Conv2D)   (None, None, None,   221184      ['block6d_add[0][0]']            \n",
            "                                1152)                                                             \n",
            "                                                                                                  \n",
            " block7a_expand_bn (BatchNormal  (None, None, None,   4608       ['block7a_expand_conv[0][0]']    \n",
            " ization)                       1152)                                                             \n",
            "                                                                                                  \n",
            " block7a_expand_activation (Act  (None, None, None,   0          ['block7a_expand_bn[0][0]']      \n",
            " ivation)                       1152)                                                             \n",
            "                                                                                                  \n",
            " block7a_dwconv (DepthwiseConv2  (None, None, None,   10368      ['block7a_expand_activation[0][0]\n",
            " D)                             1152)                            ']                               \n",
            "                                                                                                  \n",
            " block7a_bn (BatchNormalization  (None, None, None,   4608       ['block7a_dwconv[0][0]']         \n",
            " )                              1152)                                                             \n",
            "                                                                                                  \n",
            " block7a_activation (Activation  (None, None, None,   0          ['block7a_bn[0][0]']             \n",
            " )                              1152)                                                             \n",
            "                                                                                                  \n",
            " block7a_se_squeeze (GlobalAver  (None, 1152)        0           ['block7a_activation[0][0]']     \n",
            " agePooling2D)                                                                                    \n",
            "                                                                                                  \n",
            " block7a_se_reshape (Reshape)   (None, 1, 1, 1152)   0           ['block7a_se_squeeze[0][0]']     \n",
            "                                                                                                  \n",
            " block7a_se_reduce (Conv2D)     (None, 1, 1, 48)     55344       ['block7a_se_reshape[0][0]']     \n",
            "                                                                                                  \n",
            " block7a_se_expand (Conv2D)     (None, 1, 1, 1152)   56448       ['block7a_se_reduce[0][0]']      \n",
            "                                                                                                  \n",
            " block7a_se_excite (Multiply)   (None, None, None,   0           ['block7a_activation[0][0]',     \n",
            "                                1152)                             'block7a_se_expand[0][0]']      \n",
            "                                                                                                  \n",
            " block7a_project_conv (Conv2D)  (None, None, None,   368640      ['block7a_se_excite[0][0]']      \n",
            "                                320)                                                              \n",
            "                                                                                                  \n",
            " block7a_project_bn (BatchNorma  (None, None, None,   1280       ['block7a_project_conv[0][0]']   \n",
            " lization)                      320)                                                              \n",
            "                                                                                                  \n",
            " top_conv (Conv2D)              (None, None, None,   409600      ['block7a_project_bn[0][0]']     \n",
            "                                1280)                                                             \n",
            "                                                                                                  \n",
            " top_bn (BatchNormalization)    (None, None, None,   5120        ['top_conv[0][0]']               \n",
            "                                1280)                                                             \n",
            "                                                                                                  \n",
            " top_activation (Activation)    (None, None, None,   0           ['top_bn[0][0]']                 \n",
            "                                1280)                                                             \n",
            "                                                                                                  \n",
            "==================================================================================================\n",
            "Total params: 4,049,571\n",
            "Trainable params: 0\n",
            "Non-trainable params: 4,049,571\n",
            "__________________________________________________________________________________________________\n"
          ]
        }
      ]
    },
    {
      "cell_type": "code",
      "source": [
        "plot_loss_curves(history_10_percent)"
      ],
      "metadata": {
        "colab": {
          "base_uri": "https://localhost:8080/",
          "height": 573
        },
        "id": "B87ntFQ8-NBP",
        "outputId": "9e64ed15-2ffd-46be-dafd-8c1fc8b27c2a"
      },
      "execution_count": null,
      "outputs": [
        {
          "output_type": "display_data",
          "data": {
            "text/plain": [
              "<Figure size 432x288 with 1 Axes>"
            ],
            "image/png": "[encoded data removed]"
          },
          "metadata": {
            "needs_background": "light"
          }
        },
        {
          "output_type": "display_data",
          "data": {
            "text/plain": [
              "<Figure size 432x288 with 1 Axes>"
            ],
            "image/png": "[encoded data removed]"
          },
          "metadata": {
            "needs_background": "light"
          }
        }
      ]
    },
    {
      "cell_type": "code",
      "source": [
        "model_0.summary()"
      ],
      "metadata": {
        "colab": {
          "base_uri": "https://localhost:8080/"
        },
        "id": "romiCE88-mby",
        "outputId": "86679baf-6850-4129-fb1b-c98ab22effa5"
      },
      "execution_count": null,
      "outputs": [
        {
          "output_type": "stream",
          "name": "stdout",
          "text": [
            "Model: \"model\"\n",
            "_________________________________________________________________\n",
            " Layer (type)                Output Shape              Param #   \n",
            "=================================================================\n",
            " input layer (InputLayer)    [(None, 224, 224, 3)]     0         \n",
            "                                                                 \n",
            " efficientnetb0 (Functional)  (None, None, None, 1280)  4049571  \n",
            "                                                                 \n",
            " global_average_pooling_laye  (None, 1280)             0         \n",
            " r (GlobalAveragePooling2D)                                      \n",
            "                                                                 \n",
            " output_layer (Dense)        (None, 10)                12810     \n",
            "                                                                 \n",
            "=================================================================\n",
            "Total params: 4,062,381\n",
            "Trainable params: 12,810\n",
            "Non-trainable params: 4,049,571\n",
            "_________________________________________________________________\n"
          ]
        }
      ]
    },
    {
      "cell_type": "code",
      "source": [
        "input_shape = (1, 4, 4, 3)\n",
        "\n",
        "tf.random.set_seed(42)\n",
        "input_tensor =  tf.random.normal(input_shape)\n",
        "print(f\"Random input tensor:\\n {input_tensor} \\n\")\n",
        "\n",
        "global_avg_pooled_tensor = tf.keras.layers.GlobalAveragePooling2D()(input_tensor)\n",
        "print(f\"2D global average pooled random tensor: \\n {global_avg_pooled_tensor} \\n\")\n",
        "\n",
        "print(f\"Shape of input random tensor: {input_tensor.shape} \")\n",
        "print(f\"Shape of 2D global avergaed pooled input tensor: {global_avg_pooled_tensor.shape} \")"
      ],
      "metadata": {
        "colab": {
          "base_uri": "https://localhost:8080/"
        },
        "id": "bbQwa9po-815",
        "outputId": "70e43c63-9893-4d93-e6ec-b48f6ec052f0"
      },
      "execution_count": null,
      "outputs": [
        {
          "output_type": "stream",
          "name": "stdout",
          "text": [
            "Random input tensor:\n",
            " [[[[ 0.3274685  -0.8426258   0.3194337 ]\n",
            "   [-1.4075519  -2.3880599  -1.0392479 ]\n",
            "   [-0.5573232   0.539707    1.6994323 ]\n",
            "   [ 0.28893656 -1.5066116  -0.2645474 ]]\n",
            "\n",
            "  [[-0.59722406 -1.9171132  -0.62044144]\n",
            "   [ 0.8504023  -0.40604794 -3.0258412 ]\n",
            "   [ 0.9058464   0.29855987 -0.22561555]\n",
            "   [-0.7616443  -1.8917141  -0.93847126]]\n",
            "\n",
            "  [[ 0.77852213 -0.47338897  0.97772694]\n",
            "   [ 0.24694404  0.20573747 -0.5256233 ]\n",
            "   [ 0.32410017  0.02545409 -0.10638497]\n",
            "   [-0.6369475   1.1603122   0.2507359 ]]\n",
            "\n",
            "  [[-0.41728503  0.4012578  -1.4145443 ]\n",
            "   [-0.5931857  -1.6617213   0.33567193]\n",
            "   [ 0.10815629  0.23479682 -0.56668764]\n",
            "   [-0.35819843  0.88698614  0.52744764]]]] \n",
            "\n",
            "2D global average pooled random tensor: \n",
            " [[-0.09368646 -0.45840448 -0.2885598 ]] \n",
            "\n",
            "Shape of input random tensor: (1, 4, 4, 3) \n",
            "Shape of 2D global avergaed pooled input tensor: (1, 3) \n"
          ]
        }
      ]
    },
    {
      "cell_type": "code",
      "source": [
        "tf.reduce_mean(input_tensor, axis=[1,2])"
      ],
      "metadata": {
        "colab": {
          "base_uri": "https://localhost:8080/"
        },
        "id": "XbZ0EKQrApgL",
        "outputId": "53c53030-ee6e-49eb-d56e-860bd737d6a2"
      },
      "execution_count": null,
      "outputs": [
        {
          "output_type": "execute_result",
          "data": {
            "text/plain": [
              "<tf.Tensor: shape=(1, 3), dtype=float32, numpy=array([[-0.09368646, -0.45840448, -0.2885598 ]], dtype=float32)>"
            ]
          },
          "metadata": {},
          "execution_count": 19
        }
      ]
    },
    {
      "cell_type": "code",
      "source": [
        "input_shape = (1, 4, 4, 3)\n",
        "\n",
        "tf.random.set_seed(42)\n",
        "input_tensor =  tf.random.normal(input_shape)\n",
        "print(f\"Random input tensor:\\n {input_tensor} \\n\")\n",
        "\n",
        "global_avg_pooled_tensor = tf.keras.layers.GlobalMaxPooling2D()(input_tensor)\n",
        "print(f\"2D global max pooled random tensor: \\n {global_avg_pooled_tensor} \\n\")\n",
        "\n",
        "print(f\"Shape of input random tensor: {input_tensor.shape} \")\n",
        "print(f\"Shape of 2D global max pooled input tensor: {global_avg_pooled_tensor.shape} \")"
      ],
      "metadata": {
        "colab": {
          "base_uri": "https://localhost:8080/"
        },
        "id": "rYEaidmCA_gF",
        "outputId": "3182843c-2b8e-46e8-e0c7-bb5ea019f7a7"
      },
      "execution_count": null,
      "outputs": [
        {
          "output_type": "stream",
          "name": "stdout",
          "text": [
            "Random input tensor:\n",
            " [[[[ 0.3274685  -0.8426258   0.3194337 ]\n",
            "   [-1.4075519  -2.3880599  -1.0392479 ]\n",
            "   [-0.5573232   0.539707    1.6994323 ]\n",
            "   [ 0.28893656 -1.5066116  -0.2645474 ]]\n",
            "\n",
            "  [[-0.59722406 -1.9171132  -0.62044144]\n",
            "   [ 0.8504023  -0.40604794 -3.0258412 ]\n",
            "   [ 0.9058464   0.29855987 -0.22561555]\n",
            "   [-0.7616443  -1.8917141  -0.93847126]]\n",
            "\n",
            "  [[ 0.77852213 -0.47338897  0.97772694]\n",
            "   [ 0.24694404  0.20573747 -0.5256233 ]\n",
            "   [ 0.32410017  0.02545409 -0.10638497]\n",
            "   [-0.6369475   1.1603122   0.2507359 ]]\n",
            "\n",
            "  [[-0.41728503  0.4012578  -1.4145443 ]\n",
            "   [-0.5931857  -1.6617213   0.33567193]\n",
            "   [ 0.10815629  0.23479682 -0.56668764]\n",
            "   [-0.35819843  0.88698614  0.52744764]]]] \n",
            "\n",
            "2D global max pooled random tensor: \n",
            " [[0.9058464 1.1603122 1.6994323]] \n",
            "\n",
            "Shape of input random tensor: (1, 4, 4, 3) \n",
            "Shape of 2D global max pooled input tensor: (1, 3) \n"
          ]
        }
      ]
    },
    {
      "cell_type": "code",
      "source": [
        "tf.reduce_max(input_tensor, axis=[1,2])"
      ],
      "metadata": {
        "colab": {
          "base_uri": "https://localhost:8080/"
        },
        "id": "vQ2KZgMDEVnl",
        "outputId": "84284b02-e20a-4729-fdfa-9b8bcc36e8cc"
      },
      "execution_count": null,
      "outputs": [
        {
          "output_type": "execute_result",
          "data": {
            "text/plain": [
              "<tf.Tensor: shape=(1, 3), dtype=float32, numpy=array([[0.9058464, 1.1603122, 1.6994323]], dtype=float32)>"
            ]
          },
          "metadata": {},
          "execution_count": 21
        }
      ]
    },
    {
      "cell_type": "code",
      "source": [
        "# Download and unzip data\n",
        "!wget https://storage.googleapis.com/ztm_tf_course/food_vision/10_food_classes_1_percent.zip\n",
        "unzip_data(\"10_food_classes_1_percent.zip\")\n",
        "\n",
        "# Create training and test dirs\n",
        "train_dir_1_percent = \"10_food_classes_1_percent/train/\"\n",
        "test_dir = \"10_food_classes_1_percent/test/\""
      ],
      "metadata": {
        "colab": {
          "base_uri": "https://localhost:8080/"
        },
        "id": "1PTF9y3OEbXY",
        "outputId": "758f812c-4a70-4996-eae8-e691ea2d880a"
      },
      "execution_count": 3,
      "outputs": [
        {
          "output_type": "stream",
          "name": "stdout",
          "text": [
            "--2022-05-31 08:45:57--  https://storage.googleapis.com/ztm_tf_course/food_vision/10_food_classes_1_percent.zip\n",
            "Resolving storage.googleapis.com (storage.googleapis.com)... 142.251.111.128, 142.251.45.112, 142.251.16.128, ...\n",
            "Connecting to storage.googleapis.com (storage.googleapis.com)|142.251.111.128|:443... connected.\n",
            "HTTP request sent, awaiting response... 200 OK\n",
            "Length: 133612354 (127M) [application/zip]\n",
            "Saving to: ‘10_food_classes_1_percent.zip’\n",
            "\n",
            "10_food_classes_1_p 100%[===================>] 127.42M   279MB/s    in 0.5s    \n",
            "\n",
            "2022-05-31 08:45:58 (279 MB/s) - ‘10_food_classes_1_percent.zip’ saved [133612354/133612354]\n",
            "\n"
          ]
        }
      ]
    },
    {
      "cell_type": "code",
      "source": [
        "walk_through_dir(\"10_food_classes_1_percent\")"
      ],
      "metadata": {
        "colab": {
          "base_uri": "https://localhost:8080/"
        },
        "id": "hGoFn0ZtGFow",
        "outputId": "8d68b14b-0516-46e7-e590-8a0f7f72c2f0"
      },
      "execution_count": 4,
      "outputs": [
        {
          "output_type": "stream",
          "name": "stdout",
          "text": [
            "There are 2 directories and 0 images in '10_food_classes_1_percent'.\n",
            "There are 10 directories and 0 images in '10_food_classes_1_percent/test'.\n",
            "There are 0 directories and 250 images in '10_food_classes_1_percent/test/fried_rice'.\n",
            "There are 0 directories and 250 images in '10_food_classes_1_percent/test/chicken_wings'.\n",
            "There are 0 directories and 250 images in '10_food_classes_1_percent/test/pizza'.\n",
            "There are 0 directories and 250 images in '10_food_classes_1_percent/test/chicken_curry'.\n",
            "There are 0 directories and 250 images in '10_food_classes_1_percent/test/hamburger'.\n",
            "There are 0 directories and 250 images in '10_food_classes_1_percent/test/grilled_salmon'.\n",
            "There are 0 directories and 250 images in '10_food_classes_1_percent/test/ice_cream'.\n",
            "There are 0 directories and 250 images in '10_food_classes_1_percent/test/ramen'.\n",
            "There are 0 directories and 250 images in '10_food_classes_1_percent/test/sushi'.\n",
            "There are 0 directories and 250 images in '10_food_classes_1_percent/test/steak'.\n",
            "There are 10 directories and 0 images in '10_food_classes_1_percent/train'.\n",
            "There are 0 directories and 7 images in '10_food_classes_1_percent/train/fried_rice'.\n",
            "There are 0 directories and 7 images in '10_food_classes_1_percent/train/chicken_wings'.\n",
            "There are 0 directories and 7 images in '10_food_classes_1_percent/train/pizza'.\n",
            "There are 0 directories and 7 images in '10_food_classes_1_percent/train/chicken_curry'.\n",
            "There are 0 directories and 7 images in '10_food_classes_1_percent/train/hamburger'.\n",
            "There are 0 directories and 7 images in '10_food_classes_1_percent/train/grilled_salmon'.\n",
            "There are 0 directories and 7 images in '10_food_classes_1_percent/train/ice_cream'.\n",
            "There are 0 directories and 7 images in '10_food_classes_1_percent/train/ramen'.\n",
            "There are 0 directories and 7 images in '10_food_classes_1_percent/train/sushi'.\n",
            "There are 0 directories and 7 images in '10_food_classes_1_percent/train/steak'.\n"
          ]
        }
      ]
    },
    {
      "cell_type": "code",
      "source": [
        "import tensorflow as tf\n",
        "IMG_SIZE = (224, 224)\n",
        "train_data_1_percent = tf.keras.preprocessing.image_dataset_from_directory(train_dir_1_percent,\n",
        "                                                                           label_mode=\"categorical\",\n",
        "                                                                           batch_size=32,\n",
        "                                                                           image_size=IMG_SIZE)\n",
        "test_data = tf.keras.preprocessing.image_dataset_from_directory(test_dir,\n",
        "                                                                label_mode=\"categorical\",\n",
        "                                                                image_size=IMG_SIZE)"
      ],
      "metadata": {
        "colab": {
          "base_uri": "https://localhost:8080/"
        },
        "id": "8kf5iVYzGMNm",
        "outputId": "9d58f357-83dd-4910-c033-af97db241c8d"
      },
      "execution_count": 5,
      "outputs": [
        {
          "output_type": "stream",
          "name": "stdout",
          "text": [
            "Found 70 files belonging to 10 classes.\n",
            "Found 2500 files belonging to 10 classes.\n"
          ]
        }
      ]
    },
    {
      "cell_type": "code",
      "source": [
        "print(tf.__version__)"
      ],
      "metadata": {
        "colab": {
          "base_uri": "https://localhost:8080/"
        },
        "id": "duJqOGn9fEvm",
        "outputId": "37c3f7bd-8792-4985-a390-f5c3de46f94b"
      },
      "execution_count": 6,
      "outputs": [
        {
          "output_type": "stream",
          "name": "stdout",
          "text": [
            "2.8.0\n"
          ]
        }
      ]
    },
    {
      "cell_type": "code",
      "source": [
        "from tensorflow import keras\n",
        "from tensorflow.keras import layers\n",
        "#from tensorflow.keras.layers.experimental import preprocessing\n",
        "\n",
        "data_aug = keras.Sequential([\n",
        "                                      layers.RandomFlip(\"horizontal\"),\n",
        "                                      layers.RandomRotation(0.2),\n",
        "                                      layers.RandomZoom(0.2),\n",
        "                                      layers.RandomHeight(0.2),\n",
        "                                      layers.RandomWidth(0.2),\n",
        "                                      #layers.Rescaling(1.0/255)\n",
        "], name=\"data_augmentation\")"
      ],
      "metadata": {
        "id": "ooiIkxTQHKPi"
      },
      "execution_count": 7,
      "outputs": []
    },
    {
      "cell_type": "code",
      "source": [
        "import matplotlib.pyplot as plt\n",
        "import matplotlib.image as mpimg\n",
        "import os\n",
        "import random\n",
        "\n",
        "target_class = random.choice(train_data_1_percent.class_names)\n",
        "\n",
        "target_dir=\"10_food_classes_1_percent/train/\" + target_class\n",
        "random_image= random.choice(os.listdir(target_dir))\n",
        "random_image_path = target_dir + \"/\" + random_image\n",
        "img = mpimg.imread(random_image_path)\n",
        "plt.imshow(img)\n",
        "plt.title(f\"Original random image from class: {target_class}\")\n",
        "plt.axis(False)\n",
        "\n",
        "augmented_img = data_aug(tf.cast(tf.expand_dims(img, axis=0), tf.float32))\n",
        "plt.figure()\n",
        "plt.imshow(tf.squeeze(augmented_img)/255.)\n",
        "plt.title(f\"Augmented random image from class: {target_class}\")\n",
        "plt.axis(False)"
      ],
      "metadata": {
        "colab": {
          "base_uri": "https://localhost:8080/",
          "height": 528
        },
        "id": "3b8BDYa_KJky",
        "outputId": "caaaaec0-5315-43f4-9fef-11531b206c30"
      },
      "execution_count": 8,
      "outputs": [
        {
          "output_type": "execute_result",
          "data": {
            "text/plain": [
              "(-0.5, 509.5, 522.5, -0.5)"
            ]
          },
          "metadata": {},
          "execution_count": 8
        },
        {
          "output_type": "display_data",
          "data": {
            "text/plain": [
              "<Figure size 432x288 with 1 Axes>"
            ],
            "image/png": "[encoded data removed]"
          },
          "metadata": {
            "needs_background": "light"
          }
        },
        {
          "output_type": "display_data",
          "data": {
            "text/plain": [
              "<Figure size 432x288 with 1 Axes>"
            ],
            "image/png": "[encoded data removed]"
          },
          "metadata": {
            "needs_background": "light"
          }
        }
      ]
    },
    {
      "cell_type": "code",
      "source": [
        "input_shape = (224, 224, 3)\n",
        "base_model = tf.keras.applications.EfficientNetB0(include_top=False)\n",
        "base_model.trainable = False\n",
        "\n",
        "inputs = layers.Input(shape=input_shape, name='input_layer')\n",
        "\n",
        "x = data_aug(inputs)\n",
        "\n",
        "x = base_model(x, training=False)\n",
        "\n",
        "x = layers.GlobalAveragePooling2D(name = \"global_average_pooling_layer\")(x)\n",
        "\n",
        "outputs = layers.Dense(10, activation=\"softmax\", name=\"output_layer\")(x)\n",
        "\n",
        "model_1 = keras.Model(inputs, outputs)\n",
        "\n",
        "model_1.compile(loss=\"categorical_crossentropy\",\n",
        "                optimizer=tf.keras.optimizers.Adam(),\n",
        "                metrics=['accuracy']\n",
        "                )\n",
        "\n",
        "history_1_percent = model_1.fit(train_data_1_percent,\n",
        "                                epochs=5,\n",
        "                                steps_per_epoch=len(train_data_1_percent),\n",
        "                                validation_data=test_data,\n",
        "                                validation_steps=int(0.25*len(test_data)),\n",
        "                                callbacks=[create_tensorboard_callback(\"transfer_learning\", \"1_percent_data_augmented\")])"
      ],
      "metadata": {
        "colab": {
          "base_uri": "https://localhost:8080/"
        },
        "id": "EP-f_lC5-YD_",
        "outputId": "c969381c-8863-43ef-836d-6027bebb6455"
      },
      "execution_count": 10,
      "outputs": [
        {
          "output_type": "stream",
          "name": "stdout",
          "text": [
            "Saving TensorBoard log files to: transfer_learning/1_percent_data_augmented/20220531-084812\n",
            "Epoch 1/5\n",
            "3/3 [==============================] - 18s 3s/step - loss: 2.4123 - accuracy: 0.0857 - val_loss: 2.2780 - val_accuracy: 0.1234\n",
            "Epoch 2/5\n",
            "3/3 [==============================] - 6s 3s/step - loss: 2.1622 - accuracy: 0.1429 - val_loss: 2.1593 - val_accuracy: 0.2188\n",
            "Epoch 3/5\n",
            "3/3 [==============================] - 4s 2s/step - loss: 1.9817 - accuracy: 0.3571 - val_loss: 2.0672 - val_accuracy: 0.3109\n",
            "Epoch 4/5\n",
            "3/3 [==============================] - 4s 1s/step - loss: 1.8021 - accuracy: 0.5000 - val_loss: 1.9811 - val_accuracy: 0.3520\n",
            "Epoch 5/5\n",
            "3/3 [==============================] - 3s 1s/step - loss: 1.6890 - accuracy: 0.5857 - val_loss: 1.8707 - val_accuracy: 0.4161\n"
          ]
        }
      ]
    },
    {
      "cell_type": "code",
      "source": [
        "!tensorboard dev upload --logdir ./transfer_learning/ \\\n",
        "  --name \"model_1 data aug 1 percent results\" \\\n",
        "  --description \"Model_1 TF Hub Feature Extractor model actitectures using 1% of augmented training data images\" \\\n",
        "  --one_shot"
      ],
      "metadata": {
        "colab": {
          "base_uri": "https://localhost:8080/"
        },
        "id": "XQqcbYl4TWMJ",
        "outputId": "da1d7515-e724-463f-93a0-9261e4b15e9b"
      },
      "execution_count": 13,
      "outputs": [
        {
          "output_type": "stream",
          "name": "stdout",
          "text": [
            "\n",
            "New experiment created. View your TensorBoard at: https://tensorboard.dev/experiment/D9te1VpGT9qvLDD0ulWanA/\n",
            "\n",
            "\u001b[1m[2022-05-31T08:51:26]\u001b[0m Started scanning logdir.\n",
            "\u001b[1m[2022-05-31T08:51:28]\u001b[0m Total uploaded: 60 scalars, 0 tensors, 2 binary objects (1.6 MB)\n",
            "\u001b[1m[2022-05-31T08:51:28]\u001b[0m Done scanning logdir.\n",
            "\n",
            "\n",
            "Done. View your TensorBoard at https://tensorboard.dev/experiment/D9te1VpGT9qvLDD0ulWanA/\n"
          ]
        }
      ]
    },
    {
      "cell_type": "code",
      "source": [
        "!tensorboard dev list"
      ],
      "metadata": {
        "colab": {
          "base_uri": "https://localhost:8080/"
        },
        "id": "gDsSxrJgTXMl",
        "outputId": "1e340df2-942e-4f64-ed65-a304c418e1b7"
      },
      "execution_count": 14,
      "outputs": [
        {
          "output_type": "stream",
          "name": "stdout",
          "text": [
            "https://tensorboard.dev/experiment/D9te1VpGT9qvLDD0ulWanA/\n",
            "\tName                 model_1 data aug 1 percent results\n",
            "\tDescription          Comparing two different TF Hub Feature Extractor model actitectures using 10% of training data images\n",
            "\tId                   D9te1VpGT9qvLDD0ulWanA\n",
            "\tCreated              2022-05-31 08:51:26 (22 seconds ago)\n",
            "\tUpdated              2022-05-31 08:51:28 (20 seconds ago)\n",
            "\tRuns                 4\n",
            "\tTags                 5\n",
            "\tScalars              60\n",
            "\tTensor bytes         0\n",
            "\tBinary object bytes  1722188\n",
            "Total: 1 experiment(s)\n"
          ]
        }
      ]
    },
    {
      "cell_type": "code",
      "source": [
        "!tensorboard dev delete --experiment_id D9te1VpGT9qvLDD0ulWanA"
      ],
      "metadata": {
        "colab": {
          "base_uri": "https://localhost:8080/"
        },
        "id": "4SHZXpJPTZyW",
        "outputId": "ed872573-6960-4750-cd54-062baab0fcc0"
      },
      "execution_count": 15,
      "outputs": [
        {
          "output_type": "stream",
          "name": "stdout",
          "text": [
            "Deleted experiment D9te1VpGT9qvLDD0ulWanA.\n"
          ]
        }
      ]
    },
    {
      "cell_type": "code",
      "source": [
        "model_1.summary()"
      ],
      "metadata": {
        "colab": {
          "base_uri": "https://localhost:8080/"
        },
        "id": "LtdKrnqCAWth",
        "outputId": "891be2fb-71f6-443f-ccf8-7b38ae1c12a0"
      },
      "execution_count": 9,
      "outputs": [
        {
          "output_type": "stream",
          "name": "stdout",
          "text": [
            "Model: \"model\"\n",
            "_________________________________________________________________\n",
            " Layer (type)                Output Shape              Param #   \n",
            "=================================================================\n",
            " input_layer (InputLayer)    [(None, 224, 224, 3)]     0         \n",
            "                                                                 \n",
            " data_augmentation (Sequenti  (None, None, None, 3)    0         \n",
            " al)                                                             \n",
            "                                                                 \n",
            " efficientnetb0 (Functional)  (None, None, None, 1280)  4049571  \n",
            "                                                                 \n",
            " global_average_pooling_laye  (None, 1280)             0         \n",
            " r (GlobalAveragePooling2D)                                      \n",
            "                                                                 \n",
            " output_layer (Dense)        (None, 10)                12810     \n",
            "                                                                 \n",
            "=================================================================\n",
            "Total params: 4,062,381\n",
            "Trainable params: 12,810\n",
            "Non-trainable params: 4,049,571\n",
            "_________________________________________________________________\n"
          ]
        }
      ]
    },
    {
      "cell_type": "code",
      "source": [
        "data_aug(inputs)"
      ],
      "metadata": {
        "colab": {
          "base_uri": "https://localhost:8080/"
        },
        "id": "hOgHkeW6DxFj",
        "outputId": "e154af41-1960-4fd2-c596-d696619bb74b"
      },
      "execution_count": 16,
      "outputs": [
        {
          "output_type": "execute_result",
          "data": {
            "text/plain": [
              "<KerasTensor: shape=(None, 224, 224, 3) dtype=float32 (created by layer 'data_augmentation')>"
            ]
          },
          "metadata": {},
          "execution_count": 16
        }
      ]
    },
    {
      "cell_type": "code",
      "source": [
        "##printing output from random layer in tf model\n",
        "from keras import Model\n",
        "model_output = model_1.get_layer(\"input_layer\").output\n",
        "m = Model(inputs=model_1.input, outputs=model_output)\n",
        "pred = m.predict(train_data_1_percent)"
      ],
      "metadata": {
        "id": "tsoJf9cIFTz-"
      },
      "execution_count": 11,
      "outputs": []
    },
    {
      "cell_type": "code",
      "source": [
        "results_1_percent_data_aug = model_1.evaluate(test_data)\n",
        "results_1_percent_data_aug"
      ],
      "metadata": {
        "colab": {
          "base_uri": "https://localhost:8080/"
        },
        "id": "FTDTjqXGGc64",
        "outputId": "745d163d-7124-4415-f36d-b3091fec30af"
      },
      "execution_count": 17,
      "outputs": [
        {
          "output_type": "stream",
          "name": "stdout",
          "text": [
            "79/79 [==============================] - 8s 90ms/step - loss: 1.8801 - accuracy: 0.4072\n"
          ]
        },
        {
          "output_type": "execute_result",
          "data": {
            "text/plain": [
              "[1.880110502243042, 0.40720000863075256]"
            ]
          },
          "metadata": {},
          "execution_count": 17
        }
      ]
    },
    {
      "cell_type": "code",
      "source": [
        "plot_loss_curves(history_1_percent)"
      ],
      "metadata": {
        "colab": {
          "base_uri": "https://localhost:8080/",
          "height": 573
        },
        "id": "tJr3QrcfVSxx",
        "outputId": "559d88be-c92d-4bea-997b-572b45f6aa71"
      },
      "execution_count": 18,
      "outputs": [
        {
          "output_type": "display_data",
          "data": {
            "text/plain": [
              "<Figure size 432x288 with 1 Axes>"
            ],
            "image/png": "[encoded data removed]"
          },
          "metadata": {
            "needs_background": "light"
          }
        },
        {
          "output_type": "display_data",
          "data": {
            "text/plain": [
              "<Figure size 432x288 with 1 Axes>"
            ],
            "image/png": "[encoded data removed]"
          },
          "metadata": {
            "needs_background": "light"
          }
        }
      ]
    },
    {
      "cell_type": "code",
      "source": [
        "import tensorflow as tf\n",
        "IMG_SIZE = (224, 224)\n",
        "train_data_10_percent = tf.keras.preprocessing.image_dataset_from_directory(train_dir_10_percent,\n",
        "                                                                            label_mode=\"categorical\",\n",
        "                                                                            image_size=IMG_SIZE\n",
        "                                                                            )\n",
        "test_data = tf.keras.preprocessing.image_dataset_from_directory(test_dir,\n",
        "                                                                label_mode=\"categorical\",\n",
        "                                                                image_size=IMG_SIZE)"
      ],
      "metadata": {
        "colab": {
          "base_uri": "https://localhost:8080/"
        },
        "id": "WNWu9yszVgwX",
        "outputId": "85a26a31-df8d-4a0e-dfa4-383516dfc564"
      },
      "execution_count": 26,
      "outputs": [
        {
          "output_type": "stream",
          "name": "stdout",
          "text": [
            "Found 750 files belonging to 10 classes.\n",
            "Found 2500 files belonging to 10 classes.\n"
          ]
        }
      ]
    },
    {
      "cell_type": "code",
      "source": [
        "import tensorflow as tf\n",
        "from tensorflow.keras import layers\n",
        "from tensorflow.keras.models import Sequential\n",
        "\n",
        "data_agmnt = Sequential([\n",
        "                         layers.RandomFlip('horizontal'),\n",
        "                         layers.RandomHeight(0.2),\n",
        "                         layers.RandomWidth(0.2),\n",
        "                         layers.RandomZoom(0.2),\n",
        "                         layers.RandomRotation(0.2),\n",
        "                         #layers.Rescaling(1./255)\n",
        "], name=\"data_augmentation\")\n",
        "\n",
        "input_shape = (224, 224, 3)\n",
        "\n",
        "base_model = tf.keras.applications.EfficientNetB0(include_top=False)\n",
        "base_model.trainable = False\n",
        "\n",
        "inputs = layers.Input(shape=input_shape, name=\"input_layer\")\n",
        "\n",
        "x = data_agmnt(inputs)\n",
        "x = base_model(x, training=False)\n",
        "x = layers.GlobalAveragePooling2D(name=\"global_average_pooling_layer\")(x)\n",
        "\n",
        "outputs = layers.Dense(10, activation=\"softmax\", name=\"output_layer\")(x)\n",
        "\n",
        "model_2 = tf.keras.Model(inputs, outputs)\n",
        "\n",
        "model_2.compile(loss=\"categorical_crossentropy\",\n",
        "                optimizer=tf.keras.optimizers.Adam(learning_rate=0.001),\n",
        "                metrics=['accuracy'])"
      ],
      "metadata": {
        "id": "g_XpgH-LW1Nu"
      },
      "execution_count": 28,
      "outputs": []
    },
    {
      "cell_type": "code",
      "source": [
        "checkpoint_path = \"ten_percent_model_checkpoint_weights/checkpoint.ckpt\"\n",
        "checkpoint_callback = tf.keras.callbacks.ModelCheckpoint(filepath=checkpoint_path,\n",
        "                                                         save_weights_only=True,\n",
        "                                                         save_best_only=False,\n",
        "                                                         save_freq=\"epoch\",\n",
        "                                                         verbose=1)"
      ],
      "metadata": {
        "id": "Sh43jl3JY_0O"
      },
      "execution_count": 29,
      "outputs": []
    },
    {
      "cell_type": "code",
      "source": [
        "init_epochs = 5\n",
        "history_10_percent_data_aug = model_2.fit(train_data_10_percent,\n",
        "                                          epochs=init_epochs,\n",
        "                                          validation_data=test_data,\n",
        "                                          validation_steps=int(0.25 * len(test_data)),\n",
        "                                          callbacks=[create_tensorboard_callback(\"transfer_learning\", \"10percent_data_aug\"),\n",
        "                                                     checkpoint_callback]\n",
        "                                          )"
      ],
      "metadata": {
        "colab": {
          "base_uri": "https://localhost:8080/"
        },
        "id": "kaR5K48hY_ww",
        "outputId": "44d8ca6e-7da3-4650-95ad-d789b9ca93b0"
      },
      "execution_count": 30,
      "outputs": [
        {
          "output_type": "stream",
          "name": "stdout",
          "text": [
            "Saving TensorBoard log files to: transfer_learning/10percent_data_aug/20220531-091833\n",
            "Epoch 1/5\n",
            "24/24 [==============================] - ETA: 0s - loss: 2.0686 - accuracy: 0.2893\n",
            "Epoch 1: saving model to ten_percent_model_checkpoint_weights/checkpoint.ckpt\n",
            "24/24 [==============================] - 20s 494ms/step - loss: 2.0686 - accuracy: 0.2893 - val_loss: 1.5327 - val_accuracy: 0.6595\n",
            "Epoch 2/5\n",
            "24/24 [==============================] - ETA: 0s - loss: 1.4027 - accuracy: 0.6573\n",
            "Epoch 2: saving model to ten_percent_model_checkpoint_weights/checkpoint.ckpt\n",
            "24/24 [==============================] - 11s 440ms/step - loss: 1.4027 - accuracy: 0.6573 - val_loss: 1.0882 - val_accuracy: 0.7582\n",
            "Epoch 3/5\n",
            "24/24 [==============================] - ETA: 0s - loss: 1.1049 - accuracy: 0.7307\n",
            "Epoch 3: saving model to ten_percent_model_checkpoint_weights/checkpoint.ckpt\n",
            "24/24 [==============================] - 11s 444ms/step - loss: 1.1049 - accuracy: 0.7307 - val_loss: 0.8892 - val_accuracy: 0.7763\n",
            "Epoch 4/5\n",
            "24/24 [==============================] - ETA: 0s - loss: 0.9233 - accuracy: 0.7707\n",
            "Epoch 4: saving model to ten_percent_model_checkpoint_weights/checkpoint.ckpt\n",
            "24/24 [==============================] - 12s 476ms/step - loss: 0.9233 - accuracy: 0.7707 - val_loss: 0.7339 - val_accuracy: 0.8141\n",
            "Epoch 5/5\n",
            "24/24 [==============================] - ETA: 0s - loss: 0.7988 - accuracy: 0.8120\n",
            "Epoch 5: saving model to ten_percent_model_checkpoint_weights/checkpoint.ckpt\n",
            "24/24 [==============================] - 10s 421ms/step - loss: 0.7988 - accuracy: 0.8120 - val_loss: 0.6886 - val_accuracy: 0.8125\n"
          ]
        }
      ]
    },
    {
      "cell_type": "code",
      "source": [
        "!tensorboard dev upload --logdir ./transfer_learning/ \\\n",
        "  --name \"tf feature extractor model run comparison\" \\\n",
        "  --description \"abc def ghi\" \\\n",
        "  --one_shot"
      ],
      "metadata": {
        "colab": {
          "base_uri": "https://localhost:8080/"
        },
        "id": "tjIXWinZaOBN",
        "outputId": "a04a41ac-04d0-4451-e356-51ef95b3f3c8"
      },
      "execution_count": 32,
      "outputs": [
        {
          "output_type": "stream",
          "name": "stdout",
          "text": [
            "\n",
            "New experiment created. View your TensorBoard at: https://tensorboard.dev/experiment/qnU4k8liQbOXoE4PFzEnxw/\n",
            "\n",
            "\u001b[1m[2022-05-31T09:21:42]\u001b[0m Started scanning logdir.\n",
            "\u001b[1m[2022-05-31T09:21:45]\u001b[0m Total uploaded: 90 scalars, 0 tensors, 3 binary objects (2.5 MB)\n",
            "\u001b[1m[2022-05-31T09:21:45]\u001b[0m Done scanning logdir.\n",
            "\n",
            "\n",
            "Done. View your TensorBoard at https://tensorboard.dev/experiment/qnU4k8liQbOXoE4PFzEnxw/\n"
          ]
        }
      ]
    },
    {
      "cell_type": "code",
      "source": [
        "!tensorboard dev list"
      ],
      "metadata": {
        "colab": {
          "base_uri": "https://localhost:8080/"
        },
        "id": "5UVviAoFa4z6",
        "outputId": "c68a5685-057d-4a4c-b89c-539001f36b61"
      },
      "execution_count": 33,
      "outputs": [
        {
          "output_type": "stream",
          "name": "stdout",
          "text": [
            "https://tensorboard.dev/experiment/qnU4k8liQbOXoE4PFzEnxw/\n",
            "\tName                 tf feature extractor model run comparison\n",
            "\tDescription          abc def ghi\n",
            "\tId                   qnU4k8liQbOXoE4PFzEnxw\n",
            "\tCreated              2022-05-31 09:21:42 (22 seconds ago)\n",
            "\tUpdated              2022-05-31 09:21:45 (19 seconds ago)\n",
            "\tRuns                 6\n",
            "\tTags                 5\n",
            "\tScalars              90\n",
            "\tTensor bytes         0\n",
            "\tBinary object bytes  2592260\n",
            "Total: 1 experiment(s)\n"
          ]
        }
      ]
    },
    {
      "cell_type": "code",
      "source": [
        "!tensorboard dev delete --experiment_id \"qnU4k8liQbOXoE4PFzEnxw\""
      ],
      "metadata": {
        "colab": {
          "base_uri": "https://localhost:8080/"
        },
        "id": "e62sh7vwa-JR",
        "outputId": "a0edc3ab-6e1c-45b6-99ed-59c4ede54a03"
      },
      "execution_count": 34,
      "outputs": [
        {
          "output_type": "stream",
          "name": "stdout",
          "text": [
            "Deleted experiment qnU4k8liQbOXoE4PFzEnxw.\n"
          ]
        }
      ]
    },
    {
      "cell_type": "code",
      "source": [
        "result_10_percent_data_aug = model_2.evaluate(test_data)\n",
        "result_10_percent_data_aug"
      ],
      "metadata": {
        "colab": {
          "base_uri": "https://localhost:8080/"
        },
        "id": "quX2z0ixbSSo",
        "outputId": "0acb780f-a3b3-44ec-d4b9-80c4cb78f9e5"
      },
      "execution_count": 35,
      "outputs": [
        {
          "output_type": "stream",
          "name": "stdout",
          "text": [
            "79/79 [==============================] - 7s 86ms/step - loss: 0.6984 - accuracy: 0.8096\n"
          ]
        },
        {
          "output_type": "execute_result",
          "data": {
            "text/plain": [
              "[0.6984239816665649, 0.8095999956130981]"
            ]
          },
          "metadata": {},
          "execution_count": 35
        }
      ]
    },
    {
      "cell_type": "code",
      "source": [
        "plot_loss_curves(history_10_percent_data_aug)"
      ],
      "metadata": {
        "colab": {
          "base_uri": "https://localhost:8080/",
          "height": 573
        },
        "id": "Z8VEiUM4beQL",
        "outputId": "b0788cbc-d76f-451e-e0b9-9d478f004130"
      },
      "execution_count": 36,
      "outputs": [
        {
          "output_type": "display_data",
          "data": {
            "text/plain": [
              "<Figure size 432x288 with 1 Axes>"
            ],
            "image/png": "[encoded data removed]"
          },
          "metadata": {
            "needs_background": "light"
          }
        },
        {
          "output_type": "display_data",
          "data": {
            "text/plain": [
              "<Figure size 432x288 with 1 Axes>"
            ],
            "image/png": "[encoded data removed]"
          },
          "metadata": {
            "needs_background": "light"
          }
        }
      ]
    },
    {
      "cell_type": "code",
      "source": [
        ""
      ],
      "metadata": {
        "id": "FRD65kPpbjZo"
      },
      "execution_count": null,
      "outputs": []
    }
  ]
}